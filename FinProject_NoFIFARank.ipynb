{
 "cells": [
  {
   "cell_type": "code",
   "execution_count": 75,
   "metadata": {
    "ExecuteTime": {
     "end_time": "2023-12-05T13:52:55.301559Z",
     "start_time": "2023-12-05T13:52:54.847223Z"
    }
   },
   "outputs": [],
   "source": [
    "import pandas as pd\n",
    "import numpy as np\n",
    "import sklearn as sk\n",
    "from sklearn.preprocessing import LabelEncoder\n",
    "import random\n",
    "from IPython.display import display\n",
    "from datetime import datetime\n",
    "game_results_df = pd.read_csv('./datasets/results.csv')"
   ]
  },
  {
   "cell_type": "code",
   "execution_count": 76,
   "metadata": {
    "ExecuteTime": {
     "end_time": "2023-12-05T13:52:55.327839Z",
     "start_time": "2023-12-05T13:52:54.905854Z"
    }
   },
   "outputs": [
    {
     "name": "stdout",
     "output_type": "stream",
     "text": [
      "<class 'pandas.core.frame.DataFrame'>\n",
      "RangeIndex: 45315 entries, 0 to 45314\n",
      "Data columns (total 9 columns):\n",
      " #   Column      Non-Null Count  Dtype \n",
      "---  ------      --------------  ----- \n",
      " 0   date        45315 non-null  object\n",
      " 1   home_team   45315 non-null  object\n",
      " 2   away_team   45315 non-null  object\n",
      " 3   home_score  45315 non-null  int64 \n",
      " 4   away_score  45315 non-null  int64 \n",
      " 5   tournament  45315 non-null  object\n",
      " 6   city        45315 non-null  object\n",
      " 7   country     45315 non-null  object\n",
      " 8   neutral     45315 non-null  bool  \n",
      "dtypes: bool(1), int64(2), object(6)\n",
      "memory usage: 2.8+ MB\n"
     ]
    }
   ],
   "source": [
    "game_results_df.info()\n"
   ]
  },
  {
   "cell_type": "code",
   "execution_count": 77,
   "metadata": {
    "ExecuteTime": {
     "end_time": "2023-12-05T13:52:55.328304Z",
     "start_time": "2023-12-05T13:52:54.910169Z"
    }
   },
   "outputs": [
    {
     "data": {
      "text/plain": "             date home_team    away_team  home_score  away_score  \\\n0      1872-11-30  Scotland      England           0           0   \n1      1873-03-08   England     Scotland           4           2   \n2      1874-03-07  Scotland      England           2           1   \n3      1875-03-06   England     Scotland           2           2   \n4      1876-03-04  Scotland      England           3           0   \n...           ...       ...          ...         ...         ...   \n45310  2023-11-21     Wales       Turkey           1           1   \n45311  2023-11-21   Croatia      Armenia           1           0   \n45312  2023-11-21   Andorra       Israel           0           2   \n45313  2023-11-21    Kosovo      Belarus           0           1   \n45314  2023-11-21   Romania  Switzerland           1           0   \n\n                    tournament   country  neutral  \n0                     Friendly  Scotland    False  \n1                     Friendly   England    False  \n2                     Friendly  Scotland    False  \n3                     Friendly   England    False  \n4                     Friendly  Scotland    False  \n...                        ...       ...      ...  \n45310  UEFA Euro qualification     Wales    False  \n45311  UEFA Euro qualification   Croatia    False  \n45312  UEFA Euro qualification   Andorra    False  \n45313  UEFA Euro qualification    Kosovo    False  \n45314  UEFA Euro qualification   Romania    False  \n\n[45315 rows x 8 columns]",
      "text/html": "<div>\n<style scoped>\n    .dataframe tbody tr th:only-of-type {\n        vertical-align: middle;\n    }\n\n    .dataframe tbody tr th {\n        vertical-align: top;\n    }\n\n    .dataframe thead th {\n        text-align: right;\n    }\n</style>\n<table border=\"1\" class=\"dataframe\">\n  <thead>\n    <tr style=\"text-align: right;\">\n      <th></th>\n      <th>date</th>\n      <th>home_team</th>\n      <th>away_team</th>\n      <th>home_score</th>\n      <th>away_score</th>\n      <th>tournament</th>\n      <th>country</th>\n      <th>neutral</th>\n    </tr>\n  </thead>\n  <tbody>\n    <tr>\n      <th>0</th>\n      <td>1872-11-30</td>\n      <td>Scotland</td>\n      <td>England</td>\n      <td>0</td>\n      <td>0</td>\n      <td>Friendly</td>\n      <td>Scotland</td>\n      <td>False</td>\n    </tr>\n    <tr>\n      <th>1</th>\n      <td>1873-03-08</td>\n      <td>England</td>\n      <td>Scotland</td>\n      <td>4</td>\n      <td>2</td>\n      <td>Friendly</td>\n      <td>England</td>\n      <td>False</td>\n    </tr>\n    <tr>\n      <th>2</th>\n      <td>1874-03-07</td>\n      <td>Scotland</td>\n      <td>England</td>\n      <td>2</td>\n      <td>1</td>\n      <td>Friendly</td>\n      <td>Scotland</td>\n      <td>False</td>\n    </tr>\n    <tr>\n      <th>3</th>\n      <td>1875-03-06</td>\n      <td>England</td>\n      <td>Scotland</td>\n      <td>2</td>\n      <td>2</td>\n      <td>Friendly</td>\n      <td>England</td>\n      <td>False</td>\n    </tr>\n    <tr>\n      <th>4</th>\n      <td>1876-03-04</td>\n      <td>Scotland</td>\n      <td>England</td>\n      <td>3</td>\n      <td>0</td>\n      <td>Friendly</td>\n      <td>Scotland</td>\n      <td>False</td>\n    </tr>\n    <tr>\n      <th>...</th>\n      <td>...</td>\n      <td>...</td>\n      <td>...</td>\n      <td>...</td>\n      <td>...</td>\n      <td>...</td>\n      <td>...</td>\n      <td>...</td>\n    </tr>\n    <tr>\n      <th>45310</th>\n      <td>2023-11-21</td>\n      <td>Wales</td>\n      <td>Turkey</td>\n      <td>1</td>\n      <td>1</td>\n      <td>UEFA Euro qualification</td>\n      <td>Wales</td>\n      <td>False</td>\n    </tr>\n    <tr>\n      <th>45311</th>\n      <td>2023-11-21</td>\n      <td>Croatia</td>\n      <td>Armenia</td>\n      <td>1</td>\n      <td>0</td>\n      <td>UEFA Euro qualification</td>\n      <td>Croatia</td>\n      <td>False</td>\n    </tr>\n    <tr>\n      <th>45312</th>\n      <td>2023-11-21</td>\n      <td>Andorra</td>\n      <td>Israel</td>\n      <td>0</td>\n      <td>2</td>\n      <td>UEFA Euro qualification</td>\n      <td>Andorra</td>\n      <td>False</td>\n    </tr>\n    <tr>\n      <th>45313</th>\n      <td>2023-11-21</td>\n      <td>Kosovo</td>\n      <td>Belarus</td>\n      <td>0</td>\n      <td>1</td>\n      <td>UEFA Euro qualification</td>\n      <td>Kosovo</td>\n      <td>False</td>\n    </tr>\n    <tr>\n      <th>45314</th>\n      <td>2023-11-21</td>\n      <td>Romania</td>\n      <td>Switzerland</td>\n      <td>1</td>\n      <td>0</td>\n      <td>UEFA Euro qualification</td>\n      <td>Romania</td>\n      <td>False</td>\n    </tr>\n  </tbody>\n</table>\n<p>45315 rows × 8 columns</p>\n</div>"
     },
     "execution_count": 77,
     "metadata": {},
     "output_type": "execute_result"
    }
   ],
   "source": [
    "game_results = game_results_df.copy()\n",
    "game_results.drop(columns=['city'],inplace=True,axis=1)\n",
    "game_results"
   ]
  },
  {
   "cell_type": "code",
   "execution_count": 78,
   "metadata": {
    "ExecuteTime": {
     "end_time": "2023-12-05T13:52:55.579727Z",
     "start_time": "2023-12-05T13:52:54.919620Z"
    }
   },
   "outputs": [
    {
     "data": {
      "text/plain": "         date home_team away_team  home_score  away_score tournament  \\\n0  1872-11-30  Scotland   England           0           0   Friendly   \n1  1873-03-08   England  Scotland           4           2   Friendly   \n2  1874-03-07  Scotland   England           2           1   Friendly   \n3  1875-03-06   England  Scotland           2           2   Friendly   \n4  1876-03-04  Scotland   England           3           0   Friendly   \n\n    country  neutral  home_code  away_code  hosting_country_code  \n0  Scotland    False        238         82                   238  \n1   England    False         82        238                    82  \n2  Scotland    False        238         82                   238  \n3   England    False         82        238                    82  \n4  Scotland    False        238         82                   238  ",
      "text/html": "<div>\n<style scoped>\n    .dataframe tbody tr th:only-of-type {\n        vertical-align: middle;\n    }\n\n    .dataframe tbody tr th {\n        vertical-align: top;\n    }\n\n    .dataframe thead th {\n        text-align: right;\n    }\n</style>\n<table border=\"1\" class=\"dataframe\">\n  <thead>\n    <tr style=\"text-align: right;\">\n      <th></th>\n      <th>date</th>\n      <th>home_team</th>\n      <th>away_team</th>\n      <th>home_score</th>\n      <th>away_score</th>\n      <th>tournament</th>\n      <th>country</th>\n      <th>neutral</th>\n      <th>home_code</th>\n      <th>away_code</th>\n      <th>hosting_country_code</th>\n    </tr>\n  </thead>\n  <tbody>\n    <tr>\n      <th>0</th>\n      <td>1872-11-30</td>\n      <td>Scotland</td>\n      <td>England</td>\n      <td>0</td>\n      <td>0</td>\n      <td>Friendly</td>\n      <td>Scotland</td>\n      <td>False</td>\n      <td>238</td>\n      <td>82</td>\n      <td>238</td>\n    </tr>\n    <tr>\n      <th>1</th>\n      <td>1873-03-08</td>\n      <td>England</td>\n      <td>Scotland</td>\n      <td>4</td>\n      <td>2</td>\n      <td>Friendly</td>\n      <td>England</td>\n      <td>False</td>\n      <td>82</td>\n      <td>238</td>\n      <td>82</td>\n    </tr>\n    <tr>\n      <th>2</th>\n      <td>1874-03-07</td>\n      <td>Scotland</td>\n      <td>England</td>\n      <td>2</td>\n      <td>1</td>\n      <td>Friendly</td>\n      <td>Scotland</td>\n      <td>False</td>\n      <td>238</td>\n      <td>82</td>\n      <td>238</td>\n    </tr>\n    <tr>\n      <th>3</th>\n      <td>1875-03-06</td>\n      <td>England</td>\n      <td>Scotland</td>\n      <td>2</td>\n      <td>2</td>\n      <td>Friendly</td>\n      <td>England</td>\n      <td>False</td>\n      <td>82</td>\n      <td>238</td>\n      <td>82</td>\n    </tr>\n    <tr>\n      <th>4</th>\n      <td>1876-03-04</td>\n      <td>Scotland</td>\n      <td>England</td>\n      <td>3</td>\n      <td>0</td>\n      <td>Friendly</td>\n      <td>Scotland</td>\n      <td>False</td>\n      <td>238</td>\n      <td>82</td>\n      <td>238</td>\n    </tr>\n  </tbody>\n</table>\n</div>"
     },
     "execution_count": 78,
     "metadata": {},
     "output_type": "execute_result"
    }
   ],
   "source": [
    "game_results['home_code'] = game_results.home_team.astype('category').cat.codes\n",
    "l = len(game_results['home_team'].values)\n",
    "country_codes = {game_results['home_team'].values[i]:game_results['home_code'].values[i] for i in range(l)}\n",
    "code = max(country_codes.values()) + 1\n",
    "# encode_dict = game_results.['home_team']\n",
    "def encode_away_teams(x):\n",
    "   global code\n",
    "   val = country_codes.setdefault(x, code)\n",
    "   if val == code:\n",
    "      code+=1\n",
    "   return val\n",
    "game_results['away_code'] = game_results.away_team.apply(lambda x: encode_away_teams(x)).copy()\n",
    "game_results['hosting_country_code'] = game_results.country.apply(lambda x: encode_away_teams(x)).copy()\n",
    "game_results.head(5)"
   ]
  },
  {
   "cell_type": "markdown",
   "metadata": {
    "collapsed": false
   },
   "source": [
    "Since we only have fifa rankings starting from 1992-12-31, we'll be only keeping games from 1993-Present"
   ]
  },
  {
   "cell_type": "code",
   "execution_count": 79,
   "metadata": {
    "collapsed": false,
    "ExecuteTime": {
     "end_time": "2023-12-05T13:52:55.579950Z",
     "start_time": "2023-12-05T13:52:55.239103Z"
    }
   },
   "outputs": [
    {
     "data": {
      "text/plain": "tournament\nFriendly                                17773\nFIFA World Cup qualification             8016\nUEFA Euro qualification                  2815\nAfrican Cup of Nations qualification     1998\nFIFA World Cup                            964\n                                        ...  \nCopa Confraternidad                         1\nFIFA 75th Anniversary Cup                   1\nReal Madrid 75th Anniversary Cup            1\nÉvence Coppée Trophy                        1\nThe Other Final                             1\nName: count, Length: 147, dtype: int64"
     },
     "execution_count": 79,
     "metadata": {},
     "output_type": "execute_result"
    }
   ],
   "source": [
    "game_results['date'] = pd.to_datetime(game_results['date'],format='%Y-%m-%d')\n",
    "# Convert 'neutral' column to boolean format (1 for True, 0 for False)\n",
    "game_results['neutral'] = game_results['neutral'].astype(int)\n",
    "\n",
    "# Display the 'neutral' column to verify the changes\n",
    "game_results['neutral'].head()\n",
    "game_results.tournament.value_counts()"
   ]
  },
  {
   "cell_type": "code",
   "execution_count": 80,
   "outputs": [
    {
     "data": {
      "text/plain": "date                    datetime64[ns]\nhome_team                       object\naway_team                       object\nhome_score                       int64\naway_score                       int64\ntournament                      object\ncountry                         object\nneutral                          int64\nhome_code                        int16\naway_code                        int64\nhosting_country_code             int64\ndtype: object"
     },
     "execution_count": 80,
     "metadata": {},
     "output_type": "execute_result"
    }
   ],
   "source": [
    "game_results.dtypes"
   ],
   "metadata": {
    "collapsed": false,
    "ExecuteTime": {
     "end_time": "2023-12-05T13:52:55.580041Z",
     "start_time": "2023-12-05T13:52:55.244108Z"
    }
   }
  },
  {
   "cell_type": "code",
   "execution_count": 81,
   "metadata": {
    "collapsed": false,
    "ExecuteTime": {
     "end_time": "2023-12-05T13:52:55.646747Z",
     "start_time": "2023-12-05T13:52:55.246584Z"
    }
   },
   "outputs": [],
   "source": [
    "game_results['final_score'] = game_results.apply(lambda x: 2 if x.away_score < x.home_score else 0 if x.away_score > x.home_score else 1,axis=1)"
   ]
  },
  {
   "cell_type": "code",
   "execution_count": 82,
   "metadata": {
    "collapsed": false,
    "ExecuteTime": {
     "end_time": "2023-12-05T13:52:55.646995Z",
     "start_time": "2023-12-05T13:52:55.535588Z"
    }
   },
   "outputs": [
    {
     "data": {
      "text/plain": "final_score\n2    22060\n0    12838\n1    10417\nName: count, dtype: int64"
     },
     "execution_count": 82,
     "metadata": {},
     "output_type": "execute_result"
    }
   ],
   "source": [
    "game_results.reset_index(level=0,inplace=True)\n",
    "game_results.drop('index',inplace=True,axis=1)\n",
    "game_results['final_score'].value_counts()\n"
   ]
  },
  {
   "cell_type": "code",
   "execution_count": 83,
   "outputs": [
    {
     "data": {
      "text/plain": "<Figure size 200x600 with 1 Axes>",
      "image/png": "[encoded data removed]"
     },
     "metadata": {},
     "output_type": "display_data"
    }
   ],
   "source": [
    "import seaborn as sns\n",
    "import pandas as pd\n",
    "import matplotlib.pyplot as plt\n",
    "plt.figure(figsize=(2, 6))\n",
    "sns.countplot(x='final_score', data=game_results)\n",
    "plt.title('final_score')\n",
    "plt.xlabel('Unique Values')\n",
    "plt.ylabel('Count')\n",
    "plt.show()"
   ],
   "metadata": {
    "collapsed": false,
    "ExecuteTime": {
     "end_time": "2023-12-05T13:52:55.719937Z",
     "start_time": "2023-12-05T13:52:55.542223Z"
    }
   }
  },
  {
   "cell_type": "markdown",
   "metadata": {
    "collapsed": false
   },
   "source": [
    "We have heavy data imbalance where there are more home wins are alot higher than losses or ties. We'll probably need to either undersample the wins or oversample the ties/losses."
   ]
  },
  {
   "cell_type": "code",
   "execution_count": 84,
   "metadata": {
    "collapsed": false,
    "ExecuteTime": {
     "end_time": "2023-12-05T13:52:55.720133Z",
     "start_time": "2023-12-05T13:52:55.626198Z"
    }
   },
   "outputs": [
    {
     "data": {
      "text/plain": "tournament\nFriendly                                17773\nFIFA World Cup qualification             8016\nUEFA Euro qualification                  2815\nAfrican Cup of Nations qualification     1998\nFIFA World Cup                            964\n                                        ...  \nCopa Confraternidad                         1\nFIFA 75th Anniversary Cup                   1\nReal Madrid 75th Anniversary Cup            1\nÉvence Coppée Trophy                        1\nThe Other Final                             1\nName: count, Length: 147, dtype: int64"
     },
     "execution_count": 84,
     "metadata": {},
     "output_type": "execute_result"
    }
   ],
   "source": [
    "game_results.tournament.value_counts()"
   ]
  },
  {
   "cell_type": "markdown",
   "metadata": {
    "collapsed": false
   },
   "source": [
    "We need to limit the tournament categories to just three: \n",
    "- Cup\n",
    "- Tournament\n",
    "- Friendly"
   ]
  },
  {
   "cell_type": "code",
   "execution_count": 85,
   "metadata": {
    "ExecuteTime": {
     "end_time": "2023-12-05T13:52:55.720174Z",
     "start_time": "2023-12-05T13:52:55.629486Z"
    }
   },
   "outputs": [],
   "source": [
    "def decide_competition(match_type):\n",
    "   # Superclasico is a south american friendly\n",
    "    if match_type.lower() == 'friendly' or match_type.lower().find('superclásico') != -1:\n",
    "        return 2\n",
    "    tournament_names = ['tournoi','uefa','tournament','qualifications','qualification','games','festival','league']\n",
    "    cup_names = ['cup', 'final','championship','copa']\n",
    "   # Tournament - 0\n",
    "    for x in tournament_names:\n",
    "        if match_type.lower().find(x) != -1:\n",
    "            return 0\n",
    "   # Cup - 1\n",
    "    for x in cup_names:\n",
    "        if match_type.lower().find(x) != -1:\n",
    "            return 1\n",
    "    return 2"
   ]
  },
  {
   "cell_type": "markdown",
   "metadata": {},
   "source": [
    "### Reorganize the tournaments to either be a cup, tournament, or friendly\n",
    "Encodes the three values: \n",
    "- Tournament $\\rightarrow0$\n",
    "- Cup $\\rightarrow1$\n",
    "- Friendly $\\rightarrow2$"
   ]
  },
  {
   "cell_type": "code",
   "execution_count": 86,
   "metadata": {
    "ExecuteTime": {
     "end_time": "2023-12-05T13:52:55.724956Z",
     "start_time": "2023-12-05T13:52:55.636787Z"
    }
   },
   "outputs": [],
   "source": [
    "game_results['tournament_code'] = game_results['tournament'].apply(decide_competition)"
   ]
  },
  {
   "cell_type": "code",
   "execution_count": 87,
   "metadata": {
    "ExecuteTime": {
     "end_time": "2023-12-05T13:52:55.751545Z",
     "start_time": "2023-12-05T13:52:55.661822Z"
    }
   },
   "outputs": [
    {
     "data": {
      "text/plain": "tournament_code\n2    17803\n0    17635\n1     9877\nName: count, dtype: int64"
     },
     "execution_count": 87,
     "metadata": {},
     "output_type": "execute_result"
    }
   ],
   "source": [
    "game_results['tournament_code'] = game_results.tournament_code.astype(int)\n",
    "game_results['tournament_code'].value_counts()"
   ]
  },
  {
   "cell_type": "markdown",
   "metadata": {},
   "source": [
    "Seems like we have much more tournament matches. We might need to oversample cup games later if the results aren't good"
   ]
  },
  {
   "cell_type": "markdown",
   "source": [
    "### Test run.."
   ],
   "metadata": {
    "collapsed": false
   }
  },
  {
   "cell_type": "code",
   "execution_count": 88,
   "outputs": [
    {
     "name": "stdout",
     "output_type": "stream",
     "text": [
      "<class 'pandas.core.frame.DataFrame'>\n",
      "RangeIndex: 45315 entries, 0 to 45314\n",
      "Data columns (total 5 columns):\n",
      " #   Column                Non-Null Count  Dtype\n",
      "---  ------                --------------  -----\n",
      " 0   neutral               45315 non-null  int64\n",
      " 1   home_code             45315 non-null  int16\n",
      " 2   away_code             45315 non-null  int64\n",
      " 3   hosting_country_code  45315 non-null  int64\n",
      " 4   tournament_code       45315 non-null  int64\n",
      "dtypes: int16(1), int64(4)\n",
      "memory usage: 1.5 MB\n",
      "Accuracy (Logistic Regression): 0.5106289076866495\n",
      "F1-Score: 0.3004216042471644\n",
      "Accuracy: 0.51\n"
     ]
    },
    {
     "data": {
      "text/plain": "<Figure size 1000x800 with 2 Axes>",
      "image/png": "[encoded data removed]"
     },
     "metadata": {},
     "output_type": "display_data"
    }
   ],
   "source": [
    "from sklearn.ensemble import GradientBoostingClassifier\n",
    "test_me = True\n",
    "if test_me:\n",
    "    from sklearn.linear_model import LogisticRegression\n",
    "    from sklearn.svm import SVC\n",
    "    from sklearn.model_selection import train_test_split\n",
    "    from sklearn.metrics import accuracy_score,f1_score,confusion_matrix\n",
    "    \n",
    "    game_results_ready = game_results.drop(['home_team','away_team','home_score','away_score','tournament','country','date'],axis=1)\n",
    "    X = game_results_ready.drop(['final_score'], axis=1)\n",
    "    y = game_results_ready['final_score']\n",
    "    X.info()\n",
    "    # Splitting of Data - 70/30\n",
    "    X_train, X_test, y_train, y_test = train_test_split(X, y,test_size=0.3, stratify=y,  random_state=42)\n",
    "    # svm = svm_ovo = SVC(decision_function_shape='ovo', kernel='linear')\n",
    "    lr = GradientBoostingClassifier(n_estimators=100, random_state=42)\n",
    "    # svm_ovo.fit(X_train, y_train)\n",
    "    lr.fit(X_train,y_train)\n",
    "    # y_pred_ovo = svm_ovo.predict(X_test)\n",
    "    y_pred_lr = lr.predict(X_test)\n",
    "    # accuracy_ovo = accuracy_score(y_test, y_pred_ovo)\n",
    "    # f1_ovo = f1_score(y_test,y_pred_ovo,average='macro')\n",
    "    accuracy_lr = accuracy_score(y_test, y_pred_lr)\n",
    "    conf_mat = confusion_matrix(y_test,y_pred_lr)\n",
    "    f1_lr = f1_score(y_test,y_pred_lr,average='macro')\n",
    "    # print(f\"Accuracy (One-vs-One): {accuracy_ovo}\")\n",
    "    # print(f'F1-Score: {f1_ovo}')\n",
    "    print(f\"Accuracy (Logistic Regression): {accuracy_lr}\")\n",
    "    print(f'F1-Score: {f1_lr}')\n",
    "    \n",
    "    accuracy = accuracy_score(y_test, y_pred_lr)\n",
    "    print(f\"Accuracy: {accuracy:.2f}\")\n",
    "    import seaborn as sns\n",
    "    import matplotlib.pyplot as plt\n",
    "    \n",
    "    # Plot a heatmap of the confusion matrix\n",
    "    plt.figure(figsize=(10, 8))\n",
    "    sns.heatmap(conf_mat, annot=True, fmt='d', cmap='Blues',\n",
    "                xticklabels=lr.classes_, yticklabels=lr.classes_)\n",
    "    plt.xlabel('Predicted Labels')\n",
    "    plt.ylabel('True Labels')\n",
    "    plt.title('Confusion Matrix')\n",
    "    plt.show()"
   ],
   "metadata": {
    "collapsed": false,
    "ExecuteTime": {
     "end_time": "2023-12-05T13:53:00.014573Z",
     "start_time": "2023-12-05T13:52:55.669775Z"
    }
   }
  },
  {
   "cell_type": "markdown",
   "metadata": {
    "collapsed": false
   },
   "source": [
    "### Get the most recent FIFA rank at the time of match"
   ]
  },
  {
   "cell_type": "code",
   "execution_count": 89,
   "metadata": {
    "ExecuteTime": {
     "end_time": "2023-12-05T13:53:00.019045Z",
     "start_time": "2023-12-05T13:53:00.014950Z"
    }
   },
   "outputs": [
    {
     "data": {
      "text/plain": "home_advantage\n1    33217\n0    12098\nName: count, dtype: int64"
     },
     "execution_count": 89,
     "metadata": {},
     "output_type": "execute_result"
    }
   ],
   "source": [
    "game_results['home_advantage'] = 0\n",
    "game_results.loc[game_results['home_code'] == game_results['hosting_country_code'], 'home_advantage'] = 1\n",
    "game_results['home_advantage'].value_counts()"
   ]
  },
  {
   "cell_type": "markdown",
   "metadata": {
    "collapsed": false
   },
   "source": [
    "### Now to check historical head-to-head matches between the two teams\n"
   ]
  },
  {
   "cell_type": "code",
   "execution_count": 90,
   "metadata": {
    "collapsed": false,
    "ExecuteTime": {
     "end_time": "2023-12-05T13:53:00.414509Z",
     "start_time": "2023-12-05T13:53:00.020198Z"
    }
   },
   "outputs": [
    {
     "data": {
      "text/plain": "            date    home_team     away_team  home_score  away_score  \\\n0     1872-11-30     Scotland       England           0           0   \n1     1873-03-08      England      Scotland           4           2   \n2     1874-03-07     Scotland       England           2           1   \n3     1875-03-06      England      Scotland           2           2   \n4     1876-03-04     Scotland       England           3           0   \n...          ...          ...           ...         ...         ...   \n45281 2023-11-21    Hong Kong  Turkmenistan           2           2   \n45282 2023-11-21  Philippines     Indonesia           1           1   \n45283 2023-11-21      Vietnam          Iraq           0           1   \n45285 2023-11-21       Jordan  Saudi Arabia           0           2   \n45314 2023-11-21      Romania   Switzerland           1           0   \n\n                         tournament      country  neutral  home_code  \\\n0                          Friendly     Scotland        0        238   \n1                          Friendly      England        0         82   \n2                          Friendly     Scotland        0        238   \n3                          Friendly      England        0         82   \n4                          Friendly     Scotland        0        238   \n...                             ...          ...      ...        ...   \n45281  FIFA World Cup qualification    Hong Kong        0        121   \n45282  FIFA World Cup qualification  Philippines        0        211   \n45283  FIFA World Cup qualification      Vietnam        0        294   \n45285  FIFA World Cup qualification       Jordan        0        137   \n45314       UEFA Euro qualification      Romania        0        222   \n\n       away_code  hosting_country_code  final_score  tournament_code  \\\n0             82                   238            1                2   \n1            238                    82            2                2   \n2             82                   238            2                2   \n3            238                    82            1                2   \n4             82                   238            2                2   \n...          ...                   ...          ...              ...   \n45281        280                   121            1                0   \n45282        125                   211            1                0   \n45283        127                   294            0                0   \n45285        237                   137            0                0   \n45314        261                   222            2                0   \n\n       home_advantage  head_to_head_last_5                match_id  \n0                   1                    0        England_Scotland  \n1                   1                    0        England_Scotland  \n2                   1                    0        England_Scotland  \n3                   1                    1        England_Scotland  \n4                   1                    0        England_Scotland  \n...               ...                  ...                     ...  \n45281               1                    2  Hong Kong_Turkmenistan  \n45282               1                    1   Indonesia_Philippines  \n45283               1                    1            Iraq_Vietnam  \n45285               1                    1     Jordan_Saudi Arabia  \n45314               1                    0     Romania_Switzerland  \n\n[45315 rows x 16 columns]",
      "text/html": "<div>\n<style scoped>\n    .dataframe tbody tr th:only-of-type {\n        vertical-align: middle;\n    }\n\n    .dataframe tbody tr th {\n        vertical-align: top;\n    }\n\n    .dataframe thead th {\n        text-align: right;\n    }\n</style>\n<table border=\"1\" class=\"dataframe\">\n  <thead>\n    <tr style=\"text-align: right;\">\n      <th></th>\n      <th>date</th>\n      <th>home_team</th>\n      <th>away_team</th>\n      <th>home_score</th>\n      <th>away_score</th>\n      <th>tournament</th>\n      <th>country</th>\n      <th>neutral</th>\n      <th>home_code</th>\n      <th>away_code</th>\n      <th>hosting_country_code</th>\n      <th>final_score</th>\n      <th>tournament_code</th>\n      <th>home_advantage</th>\n      <th>head_to_head_last_5</th>\n      <th>match_id</th>\n    </tr>\n  </thead>\n  <tbody>\n    <tr>\n      <th>0</th>\n      <td>1872-11-30</td>\n      <td>Scotland</td>\n      <td>England</td>\n      <td>0</td>\n      <td>0</td>\n      <td>Friendly</td>\n      <td>Scotland</td>\n      <td>0</td>\n      <td>238</td>\n      <td>82</td>\n      <td>238</td>\n      <td>1</td>\n      <td>2</td>\n      <td>1</td>\n      <td>0</td>\n      <td>England_Scotland</td>\n    </tr>\n    <tr>\n      <th>1</th>\n      <td>1873-03-08</td>\n      <td>England</td>\n      <td>Scotland</td>\n      <td>4</td>\n      <td>2</td>\n      <td>Friendly</td>\n      <td>England</td>\n      <td>0</td>\n      <td>82</td>\n      <td>238</td>\n      <td>82</td>\n      <td>2</td>\n      <td>2</td>\n      <td>1</td>\n      <td>0</td>\n      <td>England_Scotland</td>\n    </tr>\n    <tr>\n      <th>2</th>\n      <td>1874-03-07</td>\n      <td>Scotland</td>\n      <td>England</td>\n      <td>2</td>\n      <td>1</td>\n      <td>Friendly</td>\n      <td>Scotland</td>\n      <td>0</td>\n      <td>238</td>\n      <td>82</td>\n      <td>238</td>\n      <td>2</td>\n      <td>2</td>\n      <td>1</td>\n      <td>0</td>\n      <td>England_Scotland</td>\n    </tr>\n    <tr>\n      <th>3</th>\n      <td>1875-03-06</td>\n      <td>England</td>\n      <td>Scotland</td>\n      <td>2</td>\n      <td>2</td>\n      <td>Friendly</td>\n      <td>England</td>\n      <td>0</td>\n      <td>82</td>\n      <td>238</td>\n      <td>82</td>\n      <td>1</td>\n      <td>2</td>\n      <td>1</td>\n      <td>1</td>\n      <td>England_Scotland</td>\n    </tr>\n    <tr>\n      <th>4</th>\n      <td>1876-03-04</td>\n      <td>Scotland</td>\n      <td>England</td>\n      <td>3</td>\n      <td>0</td>\n      <td>Friendly</td>\n      <td>Scotland</td>\n      <td>0</td>\n      <td>238</td>\n      <td>82</td>\n      <td>238</td>\n      <td>2</td>\n      <td>2</td>\n      <td>1</td>\n      <td>0</td>\n      <td>England_Scotland</td>\n    </tr>\n    <tr>\n      <th>...</th>\n      <td>...</td>\n      <td>...</td>\n      <td>...</td>\n      <td>...</td>\n      <td>...</td>\n      <td>...</td>\n      <td>...</td>\n      <td>...</td>\n      <td>...</td>\n      <td>...</td>\n      <td>...</td>\n      <td>...</td>\n      <td>...</td>\n      <td>...</td>\n      <td>...</td>\n      <td>...</td>\n    </tr>\n    <tr>\n      <th>45281</th>\n      <td>2023-11-21</td>\n      <td>Hong Kong</td>\n      <td>Turkmenistan</td>\n      <td>2</td>\n      <td>2</td>\n      <td>FIFA World Cup qualification</td>\n      <td>Hong Kong</td>\n      <td>0</td>\n      <td>121</td>\n      <td>280</td>\n      <td>121</td>\n      <td>1</td>\n      <td>0</td>\n      <td>1</td>\n      <td>2</td>\n      <td>Hong Kong_Turkmenistan</td>\n    </tr>\n    <tr>\n      <th>45282</th>\n      <td>2023-11-21</td>\n      <td>Philippines</td>\n      <td>Indonesia</td>\n      <td>1</td>\n      <td>1</td>\n      <td>FIFA World Cup qualification</td>\n      <td>Philippines</td>\n      <td>0</td>\n      <td>211</td>\n      <td>125</td>\n      <td>211</td>\n      <td>1</td>\n      <td>0</td>\n      <td>1</td>\n      <td>1</td>\n      <td>Indonesia_Philippines</td>\n    </tr>\n    <tr>\n      <th>45283</th>\n      <td>2023-11-21</td>\n      <td>Vietnam</td>\n      <td>Iraq</td>\n      <td>0</td>\n      <td>1</td>\n      <td>FIFA World Cup qualification</td>\n      <td>Vietnam</td>\n      <td>0</td>\n      <td>294</td>\n      <td>127</td>\n      <td>294</td>\n      <td>0</td>\n      <td>0</td>\n      <td>1</td>\n      <td>1</td>\n      <td>Iraq_Vietnam</td>\n    </tr>\n    <tr>\n      <th>45285</th>\n      <td>2023-11-21</td>\n      <td>Jordan</td>\n      <td>Saudi Arabia</td>\n      <td>0</td>\n      <td>2</td>\n      <td>FIFA World Cup qualification</td>\n      <td>Jordan</td>\n      <td>0</td>\n      <td>137</td>\n      <td>237</td>\n      <td>137</td>\n      <td>0</td>\n      <td>0</td>\n      <td>1</td>\n      <td>1</td>\n      <td>Jordan_Saudi Arabia</td>\n    </tr>\n    <tr>\n      <th>45314</th>\n      <td>2023-11-21</td>\n      <td>Romania</td>\n      <td>Switzerland</td>\n      <td>1</td>\n      <td>0</td>\n      <td>UEFA Euro qualification</td>\n      <td>Romania</td>\n      <td>0</td>\n      <td>222</td>\n      <td>261</td>\n      <td>222</td>\n      <td>2</td>\n      <td>0</td>\n      <td>1</td>\n      <td>0</td>\n      <td>Romania_Switzerland</td>\n    </tr>\n  </tbody>\n</table>\n<p>45315 rows × 16 columns</p>\n</div>"
     },
     "execution_count": 90,
     "metadata": {},
     "output_type": "execute_result"
    }
   ],
   "source": [
    "# Create a new column 'head_to_head_last_5' with default value 0\n",
    "game_results['head_to_head_last_5'] = 0\n",
    "\n",
    "# Define a function to calculate the number of wins for the home team against the away team in the last 5 matches\n",
    "\n",
    "# This is too slow so we'll only use it for rows later\n",
    "def calculate_head_to_head(row):\n",
    "    home_team = row['home_team']\n",
    "    away_team = row['away_team']\n",
    "    \n",
    "    # Extract the relevant subset of matches\n",
    "    relevant_matches = game_results[\n",
    "        ((game_results['home_team'] == home_team) & (game_results['away_team'] == away_team)) |\n",
    "        ((game_results['home_team'] == away_team) & (game_results['away_team'] == home_team))\n",
    "    ]\n",
    "    \n",
    "    # Sort the subset by date\n",
    "    relevant_matches = relevant_matches.sort_values(by='date')\n",
    "    \n",
    "    # Consider only the last 5 matches\n",
    "    last_5_matches = relevant_matches[relevant_matches['date'] < row['date']].tail(5)\n",
    "    \n",
    "    # Count the number of wins for the home team\n",
    "    wins_home_team = last_5_matches[\n",
    "        (last_5_matches['home_team'] == home_team) &\n",
    "        (last_5_matches['final_score'] == 2)\n",
    "    ].shape[0] \n",
    "    \n",
    "    return wins_home_team\n",
    "\n",
    "# Apply the function to calculate the head-to-head performance for each row\n",
    "# game_results['head_to_head_last_5'] = game_results.apply(calculate_head_to_head, axis=1)\n",
    "# game_results['head_to_head_last_5'].value_counts()\n",
    "# Create a new column 'head_to_head_last_5' with default value 0\n",
    "game_results['head_to_head_last_5'] = 0\n",
    "\n",
    "# Sort the dataframe by date\n",
    "game_results = game_results.sort_values(by='date')\n",
    "\n",
    "# Combine home and away teams to create a unique identifier for each match, TEMPORARY\n",
    "game_results['match_id'] = game_results.apply(lambda row: '_'.join(sorted([row['home_team'], row['away_team']])), axis=1)\n",
    "\n",
    "# Group by match and calculate the cumulative sum of wins for the home team (final_score == 2) using rolling window\n",
    "game_results['head_to_head_last_5'] = game_results.groupby('match_id')['final_score'].rolling(window=5, min_periods=1).apply(lambda x: (x == 2).sum(), raw=True).reset_index(drop=True)\n",
    "\n",
    "# Subtract the current match's wins to get the last 5 matches\n",
    "game_results['head_to_head_last_5'] = (game_results['head_to_head_last_5'] - (game_results['final_score'] == 2))\n",
    "# Clip the values to ensure the minimum is 0\n",
    "game_results['head_to_head_last_5'] = game_results['head_to_head_last_5'].clip(lower=0)\n",
    "# Ensure 'head_to_head_last_5' is of integer type\n",
    "game_results['head_to_head_last_5'] = game_results['head_to_head_last_5'].astype(int)\n",
    "\n",
    "# Display value counts\n",
    "game_results"
   ]
  },
  {
   "cell_type": "markdown",
   "metadata": {},
   "source": [
    "### Get the difference in rank between the two teams\n",
    "Negative value indicates that home team's rank is better than away team. Value itself shows how far apart they are."
   ]
  },
  {
   "cell_type": "markdown",
   "metadata": {},
   "source": [
    "0 -> Home loss,<br>\n",
    "1 -> Tie,<br>\n",
    "2 -> Home win"
   ]
  },
  {
   "cell_type": "markdown",
   "metadata": {
    "collapsed": false
   },
   "source": [
    "### Now another goal difference column that looks at the previous 5 matches for both teams\n",
    "Checks the goals scored by the team and goals conceded, subtracts them to get the delta. Negative value indicates that a team concedes more than they score."
   ]
  },
  {
   "cell_type": "code",
   "execution_count": 91,
   "metadata": {
    "collapsed": false,
    "ExecuteTime": {
     "end_time": "2023-12-05T13:53:00.482165Z",
     "start_time": "2023-12-05T13:53:00.415579Z"
    }
   },
   "outputs": [
    {
     "data": {
      "text/plain": "            date home_team             away_team  home_score  away_score  \\\n45309 2023-11-21    Greece                France           2           2   \n45310 2023-11-21     Wales                Turkey           1           1   \n45311 2023-11-21   Croatia               Armenia           1           0   \n45286 2023-11-21   Bahrain  United Arab Emirates           0           2   \n45314 2023-11-21   Romania           Switzerland           1           0   \n\n                         tournament  country  neutral  home_code  away_code  \\\n45309       UEFA Euro qualification   Greece        0        106         93   \n45310       UEFA Euro qualification    Wales        0        296        279   \n45311       UEFA Euro qualification  Croatia        0         66         13   \n45286  FIFA World Cup qualification  Bahrain        0         21        285   \n45314       UEFA Euro qualification  Romania        0        222        261   \n\n       ...  tournament_code  home_advantage  head_to_head_last_5  \\\n45309  ...                0               1                    0   \n45310  ...                0               1                    0   \n45311  ...                0               1                    0   \n45286  ...                0               1                    1   \n45314  ...                0               1                    0   \n\n                           match_id  scored_last_5_home conceded_last_5_home  \\\n45309                 France_Greece                  10                    7   \n45310                  Turkey_Wales                   9                    8   \n45311               Armenia_Croatia                   7                    9   \n45286  Bahrain_United Arab Emirates                   0                    4   \n45314           Romania_Switzerland                   6                    9   \n\n       scored_last_5_away  conceded_last_5_away  goal_difference_last_5_home  \\\n45309                   7                     7                            3   \n45310                   7                     9                            1   \n45311                   7                    10                           -2   \n45286                   3                     4                           -4   \n45314                   6                     7                           -3   \n\n       goal_difference_last_5_away  \n45309                            0  \n45310                           -2  \n45311                           -3  \n45286                           -1  \n45314                           -1  \n\n[5 rows x 22 columns]",
      "text/html": "<div>\n<style scoped>\n    .dataframe tbody tr th:only-of-type {\n        vertical-align: middle;\n    }\n\n    .dataframe tbody tr th {\n        vertical-align: top;\n    }\n\n    .dataframe thead th {\n        text-align: right;\n    }\n</style>\n<table border=\"1\" class=\"dataframe\">\n  <thead>\n    <tr style=\"text-align: right;\">\n      <th></th>\n      <th>date</th>\n      <th>home_team</th>\n      <th>away_team</th>\n      <th>home_score</th>\n      <th>away_score</th>\n      <th>tournament</th>\n      <th>country</th>\n      <th>neutral</th>\n      <th>home_code</th>\n      <th>away_code</th>\n      <th>...</th>\n      <th>tournament_code</th>\n      <th>home_advantage</th>\n      <th>head_to_head_last_5</th>\n      <th>match_id</th>\n      <th>scored_last_5_home</th>\n      <th>conceded_last_5_home</th>\n      <th>scored_last_5_away</th>\n      <th>conceded_last_5_away</th>\n      <th>goal_difference_last_5_home</th>\n      <th>goal_difference_last_5_away</th>\n    </tr>\n  </thead>\n  <tbody>\n    <tr>\n      <th>45309</th>\n      <td>2023-11-21</td>\n      <td>Greece</td>\n      <td>France</td>\n      <td>2</td>\n      <td>2</td>\n      <td>UEFA Euro qualification</td>\n      <td>Greece</td>\n      <td>0</td>\n      <td>106</td>\n      <td>93</td>\n      <td>...</td>\n      <td>0</td>\n      <td>1</td>\n      <td>0</td>\n      <td>France_Greece</td>\n      <td>10</td>\n      <td>7</td>\n      <td>7</td>\n      <td>7</td>\n      <td>3</td>\n      <td>0</td>\n    </tr>\n    <tr>\n      <th>45310</th>\n      <td>2023-11-21</td>\n      <td>Wales</td>\n      <td>Turkey</td>\n      <td>1</td>\n      <td>1</td>\n      <td>UEFA Euro qualification</td>\n      <td>Wales</td>\n      <td>0</td>\n      <td>296</td>\n      <td>279</td>\n      <td>...</td>\n      <td>0</td>\n      <td>1</td>\n      <td>0</td>\n      <td>Turkey_Wales</td>\n      <td>9</td>\n      <td>8</td>\n      <td>7</td>\n      <td>9</td>\n      <td>1</td>\n      <td>-2</td>\n    </tr>\n    <tr>\n      <th>45311</th>\n      <td>2023-11-21</td>\n      <td>Croatia</td>\n      <td>Armenia</td>\n      <td>1</td>\n      <td>0</td>\n      <td>UEFA Euro qualification</td>\n      <td>Croatia</td>\n      <td>0</td>\n      <td>66</td>\n      <td>13</td>\n      <td>...</td>\n      <td>0</td>\n      <td>1</td>\n      <td>0</td>\n      <td>Armenia_Croatia</td>\n      <td>7</td>\n      <td>9</td>\n      <td>7</td>\n      <td>10</td>\n      <td>-2</td>\n      <td>-3</td>\n    </tr>\n    <tr>\n      <th>45286</th>\n      <td>2023-11-21</td>\n      <td>Bahrain</td>\n      <td>United Arab Emirates</td>\n      <td>0</td>\n      <td>2</td>\n      <td>FIFA World Cup qualification</td>\n      <td>Bahrain</td>\n      <td>0</td>\n      <td>21</td>\n      <td>285</td>\n      <td>...</td>\n      <td>0</td>\n      <td>1</td>\n      <td>1</td>\n      <td>Bahrain_United Arab Emirates</td>\n      <td>0</td>\n      <td>4</td>\n      <td>3</td>\n      <td>4</td>\n      <td>-4</td>\n      <td>-1</td>\n    </tr>\n    <tr>\n      <th>45314</th>\n      <td>2023-11-21</td>\n      <td>Romania</td>\n      <td>Switzerland</td>\n      <td>1</td>\n      <td>0</td>\n      <td>UEFA Euro qualification</td>\n      <td>Romania</td>\n      <td>0</td>\n      <td>222</td>\n      <td>261</td>\n      <td>...</td>\n      <td>0</td>\n      <td>1</td>\n      <td>0</td>\n      <td>Romania_Switzerland</td>\n      <td>6</td>\n      <td>9</td>\n      <td>6</td>\n      <td>7</td>\n      <td>-3</td>\n      <td>-1</td>\n    </tr>\n  </tbody>\n</table>\n<p>5 rows × 22 columns</p>\n</div>"
     },
     "execution_count": 91,
     "metadata": {},
     "output_type": "execute_result"
    }
   ],
   "source": [
    "# Define a function to calculate the goal difference for the home team in the last five matches'\n",
    "\n",
    "# Slow!\n",
    "def calculate_goal_difference_last_5(row, team_type):\n",
    "    team = row[team_type]\n",
    "    \n",
    "    # Extract the relevant subset of matches\n",
    "    relevant_matches = game_results[game_results[team_type] == team]\n",
    "    \n",
    "    # Sort the subset by date\n",
    "    relevant_matches = relevant_matches.sort_values(by='date')\n",
    "    \n",
    "    # Consider only the last five matches\n",
    "    last_5_matches = relevant_matches[relevant_matches['date'] < row['date']].tail(5)\n",
    "    \n",
    "    # Calculate the total goals scored by the team in the last five matches\n",
    "    goals_scored = last_5_matches['{}_score'.format('home' if team_type == 'home_team' else 'away')].sum()\n",
    "    # Calculate the total goals scored against the team in the last five matches\n",
    "    goals_conceded = last_5_matches['{}_score'.format('home' if team_type == 'away_team' else 'away')].sum()\n",
    "    # Calculate the goal difference\n",
    "    goal_difference = goals_scored - goals_conceded\n",
    "    \n",
    "    return goal_difference\n",
    "\n",
    "# Apply the function to calculate the goal difference for the home team in the last five matches for each row\n",
    "# TODO - USE MAPPED HOME TEAM?\n",
    "# Create new columns 'scored_last_5_home', 'conceded_last_5_home', 'scored_last_5_away', 'conceded_last_5_away'\n",
    "game_results['scored_last_5_home'] = 0\n",
    "game_results['conceded_last_5_home'] = 0\n",
    "game_results['scored_last_5_away'] = 0\n",
    "game_results['conceded_last_5_away'] = 0\n",
    "\n",
    "# Sort the dataframe by date\n",
    "game_results = game_results.sort_values(by='date')\n",
    "\n",
    "# Group by home_team and calculate the cumulative sum of goals scored and conceded using rolling window\n",
    "game_results['scored_last_5_home'] = game_results.groupby('home_team')['home_score'].rolling(window=5, min_periods=1).sum().reset_index(drop=True)\n",
    "game_results['conceded_last_5_home'] = game_results.groupby('home_team')['away_score'].rolling(window=5, min_periods=1).sum().reset_index(drop=True)\n",
    "\n",
    "# Group by away_team and calculate the cumulative sum of goals scored and conceded using rolling window\n",
    "game_results['scored_last_5_away'] = game_results.groupby('away_team')['away_score'].rolling(window=5, min_periods=1).sum().reset_index(drop=True)\n",
    "game_results['conceded_last_5_away'] = game_results.groupby('away_team')['home_score'].rolling(window=5, min_periods=1).sum().reset_index(drop=True)\n",
    "\n",
    "# Ensure 'scored_last_5_home', 'conceded_last_5_home', 'scored_last_5_away', 'conceded_last_5_away' are of integer type\n",
    "game_results[['scored_last_5_home', 'conceded_last_5_home', 'scored_last_5_away', 'conceded_last_5_away']] = game_results[['scored_last_5_home', 'conceded_last_5_home', 'scored_last_5_away', 'conceded_last_5_away']].astype(int)\n",
    "\n",
    "# Calculate goal difference for home and away teams\n",
    "game_results['goal_difference_last_5_home'] = game_results['scored_last_5_home'] - game_results['conceded_last_5_home']\n",
    "game_results['goal_difference_last_5_away'] = game_results['scored_last_5_away'] - game_results['conceded_last_5_away']\n",
    "\n",
    "# Display value counts\n",
    "game_results.tail()"
   ]
  },
  {
   "cell_type": "code",
   "execution_count": 92,
   "metadata": {
    "collapsed": false,
    "ExecuteTime": {
     "end_time": "2023-12-05T13:53:00.518583Z",
     "start_time": "2023-12-05T13:53:00.481171Z"
    }
   },
   "outputs": [
    {
     "data": {
      "text/plain": "goal_difference_last_5_home\n 3     3465\n 4     3322\n 2     3313\n 1     3163\n 5     2944\n       ... \n-57       1\n-53       1\n 67       1\n 64       1\n 37       1\nName: count, Length: 92, dtype: int64"
     },
     "execution_count": 92,
     "metadata": {},
     "output_type": "execute_result"
    }
   ],
   "source": [
    "game_results['goal_difference_last_5_home'].value_counts() # This seems fishy"
   ]
  },
  {
   "cell_type": "markdown",
   "metadata": {
    "collapsed": false
   },
   "source": [
    "### Weird value?\n",
    "There seems to be a team that has a goal difference of 67... Meaning they scored at least 67 goals in the last 5 games? Let's investigate that team"
   ]
  },
  {
   "cell_type": "code",
   "execution_count": 93,
   "metadata": {
    "collapsed": false,
    "ExecuteTime": {
     "end_time": "2023-12-05T13:53:00.522313Z",
     "start_time": "2023-12-05T13:53:00.483456Z"
    }
   },
   "outputs": [
    {
     "data": {
      "text/plain": "           date home_team away_team  home_score  away_score  \\\n2023 1937-10-05   Austria    Latvia           2           1   \n\n                        tournament  country  neutral  home_code  away_code  \\\n2023  FIFA World Cup qualification  Austria        0         17        148   \n\n      ...  tournament_code  home_advantage  head_to_head_last_5  \\\n2023  ...                0               1                    2   \n\n            match_id  scored_last_5_home conceded_last_5_home  \\\n2023  Austria_Latvia                  67                    0   \n\n      scored_last_5_away  conceded_last_5_away  goal_difference_last_5_home  \\\n2023                  11                    14                           67   \n\n      goal_difference_last_5_away  \n2023                           -3  \n\n[1 rows x 22 columns]",
      "text/html": "<div>\n<style scoped>\n    .dataframe tbody tr th:only-of-type {\n        vertical-align: middle;\n    }\n\n    .dataframe tbody tr th {\n        vertical-align: top;\n    }\n\n    .dataframe thead th {\n        text-align: right;\n    }\n</style>\n<table border=\"1\" class=\"dataframe\">\n  <thead>\n    <tr style=\"text-align: right;\">\n      <th></th>\n      <th>date</th>\n      <th>home_team</th>\n      <th>away_team</th>\n      <th>home_score</th>\n      <th>away_score</th>\n      <th>tournament</th>\n      <th>country</th>\n      <th>neutral</th>\n      <th>home_code</th>\n      <th>away_code</th>\n      <th>...</th>\n      <th>tournament_code</th>\n      <th>home_advantage</th>\n      <th>head_to_head_last_5</th>\n      <th>match_id</th>\n      <th>scored_last_5_home</th>\n      <th>conceded_last_5_home</th>\n      <th>scored_last_5_away</th>\n      <th>conceded_last_5_away</th>\n      <th>goal_difference_last_5_home</th>\n      <th>goal_difference_last_5_away</th>\n    </tr>\n  </thead>\n  <tbody>\n    <tr>\n      <th>2023</th>\n      <td>1937-10-05</td>\n      <td>Austria</td>\n      <td>Latvia</td>\n      <td>2</td>\n      <td>1</td>\n      <td>FIFA World Cup qualification</td>\n      <td>Austria</td>\n      <td>0</td>\n      <td>17</td>\n      <td>148</td>\n      <td>...</td>\n      <td>0</td>\n      <td>1</td>\n      <td>2</td>\n      <td>Austria_Latvia</td>\n      <td>67</td>\n      <td>0</td>\n      <td>11</td>\n      <td>14</td>\n      <td>67</td>\n      <td>-3</td>\n    </tr>\n  </tbody>\n</table>\n<p>1 rows × 22 columns</p>\n</div>"
     },
     "execution_count": 93,
     "metadata": {},
     "output_type": "execute_result"
    }
   ],
   "source": [
    "# Let's find that team\n",
    "game_results[game_results['goal_difference_last_5_home'] == 67]"
   ]
  },
  {
   "cell_type": "markdown",
   "metadata": {
    "collapsed": false
   },
   "source": [
    "### Australia had a goal diff. of 67 on June 2001. Let's look at their matches that happened before that game.\n",
    "67 goals across 5 games means an average of 13 goals per game. Let's find any matches with > 10 goals scored by the home team and look at the last 5."
   ]
  },
  {
   "cell_type": "code",
   "execution_count": 94,
   "metadata": {
    "collapsed": false,
    "ExecuteTime": {
     "end_time": "2023-12-05T13:53:00.522550Z",
     "start_time": "2023-12-05T13:53:00.491888Z"
    }
   },
   "outputs": [
    {
     "data": {
      "text/plain": "            date  home_team       away_team  home_score  away_score  \\\n21923 1998-09-28  Australia    Cook Islands          16           0   \n23394 2000-06-19  Australia    Cook Islands          17           0   \n24157 2001-04-09  Australia           Tonga          22           0   \n24160 2001-04-11  Australia  American Samoa          31           0   \n24176 2001-04-16  Australia           Samoa          11           0   \n\n                         tournament           country  neutral  home_code  \\\n21923           Oceania Nations Cup         Australia        0         16   \n23394           Oceania Nations Cup  French Polynesia        1         16   \n24157  FIFA World Cup qualification         Australia        0         16   \n24160  FIFA World Cup qualification         Australia        0         16   \n24176  FIFA World Cup qualification         Australia        0         16   \n\n       away_code  ...  tournament_code  home_advantage  head_to_head_last_5  \\\n21923         62  ...                1               1                    1   \n23394         62  ...                1               0                    2   \n24157        276  ...                0               1                    0   \n24160          5  ...                0               1                    0   \n24176        234  ...                0               1                    0   \n\n                       match_id  scored_last_5_home conceded_last_5_home  \\\n21923    Australia_Cook Islands                   3                    8   \n23394    Australia_Cook Islands                   6                    8   \n24157           Australia_Tonga                   4                    7   \n24160  American Samoa_Australia                   6                    9   \n24176           Australia_Samoa                  10                   15   \n\n       scored_last_5_away  conceded_last_5_away  goal_difference_last_5_home  \\\n21923                   4                    16                           -5   \n23394                   5                     5                           -2   \n24157                   0                    12                           -3   \n24160                   1                     8                           -3   \n24176                   4                    13                           -5   \n\n       goal_difference_last_5_away  \n21923                          -12  \n23394                            0  \n24157                          -12  \n24160                           -7  \n24176                           -9  \n\n[5 rows x 22 columns]",
      "text/html": "<div>\n<style scoped>\n    .dataframe tbody tr th:only-of-type {\n        vertical-align: middle;\n    }\n\n    .dataframe tbody tr th {\n        vertical-align: top;\n    }\n\n    .dataframe thead th {\n        text-align: right;\n    }\n</style>\n<table border=\"1\" class=\"dataframe\">\n  <thead>\n    <tr style=\"text-align: right;\">\n      <th></th>\n      <th>date</th>\n      <th>home_team</th>\n      <th>away_team</th>\n      <th>home_score</th>\n      <th>away_score</th>\n      <th>tournament</th>\n      <th>country</th>\n      <th>neutral</th>\n      <th>home_code</th>\n      <th>away_code</th>\n      <th>...</th>\n      <th>tournament_code</th>\n      <th>home_advantage</th>\n      <th>head_to_head_last_5</th>\n      <th>match_id</th>\n      <th>scored_last_5_home</th>\n      <th>conceded_last_5_home</th>\n      <th>scored_last_5_away</th>\n      <th>conceded_last_5_away</th>\n      <th>goal_difference_last_5_home</th>\n      <th>goal_difference_last_5_away</th>\n    </tr>\n  </thead>\n  <tbody>\n    <tr>\n      <th>21923</th>\n      <td>1998-09-28</td>\n      <td>Australia</td>\n      <td>Cook Islands</td>\n      <td>16</td>\n      <td>0</td>\n      <td>Oceania Nations Cup</td>\n      <td>Australia</td>\n      <td>0</td>\n      <td>16</td>\n      <td>62</td>\n      <td>...</td>\n      <td>1</td>\n      <td>1</td>\n      <td>1</td>\n      <td>Australia_Cook Islands</td>\n      <td>3</td>\n      <td>8</td>\n      <td>4</td>\n      <td>16</td>\n      <td>-5</td>\n      <td>-12</td>\n    </tr>\n    <tr>\n      <th>23394</th>\n      <td>2000-06-19</td>\n      <td>Australia</td>\n      <td>Cook Islands</td>\n      <td>17</td>\n      <td>0</td>\n      <td>Oceania Nations Cup</td>\n      <td>French Polynesia</td>\n      <td>1</td>\n      <td>16</td>\n      <td>62</td>\n      <td>...</td>\n      <td>1</td>\n      <td>0</td>\n      <td>2</td>\n      <td>Australia_Cook Islands</td>\n      <td>6</td>\n      <td>8</td>\n      <td>5</td>\n      <td>5</td>\n      <td>-2</td>\n      <td>0</td>\n    </tr>\n    <tr>\n      <th>24157</th>\n      <td>2001-04-09</td>\n      <td>Australia</td>\n      <td>Tonga</td>\n      <td>22</td>\n      <td>0</td>\n      <td>FIFA World Cup qualification</td>\n      <td>Australia</td>\n      <td>0</td>\n      <td>16</td>\n      <td>276</td>\n      <td>...</td>\n      <td>0</td>\n      <td>1</td>\n      <td>0</td>\n      <td>Australia_Tonga</td>\n      <td>4</td>\n      <td>7</td>\n      <td>0</td>\n      <td>12</td>\n      <td>-3</td>\n      <td>-12</td>\n    </tr>\n    <tr>\n      <th>24160</th>\n      <td>2001-04-11</td>\n      <td>Australia</td>\n      <td>American Samoa</td>\n      <td>31</td>\n      <td>0</td>\n      <td>FIFA World Cup qualification</td>\n      <td>Australia</td>\n      <td>0</td>\n      <td>16</td>\n      <td>5</td>\n      <td>...</td>\n      <td>0</td>\n      <td>1</td>\n      <td>0</td>\n      <td>American Samoa_Australia</td>\n      <td>6</td>\n      <td>9</td>\n      <td>1</td>\n      <td>8</td>\n      <td>-3</td>\n      <td>-7</td>\n    </tr>\n    <tr>\n      <th>24176</th>\n      <td>2001-04-16</td>\n      <td>Australia</td>\n      <td>Samoa</td>\n      <td>11</td>\n      <td>0</td>\n      <td>FIFA World Cup qualification</td>\n      <td>Australia</td>\n      <td>0</td>\n      <td>16</td>\n      <td>234</td>\n      <td>...</td>\n      <td>0</td>\n      <td>1</td>\n      <td>0</td>\n      <td>Australia_Samoa</td>\n      <td>10</td>\n      <td>15</td>\n      <td>4</td>\n      <td>13</td>\n      <td>-5</td>\n      <td>-9</td>\n    </tr>\n  </tbody>\n</table>\n<p>5 rows × 22 columns</p>\n</div>"
     },
     "execution_count": 94,
     "metadata": {},
     "output_type": "execute_result"
    }
   ],
   "source": [
    "game_results.loc[((game_results['home_team'] == 'Australia') | (game_results['away_team'] == 'Australia')) & (game_results['date'] < '2001-06-02') & (game_results['home_score'] > 10)].tail(5)"
   ]
  },
  {
   "cell_type": "markdown",
   "metadata": {
    "collapsed": false
   },
   "source": [
    "### Oh! Seems like that was not an error and it actually happened. Let's move on."
   ]
  },
  {
   "cell_type": "markdown",
   "metadata": {
    "collapsed": false
   },
   "source": [
    "### Days since the last match played"
   ]
  },
  {
   "cell_type": "code",
   "execution_count": 95,
   "metadata": {
    "collapsed": false,
    "ExecuteTime": {
     "end_time": "2023-12-05T13:53:00.566201Z",
     "start_time": "2023-12-05T13:53:00.498584Z"
    }
   },
   "outputs": [
    {
     "data": {
      "text/plain": "days_since_last_match_home\n4.0       2559\n3.0       2553\n2.0       2524\n7.0       1317\n35.0      1233\n          ... \n1983.0       1\n3316.0       1\n1288.0       1\n4124.0       1\n485.0        1\nName: count, Length: 1499, dtype: int64"
     },
     "execution_count": 95,
     "metadata": {},
     "output_type": "execute_result"
    }
   ],
   "source": [
    "# Create a new column 'days_since_last_match' to represent the days since the last match for each team\n",
    "game_results['days_since_last_match_home'] = game_results.groupby('home_team')['date'].diff().dt.days\n",
    "game_results['days_since_last_match_away'] = game_results.groupby('away_team')['date'].diff().dt.days\n",
    "\n",
    "# Fill NaN values with a default value (e.g., 0)\n",
    "game_results['days_since_last_match_home'] = game_results['days_since_last_match_home'].fillna(0)\n",
    "game_results['days_since_last_match_away'] = game_results['days_since_last_match_away'].fillna(0)\n",
    "\n",
    "game_results['days_since_last_match_home'].value_counts()"
   ]
  },
  {
   "cell_type": "code",
   "execution_count": 96,
   "metadata": {
    "collapsed": false,
    "ExecuteTime": {
     "end_time": "2023-12-05T13:53:00.566348Z",
     "start_time": "2023-12-05T13:53:00.507942Z"
    }
   },
   "outputs": [
    {
     "data": {
      "text/plain": "Index(['date', 'home_team', 'away_team', 'home_score', 'away_score',\n       'tournament', 'country', 'neutral', 'home_code', 'away_code',\n       'hosting_country_code', 'final_score', 'tournament_code',\n       'home_advantage', 'head_to_head_last_5', 'match_id',\n       'scored_last_5_home', 'conceded_last_5_home', 'scored_last_5_away',\n       'conceded_last_5_away', 'goal_difference_last_5_home',\n       'goal_difference_last_5_away', 'days_since_last_match_home',\n       'days_since_last_match_away'],\n      dtype='object')"
     },
     "execution_count": 96,
     "metadata": {},
     "output_type": "execute_result"
    }
   ],
   "source": [
    "game_results.columns"
   ]
  },
  {
   "cell_type": "code",
   "execution_count": 97,
   "metadata": {
    "ExecuteTime": {
     "end_time": "2023-12-05T13:53:00.566454Z",
     "start_time": "2023-12-05T13:53:00.510859Z"
    }
   },
   "outputs": [
    {
     "data": {
      "text/plain": "date                           datetime64[ns]\nhome_team                              object\naway_team                              object\nhome_score                              int64\naway_score                              int64\ntournament                             object\ncountry                                object\nneutral                                 int64\nhome_code                               int16\naway_code                               int64\nhosting_country_code                    int64\nfinal_score                             int64\ntournament_code                         int64\nhome_advantage                          int64\nhead_to_head_last_5                     int64\nmatch_id                               object\nscored_last_5_home                      int64\nconceded_last_5_home                    int64\nscored_last_5_away                      int64\nconceded_last_5_away                    int64\ngoal_difference_last_5_home             int64\ngoal_difference_last_5_away             int64\ndays_since_last_match_home            float64\ndays_since_last_match_away            float64\ndtype: object"
     },
     "execution_count": 97,
     "metadata": {},
     "output_type": "execute_result"
    }
   ],
   "source": [
    "game_results.dtypes"
   ]
  },
  {
   "cell_type": "code",
   "execution_count": 98,
   "metadata": {
    "ExecuteTime": {
     "end_time": "2023-12-05T13:53:00.570946Z",
     "start_time": "2023-12-05T13:53:00.514526Z"
    }
   },
   "outputs": [
    {
     "data": {
      "text/plain": "            date     home_team  away_team  home_score  away_score  \\\n6777  1967-12-10  Saudi Arabia    Tunisia           4           0   \n7106  1969-01-17  Saudi Arabia     Turkey           1           2   \n7512  1970-03-28  Saudi Arabia     Kuwait           1           3   \n7516  1970-04-02  Saudi Arabia      Qatar           1           1   \n8241  1972-03-16  Saudi Arabia     Kuwait           2           2   \n...          ...           ...        ...         ...         ...   \n44326 2022-11-30  Saudi Arabia     Mexico           1           2   \n44376 2023-01-12  Saudi Arabia       Oman           1           2   \n44433 2023-03-24  Saudi Arabia  Venezuela           1           2   \n44546 2023-03-28  Saudi Arabia    Bolivia           1           2   \n45161 2023-11-16  Saudi Arabia   Pakistan           4           0   \n\n                         tournament       country  neutral  home_code  \\\n6777                       Friendly  Saudi Arabia        0        237   \n7106                       Friendly  Saudi Arabia        0        237   \n7512                       Gulf Cup       Bahrain        1        237   \n7516                       Gulf Cup       Bahrain        1        237   \n8241                       Gulf Cup  Saudi Arabia        0        237   \n...                             ...           ...      ...        ...   \n44326                FIFA World Cup         Qatar        1        237   \n44376                      Gulf Cup          Iraq        1        237   \n44433                      Friendly  Saudi Arabia        0        237   \n44546                      Friendly  Saudi Arabia        0        237   \n45161  FIFA World Cup qualification  Saudi Arabia        0        237   \n\n       away_code  ...  head_to_head_last_5                match_id  \\\n6777         278  ...                    2    Saudi Arabia_Tunisia   \n7106         279  ...                    2     Saudi Arabia_Turkey   \n7512         144  ...                    2     Kuwait_Saudi Arabia   \n7516         216  ...                    0      Qatar_Saudi Arabia   \n8241         144  ...                    4     Kuwait_Saudi Arabia   \n...          ...  ...                  ...                     ...   \n44326        172  ...                    4     Mexico_Saudi Arabia   \n44376        199  ...                    1       Oman_Saudi Arabia   \n44433        293  ...                    2  Saudi Arabia_Venezuela   \n44546         33  ...                    1    Bolivia_Saudi Arabia   \n45161        202  ...                    0   Pakistan_Saudi Arabia   \n\n       scored_last_5_home  conceded_last_5_home  scored_last_5_away  \\\n6777                   12                     2                   5   \n7106                    1                     9                   5   \n7512                    4                     4                   0   \n7516                    6                     6                   8   \n8241                    9                     8                   9   \n...                   ...                   ...                 ...   \n44326                  10                     4                   9   \n44376                   8                     9                  10   \n44433                   2                    10                  20   \n44546                   6                     7                   7   \n45161                   8                     4                   6   \n\n      conceded_last_5_away  goal_difference_last_5_home  \\\n6777                     8                           10   \n7106                    12                           -8   \n7512                     2                            0   \n7516                    14                            0   \n8241                     4                            1   \n...                    ...                          ...   \n44326                    8                            6   \n44376                    5                           -1   \n44433                    2                           -8   \n44546                    4                           -1   \n45161                    5                            4   \n\n       goal_difference_last_5_away  days_since_last_match_home  \\\n6777                            -3                         0.0   \n7106                            -7                       404.0   \n7512                            -2                       435.0   \n7516                            -6                         5.0   \n8241                             5                       714.0   \n...                            ...                         ...   \n44326                            1                        14.0   \n44376                            5                        43.0   \n44433                           18                        71.0   \n44546                            3                         4.0   \n45161                            1                       233.0   \n\n       days_since_last_match_away  \n6777                        952.0  \n7106                         86.0  \n7512                       1450.0  \n7516                          2.0  \n8241                         69.0  \n...                           ...  \n44326                         4.0  \n44376                         6.0  \n44433                       124.0  \n44546                         4.0  \n45161                        35.0  \n\n[398 rows x 24 columns]",
      "text/html": "<div>\n<style scoped>\n    .dataframe tbody tr th:only-of-type {\n        vertical-align: middle;\n    }\n\n    .dataframe tbody tr th {\n        vertical-align: top;\n    }\n\n    .dataframe thead th {\n        text-align: right;\n    }\n</style>\n<table border=\"1\" class=\"dataframe\">\n  <thead>\n    <tr style=\"text-align: right;\">\n      <th></th>\n      <th>date</th>\n      <th>home_team</th>\n      <th>away_team</th>\n      <th>home_score</th>\n      <th>away_score</th>\n      <th>tournament</th>\n      <th>country</th>\n      <th>neutral</th>\n      <th>home_code</th>\n      <th>away_code</th>\n      <th>...</th>\n      <th>head_to_head_last_5</th>\n      <th>match_id</th>\n      <th>scored_last_5_home</th>\n      <th>conceded_last_5_home</th>\n      <th>scored_last_5_away</th>\n      <th>conceded_last_5_away</th>\n      <th>goal_difference_last_5_home</th>\n      <th>goal_difference_last_5_away</th>\n      <th>days_since_last_match_home</th>\n      <th>days_since_last_match_away</th>\n    </tr>\n  </thead>\n  <tbody>\n    <tr>\n      <th>6777</th>\n      <td>1967-12-10</td>\n      <td>Saudi Arabia</td>\n      <td>Tunisia</td>\n      <td>4</td>\n      <td>0</td>\n      <td>Friendly</td>\n      <td>Saudi Arabia</td>\n      <td>0</td>\n      <td>237</td>\n      <td>278</td>\n      <td>...</td>\n      <td>2</td>\n      <td>Saudi Arabia_Tunisia</td>\n      <td>12</td>\n      <td>2</td>\n      <td>5</td>\n      <td>8</td>\n      <td>10</td>\n      <td>-3</td>\n      <td>0.0</td>\n      <td>952.0</td>\n    </tr>\n    <tr>\n      <th>7106</th>\n      <td>1969-01-17</td>\n      <td>Saudi Arabia</td>\n      <td>Turkey</td>\n      <td>1</td>\n      <td>2</td>\n      <td>Friendly</td>\n      <td>Saudi Arabia</td>\n      <td>0</td>\n      <td>237</td>\n      <td>279</td>\n      <td>...</td>\n      <td>2</td>\n      <td>Saudi Arabia_Turkey</td>\n      <td>1</td>\n      <td>9</td>\n      <td>5</td>\n      <td>12</td>\n      <td>-8</td>\n      <td>-7</td>\n      <td>404.0</td>\n      <td>86.0</td>\n    </tr>\n    <tr>\n      <th>7512</th>\n      <td>1970-03-28</td>\n      <td>Saudi Arabia</td>\n      <td>Kuwait</td>\n      <td>1</td>\n      <td>3</td>\n      <td>Gulf Cup</td>\n      <td>Bahrain</td>\n      <td>1</td>\n      <td>237</td>\n      <td>144</td>\n      <td>...</td>\n      <td>2</td>\n      <td>Kuwait_Saudi Arabia</td>\n      <td>4</td>\n      <td>4</td>\n      <td>0</td>\n      <td>2</td>\n      <td>0</td>\n      <td>-2</td>\n      <td>435.0</td>\n      <td>1450.0</td>\n    </tr>\n    <tr>\n      <th>7516</th>\n      <td>1970-04-02</td>\n      <td>Saudi Arabia</td>\n      <td>Qatar</td>\n      <td>1</td>\n      <td>1</td>\n      <td>Gulf Cup</td>\n      <td>Bahrain</td>\n      <td>1</td>\n      <td>237</td>\n      <td>216</td>\n      <td>...</td>\n      <td>0</td>\n      <td>Qatar_Saudi Arabia</td>\n      <td>6</td>\n      <td>6</td>\n      <td>8</td>\n      <td>14</td>\n      <td>0</td>\n      <td>-6</td>\n      <td>5.0</td>\n      <td>2.0</td>\n    </tr>\n    <tr>\n      <th>8241</th>\n      <td>1972-03-16</td>\n      <td>Saudi Arabia</td>\n      <td>Kuwait</td>\n      <td>2</td>\n      <td>2</td>\n      <td>Gulf Cup</td>\n      <td>Saudi Arabia</td>\n      <td>0</td>\n      <td>237</td>\n      <td>144</td>\n      <td>...</td>\n      <td>4</td>\n      <td>Kuwait_Saudi Arabia</td>\n      <td>9</td>\n      <td>8</td>\n      <td>9</td>\n      <td>4</td>\n      <td>1</td>\n      <td>5</td>\n      <td>714.0</td>\n      <td>69.0</td>\n    </tr>\n    <tr>\n      <th>...</th>\n      <td>...</td>\n      <td>...</td>\n      <td>...</td>\n      <td>...</td>\n      <td>...</td>\n      <td>...</td>\n      <td>...</td>\n      <td>...</td>\n      <td>...</td>\n      <td>...</td>\n      <td>...</td>\n      <td>...</td>\n      <td>...</td>\n      <td>...</td>\n      <td>...</td>\n      <td>...</td>\n      <td>...</td>\n      <td>...</td>\n      <td>...</td>\n      <td>...</td>\n      <td>...</td>\n    </tr>\n    <tr>\n      <th>44326</th>\n      <td>2022-11-30</td>\n      <td>Saudi Arabia</td>\n      <td>Mexico</td>\n      <td>1</td>\n      <td>2</td>\n      <td>FIFA World Cup</td>\n      <td>Qatar</td>\n      <td>1</td>\n      <td>237</td>\n      <td>172</td>\n      <td>...</td>\n      <td>4</td>\n      <td>Mexico_Saudi Arabia</td>\n      <td>10</td>\n      <td>4</td>\n      <td>9</td>\n      <td>8</td>\n      <td>6</td>\n      <td>1</td>\n      <td>14.0</td>\n      <td>4.0</td>\n    </tr>\n    <tr>\n      <th>44376</th>\n      <td>2023-01-12</td>\n      <td>Saudi Arabia</td>\n      <td>Oman</td>\n      <td>1</td>\n      <td>2</td>\n      <td>Gulf Cup</td>\n      <td>Iraq</td>\n      <td>1</td>\n      <td>237</td>\n      <td>199</td>\n      <td>...</td>\n      <td>1</td>\n      <td>Oman_Saudi Arabia</td>\n      <td>8</td>\n      <td>9</td>\n      <td>10</td>\n      <td>5</td>\n      <td>-1</td>\n      <td>5</td>\n      <td>43.0</td>\n      <td>6.0</td>\n    </tr>\n    <tr>\n      <th>44433</th>\n      <td>2023-03-24</td>\n      <td>Saudi Arabia</td>\n      <td>Venezuela</td>\n      <td>1</td>\n      <td>2</td>\n      <td>Friendly</td>\n      <td>Saudi Arabia</td>\n      <td>0</td>\n      <td>237</td>\n      <td>293</td>\n      <td>...</td>\n      <td>2</td>\n      <td>Saudi Arabia_Venezuela</td>\n      <td>2</td>\n      <td>10</td>\n      <td>20</td>\n      <td>2</td>\n      <td>-8</td>\n      <td>18</td>\n      <td>71.0</td>\n      <td>124.0</td>\n    </tr>\n    <tr>\n      <th>44546</th>\n      <td>2023-03-28</td>\n      <td>Saudi Arabia</td>\n      <td>Bolivia</td>\n      <td>1</td>\n      <td>2</td>\n      <td>Friendly</td>\n      <td>Saudi Arabia</td>\n      <td>0</td>\n      <td>237</td>\n      <td>33</td>\n      <td>...</td>\n      <td>1</td>\n      <td>Bolivia_Saudi Arabia</td>\n      <td>6</td>\n      <td>7</td>\n      <td>7</td>\n      <td>4</td>\n      <td>-1</td>\n      <td>3</td>\n      <td>4.0</td>\n      <td>4.0</td>\n    </tr>\n    <tr>\n      <th>45161</th>\n      <td>2023-11-16</td>\n      <td>Saudi Arabia</td>\n      <td>Pakistan</td>\n      <td>4</td>\n      <td>0</td>\n      <td>FIFA World Cup qualification</td>\n      <td>Saudi Arabia</td>\n      <td>0</td>\n      <td>237</td>\n      <td>202</td>\n      <td>...</td>\n      <td>0</td>\n      <td>Pakistan_Saudi Arabia</td>\n      <td>8</td>\n      <td>4</td>\n      <td>6</td>\n      <td>5</td>\n      <td>4</td>\n      <td>1</td>\n      <td>233.0</td>\n      <td>35.0</td>\n    </tr>\n  </tbody>\n</table>\n<p>398 rows × 24 columns</p>\n</div>"
     },
     "metadata": {},
     "output_type": "display_data"
    }
   ],
   "source": [
    "# Let's look at Saudi Arabia's games\n",
    "results = game_results.loc[('Saudi Arabia' == game_results['home_team'])]\n",
    "display(results)"
   ]
  },
  {
   "cell_type": "markdown",
   "metadata": {
    "collapsed": false
   },
   "source": [
    "## Now we can work on the model"
   ]
  },
  {
   "cell_type": "markdown",
   "metadata": {
    "collapsed": false
   },
   "source": [
    "### We'll need to add more features to improve the results"
   ]
  },
  {
   "cell_type": "code",
   "execution_count": 99,
   "metadata": {
    "collapsed": false,
    "ExecuteTime": {
     "end_time": "2023-12-05T13:53:00.941388Z",
     "start_time": "2023-12-05T13:53:00.523694Z"
    }
   },
   "outputs": [
    {
     "data": {
      "text/plain": "            date    home_team     away_team  home_score  away_score  \\\n0     1872-11-30     Scotland       England           0           0   \n1     1873-03-08      England      Scotland           4           2   \n2     1874-03-07     Scotland       England           2           1   \n3     1875-03-06      England      Scotland           2           2   \n4     1876-03-04     Scotland       England           3           0   \n...          ...          ...           ...         ...         ...   \n45280 2023-11-21   Uzbekistan          Iran           2           2   \n45281 2023-11-21    Hong Kong  Turkmenistan           2           2   \n45282 2023-11-21  Philippines     Indonesia           1           1   \n45265 2023-11-21       Canada       Jamaica           2           3   \n45314 2023-11-21      Romania   Switzerland           1           0   \n\n                         tournament      country  neutral  home_code  \\\n0                          Friendly     Scotland        0        238   \n1                          Friendly      England        0         82   \n2                          Friendly     Scotland        0        238   \n3                          Friendly      England        0         82   \n4                          Friendly     Scotland        0        238   \n...                             ...          ...      ...        ...   \n45280  FIFA World Cup qualification   Uzbekistan        0        290   \n45281  FIFA World Cup qualification    Hong Kong        0        121   \n45282  FIFA World Cup qualification  Philippines        0        211   \n45265       CONCACAF Nations League       Canada        0         46   \n45314       UEFA Euro qualification      Romania        0        222   \n\n       away_code  ...  scored_last_5_away  conceded_last_5_away  \\\n0             82  ...                   0                     3   \n1            238  ...                   2                     4   \n2             82  ...                   5                     7   \n3            238  ...                   7                     9   \n4             82  ...                   7                     9   \n...          ...  ...                 ...                   ...   \n45280        126  ...                   5                     3   \n45281        280  ...                   7                     3   \n45282        125  ...                   6                     2   \n45265        134  ...                  13                     7   \n45314        261  ...                   6                     7   \n\n       goal_difference_last_5_home  goal_difference_last_5_away  \\\n0                                0                           -3   \n1                                0                           -2   \n2                                0                           -2   \n3                               -1                           -2   \n4                                8                           -2   \n...                            ...                          ...   \n45280                            2                            2   \n45281                           -1                            4   \n45282                           -3                            4   \n45265                            5                            6   \n45314                           -3                           -1   \n\n       days_since_last_match_home days_since_last_match_away  \\\n0                             0.0                        0.0   \n1                             0.0                        0.0   \n2                           462.0                      462.0   \n3                           728.0                      728.0   \n4                           728.0                      728.0   \n...                           ...                        ...   \n45280                       154.0                       75.0   \n45281                        40.0                       70.0   \n45282                         5.0                        5.0   \n45265                       140.0                       10.0   \n45314                        37.0                        6.0   \n\n       wins_last_10_games_home  wins_last_10_games_away  \\\n0                            0                        1   \n1                            0                        1   \n2                            0                        1   \n3                            0                        1   \n4                            1                        1   \n...                        ...                      ...   \n45280                        5                        2   \n45281                        4                        2   \n45282                        3                        2   \n45265                        6                        1   \n45314                        4                        4   \n\n                home_match_id           away_match_id  \n0            England_Scotland        England_Scotland  \n1            England_Scotland        England_Scotland  \n2            England_Scotland        England_Scotland  \n3            England_Scotland        England_Scotland  \n4            England_Scotland        England_Scotland  \n...                       ...                     ...  \n45280         Iran_Uzbekistan         Iran_Uzbekistan  \n45281  Hong Kong_Turkmenistan  Hong Kong_Turkmenistan  \n45282   Indonesia_Philippines   Indonesia_Philippines  \n45265          Canada_Jamaica          Canada_Jamaica  \n45314     Romania_Switzerland     Romania_Switzerland  \n\n[45315 rows x 28 columns]",
      "text/html": "<div>\n<style scoped>\n    .dataframe tbody tr th:only-of-type {\n        vertical-align: middle;\n    }\n\n    .dataframe tbody tr th {\n        vertical-align: top;\n    }\n\n    .dataframe thead th {\n        text-align: right;\n    }\n</style>\n<table border=\"1\" class=\"dataframe\">\n  <thead>\n    <tr style=\"text-align: right;\">\n      <th></th>\n      <th>date</th>\n      <th>home_team</th>\n      <th>away_team</th>\n      <th>home_score</th>\n      <th>away_score</th>\n      <th>tournament</th>\n      <th>country</th>\n      <th>neutral</th>\n      <th>home_code</th>\n      <th>away_code</th>\n      <th>...</th>\n      <th>scored_last_5_away</th>\n      <th>conceded_last_5_away</th>\n      <th>goal_difference_last_5_home</th>\n      <th>goal_difference_last_5_away</th>\n      <th>days_since_last_match_home</th>\n      <th>days_since_last_match_away</th>\n      <th>wins_last_10_games_home</th>\n      <th>wins_last_10_games_away</th>\n      <th>home_match_id</th>\n      <th>away_match_id</th>\n    </tr>\n  </thead>\n  <tbody>\n    <tr>\n      <th>0</th>\n      <td>1872-11-30</td>\n      <td>Scotland</td>\n      <td>England</td>\n      <td>0</td>\n      <td>0</td>\n      <td>Friendly</td>\n      <td>Scotland</td>\n      <td>0</td>\n      <td>238</td>\n      <td>82</td>\n      <td>...</td>\n      <td>0</td>\n      <td>3</td>\n      <td>0</td>\n      <td>-3</td>\n      <td>0.0</td>\n      <td>0.0</td>\n      <td>0</td>\n      <td>1</td>\n      <td>England_Scotland</td>\n      <td>England_Scotland</td>\n    </tr>\n    <tr>\n      <th>1</th>\n      <td>1873-03-08</td>\n      <td>England</td>\n      <td>Scotland</td>\n      <td>4</td>\n      <td>2</td>\n      <td>Friendly</td>\n      <td>England</td>\n      <td>0</td>\n      <td>82</td>\n      <td>238</td>\n      <td>...</td>\n      <td>2</td>\n      <td>4</td>\n      <td>0</td>\n      <td>-2</td>\n      <td>0.0</td>\n      <td>0.0</td>\n      <td>0</td>\n      <td>1</td>\n      <td>England_Scotland</td>\n      <td>England_Scotland</td>\n    </tr>\n    <tr>\n      <th>2</th>\n      <td>1874-03-07</td>\n      <td>Scotland</td>\n      <td>England</td>\n      <td>2</td>\n      <td>1</td>\n      <td>Friendly</td>\n      <td>Scotland</td>\n      <td>0</td>\n      <td>238</td>\n      <td>82</td>\n      <td>...</td>\n      <td>5</td>\n      <td>7</td>\n      <td>0</td>\n      <td>-2</td>\n      <td>462.0</td>\n      <td>462.0</td>\n      <td>0</td>\n      <td>1</td>\n      <td>England_Scotland</td>\n      <td>England_Scotland</td>\n    </tr>\n    <tr>\n      <th>3</th>\n      <td>1875-03-06</td>\n      <td>England</td>\n      <td>Scotland</td>\n      <td>2</td>\n      <td>2</td>\n      <td>Friendly</td>\n      <td>England</td>\n      <td>0</td>\n      <td>82</td>\n      <td>238</td>\n      <td>...</td>\n      <td>7</td>\n      <td>9</td>\n      <td>-1</td>\n      <td>-2</td>\n      <td>728.0</td>\n      <td>728.0</td>\n      <td>0</td>\n      <td>1</td>\n      <td>England_Scotland</td>\n      <td>England_Scotland</td>\n    </tr>\n    <tr>\n      <th>4</th>\n      <td>1876-03-04</td>\n      <td>Scotland</td>\n      <td>England</td>\n      <td>3</td>\n      <td>0</td>\n      <td>Friendly</td>\n      <td>Scotland</td>\n      <td>0</td>\n      <td>238</td>\n      <td>82</td>\n      <td>...</td>\n      <td>7</td>\n      <td>9</td>\n      <td>8</td>\n      <td>-2</td>\n      <td>728.0</td>\n      <td>728.0</td>\n      <td>1</td>\n      <td>1</td>\n      <td>England_Scotland</td>\n      <td>England_Scotland</td>\n    </tr>\n    <tr>\n      <th>...</th>\n      <td>...</td>\n      <td>...</td>\n      <td>...</td>\n      <td>...</td>\n      <td>...</td>\n      <td>...</td>\n      <td>...</td>\n      <td>...</td>\n      <td>...</td>\n      <td>...</td>\n      <td>...</td>\n      <td>...</td>\n      <td>...</td>\n      <td>...</td>\n      <td>...</td>\n      <td>...</td>\n      <td>...</td>\n      <td>...</td>\n      <td>...</td>\n      <td>...</td>\n      <td>...</td>\n    </tr>\n    <tr>\n      <th>45280</th>\n      <td>2023-11-21</td>\n      <td>Uzbekistan</td>\n      <td>Iran</td>\n      <td>2</td>\n      <td>2</td>\n      <td>FIFA World Cup qualification</td>\n      <td>Uzbekistan</td>\n      <td>0</td>\n      <td>290</td>\n      <td>126</td>\n      <td>...</td>\n      <td>5</td>\n      <td>3</td>\n      <td>2</td>\n      <td>2</td>\n      <td>154.0</td>\n      <td>75.0</td>\n      <td>5</td>\n      <td>2</td>\n      <td>Iran_Uzbekistan</td>\n      <td>Iran_Uzbekistan</td>\n    </tr>\n    <tr>\n      <th>45281</th>\n      <td>2023-11-21</td>\n      <td>Hong Kong</td>\n      <td>Turkmenistan</td>\n      <td>2</td>\n      <td>2</td>\n      <td>FIFA World Cup qualification</td>\n      <td>Hong Kong</td>\n      <td>0</td>\n      <td>121</td>\n      <td>280</td>\n      <td>...</td>\n      <td>7</td>\n      <td>3</td>\n      <td>-1</td>\n      <td>4</td>\n      <td>40.0</td>\n      <td>70.0</td>\n      <td>4</td>\n      <td>2</td>\n      <td>Hong Kong_Turkmenistan</td>\n      <td>Hong Kong_Turkmenistan</td>\n    </tr>\n    <tr>\n      <th>45282</th>\n      <td>2023-11-21</td>\n      <td>Philippines</td>\n      <td>Indonesia</td>\n      <td>1</td>\n      <td>1</td>\n      <td>FIFA World Cup qualification</td>\n      <td>Philippines</td>\n      <td>0</td>\n      <td>211</td>\n      <td>125</td>\n      <td>...</td>\n      <td>6</td>\n      <td>2</td>\n      <td>-3</td>\n      <td>4</td>\n      <td>5.0</td>\n      <td>5.0</td>\n      <td>3</td>\n      <td>2</td>\n      <td>Indonesia_Philippines</td>\n      <td>Indonesia_Philippines</td>\n    </tr>\n    <tr>\n      <th>45265</th>\n      <td>2023-11-21</td>\n      <td>Canada</td>\n      <td>Jamaica</td>\n      <td>2</td>\n      <td>3</td>\n      <td>CONCACAF Nations League</td>\n      <td>Canada</td>\n      <td>0</td>\n      <td>46</td>\n      <td>134</td>\n      <td>...</td>\n      <td>13</td>\n      <td>7</td>\n      <td>5</td>\n      <td>6</td>\n      <td>140.0</td>\n      <td>10.0</td>\n      <td>6</td>\n      <td>1</td>\n      <td>Canada_Jamaica</td>\n      <td>Canada_Jamaica</td>\n    </tr>\n    <tr>\n      <th>45314</th>\n      <td>2023-11-21</td>\n      <td>Romania</td>\n      <td>Switzerland</td>\n      <td>1</td>\n      <td>0</td>\n      <td>UEFA Euro qualification</td>\n      <td>Romania</td>\n      <td>0</td>\n      <td>222</td>\n      <td>261</td>\n      <td>...</td>\n      <td>6</td>\n      <td>7</td>\n      <td>-3</td>\n      <td>-1</td>\n      <td>37.0</td>\n      <td>6.0</td>\n      <td>4</td>\n      <td>4</td>\n      <td>Romania_Switzerland</td>\n      <td>Romania_Switzerland</td>\n    </tr>\n  </tbody>\n</table>\n<p>45315 rows × 28 columns</p>\n</div>"
     },
     "execution_count": 99,
     "metadata": {},
     "output_type": "execute_result"
    }
   ],
   "source": [
    "# Define a function to calculate the number of wins in the last 10 games\n",
    "\n",
    "# Slow\n",
    "def calculate_wins_last_10(row):\n",
    "    team = row['home_team']\n",
    "    date = row['date']\n",
    "    last_10_games = game_results[(game_results['home_team'] == team) | (game_results['away_team'] == team)]\n",
    "    last_10_games = last_10_games[last_10_games['date'] < date].tail(10)\n",
    "    wins = last_10_games['final_score'].eq(2).sum()  # 2 represents a home win\n",
    "    return wins\n",
    "\n",
    "\n",
    "# We'll create new columns 'wins_last_10_games_home' and 'wins_last_10_games_away' with NaN values\n",
    "game_results['wins_last_10_games_home'] = pd.Series(dtype=float)\n",
    "game_results['wins_last_10_games_away'] = pd.Series(dtype=float)\n",
    "\n",
    "# Sort the dataframe by date\n",
    "game_results = game_results.sort_values(by='date')\n",
    "\n",
    "# Combine home and away teams to create a unique identifier for each match\n",
    "game_results['home_match_id'] = game_results.apply(lambda row: '_'.join(sorted([row['home_team'], row['away_team']])), axis=1)\n",
    "game_results['away_match_id'] = game_results.apply(lambda row: '_'.join(sorted([row['away_team'], row['home_team']])), axis=1)\n",
    "\n",
    "# Define a function to calculate the rolling sum of wins in the last 10 games for each team\n",
    "def calculate_rolling_wins_last_10(series):\n",
    "    return (series == 2).rolling(window=10, min_periods=1).sum()\n",
    "\n",
    "# Apply the rolling sum function to calculate wins in the last 10 games for home_team and away_team\n",
    "game_results['wins_last_10_games_home'] = game_results.groupby('home_team')['final_score'].apply(calculate_rolling_wins_last_10).reset_index(drop=True)\n",
    "game_results['wins_last_10_games_away'] = game_results.groupby('away_team')['final_score'].apply(calculate_rolling_wins_last_10).reset_index(drop=True)\n",
    "\n",
    "# Ensure 'wins_last_10_games_home' and 'wins_last_10_games_away' are of integer type\n",
    "game_results[['wins_last_10_games_home', 'wins_last_10_games_away']] = game_results[['wins_last_10_games_home', 'wins_last_10_games_away']].astype(int)\n",
    "game_results"
   ]
  },
  {
   "cell_type": "markdown",
   "source": [
    "### Refine the features to only include important ones\n",
    "We get rid of `object` columns and `x_score` columns because giving the score makes no sense. We'll use `game_results_ready` in order to keep the original game_results dataframe for functions that use it."
   ],
   "metadata": {
    "collapsed": false
   }
  },
  {
   "cell_type": "code",
   "execution_count": 100,
   "outputs": [
    {
     "data": {
      "text/plain": "            date    home_team     away_team  home_score  away_score  \\\n0     1872-11-30     Scotland       England           0           0   \n1     1873-03-08      England      Scotland           4           2   \n2     1874-03-07     Scotland       England           2           1   \n3     1875-03-06      England      Scotland           2           2   \n4     1876-03-04     Scotland       England           3           0   \n...          ...          ...           ...         ...         ...   \n45280 2023-11-21   Uzbekistan          Iran           2           2   \n45281 2023-11-21    Hong Kong  Turkmenistan           2           2   \n45282 2023-11-21  Philippines     Indonesia           1           1   \n45265 2023-11-21       Canada       Jamaica           2           3   \n45314 2023-11-21      Romania   Switzerland           1           0   \n\n                         tournament      country  neutral  home_code  \\\n0                          Friendly     Scotland        0        238   \n1                          Friendly      England        0         82   \n2                          Friendly     Scotland        0        238   \n3                          Friendly      England        0         82   \n4                          Friendly     Scotland        0        238   \n...                             ...          ...      ...        ...   \n45280  FIFA World Cup qualification   Uzbekistan        0        290   \n45281  FIFA World Cup qualification    Hong Kong        0        121   \n45282  FIFA World Cup qualification  Philippines        0        211   \n45265       CONCACAF Nations League       Canada        0         46   \n45314       UEFA Euro qualification      Romania        0        222   \n\n       away_code  ...  scored_last_5_away  conceded_last_5_away  \\\n0             82  ...                   0                     3   \n1            238  ...                   2                     4   \n2             82  ...                   5                     7   \n3            238  ...                   7                     9   \n4             82  ...                   7                     9   \n...          ...  ...                 ...                   ...   \n45280        126  ...                   5                     3   \n45281        280  ...                   7                     3   \n45282        125  ...                   6                     2   \n45265        134  ...                  13                     7   \n45314        261  ...                   6                     7   \n\n       goal_difference_last_5_home  goal_difference_last_5_away  \\\n0                                0                           -3   \n1                                0                           -2   \n2                                0                           -2   \n3                               -1                           -2   \n4                                8                           -2   \n...                            ...                          ...   \n45280                            2                            2   \n45281                           -1                            4   \n45282                           -3                            4   \n45265                            5                            6   \n45314                           -3                           -1   \n\n       days_since_last_match_home days_since_last_match_away  \\\n0                             0.0                        0.0   \n1                             0.0                        0.0   \n2                           462.0                      462.0   \n3                           728.0                      728.0   \n4                           728.0                      728.0   \n...                           ...                        ...   \n45280                       154.0                       75.0   \n45281                        40.0                       70.0   \n45282                         5.0                        5.0   \n45265                       140.0                       10.0   \n45314                        37.0                        6.0   \n\n       wins_last_10_games_home  wins_last_10_games_away  \\\n0                            0                        1   \n1                            0                        1   \n2                            0                        1   \n3                            0                        1   \n4                            1                        1   \n...                        ...                      ...   \n45280                        5                        2   \n45281                        4                        2   \n45282                        3                        2   \n45265                        6                        1   \n45314                        4                        4   \n\n                home_match_id           away_match_id  \n0            England_Scotland        England_Scotland  \n1            England_Scotland        England_Scotland  \n2            England_Scotland        England_Scotland  \n3            England_Scotland        England_Scotland  \n4            England_Scotland        England_Scotland  \n...                       ...                     ...  \n45280         Iran_Uzbekistan         Iran_Uzbekistan  \n45281  Hong Kong_Turkmenistan  Hong Kong_Turkmenistan  \n45282   Indonesia_Philippines   Indonesia_Philippines  \n45265          Canada_Jamaica          Canada_Jamaica  \n45314     Romania_Switzerland     Romania_Switzerland  \n\n[45315 rows x 28 columns]",
      "text/html": "<div>\n<style scoped>\n    .dataframe tbody tr th:only-of-type {\n        vertical-align: middle;\n    }\n\n    .dataframe tbody tr th {\n        vertical-align: top;\n    }\n\n    .dataframe thead th {\n        text-align: right;\n    }\n</style>\n<table border=\"1\" class=\"dataframe\">\n  <thead>\n    <tr style=\"text-align: right;\">\n      <th></th>\n      <th>date</th>\n      <th>home_team</th>\n      <th>away_team</th>\n      <th>home_score</th>\n      <th>away_score</th>\n      <th>tournament</th>\n      <th>country</th>\n      <th>neutral</th>\n      <th>home_code</th>\n      <th>away_code</th>\n      <th>...</th>\n      <th>scored_last_5_away</th>\n      <th>conceded_last_5_away</th>\n      <th>goal_difference_last_5_home</th>\n      <th>goal_difference_last_5_away</th>\n      <th>days_since_last_match_home</th>\n      <th>days_since_last_match_away</th>\n      <th>wins_last_10_games_home</th>\n      <th>wins_last_10_games_away</th>\n      <th>home_match_id</th>\n      <th>away_match_id</th>\n    </tr>\n  </thead>\n  <tbody>\n    <tr>\n      <th>0</th>\n      <td>1872-11-30</td>\n      <td>Scotland</td>\n      <td>England</td>\n      <td>0</td>\n      <td>0</td>\n      <td>Friendly</td>\n      <td>Scotland</td>\n      <td>0</td>\n      <td>238</td>\n      <td>82</td>\n      <td>...</td>\n      <td>0</td>\n      <td>3</td>\n      <td>0</td>\n      <td>-3</td>\n      <td>0.0</td>\n      <td>0.0</td>\n      <td>0</td>\n      <td>1</td>\n      <td>England_Scotland</td>\n      <td>England_Scotland</td>\n    </tr>\n    <tr>\n      <th>1</th>\n      <td>1873-03-08</td>\n      <td>England</td>\n      <td>Scotland</td>\n      <td>4</td>\n      <td>2</td>\n      <td>Friendly</td>\n      <td>England</td>\n      <td>0</td>\n      <td>82</td>\n      <td>238</td>\n      <td>...</td>\n      <td>2</td>\n      <td>4</td>\n      <td>0</td>\n      <td>-2</td>\n      <td>0.0</td>\n      <td>0.0</td>\n      <td>0</td>\n      <td>1</td>\n      <td>England_Scotland</td>\n      <td>England_Scotland</td>\n    </tr>\n    <tr>\n      <th>2</th>\n      <td>1874-03-07</td>\n      <td>Scotland</td>\n      <td>England</td>\n      <td>2</td>\n      <td>1</td>\n      <td>Friendly</td>\n      <td>Scotland</td>\n      <td>0</td>\n      <td>238</td>\n      <td>82</td>\n      <td>...</td>\n      <td>5</td>\n      <td>7</td>\n      <td>0</td>\n      <td>-2</td>\n      <td>462.0</td>\n      <td>462.0</td>\n      <td>0</td>\n      <td>1</td>\n      <td>England_Scotland</td>\n      <td>England_Scotland</td>\n    </tr>\n    <tr>\n      <th>3</th>\n      <td>1875-03-06</td>\n      <td>England</td>\n      <td>Scotland</td>\n      <td>2</td>\n      <td>2</td>\n      <td>Friendly</td>\n      <td>England</td>\n      <td>0</td>\n      <td>82</td>\n      <td>238</td>\n      <td>...</td>\n      <td>7</td>\n      <td>9</td>\n      <td>-1</td>\n      <td>-2</td>\n      <td>728.0</td>\n      <td>728.0</td>\n      <td>0</td>\n      <td>1</td>\n      <td>England_Scotland</td>\n      <td>England_Scotland</td>\n    </tr>\n    <tr>\n      <th>4</th>\n      <td>1876-03-04</td>\n      <td>Scotland</td>\n      <td>England</td>\n      <td>3</td>\n      <td>0</td>\n      <td>Friendly</td>\n      <td>Scotland</td>\n      <td>0</td>\n      <td>238</td>\n      <td>82</td>\n      <td>...</td>\n      <td>7</td>\n      <td>9</td>\n      <td>8</td>\n      <td>-2</td>\n      <td>728.0</td>\n      <td>728.0</td>\n      <td>1</td>\n      <td>1</td>\n      <td>England_Scotland</td>\n      <td>England_Scotland</td>\n    </tr>\n    <tr>\n      <th>...</th>\n      <td>...</td>\n      <td>...</td>\n      <td>...</td>\n      <td>...</td>\n      <td>...</td>\n      <td>...</td>\n      <td>...</td>\n      <td>...</td>\n      <td>...</td>\n      <td>...</td>\n      <td>...</td>\n      <td>...</td>\n      <td>...</td>\n      <td>...</td>\n      <td>...</td>\n      <td>...</td>\n      <td>...</td>\n      <td>...</td>\n      <td>...</td>\n      <td>...</td>\n      <td>...</td>\n    </tr>\n    <tr>\n      <th>45280</th>\n      <td>2023-11-21</td>\n      <td>Uzbekistan</td>\n      <td>Iran</td>\n      <td>2</td>\n      <td>2</td>\n      <td>FIFA World Cup qualification</td>\n      <td>Uzbekistan</td>\n      <td>0</td>\n      <td>290</td>\n      <td>126</td>\n      <td>...</td>\n      <td>5</td>\n      <td>3</td>\n      <td>2</td>\n      <td>2</td>\n      <td>154.0</td>\n      <td>75.0</td>\n      <td>5</td>\n      <td>2</td>\n      <td>Iran_Uzbekistan</td>\n      <td>Iran_Uzbekistan</td>\n    </tr>\n    <tr>\n      <th>45281</th>\n      <td>2023-11-21</td>\n      <td>Hong Kong</td>\n      <td>Turkmenistan</td>\n      <td>2</td>\n      <td>2</td>\n      <td>FIFA World Cup qualification</td>\n      <td>Hong Kong</td>\n      <td>0</td>\n      <td>121</td>\n      <td>280</td>\n      <td>...</td>\n      <td>7</td>\n      <td>3</td>\n      <td>-1</td>\n      <td>4</td>\n      <td>40.0</td>\n      <td>70.0</td>\n      <td>4</td>\n      <td>2</td>\n      <td>Hong Kong_Turkmenistan</td>\n      <td>Hong Kong_Turkmenistan</td>\n    </tr>\n    <tr>\n      <th>45282</th>\n      <td>2023-11-21</td>\n      <td>Philippines</td>\n      <td>Indonesia</td>\n      <td>1</td>\n      <td>1</td>\n      <td>FIFA World Cup qualification</td>\n      <td>Philippines</td>\n      <td>0</td>\n      <td>211</td>\n      <td>125</td>\n      <td>...</td>\n      <td>6</td>\n      <td>2</td>\n      <td>-3</td>\n      <td>4</td>\n      <td>5.0</td>\n      <td>5.0</td>\n      <td>3</td>\n      <td>2</td>\n      <td>Indonesia_Philippines</td>\n      <td>Indonesia_Philippines</td>\n    </tr>\n    <tr>\n      <th>45265</th>\n      <td>2023-11-21</td>\n      <td>Canada</td>\n      <td>Jamaica</td>\n      <td>2</td>\n      <td>3</td>\n      <td>CONCACAF Nations League</td>\n      <td>Canada</td>\n      <td>0</td>\n      <td>46</td>\n      <td>134</td>\n      <td>...</td>\n      <td>13</td>\n      <td>7</td>\n      <td>5</td>\n      <td>6</td>\n      <td>140.0</td>\n      <td>10.0</td>\n      <td>6</td>\n      <td>1</td>\n      <td>Canada_Jamaica</td>\n      <td>Canada_Jamaica</td>\n    </tr>\n    <tr>\n      <th>45314</th>\n      <td>2023-11-21</td>\n      <td>Romania</td>\n      <td>Switzerland</td>\n      <td>1</td>\n      <td>0</td>\n      <td>UEFA Euro qualification</td>\n      <td>Romania</td>\n      <td>0</td>\n      <td>222</td>\n      <td>261</td>\n      <td>...</td>\n      <td>6</td>\n      <td>7</td>\n      <td>-3</td>\n      <td>-1</td>\n      <td>37.0</td>\n      <td>6.0</td>\n      <td>4</td>\n      <td>4</td>\n      <td>Romania_Switzerland</td>\n      <td>Romania_Switzerland</td>\n    </tr>\n  </tbody>\n</table>\n<p>45315 rows × 28 columns</p>\n</div>"
     },
     "execution_count": 100,
     "metadata": {},
     "output_type": "execute_result"
    }
   ],
   "source": [
    "game_results"
   ],
   "metadata": {
    "collapsed": false,
    "ExecuteTime": {
     "end_time": "2023-12-05T13:53:00.976010Z",
     "start_time": "2023-12-05T13:53:00.939777Z"
    }
   }
  },
  {
   "cell_type": "code",
   "execution_count": 101,
   "metadata": {
    "collapsed": false,
    "ExecuteTime": {
     "end_time": "2023-12-05T13:53:00.976103Z",
     "start_time": "2023-12-05T13:53:00.958871Z"
    }
   },
   "outputs": [],
   "source": [
    "game_results_ready = game_results.drop(['home_team','away_team','home_score','away_score','tournament','country','date','match_id','home_match_id','away_match_id'],axis=1)"
   ]
  },
  {
   "cell_type": "code",
   "execution_count": 102,
   "metadata": {
    "collapsed": false,
    "ExecuteTime": {
     "end_time": "2023-12-05T13:53:01.021046Z",
     "start_time": "2023-12-05T13:53:00.963321Z"
    }
   },
   "outputs": [
    {
     "data": {
      "text/plain": "       neutral  home_code  away_code  hosting_country_code  final_score  \\\n0            0        238         82                   238            1   \n1            0         82        238                    82            2   \n2            0        238         82                   238            2   \n3            0         82        238                    82            1   \n4            0        238         82                   238            2   \n...        ...        ...        ...                   ...          ...   \n45280        0        290        126                   290            1   \n45281        0        121        280                   121            1   \n45282        0        211        125                   211            1   \n45265        0         46        134                    46            0   \n45314        0        222        261                   222            2   \n\n       tournament_code  home_advantage  head_to_head_last_5  \\\n0                    2               1                    0   \n1                    2               1                    0   \n2                    2               1                    0   \n3                    2               1                    1   \n4                    2               1                    0   \n...                ...             ...                  ...   \n45280                0               1                    2   \n45281                0               1                    2   \n45282                0               1                    1   \n45265                0               1                    3   \n45314                0               1                    0   \n\n       scored_last_5_home  conceded_last_5_home  scored_last_5_away  \\\n0                       1                     1                   0   \n1                       2                     2                   2   \n2                       2                     2                   5   \n3                       2                     3                   7   \n4                      11                     3                   7   \n...                   ...                   ...                 ...   \n45280                   6                     4                   5   \n45281                   3                     4                   7   \n45282                   1                     4                   6   \n45265                   9                     4                  13   \n45314                   6                     9                   6   \n\n       conceded_last_5_away  goal_difference_last_5_home  \\\n0                         3                            0   \n1                         4                            0   \n2                         7                            0   \n3                         9                           -1   \n4                         9                            8   \n...                     ...                          ...   \n45280                     3                            2   \n45281                     3                           -1   \n45282                     2                           -3   \n45265                     7                            5   \n45314                     7                           -3   \n\n       goal_difference_last_5_away  days_since_last_match_home  \\\n0                               -3                         0.0   \n1                               -2                         0.0   \n2                               -2                       462.0   \n3                               -2                       728.0   \n4                               -2                       728.0   \n...                            ...                         ...   \n45280                            2                       154.0   \n45281                            4                        40.0   \n45282                            4                         5.0   \n45265                            6                       140.0   \n45314                           -1                        37.0   \n\n       days_since_last_match_away  wins_last_10_games_home  \\\n0                             0.0                        0   \n1                             0.0                        0   \n2                           462.0                        0   \n3                           728.0                        0   \n4                           728.0                        1   \n...                           ...                      ...   \n45280                        75.0                        5   \n45281                        70.0                        4   \n45282                         5.0                        3   \n45265                        10.0                        6   \n45314                         6.0                        4   \n\n       wins_last_10_games_away  \n0                            1  \n1                            1  \n2                            1  \n3                            1  \n4                            1  \n...                        ...  \n45280                        2  \n45281                        2  \n45282                        2  \n45265                        1  \n45314                        4  \n\n[45315 rows x 18 columns]",
      "text/html": "<div>\n<style scoped>\n    .dataframe tbody tr th:only-of-type {\n        vertical-align: middle;\n    }\n\n    .dataframe tbody tr th {\n        vertical-align: top;\n    }\n\n    .dataframe thead th {\n        text-align: right;\n    }\n</style>\n<table border=\"1\" class=\"dataframe\">\n  <thead>\n    <tr style=\"text-align: right;\">\n      <th></th>\n      <th>neutral</th>\n      <th>home_code</th>\n      <th>away_code</th>\n      <th>hosting_country_code</th>\n      <th>final_score</th>\n      <th>tournament_code</th>\n      <th>home_advantage</th>\n      <th>head_to_head_last_5</th>\n      <th>scored_last_5_home</th>\n      <th>conceded_last_5_home</th>\n      <th>scored_last_5_away</th>\n      <th>conceded_last_5_away</th>\n      <th>goal_difference_last_5_home</th>\n      <th>goal_difference_last_5_away</th>\n      <th>days_since_last_match_home</th>\n      <th>days_since_last_match_away</th>\n      <th>wins_last_10_games_home</th>\n      <th>wins_last_10_games_away</th>\n    </tr>\n  </thead>\n  <tbody>\n    <tr>\n      <th>0</th>\n      <td>0</td>\n      <td>238</td>\n      <td>82</td>\n      <td>238</td>\n      <td>1</td>\n      <td>2</td>\n      <td>1</td>\n      <td>0</td>\n      <td>1</td>\n      <td>1</td>\n      <td>0</td>\n      <td>3</td>\n      <td>0</td>\n      <td>-3</td>\n      <td>0.0</td>\n      <td>0.0</td>\n      <td>0</td>\n      <td>1</td>\n    </tr>\n    <tr>\n      <th>1</th>\n      <td>0</td>\n      <td>82</td>\n      <td>238</td>\n      <td>82</td>\n      <td>2</td>\n      <td>2</td>\n      <td>1</td>\n      <td>0</td>\n      <td>2</td>\n      <td>2</td>\n      <td>2</td>\n      <td>4</td>\n      <td>0</td>\n      <td>-2</td>\n      <td>0.0</td>\n      <td>0.0</td>\n      <td>0</td>\n      <td>1</td>\n    </tr>\n    <tr>\n      <th>2</th>\n      <td>0</td>\n      <td>238</td>\n      <td>82</td>\n      <td>238</td>\n      <td>2</td>\n      <td>2</td>\n      <td>1</td>\n      <td>0</td>\n      <td>2</td>\n      <td>2</td>\n      <td>5</td>\n      <td>7</td>\n      <td>0</td>\n      <td>-2</td>\n      <td>462.0</td>\n      <td>462.0</td>\n      <td>0</td>\n      <td>1</td>\n    </tr>\n    <tr>\n      <th>3</th>\n      <td>0</td>\n      <td>82</td>\n      <td>238</td>\n      <td>82</td>\n      <td>1</td>\n      <td>2</td>\n      <td>1</td>\n      <td>1</td>\n      <td>2</td>\n      <td>3</td>\n      <td>7</td>\n      <td>9</td>\n      <td>-1</td>\n      <td>-2</td>\n      <td>728.0</td>\n      <td>728.0</td>\n      <td>0</td>\n      <td>1</td>\n    </tr>\n    <tr>\n      <th>4</th>\n      <td>0</td>\n      <td>238</td>\n      <td>82</td>\n      <td>238</td>\n      <td>2</td>\n      <td>2</td>\n      <td>1</td>\n      <td>0</td>\n      <td>11</td>\n      <td>3</td>\n      <td>7</td>\n      <td>9</td>\n      <td>8</td>\n      <td>-2</td>\n      <td>728.0</td>\n      <td>728.0</td>\n      <td>1</td>\n      <td>1</td>\n    </tr>\n    <tr>\n      <th>...</th>\n      <td>...</td>\n      <td>...</td>\n      <td>...</td>\n      <td>...</td>\n      <td>...</td>\n      <td>...</td>\n      <td>...</td>\n      <td>...</td>\n      <td>...</td>\n      <td>...</td>\n      <td>...</td>\n      <td>...</td>\n      <td>...</td>\n      <td>...</td>\n      <td>...</td>\n      <td>...</td>\n      <td>...</td>\n      <td>...</td>\n    </tr>\n    <tr>\n      <th>45280</th>\n      <td>0</td>\n      <td>290</td>\n      <td>126</td>\n      <td>290</td>\n      <td>1</td>\n      <td>0</td>\n      <td>1</td>\n      <td>2</td>\n      <td>6</td>\n      <td>4</td>\n      <td>5</td>\n      <td>3</td>\n      <td>2</td>\n      <td>2</td>\n      <td>154.0</td>\n      <td>75.0</td>\n      <td>5</td>\n      <td>2</td>\n    </tr>\n    <tr>\n      <th>45281</th>\n      <td>0</td>\n      <td>121</td>\n      <td>280</td>\n      <td>121</td>\n      <td>1</td>\n      <td>0</td>\n      <td>1</td>\n      <td>2</td>\n      <td>3</td>\n      <td>4</td>\n      <td>7</td>\n      <td>3</td>\n      <td>-1</td>\n      <td>4</td>\n      <td>40.0</td>\n      <td>70.0</td>\n      <td>4</td>\n      <td>2</td>\n    </tr>\n    <tr>\n      <th>45282</th>\n      <td>0</td>\n      <td>211</td>\n      <td>125</td>\n      <td>211</td>\n      <td>1</td>\n      <td>0</td>\n      <td>1</td>\n      <td>1</td>\n      <td>1</td>\n      <td>4</td>\n      <td>6</td>\n      <td>2</td>\n      <td>-3</td>\n      <td>4</td>\n      <td>5.0</td>\n      <td>5.0</td>\n      <td>3</td>\n      <td>2</td>\n    </tr>\n    <tr>\n      <th>45265</th>\n      <td>0</td>\n      <td>46</td>\n      <td>134</td>\n      <td>46</td>\n      <td>0</td>\n      <td>0</td>\n      <td>1</td>\n      <td>3</td>\n      <td>9</td>\n      <td>4</td>\n      <td>13</td>\n      <td>7</td>\n      <td>5</td>\n      <td>6</td>\n      <td>140.0</td>\n      <td>10.0</td>\n      <td>6</td>\n      <td>1</td>\n    </tr>\n    <tr>\n      <th>45314</th>\n      <td>0</td>\n      <td>222</td>\n      <td>261</td>\n      <td>222</td>\n      <td>2</td>\n      <td>0</td>\n      <td>1</td>\n      <td>0</td>\n      <td>6</td>\n      <td>9</td>\n      <td>6</td>\n      <td>7</td>\n      <td>-3</td>\n      <td>-1</td>\n      <td>37.0</td>\n      <td>6.0</td>\n      <td>4</td>\n      <td>4</td>\n    </tr>\n  </tbody>\n</table>\n<p>45315 rows × 18 columns</p>\n</div>"
     },
     "execution_count": 102,
     "metadata": {},
     "output_type": "execute_result"
    }
   ],
   "source": [
    "game_results_ready"
   ]
  },
  {
   "cell_type": "code",
   "execution_count": 103,
   "metadata": {
    "collapsed": false,
    "ExecuteTime": {
     "end_time": "2023-12-05T13:53:01.089790Z",
     "start_time": "2023-12-05T13:53:00.969489Z"
    }
   },
   "outputs": [
    {
     "data": {
      "text/plain": "final_score                    1.000000\nhome_advantage                 0.077782\ndays_since_last_match_away     0.032018\nhome_code                      0.014620\nwins_last_10_games_away        0.003415\nconceded_last_5_away           0.001662\nconceded_last_5_home          -0.000603\nwins_last_10_games_home       -0.001597\ngoal_difference_last_5_home   -0.002479\nhosting_country_code          -0.003160\ngoal_difference_last_5_away   -0.003178\nscored_last_5_away            -0.003575\nscored_last_5_home            -0.003989\ntournament_code               -0.016493\naway_code                     -0.018741\ndays_since_last_match_home    -0.030029\nneutral                       -0.078114\nhead_to_head_last_5           -0.317761\nName: final_score, dtype: float64"
     },
     "execution_count": 103,
     "metadata": {},
     "output_type": "execute_result"
    }
   ],
   "source": [
    "corr_mtx = game_results_ready.corr(numeric_only=True)\n",
    "corr_mtx['final_score'].sort_values(ascending=False)"
   ]
  },
  {
   "cell_type": "code",
   "execution_count": 104,
   "metadata": {
    "collapsed": false,
    "ExecuteTime": {
     "end_time": "2023-12-05T13:53:01.090097Z",
     "start_time": "2023-12-05T13:53:01.000889Z"
    }
   },
   "outputs": [
    {
     "data": {
      "text/plain": "   neutral  home_code  away_code  hosting_country_code  final_score  \\\n0        0        238         82                   238            1   \n1        0         82        238                    82            2   \n2        0        238         82                   238            2   \n3        0         82        238                    82            1   \n4        0        238         82                   238            2   \n\n   tournament_code  home_advantage  head_to_head_last_5  scored_last_5_home  \\\n0                2               1                    0                   1   \n1                2               1                    0                   2   \n2                2               1                    0                   2   \n3                2               1                    1                   2   \n4                2               1                    0                  11   \n\n   conceded_last_5_home  scored_last_5_away  conceded_last_5_away  \\\n0                     1                   0                     3   \n1                     2                   2                     4   \n2                     2                   5                     7   \n3                     3                   7                     9   \n4                     3                   7                     9   \n\n   goal_difference_last_5_home  goal_difference_last_5_away  \\\n0                            0                           -3   \n1                            0                           -2   \n2                            0                           -2   \n3                           -1                           -2   \n4                            8                           -2   \n\n   days_since_last_match_home  days_since_last_match_away  \\\n0                         0.0                         0.0   \n1                         0.0                         0.0   \n2                       462.0                       462.0   \n3                       728.0                       728.0   \n4                       728.0                       728.0   \n\n   wins_last_10_games_home  wins_last_10_games_away  \n0                        0                        1  \n1                        0                        1  \n2                        0                        1  \n3                        0                        1  \n4                        1                        1  ",
      "text/html": "<div>\n<style scoped>\n    .dataframe tbody tr th:only-of-type {\n        vertical-align: middle;\n    }\n\n    .dataframe tbody tr th {\n        vertical-align: top;\n    }\n\n    .dataframe thead th {\n        text-align: right;\n    }\n</style>\n<table border=\"1\" class=\"dataframe\">\n  <thead>\n    <tr style=\"text-align: right;\">\n      <th></th>\n      <th>neutral</th>\n      <th>home_code</th>\n      <th>away_code</th>\n      <th>hosting_country_code</th>\n      <th>final_score</th>\n      <th>tournament_code</th>\n      <th>home_advantage</th>\n      <th>head_to_head_last_5</th>\n      <th>scored_last_5_home</th>\n      <th>conceded_last_5_home</th>\n      <th>scored_last_5_away</th>\n      <th>conceded_last_5_away</th>\n      <th>goal_difference_last_5_home</th>\n      <th>goal_difference_last_5_away</th>\n      <th>days_since_last_match_home</th>\n      <th>days_since_last_match_away</th>\n      <th>wins_last_10_games_home</th>\n      <th>wins_last_10_games_away</th>\n    </tr>\n  </thead>\n  <tbody>\n    <tr>\n      <th>0</th>\n      <td>0</td>\n      <td>238</td>\n      <td>82</td>\n      <td>238</td>\n      <td>1</td>\n      <td>2</td>\n      <td>1</td>\n      <td>0</td>\n      <td>1</td>\n      <td>1</td>\n      <td>0</td>\n      <td>3</td>\n      <td>0</td>\n      <td>-3</td>\n      <td>0.0</td>\n      <td>0.0</td>\n      <td>0</td>\n      <td>1</td>\n    </tr>\n    <tr>\n      <th>1</th>\n      <td>0</td>\n      <td>82</td>\n      <td>238</td>\n      <td>82</td>\n      <td>2</td>\n      <td>2</td>\n      <td>1</td>\n      <td>0</td>\n      <td>2</td>\n      <td>2</td>\n      <td>2</td>\n      <td>4</td>\n      <td>0</td>\n      <td>-2</td>\n      <td>0.0</td>\n      <td>0.0</td>\n      <td>0</td>\n      <td>1</td>\n    </tr>\n    <tr>\n      <th>2</th>\n      <td>0</td>\n      <td>238</td>\n      <td>82</td>\n      <td>238</td>\n      <td>2</td>\n      <td>2</td>\n      <td>1</td>\n      <td>0</td>\n      <td>2</td>\n      <td>2</td>\n      <td>5</td>\n      <td>7</td>\n      <td>0</td>\n      <td>-2</td>\n      <td>462.0</td>\n      <td>462.0</td>\n      <td>0</td>\n      <td>1</td>\n    </tr>\n    <tr>\n      <th>3</th>\n      <td>0</td>\n      <td>82</td>\n      <td>238</td>\n      <td>82</td>\n      <td>1</td>\n      <td>2</td>\n      <td>1</td>\n      <td>1</td>\n      <td>2</td>\n      <td>3</td>\n      <td>7</td>\n      <td>9</td>\n      <td>-1</td>\n      <td>-2</td>\n      <td>728.0</td>\n      <td>728.0</td>\n      <td>0</td>\n      <td>1</td>\n    </tr>\n    <tr>\n      <th>4</th>\n      <td>0</td>\n      <td>238</td>\n      <td>82</td>\n      <td>238</td>\n      <td>2</td>\n      <td>2</td>\n      <td>1</td>\n      <td>0</td>\n      <td>11</td>\n      <td>3</td>\n      <td>7</td>\n      <td>9</td>\n      <td>8</td>\n      <td>-2</td>\n      <td>728.0</td>\n      <td>728.0</td>\n      <td>1</td>\n      <td>1</td>\n    </tr>\n  </tbody>\n</table>\n</div>"
     },
     "execution_count": 104,
     "metadata": {},
     "output_type": "execute_result"
    }
   ],
   "source": [
    "game_results_ready.head()"
   ]
  },
  {
   "cell_type": "code",
   "execution_count": 105,
   "outputs": [
    {
     "data": {
      "text/plain": "0        1\n1        2\n2        2\n3        1\n4        2\n        ..\n45280    1\n45281    1\n45282    1\n45265    0\n45314    2\nName: final_score, Length: 45315, dtype: int64"
     },
     "execution_count": 105,
     "metadata": {},
     "output_type": "execute_result"
    }
   ],
   "source": [
    "game_results_ready['final_score']"
   ],
   "metadata": {
    "collapsed": false,
    "ExecuteTime": {
     "end_time": "2023-12-05T13:53:01.090236Z",
     "start_time": "2023-12-05T13:53:01.003895Z"
    }
   }
  },
  {
   "cell_type": "code",
   "execution_count": 112,
   "outputs": [
    {
     "data": {
      "text/plain": "<Figure size 200x600 with 1 Axes>",
      "image/png": "[encoded data removed]"
     },
     "metadata": {},
     "output_type": "display_data"
    }
   ],
   "source": [
    "USE_SMOTE = False # Change this flag to True to use SMOTE.\n",
    "\n",
    "use_balanced = not USE_SMOTE\n",
    "if use_balanced:\n",
    "    min_class_count = pd.Series.min(game_results_ready['final_score'].value_counts())  # The count of the smallest class\n",
    "    # Create a balanced DataFrame by sampling from each class\n",
    "    balanced_game_results = pd.DataFrame()\n",
    "    # If a class has fewer instances than the smallest class, we'll need to sample with replacement\n",
    "    for class_label in game_results_ready['final_score'].unique():\n",
    "        class_subset = game_results_ready[game_results_ready['final_score'] == class_label]\n",
    "        if len(class_subset) > min_class_count:\n",
    "            # If we have more than the minimum class count, we sample without replacement\n",
    "            class_subset_sample = class_subset.sample(n=min_class_count, random_state=42)\n",
    "        else:\n",
    "            # If not, we sample with replacement to boost up to the minimum class count\n",
    "            class_subset_sample = class_subset.sample(n=min_class_count, random_state=42, replace=True)\n",
    "        balanced_game_results = pd.concat([balanced_game_results, class_subset_sample], axis=0)\n",
    "    \n",
    "    # Update the game_results DataFrame to be the balanced one\n",
    "    game_results_ready = balanced_game_results\n",
    "import seaborn as sns\n",
    "import pandas as pd\n",
    "import matplotlib.pyplot as plt\n",
    "plt.figure(figsize=(2, 6))\n",
    "sns.countplot(x='final_score', data=game_results_ready)\n",
    "plt.title('final_score')\n",
    "plt.xlabel('Unique Values')\n",
    "plt.ylabel('Count')\n",
    "plt.show()"
   ],
   "metadata": {
    "collapsed": false,
    "ExecuteTime": {
     "end_time": "2023-12-05T13:53:58.894383Z",
     "start_time": "2023-12-05T13:53:58.807752Z"
    }
   }
  },
  {
   "cell_type": "code",
   "execution_count": 113,
   "outputs": [
    {
     "data": {
      "text/plain": "final_score\n1    10417\n2    10417\n0    10417\nName: count, dtype: int64"
     },
     "execution_count": 113,
     "metadata": {},
     "output_type": "execute_result"
    }
   ],
   "source": [
    "# Now, each class should have the same number of instances\n",
    "game_results_ready['final_score'].value_counts()"
   ],
   "metadata": {
    "collapsed": false,
    "ExecuteTime": {
     "end_time": "2023-12-05T13:53:59.751162Z",
     "start_time": "2023-12-05T13:53:59.738095Z"
    }
   }
  },
  {
   "cell_type": "code",
   "execution_count": 114,
   "metadata": {
    "collapsed": false,
    "ExecuteTime": {
     "end_time": "2023-12-05T13:54:00.458286Z",
     "start_time": "2023-12-05T13:54:00.447778Z"
    }
   },
   "outputs": [
    {
     "name": "stdout",
     "output_type": "stream",
     "text": [
      "<class 'pandas.core.frame.DataFrame'>\n",
      "Index: 31251 entries, 31817 to 25147\n",
      "Data columns (total 17 columns):\n",
      " #   Column                       Non-Null Count  Dtype  \n",
      "---  ------                       --------------  -----  \n",
      " 0   neutral                      31251 non-null  int64  \n",
      " 1   home_code                    31251 non-null  int16  \n",
      " 2   away_code                    31251 non-null  int64  \n",
      " 3   hosting_country_code         31251 non-null  int64  \n",
      " 4   tournament_code              31251 non-null  int64  \n",
      " 5   home_advantage               31251 non-null  int64  \n",
      " 6   head_to_head_last_5          31251 non-null  int64  \n",
      " 7   scored_last_5_home           31251 non-null  int64  \n",
      " 8   conceded_last_5_home         31251 non-null  int64  \n",
      " 9   scored_last_5_away           31251 non-null  int64  \n",
      " 10  conceded_last_5_away         31251 non-null  int64  \n",
      " 11  goal_difference_last_5_home  31251 non-null  int64  \n",
      " 12  goal_difference_last_5_away  31251 non-null  int64  \n",
      " 13  days_since_last_match_home   31251 non-null  float64\n",
      " 14  days_since_last_match_away   31251 non-null  float64\n",
      " 15  wins_last_10_games_home      31251 non-null  int64  \n",
      " 16  wins_last_10_games_away      31251 non-null  int64  \n",
      "dtypes: float64(2), int16(1), int64(14)\n",
      "memory usage: 4.1 MB\n"
     ]
    }
   ],
   "source": [
    "# Define the classes based on final_score\n",
    "X = game_results_ready.drop(['final_score'], axis=1)\n",
    "y = game_results_ready['final_score']\n",
    "X.info()"
   ]
  },
  {
   "cell_type": "code",
   "execution_count": 115,
   "outputs": [],
   "source": [
    "# from sklearn.linear_model import LogisticRegression\n",
    "# from sklearn.svm import SVC\n",
    "# from sklearn.model_selection import train_test_split\n",
    "# from sklearn.metrics import accuracy_score\n",
    "# \n",
    "# game_results_ready = game_results.drop(['home_team','away_team','home_score','away_score','tournament','country','date','match_id','home_match_id','away_match_id'],axis=1)\n",
    "# X = game_results_ready.drop(['final_score'], axis=1)\n",
    "# y = game_results_ready['final_score']\n",
    "# \n",
    "# # Splitting of Data - 70/30\n",
    "# X_train, X_test, y_train, y_test = train_test_split(X, y,test_size=0.3, stratify=y,  random_state=42)\n",
    "# svm = svm_ovo = SVC(decision_function_shape='ovo', kernel='linear')\n",
    "# lr = LogisticRegression(multi_class='multinomial',random_state=42)\n",
    "# svm_ovo.fit(X_train, y_train)\n",
    "# lr.fit(X_train,y_train)\n",
    "# y_pred_ovo = svm_ovo.predict(X_test)\n",
    "# y_pred_lr = lr.predict(X_test)\n",
    "# accuracy_ovo = accuracy_score(y_test, y_pred_ovo)\n",
    "# accuracy_lr = accuracy_score(y_test, y_pred_lr)\n",
    "# print(f\"Accuracy (One-vs-One): {accuracy_ovo}\")\n",
    "# print(f\"Accuracy (Logistic Regression): {accuracy_lr}\")"
   ],
   "metadata": {
    "collapsed": false,
    "ExecuteTime": {
     "end_time": "2023-12-05T13:54:01.096703Z",
     "start_time": "2023-12-05T13:54:01.076613Z"
    }
   }
  },
  {
   "cell_type": "markdown",
   "metadata": {
    "collapsed": false
   },
   "source": [
    "### We have our X and y\n",
    "We will not shuffle because we want our training to happen to the earlier games and our testing to happen to the later games."
   ]
  },
  {
   "cell_type": "code",
   "execution_count": 116,
   "metadata": {
    "collapsed": false,
    "ExecuteTime": {
     "end_time": "2023-12-05T13:54:02.213724Z",
     "start_time": "2023-12-05T13:54:02.184804Z"
    }
   },
   "outputs": [],
   "source": [
    "from sklearn.model_selection import train_test_split\n",
    "from sklearn.preprocessing import StandardScaler\n",
    "# Splitting of Data - 70/30\n",
    "X_train, X_test, y_train, y_test = train_test_split(X, y,test_size=0.3, stratify=y,  random_state=42)\n",
    "use_scaled_data = False\n",
    "if use_scaled_data:\n",
    "    scaler = StandardScaler()\n",
    "    X_train_scaled = scaler.fit_transform(X_train)\n",
    "    X_test_scaled = scaler.fit_transform(X_test)"
   ]
  },
  {
   "cell_type": "markdown",
   "source": [
    "### SMOTE-ing\n",
    "Here we can choose to SMOTE or not.."
   ],
   "metadata": {
    "collapsed": false
   }
  },
  {
   "cell_type": "code",
   "execution_count": 117,
   "outputs": [],
   "source": [
    "from imblearn.over_sampling import SMOTE\n",
    "import matplotlib.pyplot as plt\n",
    "#use_smote = False # Change this flag to True to use SMOTE.\n",
    "if USE_SMOTE:\n",
    "    kn = list(range(2,20,2))\n",
    "    accuracies = []\n",
    "    i=0\n",
    "    while i<len(kn):\n",
    "        smote = SMOTE(random_state=42,k_neighbors=kn[i],n_jobs=-1)\n",
    "        X_train_smote, y_train_smote = smote.fit_resample(X_train, y_train)\n",
    "        from sklearn.ensemble import ExtraTreesClassifier  \n",
    "        from sklearn.metrics import accuracy_score, classification_report,confusion_matrix\n",
    "        test_model = ExtraTreesClassifier(criterion='gini',warm_start=True,bootstrap=False,n_jobs=-1,max_depth=None, max_features='log2', min_samples_leaf=1, min_samples_split=3, n_estimators= 400)\n",
    "        test_model.fit(X_train_smote,y_train_smote)\n",
    "        y_preds = test_model.predict(X_test)\n",
    "        accuracy = accuracy_score(y_test, y_preds)\n",
    "        accuracies.append(accuracy)\n",
    "        i+=1\n",
    "    kn_accuracy = {kn[i]:accuracies[i] for i in range(len(kn))}\n",
    "    \n",
    "    # Plotting\n",
    "    plt.figure(figsize=(10, 6))\n",
    "    plt.plot(kn, accuracies, marker='o', linestyle='-', color='b')\n",
    "    plt.title('Accuracy vs K-Neighbors')\n",
    "    plt.xlabel('K-Neighbors')\n",
    "    plt.ylabel('Accuracy')\n",
    "    plt.xticks(np.arange(0, 31, step=2))  # Adjust x-axis ticks as needed\n",
    "    plt.yticks(np.arange(0.58, 0.61, step=0.01))  # Adjust y-axis ticks as needed\n",
    "    plt.grid(True)\n",
    "    plt.show()\n",
    "    \n",
    "    BEST_KN = max(kn_accuracy, key=kn_accuracy.get)"
   ],
   "metadata": {
    "collapsed": false,
    "ExecuteTime": {
     "end_time": "2023-12-05T13:54:03.207179Z",
     "start_time": "2023-12-05T13:54:03.190479Z"
    }
   }
  },
  {
   "cell_type": "markdown",
   "metadata": {
    "collapsed": false
   },
   "source": [
    "### Model Training Phase \n",
    "\n",
    "Multi-Class Model predicts for 3 outcomes : Home win, Home loss, and Tie\n"
   ]
  },
  {
   "cell_type": "code",
   "execution_count": 118,
   "metadata": {
    "collapsed": false,
    "ExecuteTime": {
     "end_time": "2023-12-05T13:54:16.134653Z",
     "start_time": "2023-12-05T13:54:04.422859Z"
    }
   },
   "outputs": [
    {
     "name": "stdout",
     "output_type": "stream",
     "text": [
      "Model: Extra Trees Classifier\n",
      "Accuracy: 0.5828711604095563\n",
      "              precision    recall  f1-score   support\n",
      "\n",
      "           0       0.50      0.57      0.54      3125\n",
      "           1       0.73      0.59      0.65      3125\n",
      "           2       0.56      0.59      0.57      3126\n",
      "\n",
      "    accuracy                           0.58      9376\n",
      "   macro avg       0.60      0.58      0.59      9376\n",
      "weighted avg       0.60      0.58      0.59      9376\n",
      "\n",
      "Accuracy: 0.58\n"
     ]
    },
    {
     "data": {
      "text/plain": "<Figure size 1000x800 with 2 Axes>",
      "image/png": "[encoded data removed]"
     },
     "metadata": {},
     "output_type": "display_data"
    }
   ],
   "source": [
    "from sklearn.ensemble import RandomForestClassifier,ExtraTreesClassifier,BaggingClassifier,StackingClassifier,GradientBoostingClassifier\n",
    "from sklearn.linear_model import LogisticRegression\n",
    "from sklearn.svm import SVC\n",
    "from sklearn.ensemble import RandomForestClassifier,RandomTreesEmbedding\n",
    "\n",
    "from sklearn.discriminant_analysis import LinearDiscriminantAnalysis\n",
    "from sklearn.pipeline import make_pipeline\n",
    "from sklearn.metrics import accuracy_score\n",
    "from sktime.classification.sklearn import RotationForest\n",
    "from sklearn.ensemble import BaggingClassifier,StackingClassifier\n",
    "\n",
    "# Create a RandomForestClassifier model with balanced class weights\n",
    "from sklearn.metrics import accuracy_score, classification_report,confusion_matrix\n",
    "# main_model = ExtraTreesClassifier(criterion='gini',n_jobs=-1,max_depth=None, max_features='log2', min_samples_leaf=1, min_samples_split=3, n_estimators=400)\n",
    "main_model = make_pipeline(RandomTreesEmbedding(n_estimators=400,min_samples_leaf=5, random_state=42), ExtraTreesClassifier(n_jobs=-1,max_depth=None, max_features='log2', min_samples_leaf=1, min_samples_split=3, n_estimators=400))\n",
    "# main_model = GradientBoostingClassifier(n_estimators=100, random_state=42)\n",
    "if USE_SMOTE:\n",
    "    smote = SMOTE(random_state=42,k_neighbors=BEST_KN,n_jobs=-1)\n",
    "    X_train_smote, y_train_smote = smote.fit_resample(X_train, y_train)\n",
    "    main_model.fit(X_train_smote,y_train_smote)\n",
    "elif use_scaled_data:\n",
    "    main_model.fit(X_train_scaled,y_train)\n",
    "else:\n",
    "    main_model.fit(X_train,y_train)\n",
    "y_preds = main_model.predict(X_test_scaled) if use_scaled_data else main_model.predict(X_test)\n",
    "conf_mat = confusion_matrix(y_test,y_preds)\n",
    "accuracy = accuracy_score(y_test, y_preds)\n",
    "print(f'Model: Extra Trees Classifier\\nAccuracy: {accuracy}')\n",
    "print(classification_report(y_test, y_preds))\n",
    "accuracy = accuracy_score(y_test, y_preds)\n",
    "print(f\"Accuracy: {accuracy:.2f}\")\n",
    "import seaborn as sns\n",
    "import matplotlib.pyplot as plt\n",
    "\n",
    "# Plot a heatmap of the confusion matrix\n",
    "plt.figure(figsize=(10, 8))\n",
    "sns.heatmap(conf_mat, annot=True, fmt='d', cmap='Blues',\n",
    "            xticklabels=main_model.classes_, yticklabels=main_model.classes_)\n",
    "plt.xlabel('Predicted Labels')\n",
    "plt.ylabel('True Labels')\n",
    "plt.title('Confusion Matrix')\n",
    "plt.show()"
   ]
  },
  {
   "cell_type": "markdown",
   "source": [
    "```\n",
    "Accuracy: 0.6813230342642107\n",
    "              precision    recall  f1-score   support\n",
    "\n",
    "           0       0.62      0.68      0.65      1683\n",
    "           1       0.77      0.62      0.69      1683\n",
    "           2       0.67      0.74      0.71      1683\n",
    "\n",
    "    accuracy                           0.68      5049\n",
    "   macro avg       0.69      0.68      0.68      5049\n",
    "weighted avg       0.69      0.68      0.68      5049\n",
    "```"
   ],
   "metadata": {
    "collapsed": false
   }
  },
  {
   "cell_type": "markdown",
   "source": [
    "### Comparison of Results\n",
    "Prev without scaling:\n",
    "```\n",
    "Accuracy: 0.6712220241632006\n",
    "              precision    recall  f1-score   support\n",
    "\n",
    "           0       0.64      0.63      0.64      1683\n",
    "           1       0.69      0.64      0.67      1683\n",
    "           2       0.69      0.73      0.71      1683\n",
    "\n",
    "    accuracy                           0.67      5049\n",
    "   macro avg       0.67      0.67      0.67      5049\n",
    "weighted avg       0.67      0.67      0.67      5049\n",
    "```\n",
    "Dry run of dataset as it is, no resampling:\n",
    "```\n",
    "Model: Logistic Regression multi-class\n",
    "Accuracy: 0.5905166312809625\n",
    "              precision    recall  f1-score   support\n",
    "\n",
    "           0       0.55      0.53      0.54      1969\n",
    "           1       0.38      0.12      0.19      1683\n",
    "           2       0.63      0.85      0.73      3413\n",
    "\n",
    "    accuracy                           0.59      7065\n",
    "   macro avg       0.52      0.50      0.49      7065\n",
    "weighted avg       0.55      0.59      0.55      7065\n",
    "```\n",
    "\n",
    "Undersampled dataset with ExtraTreesClassifier:\n",
    "```\n",
    "Accuracy: 0.678748266983561\n",
    "              precision    recall  f1-score   support\n",
    "\n",
    "           0       0.62      0.67      0.64      1683\n",
    "           1       0.76      0.62      0.68      1683\n",
    "           2       0.67      0.74      0.71      1683\n",
    "\n",
    "    accuracy                           0.68      5049\n",
    "   macro avg       0.69      0.68      0.68      5049\n",
    "weighted avg       0.69      0.68      0.68      5049\n",
    "```\n",
    "\n",
    "SMOTE oversample BOOTSTRAP=TRUE:\n",
    "```\n",
    "Accuracy: 0.5985845718329795\n",
    "              precision    recall  f1-score   support\n",
    "\n",
    "           0       0.54      0.55      0.54      1969\n",
    "           1       0.40      0.27      0.32      1683\n",
    "           2       0.69      0.79      0.74      3413\n",
    "\n",
    "    accuracy                           0.60      7065\n",
    "   macro avg       0.54      0.54      0.53      7065\n",
    "weighted avg       0.58      0.60      0.58      7065\n",
    "```\n",
    "Undersampled dataset with BOOTSTRAP=TRUE\n",
    "```\n",
    "Accuracy: 0.6726084373143196\n",
    "              precision    recall  f1-score   support\n",
    "\n",
    "           0       0.63      0.63      0.63      1683\n",
    "           1       0.70      0.65      0.67      1683\n",
    "           2       0.69      0.73      0.71      1683\n",
    "\n",
    "    accuracy                           0.67      5049\n",
    "   macro avg       0.67      0.67      0.67      5049\n",
    "weighted avg       0.67      0.67      0.67      5049\n",
    "```\n",
    "\n"
   ],
   "metadata": {
    "collapsed": false
   }
  },
  {
   "cell_type": "markdown",
   "source": [
    "### Comparing to different models"
   ],
   "metadata": {
    "collapsed": false
   }
  },
  {
   "cell_type": "code",
   "execution_count": 40,
   "outputs": [],
   "source": [
    "from sklearn.neighbors import KNeighborsClassifier\n",
    "from sklearn.multiclass import OneVsRestClassifier\n",
    "from sklearn.linear_model import ElasticNet, RidgeClassifier, Lasso, LogisticRegression\n",
    "from sklearn.svm import SVC\n",
    "from sklearn.discriminant_analysis import LinearDiscriminantAnalysis, QuadraticDiscriminantAnalysis\n",
    "from sktime.classification.sklearn import RotationForest\n",
    "from sklearn.ensemble import RandomTreesEmbedding, GradientBoostingClassifier, VotingClassifier\n",
    "from sklearn.ensemble import RandomForestClassifier\n",
    "from sklearn.ensemble import ExtraTreesClassifier, GradientBoostingClassifier, VotingClassifier\n",
    "from sklearn.pipeline import make_pipeline\n",
    "from sklearn.metrics import accuracy_score\n",
    "from sklearn.ensemble import BaggingClassifier,StackingClassifier\n",
    "compare = False\n",
    "if compare:\n",
    "    lasso_binary = Lasso(alpha=0.1) \n",
    "    elastic_net_binary = ElasticNet(alpha=0.1, l1_ratio=0.5)\n",
    "    models = {\n",
    "        'SVM': SVC(decision_function_shape='ovo',random_state=42,kernel='rbf'),\n",
    "        'Logistic_Multi': LogisticRegression(multi_class='multinomial',random_state=42,max_iter=100000),\n",
    "        'Gradient Boosting Classifier (400 estimators)': GradientBoostingClassifier(n_estimators=400, random_state=42),\n",
    "        'Bagging Classifier':BaggingClassifier(n_estimators=200, max_samples=1.0, max_features=0.8, random_state=42,bootstrap=False),\n",
    "        # 'Ridge': RidgeClassifier(alpha=1.0),\n",
    "        # 'QuadDA':QuadraticDiscriminantAnalysis(),\n",
    "        # 'Lasso':OneVsRestClassifier(lasso_binary),\n",
    "        # 'Elastic Net':OneVsRestClassifier(elastic_net_binary),\n",
    "        # 'hard voting classifier (ExtraTrees+GBoost+RandomForest)': VotingClassifier(estimators=[\n",
    "        # ('extra_trees', ExtraTreesClassifier(criterion='gini',max_depth=None, max_features='log2', min_samples_leaf=1, min_samples_split=3, n_estimators=400)),\n",
    "        # ('gradient_boosting', GradientBoostingClassifier(n_estimators=400, random_state=42)),\n",
    "        # ('random_forest', RandomForestClassifier(n_estimators=100))], voting='hard'),\n",
    "    #     'Stacking with random forest, gradient boost, and extra trees. Final estimator is logistic regression': StackingClassifier(estimators= [\n",
    "    #     ('rf', RandomForestClassifier(n_estimators=100, random_state=42)),\n",
    "    #     ('gb', GradientBoostingClassifier(n_estimators=100, random_state=42)),\n",
    "    #         ('et',ExtraTreesClassifier(n_estimators=400,criterion='entropy',warm_start=False,bootstrap=False),)\n",
    "    # ], final_estimator=SVC(kernel='linear',random_state=42)),\n",
    "        #     'RandomForestClassifier':RandomForestClassifier(n_estimators=250,bootstrap=False,n_jobs=1,random_state=42),\n",
    "        # 'ExtraTrees with Entropy':ExtraTreesClassifier(n_estimators=400,criterion='entropy',warm_start=False,bootstrap=False),\n",
    "        # 'Rotational_Forest': RotationForest(n_estimators=100),\n",
    "        'Random Tree Embedding': make_pipeline(RandomTreesEmbedding(n_estimators=400,min_samples_leaf=5, random_state=42), ExtraTreesClassifier(criterion='gini',n_jobs=-1,max_depth=None, max_features='log2', min_samples_leaf=1, min_samples_split=3, n_estimators=400)),\n",
    "        # 'Random Subspace (Pasting)':BaggingClassifier(estimator=ExtraTreesClassifier(), n_estimators=400, max_samples=1.0, max_features=0.8, random_state=42,bootstrap=False)\n",
    "    }\n",
    "    models_preds = {key:0 for key in models.keys()}\n",
    "    for model in models.keys():\n",
    "        print(model)\n",
    "        if USE_SMOTE:\n",
    "            models[model].fit(X_train_smote,y_train_smote)\n",
    "        elif use_scaled_data:\n",
    "            models[model].fit(X_train_scaled,y_train)\n",
    "        else:\n",
    "            models[model].fit(X_train,y_train)\n",
    "        y_pred = models[model].predict(X_test_scaled) if use_scaled_data else models[model].predict(X_test)\n",
    "        print(f'done predicting')\n",
    "        models_preds[model] = y_pred"
   ],
   "metadata": {
    "collapsed": false,
    "ExecuteTime": {
     "end_time": "2023-12-05T13:48:47.965677Z",
     "start_time": "2023-12-05T13:48:47.934347Z"
    }
   }
  },
  {
   "cell_type": "markdown",
   "source": [
    "### Let's evaluate the models"
   ],
   "metadata": {
    "collapsed": false
   }
  },
  {
   "cell_type": "code",
   "execution_count": 41,
   "metadata": {
    "collapsed": false,
    "ExecuteTime": {
     "end_time": "2023-12-05T13:48:49.438499Z",
     "start_time": "2023-12-05T13:48:49.424129Z"
    }
   },
   "outputs": [
    {
     "name": "stdout",
     "output_type": "stream",
     "text": [
      "test\n"
     ]
    }
   ],
   "source": [
    "print('test')\n",
    "from sklearn.metrics import accuracy_score, classification_report,confusion_matrix\n",
    "if compare:\n",
    "    models_mtxs =  {key:0 for key in models.keys()}\n",
    "    for model in models_preds.keys():\n",
    "        conf_mtx = confusion_matrix(y_test,models_preds[model])\n",
    "        accuracy = accuracy_score(y_test, models_preds[model])\n",
    "        print(f'Model: {model}\\nAccuracy: {accuracy}')\n",
    "        print(classification_report(y_test, models_preds[model]))\n",
    "        models_mtxs[model] = conf_mtx"
   ]
  },
  {
   "cell_type": "code",
   "execution_count": 219,
   "outputs": [],
   "source": [
    "import seaborn as sns\n",
    "import matplotlib.pyplot as plt\n",
    "if compare:\n",
    "    for mtx in models_mtxs.keys():\n",
    "        sns.heatmap(models_mtxs[mtx], annot=True, fmt='d', cmap='Blues')\n",
    "        plt.xlabel('Predicted Labels')\n",
    "        plt.ylabel('True Labels')\n",
    "        plt.title(f'Confusion Matrix for {mtx}')\n",
    "        plt.show()"
   ],
   "metadata": {
    "collapsed": false,
    "ExecuteTime": {
     "end_time": "2023-12-04T21:32:03.537955Z",
     "start_time": "2023-12-04T21:32:03.535204Z"
    }
   }
  },
  {
   "cell_type": "markdown",
   "metadata": {
    "collapsed": false
   },
   "source": [
    "### Extras: Match creator to predict the outcome of a tournament"
   ]
  },
  {
   "cell_type": "code",
   "execution_count": 220,
   "metadata": {
    "collapsed": false,
    "ExecuteTime": {
     "end_time": "2023-12-04T21:32:03.636769Z",
     "start_time": "2023-12-04T21:32:03.537412Z"
    }
   },
   "outputs": [],
   "source": [
    "# tournament code 0 as default -> Tournament\n",
    "def match_creator(team_1,team_2,tournament_code=0):\n",
    "    # Get home and away codes\n",
    "    home_code,away_code = country_codes[team_1],country_codes[team_2]\n",
    "    # Randomize if game is played at neutral ground\n",
    "    neutral = random.randint(0,1)\n",
    "    # if not on neutral ground, pick either home or away as playing ground. Else pick a random ground\n",
    "    hosting_country_code = random.choice([home_code,away_code]) if not neutral else random.choice(list(country_codes.values()))\n",
    "    home_advantage = (country_codes[team_1] == hosting_country_code)\n",
    "    game_info = {\n",
    "        'home_team':team_1,\n",
    "        'away_team':team_2,\n",
    "        'date':datetime.now()\n",
    "    }\n",
    "    head_to_head_last_5 = calculate_head_to_head(game_info)\n",
    "    goal_difference_last_5_home = calculate_goal_difference_last_5(game_info,'home_team')\n",
    "    goal_difference_last_5_away = calculate_goal_difference_last_5(game_info,'away_team')\n",
    "    days_since_last_match_home:pd.Series = (datetime.now() - game_results.loc[game_results['home_team'] == team_1].tail(1)['date']).to_list()[0].days\n",
    "    days_since_last_match_away = (datetime.now() - game_results.loc[game_results['away_team'] == team_2].tail(1)['date']).to_list()[0].days\n",
    "    wins_last_10_games_home = game_results.loc[(game_results['home_team'] == team_1)]['final_score'].eq(2).sum() + game_results.loc[(game_results['away_team'] == team_1)]['final_score'].eq(0).sum()\n",
    "    wins_last_10_games_away = game_results.loc[(game_results['home_team'] == team_2)]['final_score'].eq(2).sum() + game_results.loc[(game_results['away_team'] == team_2)]['final_score'].eq(0).sum()\n",
    "    scored_last_5_home =  game_results.loc[(game_results['home_team'] == team_1)].tail(5)['home_score'].sum() + game_results.loc[(game_results['away_team'] == team_1)].tail(5)['away_score'].sum()\n",
    "    scored_last_5_away = game_results.loc[(game_results['home_team'] == team_2)].tail(5)['home_score'].sum() + game_results.loc[(game_results['away_team'] == team_2)].tail(5)['away_score'].sum()\n",
    "    \n",
    "    conceded_last_5_home = game_results.loc[(game_results['home_team'] == team_1)].tail(5)['away_score'].sum() + game_results.loc[(game_results['away_team'] == team_1)].tail(5)['home_score'].sum()\n",
    "    \n",
    "    conceded_last_5_away = game_results.loc[(game_results['home_team'] == team_2)].tail(5)['away_score'].sum() + game_results.loc[(game_results['away_team'] == team_2)].tail(5)['home_score'].sum()\n",
    "    match_data = {\n",
    "        'neutral': neutral,\n",
    "        'home_code':home_code,\n",
    "        'away_code':away_code,\n",
    "        'hosting_country_code':hosting_country_code,\n",
    "        'tournament_code':tournament_code,\n",
    "        'home_advantage':home_advantage,\n",
    "        'head_to_head_last_5':head_to_head_last_5,\n",
    "        'goal_difference_last_5_home':goal_difference_last_5_home,\n",
    "        'goal_difference_last_5_away':goal_difference_last_5_away,\n",
    "        'days_since_last_match_home':days_since_last_match_home,\n",
    "        'days_since_last_match_away':days_since_last_match_away,\n",
    "        'scored_last_5_home':scored_last_5_home,\n",
    "        'scored_last_5_away':scored_last_5_away,\n",
    "        'conceded_last_5_home':conceded_last_5_home,\n",
    "        'conceded_last_5_away':conceded_last_5_away, \n",
    "        'wins_last_10_games_home':wins_last_10_games_home,\n",
    "        'wins_last_10_games_away':wins_last_10_games_away\n",
    "    }\n",
    "    match_idx = match_data.keys()\n",
    "    return pd.Series(data=match_data.values(),index=match_idx).values.reshape(1,-1)"
   ]
  },
  {
   "cell_type": "markdown",
   "source": [
    "### USA vs Saudi Arabia"
   ],
   "metadata": {
    "collapsed": false
   }
  },
  {
   "cell_type": "code",
   "execution_count": 221,
   "metadata": {
    "collapsed": false,
    "ExecuteTime": {
     "end_time": "2023-12-04T21:32:03.644811Z",
     "start_time": "2023-12-04T21:32:03.546551Z"
    }
   },
   "outputs": [],
   "source": [
    "team_1, team_2 = 'United States','Saudi Arabia'\n",
    "my_match = match_creator(team_1, team_2)"
   ]
  },
  {
   "cell_type": "code",
   "execution_count": 222,
   "metadata": {
    "collapsed": false,
    "ExecuteTime": {
     "end_time": "2023-12-04T21:32:03.644999Z",
     "start_time": "2023-12-04T21:32:03.565232Z"
    }
   },
   "outputs": [
    {
     "data": {
      "text/plain": "'Saudi Arabia'"
     },
     "execution_count": 222,
     "metadata": {},
     "output_type": "execute_result"
    }
   ],
   "source": [
    "team_1 if main_model.predict(my_match) == 2 else team_2"
   ]
  },
  {
   "cell_type": "markdown",
   "source": [
    "### Let's run our own little tournament!"
   ],
   "metadata": {
    "collapsed": false
   }
  },
  {
   "cell_type": "code",
   "execution_count": 223,
   "metadata": {
    "collapsed": false,
    "ExecuteTime": {
     "end_time": "2023-12-04T21:32:04.271989Z",
     "start_time": "2023-12-04T21:32:03.588503Z"
    }
   },
   "outputs": [
    {
     "name": "stdout",
     "output_type": "stream",
     "text": [
      " Italy vs Uruguay -> Uruguay won after full time.\n",
      " Australia vs Brazil -> Brazil won after full time.\n",
      " United States vs Spain -> United States won after full time.\n",
      " Belgium vs England -> England won after full time.\n",
      " France vs Qatar -> France won after full time.\n",
      " Saudi Arabia vs Japan -> Japan won after full time.\n",
      " Germany vs Argentina -> Argentina won after full time.\n",
      " Mexico vs Scotland -> Tie at full time. Playing extra-time. -> Mexico won after extra time.\n",
      "\t Uruguay vs Brazil -> Brazil won after full time.\n",
      "\t United States vs England -> United States won after full time.\n",
      "\t France vs Japan -> Japan won after full time.\n",
      "\t Argentina vs Mexico -> Mexico won after full time.\n",
      "\t\t Brazil vs United States -> Brazil won after full time.\n",
      "\t\t Japan vs Mexico -> Japan won after full time.\n",
      "\t\t\tFinal: Brazil vs Japan -> Brazil won after full time.\n"
     ]
    },
    {
     "data": {
      "text/plain": "'Brazil'"
     },
     "execution_count": 223,
     "metadata": {},
     "output_type": "execute_result"
    }
   ],
   "source": [
    "countries_to_match = ['Belgium','United States','Japan','Qatar','Saudi Arabia','England','Scotland','France','Brazil','Italy','Germany','Uruguay','Argentina','Spain','Mexico','Australia'] \n",
    "\n",
    "import warnings\n",
    "\n",
    "# Suppress FutureWarning messages\n",
    "warnings.simplefilter(action='ignore', category=FutureWarning)\n",
    "warnings.simplefilter(action='ignore', category=UserWarning)\n",
    "def run_tournament(teams,tournament_type='cup',hosting_country='random',with_print=True):\n",
    "    if not teams:\n",
    "        return \n",
    "    # Randomize teams\n",
    "    random.shuffle(teams)\n",
    "    # If tournament_type is 'cup' then draws are not allowed. One team must win!\n",
    "    tab=''\n",
    "    while len(teams) != 1:\n",
    "        winners = []\n",
    "        for i in range(0,len(teams),2):\n",
    "            match = match_creator(teams[i],teams[i+1])\n",
    "            if hosting_country != 'random':\n",
    "                match = change_host(match,hosting_country,teams,i)\n",
    "                # match[0][3] = country_codes[hosting_country]\n",
    "                # match[0][0] = (match[0][3] != teams[i]) and (match[0][3] != teams[i+1])\n",
    "                # match[0][8] = match[0][3] == teams[i]\n",
    "            if len(teams) == 2: tab+='Final:'\n",
    "            if with_print: print(tab,teams[i],'vs',teams[i+1],end=' -> ')\n",
    "            # Initial prediction\n",
    "            pred = main_model.predict(match)\n",
    "            if pred == 1 and tournament_type == 'cup':\n",
    "                if with_print: print('Tie at full time. Playing extra-time.',end=' -> ')\n",
    "                match = match_creator(teams[i],teams[i+1],tournament_code=1) # Make the game more serious\n",
    "                if hosting_country != 'random': match = change_host(match,hosting_country,teams,i)\n",
    "                pred = main_model.predict(match)\n",
    "                if pred == 1:\n",
    "                    if with_print: print('Tie at extra time. Playing penalty shoot-outs.',end=' -> ')\n",
    "                    match = match_creator(teams[i],teams[i+1],tournament_code=1)\n",
    "                    if hosting_country != 'random': match = change_host(match,hosting_country,teams,i)\n",
    "                    pred = main_model.predict(match)\n",
    "                    if pred == 1:\n",
    "                        # Penalties are random anyway!\n",
    "                        winner = teams[i] if random.randint(0,99) % 2 == 0 else teams[i+1]\n",
    "                    else: \n",
    "                        winner = teams[i] if pred == 2 else teams[i+1]\n",
    "                    if with_print: print(winner,'won after penalty shoot-outs!')\n",
    "                else:\n",
    "                    winner = teams[i] if pred == 2 else teams[i+1]\n",
    "                    if with_print: print(winner,'won after extra time.')\n",
    "            else:\n",
    "                winner = teams[i] if pred == 2 else teams[i+1]\n",
    "                if with_print: print(winner,'won after full time.')\n",
    "            winners.append(winner)\n",
    "        teams.clear()\n",
    "        teams = winners\n",
    "        tab+='\\t'\n",
    "    return teams[0]\n",
    "\n",
    "def change_host(match,host,teams,i):\n",
    "    match[0][3] = country_codes[host]\n",
    "    match[0][0] = (match[0][3] != teams[i]) and (match[0][3] != teams[i+1])\n",
    "    match[0][8] = match[0][3] == teams[i]\n",
    "    return match\n",
    "run_tournament(countries_to_match)"
   ]
  },
  {
   "cell_type": "code",
   "execution_count": 224,
   "outputs": [],
   "source": [
    "def get_valid_countries(k):\n",
    "    all_countries = list(game_results_ready.index.values)\n",
    "    # For some reason these countries cause issues\n",
    "    all_countries.remove('Yugoslavia')\n",
    "    all_countries.remove('Serbia and Montenegro')\n",
    "    all_countries.remove('Czechoslovakia')\n",
    "    all_countries.remove('Netherlands Antilles')\n",
    "    valid_countries = set()\n",
    "    while len(valid_countries) != k:\n",
    "        curr_country = random.choice(all_countries)\n",
    "        val = country_codes.setdefault(curr_country,-1)\n",
    "        if val != -1: valid_countries.add(curr_country)\n",
    "    return list(valid_countries)"
   ],
   "metadata": {
    "collapsed": false,
    "ExecuteTime": {
     "end_time": "2023-12-04T21:32:04.276758Z",
     "start_time": "2023-12-04T21:32:04.271382Z"
    }
   }
  },
  {
   "cell_type": "markdown",
   "source": [
    "### Let's generate random countries and create a 32-team tournament"
   ],
   "metadata": {
    "collapsed": false
   }
  },
  {
   "cell_type": "code",
   "execution_count": 225,
   "outputs": [
    {
     "name": "stdout",
     "output_type": "stream",
     "text": [
      "Best country: Argentina - Ranked 1.0\n",
      "Average Team Rank: 112.9375\n"
     ]
    }
   ],
   "source": [
    "my_tournament = get_valid_countries(32)\n",
    "country_ranks = {country:rank_at_year_df.loc[country,int(datetime.now().year)] for country in my_tournament}\n",
    "best_rank = min(country_ranks.values())\n",
    "best_country = list(filter(lambda x: country_ranks[x] == best_rank,country_ranks.keys()))[0]\n",
    "avg_rank = sum(country_ranks.values())/len(country_ranks.values())\n",
    "print('Best country: {} - Ranked {}\\nAverage Team Rank: {}'.format(best_country,best_rank,avg_rank))"
   ],
   "metadata": {
    "collapsed": false,
    "ExecuteTime": {
     "end_time": "2023-12-04T21:32:04.276913Z",
     "start_time": "2023-12-04T21:32:04.274742Z"
    }
   }
  },
  {
   "cell_type": "code",
   "execution_count": 226,
   "metadata": {
    "collapsed": false,
    "ExecuteTime": {
     "end_time": "2023-12-04T21:32:05.773491Z",
     "start_time": "2023-12-04T21:32:04.279534Z"
    }
   },
   "outputs": [
    {
     "name": "stdout",
     "output_type": "stream",
     "text": [
      " Hong Kong vs Slovakia -> Slovakia won after full time.\n",
      " Mongolia vs Grenada -> Grenada won after full time.\n",
      " Uzbekistan vs Paraguay -> Paraguay won after full time.\n",
      " Puerto Rico vs Czech Republic -> Puerto Rico won after full time.\n",
      " Bolivia vs Sri Lanka -> Bolivia won after full time.\n",
      " Singapore vs Sweden -> Sweden won after full time.\n",
      " Oman vs Kosovo -> Oman won after full time.\n",
      " Romania vs Georgia -> Tie at full time. Playing extra-time. -> Tie at extra time. Playing penalty shoot-outs. -> Georgia won after penalty shoot-outs!\n",
      " Argentina vs Ecuador -> Tie at full time. Playing extra-time. -> Tie at extra time. Playing penalty shoot-outs. -> Ecuador won after penalty shoot-outs!\n",
      " Israel vs Cyprus -> Tie at full time. Playing extra-time. -> Tie at extra time. Playing penalty shoot-outs. -> Israel won after penalty shoot-outs!\n",
      " Croatia vs Turkey -> Croatia won after full time.\n",
      " South Sudan vs Timor-Leste -> South Sudan won after full time.\n",
      " Iraq vs Italy -> Italy won after full time.\n",
      " Cayman Islands vs Tanzania -> Tanzania won after full time.\n",
      " Nicaragua vs Moldova -> Nicaragua won after full time.\n",
      " Ukraine vs Tahiti -> Ukraine won after full time.\n",
      "\t Slovakia vs Grenada -> Slovakia won after full time.\n",
      "\t Paraguay vs Puerto Rico -> Paraguay won after full time.\n",
      "\t Bolivia vs Sweden -> Sweden won after full time.\n",
      "\t Oman vs Georgia -> Oman won after full time.\n",
      "\t Ecuador vs Israel -> Ecuador won after full time.\n",
      "\t Croatia vs South Sudan -> Croatia won after full time.\n",
      "\t Italy vs Tanzania -> Italy won after full time.\n",
      "\t Nicaragua vs Ukraine -> Ukraine won after full time.\n",
      "\t\t Slovakia vs Paraguay -> Tie at full time. Playing extra-time. -> Slovakia won after extra time.\n",
      "\t\t Sweden vs Oman -> Sweden won after full time.\n",
      "\t\t Ecuador vs Croatia -> Croatia won after full time.\n",
      "\t\t Italy vs Ukraine -> Italy won after full time.\n",
      "\t\t\t Slovakia vs Sweden -> Sweden won after full time.\n",
      "\t\t\t Croatia vs Italy -> Italy won after full time.\n",
      "\t\t\t\tFinal: Sweden vs Italy -> Italy won after full time.\n",
      "Italy wins the tournament!\n",
      "What a great tournament!\n",
      "Tournament hosted by England\n"
     ]
    }
   ],
   "source": [
    "# Designate a country to host the tournament\n",
    "host = 'England'\n",
    "winner = run_tournament(my_tournament,hosting_country=host,with_print=True)\n",
    "print(winner,'wins the tournament!')\n",
    "if winner != best_country:\n",
    "    print('What a great tournament!')\n",
    "else:\n",
    "    print('The best team won, as expected.')\n",
    "print('Tournament hosted by',host)"
   ]
  },
  {
   "cell_type": "code",
   "execution_count": 232,
   "outputs": [
    {
     "name": "stdout",
     "output_type": "stream",
     "text": [
      "run 0 - Highest ranked team: Italy Rank 8.0\n",
      "run 1 - Highest ranked team: Argentina Rank 1.0\n",
      "run 2 - Highest ranked team: Portugal Rank 9.0\n",
      "run 3 - Highest ranked team: Belgium Rank 4.0\n",
      "run 4 - Highest ranked team: Portugal Rank 9.0\n",
      "run 5 - Highest ranked team: France Rank 2.0\n",
      "run 6 - Highest ranked team: France Rank 2.0\n",
      "run 7 - Highest ranked team: England Rank 5.0\n",
      "run 8 - Highest ranked team: Croatia Rank 7.0\n",
      "run 9 - Highest ranked team: Argentina Rank 1.0\n",
      "run 10 - Highest ranked team: England Rank 5.0\n",
      "run 11 - Highest ranked team: Belgium Rank 4.0\n",
      "run 12 - Highest ranked team: Croatia Rank 7.0\n",
      "run 13 - Highest ranked team: France Rank 2.0\n",
      "run 14 - Highest ranked team: Belgium Rank 4.0\n",
      "run 15 - Highest ranked team: Belgium Rank 4.0\n",
      "run 16 - Highest ranked team: Denmark Rank 19.0\n",
      "run 17 - Highest ranked team: Mexico Rank 15.0\n",
      "run 18 - Highest ranked team: Uruguay Rank 16.0\n",
      "run 19 - Highest ranked team: Portugal Rank 9.0\n",
      "run 20 - Highest ranked team: Italy Rank 8.0\n",
      "run 21 - Highest ranked team: Argentina Rank 1.0\n",
      "run 22 - Highest ranked team: Italy Rank 8.0\n",
      "run 23 - Highest ranked team: France Rank 2.0\n",
      "run 24 - Highest ranked team: France Rank 2.0\n",
      "run 25 - Highest ranked team: France Rank 2.0\n",
      "run 26 - Highest ranked team: France Rank 2.0\n",
      "run 27 - Highest ranked team: Argentina Rank 1.0\n",
      "run 28 - Highest ranked team: Croatia Rank 7.0\n",
      "run 29 - Highest ranked team: England Rank 5.0\n",
      "run 30 - Highest ranked team: Brazil Rank 3.0\n",
      "run 31 - Highest ranked team: France Rank 2.0\n",
      "run 32 - Highest ranked team: France Rank 2.0\n",
      "run 33 - Highest ranked team: England Rank 5.0\n",
      "run 34 - Highest ranked team: Brazil Rank 3.0\n",
      "run 35 - Highest ranked team: Japan Rank 20.0\n",
      "run 36 - Highest ranked team: Croatia Rank 7.0\n",
      "run 37 - Highest ranked team: Netherlands Rank 6.0\n",
      "run 38 - Highest ranked team: France Rank 2.0\n",
      "run 39 - Highest ranked team: Morocco Rank 11.0\n",
      "run 40 - Highest ranked team: Switzerland Rank 12.0\n",
      "run 41 - Highest ranked team: Croatia Rank 7.0\n",
      "run 42 - Highest ranked team: Netherlands Rank 6.0\n",
      "run 43 - Highest ranked team: Portugal Rank 9.0\n",
      "run 44 - Highest ranked team: Belgium Rank 4.0\n",
      "run 45 - Highest ranked team: France Rank 2.0\n",
      "run 46 - Highest ranked team: Spain Rank 10.0\n",
      "run 47 - Highest ranked team: France Rank 2.0\n",
      "run 48 - Highest ranked team: Argentina Rank 1.0\n",
      "run 49 - Highest ranked team: Argentina Rank 1.0\n",
      "run 50 - Highest ranked team: Netherlands Rank 6.0\n",
      "run 51 - Highest ranked team: Netherlands Rank 6.0\n",
      "run 52 - Highest ranked team: Netherlands Rank 6.0\n",
      "run 53 - Highest ranked team: Germany Rank 14.0\n",
      "run 54 - Highest ranked team: Senegal Rank 18.0\n",
      "run 55 - Highest ranked team: Germany Rank 14.0\n",
      "run 56 - Highest ranked team: Italy Rank 8.0\n",
      "run 57 - Highest ranked team: Switzerland Rank 12.0\n",
      "run 58 - Highest ranked team: Brazil Rank 3.0\n",
      "run 59 - Highest ranked team: Italy Rank 8.0\n",
      "run 60 - Highest ranked team: Brazil Rank 3.0\n",
      "run 61 - Highest ranked team: Morocco Rank 11.0\n",
      "run 62 - Highest ranked team: France Rank 2.0\n",
      "run 63 - Highest ranked team: United States Rank 13.0\n",
      "run 64 - Highest ranked team: Belgium Rank 4.0\n",
      "run 65 - Highest ranked team: Belgium Rank 4.0\n",
      "run 66 - Highest ranked team: Belgium Rank 4.0\n",
      "run 67 - Highest ranked team: Italy Rank 8.0\n",
      "run 68 - Highest ranked team: France Rank 2.0\n",
      "run 69 - Highest ranked team: England Rank 5.0\n",
      "run 70 - Highest ranked team: France Rank 2.0\n",
      "run 71 - Highest ranked team: France Rank 2.0\n",
      "run 72 - Highest ranked team: Brazil Rank 3.0\n",
      "run 73 - Highest ranked team: Spain Rank 10.0\n",
      "run 74 - Highest ranked team: Argentina Rank 1.0\n",
      "run 75 - Highest ranked team: Argentina Rank 1.0\n",
      "run 76 - Highest ranked team: Morocco Rank 11.0\n",
      "run 77 - Highest ranked team: Spain Rank 10.0\n",
      "run 78 - Highest ranked team: Switzerland Rank 12.0\n",
      "run 79 - Highest ranked team: Switzerland Rank 12.0\n",
      "run 80 - Highest ranked team: Japan Rank 20.0\n",
      "run 81 - Highest ranked team: Argentina Rank 1.0\n",
      "run 82 - Highest ranked team: Argentina Rank 1.0\n",
      "run 83 - Highest ranked team: Belgium Rank 4.0\n",
      "run 84 - Highest ranked team: Morocco Rank 11.0\n",
      "run 85 - Highest ranked team: Brazil Rank 3.0\n",
      "run 86 - Highest ranked team: France Rank 2.0\n",
      "run 87 - Highest ranked team: France Rank 2.0\n",
      "run 88 - Highest ranked team: Colombia Rank 17.0\n",
      "run 89 - Highest ranked team: United States Rank 13.0\n",
      "run 90 - Highest ranked team: Italy Rank 8.0\n",
      "run 91 - Highest ranked team: Argentina Rank 1.0\n",
      "run 92 - Highest ranked team: England Rank 5.0\n",
      "run 93 - Highest ranked team: England Rank 5.0\n",
      "run 94 - Highest ranked team: Netherlands Rank 6.0\n",
      "run 95 - Highest ranked team: Argentina Rank 1.0\n",
      "run 96 - Highest ranked team: Belgium Rank 4.0\n",
      "run 97 - Highest ranked team: Italy Rank 8.0\n",
      "run 98 - Highest ranked team: Italy Rank 8.0\n",
      "run 99 - Highest ranked team: France Rank 2.0\n",
      "run 100 - Highest ranked team: Argentina Rank 1.0\n",
      "run 101 - Highest ranked team: Netherlands Rank 6.0\n",
      "run 102 - Highest ranked team: Brazil Rank 3.0\n",
      "run 103 - Highest ranked team: Argentina Rank 1.0\n",
      "run 104 - Highest ranked team: England Rank 5.0\n",
      "run 105 - Highest ranked team: Spain Rank 10.0\n",
      "run 106 - Highest ranked team: Argentina Rank 1.0\n",
      "run 107 - Highest ranked team: Denmark Rank 19.0\n",
      "run 108 - Highest ranked team: Portugal Rank 9.0\n",
      "run 109 - Highest ranked team: Argentina Rank 1.0\n",
      "run 110 - Highest ranked team: Croatia Rank 7.0\n",
      "run 111 - Highest ranked team: Brazil Rank 3.0\n",
      "run 112 - Highest ranked team: Brazil Rank 3.0\n",
      "run 113 - Highest ranked team: France Rank 2.0\n",
      "run 114 - Highest ranked team: Switzerland Rank 12.0\n",
      "run 115 - Highest ranked team: Belgium Rank 4.0\n",
      "run 116 - Highest ranked team: Belgium Rank 4.0\n",
      "run 117 - Highest ranked team: Mexico Rank 15.0\n",
      "run 118 - Highest ranked team: Argentina Rank 1.0\n",
      "run 119 - Highest ranked team: Argentina Rank 1.0\n",
      "run 120 - Highest ranked team: Mexico Rank 15.0\n",
      "run 121 - Highest ranked team: France Rank 2.0\n",
      "run 122 - Highest ranked team: Portugal Rank 9.0\n",
      "run 123 - Highest ranked team: France Rank 2.0\n",
      "run 124 - Highest ranked team: England Rank 5.0\n",
      "run 125 - Highest ranked team: Mexico Rank 15.0\n",
      "run 126 - Highest ranked team: Morocco Rank 11.0\n",
      "run 127 - Highest ranked team: France Rank 2.0\n",
      "run 128 - Highest ranked team: Germany Rank 14.0\n",
      "run 129 - Highest ranked team: Australia Rank 29.0\n",
      "run 130 - Highest ranked team: Portugal Rank 9.0\n",
      "run 131 - Highest ranked team: Ukraine Rank 30.0\n",
      "run 132 - Highest ranked team: Netherlands Rank 6.0\n",
      "run 133 - Highest ranked team: Netherlands Rank 6.0\n",
      "run 134 - Highest ranked team: England Rank 5.0\n",
      "run 135 - Highest ranked team: France Rank 2.0\n",
      "run 136 - Highest ranked team: Denmark Rank 19.0\n",
      "run 137 - Highest ranked team: France Rank 2.0\n",
      "run 138 - Highest ranked team: Mexico Rank 15.0\n",
      "run 139 - Highest ranked team: England Rank 5.0\n",
      "run 140 - Highest ranked team: France Rank 2.0\n",
      "run 141 - Highest ranked team: Switzerland Rank 12.0\n",
      "run 142 - Highest ranked team: Belgium Rank 4.0\n",
      "run 143 - Highest ranked team: Belgium Rank 4.0\n",
      "run 144 - Highest ranked team: Argentina Rank 1.0\n",
      "run 145 - Highest ranked team: France Rank 2.0\n",
      "run 146 - Highest ranked team: Germany Rank 14.0\n",
      "run 147 - Highest ranked team: England Rank 5.0\n",
      "run 148 - Highest ranked team: Argentina Rank 1.0\n",
      "run 149 - Highest ranked team: Belgium Rank 4.0\n",
      "run 150 - Highest ranked team: Switzerland Rank 12.0\n",
      "run 151 - Highest ranked team: Brazil Rank 3.0\n",
      "run 152 - Highest ranked team: Argentina Rank 1.0\n",
      "run 153 - Highest ranked team: Argentina Rank 1.0\n",
      "run 154 - Highest ranked team: Netherlands Rank 6.0\n",
      "run 155 - Highest ranked team: Netherlands Rank 6.0\n",
      "run 156 - Highest ranked team: Switzerland Rank 12.0\n",
      "run 157 - Highest ranked team: Belgium Rank 4.0\n",
      "run 158 - Highest ranked team: Argentina Rank 1.0\n",
      "run 159 - Highest ranked team: England Rank 5.0\n",
      "run 160 - Highest ranked team: Italy Rank 8.0\n",
      "run 161 - Highest ranked team: England Rank 5.0\n",
      "run 162 - Highest ranked team: Colombia Rank 17.0\n",
      "run 163 - Highest ranked team: Croatia Rank 7.0\n",
      "run 164 - Highest ranked team: Belgium Rank 4.0\n",
      "run 165 - Highest ranked team: Morocco Rank 11.0\n",
      "run 166 - Highest ranked team: France Rank 2.0\n",
      "run 167 - Highest ranked team: Croatia Rank 7.0\n",
      "run 168 - Highest ranked team: France Rank 2.0\n",
      "run 169 - Highest ranked team: Netherlands Rank 6.0\n",
      "run 170 - Highest ranked team: Switzerland Rank 12.0\n",
      "run 171 - Highest ranked team: France Rank 2.0\n",
      "run 172 - Highest ranked team: Belgium Rank 4.0\n",
      "run 173 - Highest ranked team: Netherlands Rank 6.0\n",
      "run 174 - Highest ranked team: Argentina Rank 1.0\n",
      "run 175 - Highest ranked team: Germany Rank 14.0\n",
      "run 176 - Highest ranked team: Croatia Rank 7.0\n",
      "run 177 - Highest ranked team: Argentina Rank 1.0\n",
      "run 178 - Highest ranked team: Netherlands Rank 6.0\n",
      "run 179 - Highest ranked team: Argentina Rank 1.0\n",
      "run 180 - Highest ranked team: Portugal Rank 9.0\n",
      "run 181 - Highest ranked team: Germany Rank 14.0\n",
      "run 182 - Highest ranked team: Germany Rank 14.0\n",
      "run 183 - Highest ranked team: Portugal Rank 9.0\n",
      "run 184 - Highest ranked team: Croatia Rank 7.0\n",
      "run 185 - Highest ranked team: Morocco Rank 11.0\n",
      "run 186 - Highest ranked team: Spain Rank 10.0\n",
      "run 187 - Highest ranked team: Brazil Rank 3.0\n",
      "run 188 - Highest ranked team: Brazil Rank 3.0\n",
      "run 189 - Highest ranked team: Netherlands Rank 6.0\n",
      "run 190 - Highest ranked team: Switzerland Rank 12.0\n",
      "run 191 - Highest ranked team: Croatia Rank 7.0\n",
      "run 192 - Highest ranked team: France Rank 2.0\n",
      "run 193 - Highest ranked team: France Rank 2.0\n",
      "run 194 - Highest ranked team: Spain Rank 10.0\n",
      "run 195 - Highest ranked team: Morocco Rank 11.0\n",
      "run 196 - Highest ranked team: Brazil Rank 3.0\n",
      "run 197 - Highest ranked team: Argentina Rank 1.0\n",
      "run 198 - Highest ranked team: France Rank 2.0\n",
      "run 199 - Highest ranked team: France Rank 2.0\n",
      "run 200 - Highest ranked team: Argentina Rank 1.0\n",
      "run 201 - Highest ranked team: Argentina Rank 1.0\n",
      "run 202 - Highest ranked team: Belgium Rank 4.0\n",
      "run 203 - Highest ranked team: Uruguay Rank 16.0\n",
      "run 204 - Highest ranked team: Senegal Rank 18.0\n",
      "run 205 - Highest ranked team: Brazil Rank 3.0\n",
      "run 206 - Highest ranked team: Switzerland Rank 12.0\n",
      "run 207 - Highest ranked team: Netherlands Rank 6.0\n",
      "run 208 - Highest ranked team: Egypt Rank 35.0\n",
      "run 209 - Highest ranked team: France Rank 2.0\n",
      "run 210 - Highest ranked team: Switzerland Rank 12.0\n",
      "run 211 - Highest ranked team: Brazil Rank 3.0\n",
      "run 212 - Highest ranked team: Belgium Rank 4.0\n",
      "run 213 - Highest ranked team: Brazil Rank 3.0\n",
      "run 214 - Highest ranked team: United States Rank 13.0\n",
      "run 215 - Highest ranked team: Croatia Rank 7.0\n",
      "run 216 - Highest ranked team: France Rank 2.0\n",
      "run 217 - Highest ranked team: Mexico Rank 15.0\n",
      "run 218 - Highest ranked team: Belgium Rank 4.0\n",
      "run 219 - Highest ranked team: Argentina Rank 1.0\n",
      "run 220 - Highest ranked team: Argentina Rank 1.0\n",
      "run 221 - Highest ranked team: France Rank 2.0\n",
      "run 222 - Highest ranked team: Brazil Rank 3.0\n",
      "run 223 - Highest ranked team: Netherlands Rank 6.0\n",
      "run 224 - Highest ranked team: Peru Rank 21.0\n",
      "run 225 - Highest ranked team: Netherlands Rank 6.0\n",
      "run 226 - Highest ranked team: Croatia Rank 7.0\n",
      "run 227 - Highest ranked team: Belgium Rank 4.0\n",
      "run 228 - Highest ranked team: Italy Rank 8.0\n",
      "run 229 - Highest ranked team: Argentina Rank 1.0\n",
      "run 230 - Highest ranked team: Argentina Rank 1.0\n",
      "run 231 - Highest ranked team: Portugal Rank 9.0\n",
      "run 232 - Highest ranked team: France Rank 2.0\n",
      "run 233 - Highest ranked team: England Rank 5.0\n",
      "run 234 - Highest ranked team: Brazil Rank 3.0\n",
      "run 235 - Highest ranked team: Mexico Rank 15.0\n",
      "run 236 - Highest ranked team: Peru Rank 21.0\n",
      "run 237 - Highest ranked team: England Rank 5.0\n",
      "run 238 - Highest ranked team: Italy Rank 8.0\n",
      "run 239 - Highest ranked team: England Rank 5.0\n",
      "run 240 - Highest ranked team: Morocco Rank 11.0\n",
      "run 241 - Highest ranked team: England Rank 5.0\n",
      "run 242 - Highest ranked team: France Rank 2.0\n",
      "run 243 - Highest ranked team: Netherlands Rank 6.0\n",
      "run 244 - Highest ranked team: Belgium Rank 4.0\n",
      "run 245 - Highest ranked team: Belgium Rank 4.0\n",
      "run 246 - Highest ranked team: Italy Rank 8.0\n",
      "run 247 - Highest ranked team: Italy Rank 8.0\n",
      "run 248 - Highest ranked team: Belgium Rank 4.0\n",
      "run 249 - Highest ranked team: Croatia Rank 7.0\n"
     ]
    },
    {
     "data": {
      "text/plain": "{'Switzerland': 0.068,\n 'Argentina': 0.052,\n 'Portugal': 0.076,\n 'France': 0.072,\n 'Denmark': 0.056,\n 'Canada': 0.004,\n 'Uruguay': 0.024,\n 'England': 0.06,\n 'Croatia': 0.06,\n 'Colombia': 0.016,\n 'Belgium': 0.048,\n 'Sweden': 0.02,\n 'Ukraine': 0.004,\n 'Italy': 0.04,\n 'Austria': 0.004,\n 'Brazil': 0.044,\n 'Germany': 0.024,\n 'Saudi Arabia': 0.012,\n 'Japan': 0.028,\n 'Morocco': 0.04,\n 'Senegal': 0.02,\n 'Netherlands': 0.028,\n 'United States': 0.028,\n 'Nigeria': 0.004,\n 'Finland': 0.004,\n 'Hungary': 0.012,\n 'Chile': 0.012,\n 'Paraguay': 0.004,\n 'Mexico': 0.016,\n 'Serbia': 0.012,\n 'Peru': 0.016,\n 'Spain': 0.028,\n 'Republic of Ireland': 0.004,\n 'Cameroon': 0.004,\n 'Burkina Faso': 0.004,\n 'Costa Rica': 0.008,\n 'Tunisia': 0.012,\n 'Wales': 0.008,\n 'Poland': 0.008,\n 'Ecuador': 0.004,\n 'Australia': 0.004,\n 'Algeria': 0.004,\n 'Ghana': 0.004}"
     },
     "metadata": {},
     "output_type": "display_data"
    }
   ],
   "source": [
    "i = 0\n",
    "WC_wins = dict()\n",
    "runs = 250\n",
    "num_teams = 32\n",
    "host='England'\n",
    "while i != runs:\n",
    "    world_cup = get_valid_countries(num_teams)\n",
    "    country_ranks = {country:rank_at_year_df.loc[country,2023] for country in world_cup}\n",
    "    best_rank = min(country_ranks.values())\n",
    "    best_country = list(filter(lambda x: country_ranks[x] == best_rank,country_ranks.keys()))[0]\n",
    "    print('run {} - Highest ranked team: {} Rank {}'.format(i,best_country,best_rank))\n",
    "    winner = run_tournament(teams=world_cup,hosting_country=host,with_print=False)\n",
    "    WC_wins[winner] = (WC_wins.get(winner,0) + 1)\n",
    "    i+=1\n",
    "stats = dict()\n",
    "for winner in WC_wins.keys():\n",
    "    stats[winner] = WC_wins.get(winner)/runs\n",
    "display(stats)"
   ],
   "metadata": {
    "collapsed": false,
    "ExecuteTime": {
     "end_time": "2023-12-04T21:38:52.749997Z",
     "start_time": "2023-12-04T21:33:57.915579Z"
    }
   }
  },
  {
   "cell_type": "code",
   "execution_count": 233,
   "outputs": [
    {
     "name": "stdout",
     "output_type": "stream",
     "text": [
      "test\n",
      "Team: Morocco              Win%: 10%           FIFA Ranking 2023: 11.0           \n",
      "Team: Brazil               Win%: 11%           FIFA Ranking 2023: 3.0            \n",
      "Team: Belgium              Win%: 12%           FIFA Ranking 2023: 4.0            \n",
      "Team: Argentina            Win%: 13%           FIFA Ranking 2023: 1.0            \n",
      "Team: Denmark              Win%: 14%           FIFA Ranking 2023: 19.0           \n",
      "Team: England              Win%: 15%           FIFA Ranking 2023: 5.0            \n",
      "Team: Croatia              Win%: 15%           FIFA Ranking 2023: 7.0            \n",
      "Team: Switzerland          Win%: 17%           FIFA Ranking 2023: 12.0           \n",
      "Team: France               Win%: 18%           FIFA Ranking 2023: 2.0            \n",
      "Team: Portugal             Win%: 19%           FIFA Ranking 2023: 9.0            \n"
     ]
    }
   ],
   "source": [
    "print('test')\n",
    "sorted_dict = sorted(WC_wins.items(), key=lambda x:x[1])\n",
    "for winner in sorted_dict[-10:]:\n",
    "    rank = rank_at_year_df.loc[winner[0],2023]\n",
    "    print(f'Team: {winner[0]:<20} Win%: {winner[1]:<2}% {\" \"*3:<10}FIFA Ranking 2023: {rank:<15}')"
   ],
   "metadata": {
    "collapsed": false,
    "ExecuteTime": {
     "end_time": "2023-12-04T21:38:52.794537Z",
     "start_time": "2023-12-04T21:38:52.744576Z"
    }
   }
  },
  {
   "cell_type": "markdown",
   "source": [
    "### Optimization part"
   ],
   "metadata": {
    "collapsed": false
   }
  },
  {
   "cell_type": "code",
   "execution_count": 229,
   "outputs": [],
   "source": [
    "perform_gridsearch = False\n",
    "if perform_gridsearch:\n",
    "    from sklearn.metrics import make_scorer, precision_score\n",
    "    from sklearn.model_selection import GridSearchCV\n",
    "    import warnings\n",
    "    \n",
    "    # Suppress FutureWarning messages\n",
    "    warnings.simplefilter(action='ignore', category=FutureWarning)\n",
    "    warnings.simplefilter(action='ignore', category=UserWarning)\n",
    "    \n",
    "    param_grid = {\n",
    "        'base_estimator__n_estimators': [50, 100, 200,300,400],\n",
    "        'base_estimator__max_depth': [None, 10, 20],\n",
    "        'max_samples': [0.8, 1.0],\n",
    "        'max_features': [0.8, 1.0]\n",
    "    }\n",
    "    # Create a Random Subspace Classifier pipeline\n",
    "    random_subspace_model = BaggingClassifier(base_estimator=ExtraTreesClassifier(random_state=42), random_state=42)\n",
    "    scorer = make_scorer(precision_score, average='macro')\n",
    "    grid_search = GridSearchCV(estimator=random_subspace_model, param_grid=param_grid, cv=5, scoring=scorer, n_jobs=-1)\n",
    "    \n",
    "    # Fit the grid search to the data\n",
    "    grid_search.fit(X_train, y_train)\n",
    "    \n",
    "    # Print the best parameters and corresponding precision score\n",
    "    print(\"Best Parameters:\", grid_search.best_params_)\n",
    "    print(\"Best Precision Score:\", grid_search.best_score_)\n",
    "    \n",
    "    # Get the best model\n",
    "    best_model = grid_search.best_estimator_\n",
    "    \n",
    "    # Evaluate the best model on the test set\n",
    "    y_pred = best_model.predict(X_test)"
   ],
   "metadata": {
    "collapsed": false,
    "ExecuteTime": {
     "end_time": "2023-12-04T21:32:09.019455Z",
     "start_time": "2023-12-04T21:32:09.016899Z"
    }
   }
  },
  {
   "cell_type": "markdown",
   "source": [
    "```\n",
    "Best Parameters: {'max_depth': None, 'max_features': 'log2', 'min_samples_leaf': 1, 'min_samples_split': 3, 'n_estimators': 400}\n",
    "Best Precision Score: 0.6496295887336865\n",
    "\n",
    "Best Parameters: {'base_estimator__max_depth': None, 'base_estimator__n_estimators': 50, 'max_features': 0.8, 'max_samples': 1.0}\n",
    "Best Precision Score: 0.6331092403002385\n",
    "```"
   ],
   "metadata": {
    "collapsed": false
   }
  },
  {
   "cell_type": "code",
   "execution_count": 229,
   "outputs": [],
   "source": [],
   "metadata": {
    "collapsed": false,
    "ExecuteTime": {
     "end_time": "2023-12-04T21:32:09.021270Z",
     "start_time": "2023-12-04T21:32:09.018571Z"
    }
   }
  }
 ],
 "metadata": {
  "kernelspec": {
   "display_name": "Python 3 (ipykernel)",
   "language": "python",
   "name": "python3"
  },
  "language_info": {
   "codemirror_mode": {
    "name": "ipython",
    "version": 3
   },
   "file_extension": ".py",
   "mimetype": "text/x-python",
   "name": "python",
   "nbconvert_exporter": "python",
   "pygments_lexer": "ipython3",
   "version": "3.11.6"
  }
 },
 "nbformat": 4,
 "nbformat_minor": 4
}
