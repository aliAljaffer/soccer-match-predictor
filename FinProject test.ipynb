{
 "cells": [
  {
   "cell_type": "code",
   "execution_count": 138,
   "metadata": {
    "ExecuteTime": {
     "end_time": "2023-12-01T16:43:14.602879Z",
     "start_time": "2023-12-01T16:43:14.170176Z"
    }
   },
   "outputs": [],
   "source": [
    "import pandas as pd\n",
    "import numpy as np\n",
    "import sklearn as sk\n",
    "from sklearn.preprocessing import LabelEncoder\n",
    "import random\n",
    "from IPython.display import display\n",
    "from datetime import datetime\n",
    "ranking_df = pd.read_csv('./datasets/fifa_ranking-2023-07-20.csv')\n",
    "game_results_df = pd.read_csv('./datasets/results.csv')\n",
    "rank_at_year_df = pd.read_csv('./datasets/rank_per_yr_T_sorted.csv')\n",
    "rank_at_year_df.set_index('Country',inplace=True)"
   ]
  },
  {
   "cell_type": "code",
   "execution_count": 139,
   "metadata": {
    "ExecuteTime": {
     "end_time": "2023-12-01T16:43:14.620385Z",
     "start_time": "2023-12-01T16:43:14.250249Z"
    }
   },
   "outputs": [
    {
     "data": {
      "text/plain": "                 1993   1994   1995   1996   1997   1998   1999   2000   2001  \\\nCountry                                                                         \nAfghanistan     196.0  196.0  196.0  196.0  196.0  196.0  196.0  196.0  196.0   \nAlbania          92.0   93.0  106.0   90.0  118.0  102.0   91.0   83.0   74.0   \nAlgeria          34.0   37.0   54.0   44.0   53.0   59.0   78.0   86.0   80.0   \nAmerican Samoa  175.0  175.0  175.0  177.0  177.0  192.0  194.0  198.0  203.0   \nAndorra         213.0  213.0  213.0  213.0  185.0  185.0  165.0  146.0  145.0   \n...               ...    ...    ...    ...    ...    ...    ...    ...    ...   \nYemen            90.0   91.0  103.0  125.0  149.0  132.0  146.0  158.0  160.0   \nYugoslavia       56.0   70.0   87.0   81.0   54.0    8.0   16.0   13.0    9.0   \nZaire            71.0   71.0   66.0   71.0   63.0   82.0   51.0   30.0   30.0   \nZambia           25.0   30.0   21.0   23.0   20.0   18.0   37.0   36.0   49.0   \nZimbabwe         50.0   46.0   41.0   62.0   50.0   83.0   75.0   67.0   70.0   \n\n                 2002  ...  2014_points  2015_points  2016_points  \\\nCountry                ...                                          \nAfghanistan     196.0  ...        184.0        190.0        183.0   \nAlbania          92.0  ...        571.0        543.0        746.0   \nAlgeria          74.0  ...        792.0        948.0        845.0   \nAmerican Samoa  201.0  ...         18.0         12.0        128.0   \nAndorra         143.0  ...         17.0          9.0          6.0   \n...               ...  ...          ...          ...          ...   \nYemen           137.0  ...         50.0         67.0        114.0   \nYugoslavia       11.0  ...          0.0          0.0          0.0   \nZaire            30.0  ...          0.0          0.0          0.0   \nZambia           63.0  ...        519.0        594.0        516.0   \nZimbabwe         66.0  ...        312.0        301.0        322.0   \n\n                2017_points  2018_points  2019_points  2020_points  \\\nCountry                                                              \nAfghanistan           179.0        176.0       1066.0       1052.0   \nAlbania               618.0        553.0       1372.0       1356.0   \nAlgeria               687.0        585.0       1349.0       1482.0   \nAmerican Samoa         64.0         38.0        908.0        900.0   \nAndorra                12.0        215.0       1111.0       1082.0   \n...                     ...          ...          ...          ...   \nYemen                 184.0        212.0       1073.0       1071.0   \nYugoslavia              0.0          0.0          0.0          0.0   \nZaire                   0.0          0.0          0.0          0.0   \nZambia                395.0        466.0       1292.0       1279.0   \nZimbabwe              330.0        311.0       1175.0       1180.0   \n\n                2021_points  2022_points  2023_points  \nCountry                                                \nAfghanistan          1052.0      1049.77      1023.04  \nAlbania              1360.0      1374.98      1344.95  \nAlgeria              1488.0      1460.93      1504.19  \nAmerican Samoa        900.0       900.27       900.27  \nAndorra              1048.0      1030.28      1030.52  \n...                     ...          ...          ...  \nYemen                1071.0      1046.26      1020.37  \nYugoslavia              0.0         0.00         0.00  \nZaire                   0.0         0.00         0.00  \nZambia               1265.0      1264.64      1280.52  \nZimbabwe             1176.0      1138.56      1138.56  \n\n[231 rows x 62 columns]",
      "text/html": "<div>\n<style scoped>\n    .dataframe tbody tr th:only-of-type {\n        vertical-align: middle;\n    }\n\n    .dataframe tbody tr th {\n        vertical-align: top;\n    }\n\n    .dataframe thead th {\n        text-align: right;\n    }\n</style>\n<table border=\"1\" class=\"dataframe\">\n  <thead>\n    <tr style=\"text-align: right;\">\n      <th></th>\n      <th>1993</th>\n      <th>1994</th>\n      <th>1995</th>\n      <th>1996</th>\n      <th>1997</th>\n      <th>1998</th>\n      <th>1999</th>\n      <th>2000</th>\n      <th>2001</th>\n      <th>2002</th>\n      <th>...</th>\n      <th>2014_points</th>\n      <th>2015_points</th>\n      <th>2016_points</th>\n      <th>2017_points</th>\n      <th>2018_points</th>\n      <th>2019_points</th>\n      <th>2020_points</th>\n      <th>2021_points</th>\n      <th>2022_points</th>\n      <th>2023_points</th>\n    </tr>\n    <tr>\n      <th>Country</th>\n      <th></th>\n      <th></th>\n      <th></th>\n      <th></th>\n      <th></th>\n      <th></th>\n      <th></th>\n      <th></th>\n      <th></th>\n      <th></th>\n      <th></th>\n      <th></th>\n      <th></th>\n      <th></th>\n      <th></th>\n      <th></th>\n      <th></th>\n      <th></th>\n      <th></th>\n      <th></th>\n      <th></th>\n    </tr>\n  </thead>\n  <tbody>\n    <tr>\n      <th>Afghanistan</th>\n      <td>196.0</td>\n      <td>196.0</td>\n      <td>196.0</td>\n      <td>196.0</td>\n      <td>196.0</td>\n      <td>196.0</td>\n      <td>196.0</td>\n      <td>196.0</td>\n      <td>196.0</td>\n      <td>196.0</td>\n      <td>...</td>\n      <td>184.0</td>\n      <td>190.0</td>\n      <td>183.0</td>\n      <td>179.0</td>\n      <td>176.0</td>\n      <td>1066.0</td>\n      <td>1052.0</td>\n      <td>1052.0</td>\n      <td>1049.77</td>\n      <td>1023.04</td>\n    </tr>\n    <tr>\n      <th>Albania</th>\n      <td>92.0</td>\n      <td>93.0</td>\n      <td>106.0</td>\n      <td>90.0</td>\n      <td>118.0</td>\n      <td>102.0</td>\n      <td>91.0</td>\n      <td>83.0</td>\n      <td>74.0</td>\n      <td>92.0</td>\n      <td>...</td>\n      <td>571.0</td>\n      <td>543.0</td>\n      <td>746.0</td>\n      <td>618.0</td>\n      <td>553.0</td>\n      <td>1372.0</td>\n      <td>1356.0</td>\n      <td>1360.0</td>\n      <td>1374.98</td>\n      <td>1344.95</td>\n    </tr>\n    <tr>\n      <th>Algeria</th>\n      <td>34.0</td>\n      <td>37.0</td>\n      <td>54.0</td>\n      <td>44.0</td>\n      <td>53.0</td>\n      <td>59.0</td>\n      <td>78.0</td>\n      <td>86.0</td>\n      <td>80.0</td>\n      <td>74.0</td>\n      <td>...</td>\n      <td>792.0</td>\n      <td>948.0</td>\n      <td>845.0</td>\n      <td>687.0</td>\n      <td>585.0</td>\n      <td>1349.0</td>\n      <td>1482.0</td>\n      <td>1488.0</td>\n      <td>1460.93</td>\n      <td>1504.19</td>\n    </tr>\n    <tr>\n      <th>American Samoa</th>\n      <td>175.0</td>\n      <td>175.0</td>\n      <td>175.0</td>\n      <td>177.0</td>\n      <td>177.0</td>\n      <td>192.0</td>\n      <td>194.0</td>\n      <td>198.0</td>\n      <td>203.0</td>\n      <td>201.0</td>\n      <td>...</td>\n      <td>18.0</td>\n      <td>12.0</td>\n      <td>128.0</td>\n      <td>64.0</td>\n      <td>38.0</td>\n      <td>908.0</td>\n      <td>900.0</td>\n      <td>900.0</td>\n      <td>900.27</td>\n      <td>900.27</td>\n    </tr>\n    <tr>\n      <th>Andorra</th>\n      <td>213.0</td>\n      <td>213.0</td>\n      <td>213.0</td>\n      <td>213.0</td>\n      <td>185.0</td>\n      <td>185.0</td>\n      <td>165.0</td>\n      <td>146.0</td>\n      <td>145.0</td>\n      <td>143.0</td>\n      <td>...</td>\n      <td>17.0</td>\n      <td>9.0</td>\n      <td>6.0</td>\n      <td>12.0</td>\n      <td>215.0</td>\n      <td>1111.0</td>\n      <td>1082.0</td>\n      <td>1048.0</td>\n      <td>1030.28</td>\n      <td>1030.52</td>\n    </tr>\n    <tr>\n      <th>...</th>\n      <td>...</td>\n      <td>...</td>\n      <td>...</td>\n      <td>...</td>\n      <td>...</td>\n      <td>...</td>\n      <td>...</td>\n      <td>...</td>\n      <td>...</td>\n      <td>...</td>\n      <td>...</td>\n      <td>...</td>\n      <td>...</td>\n      <td>...</td>\n      <td>...</td>\n      <td>...</td>\n      <td>...</td>\n      <td>...</td>\n      <td>...</td>\n      <td>...</td>\n      <td>...</td>\n    </tr>\n    <tr>\n      <th>Yemen</th>\n      <td>90.0</td>\n      <td>91.0</td>\n      <td>103.0</td>\n      <td>125.0</td>\n      <td>149.0</td>\n      <td>132.0</td>\n      <td>146.0</td>\n      <td>158.0</td>\n      <td>160.0</td>\n      <td>137.0</td>\n      <td>...</td>\n      <td>50.0</td>\n      <td>67.0</td>\n      <td>114.0</td>\n      <td>184.0</td>\n      <td>212.0</td>\n      <td>1073.0</td>\n      <td>1071.0</td>\n      <td>1071.0</td>\n      <td>1046.26</td>\n      <td>1020.37</td>\n    </tr>\n    <tr>\n      <th>Yugoslavia</th>\n      <td>56.0</td>\n      <td>70.0</td>\n      <td>87.0</td>\n      <td>81.0</td>\n      <td>54.0</td>\n      <td>8.0</td>\n      <td>16.0</td>\n      <td>13.0</td>\n      <td>9.0</td>\n      <td>11.0</td>\n      <td>...</td>\n      <td>0.0</td>\n      <td>0.0</td>\n      <td>0.0</td>\n      <td>0.0</td>\n      <td>0.0</td>\n      <td>0.0</td>\n      <td>0.0</td>\n      <td>0.0</td>\n      <td>0.00</td>\n      <td>0.00</td>\n    </tr>\n    <tr>\n      <th>Zaire</th>\n      <td>71.0</td>\n      <td>71.0</td>\n      <td>66.0</td>\n      <td>71.0</td>\n      <td>63.0</td>\n      <td>82.0</td>\n      <td>51.0</td>\n      <td>30.0</td>\n      <td>30.0</td>\n      <td>30.0</td>\n      <td>...</td>\n      <td>0.0</td>\n      <td>0.0</td>\n      <td>0.0</td>\n      <td>0.0</td>\n      <td>0.0</td>\n      <td>0.0</td>\n      <td>0.0</td>\n      <td>0.0</td>\n      <td>0.00</td>\n      <td>0.00</td>\n    </tr>\n    <tr>\n      <th>Zambia</th>\n      <td>25.0</td>\n      <td>30.0</td>\n      <td>21.0</td>\n      <td>23.0</td>\n      <td>20.0</td>\n      <td>18.0</td>\n      <td>37.0</td>\n      <td>36.0</td>\n      <td>49.0</td>\n      <td>63.0</td>\n      <td>...</td>\n      <td>519.0</td>\n      <td>594.0</td>\n      <td>516.0</td>\n      <td>395.0</td>\n      <td>466.0</td>\n      <td>1292.0</td>\n      <td>1279.0</td>\n      <td>1265.0</td>\n      <td>1264.64</td>\n      <td>1280.52</td>\n    </tr>\n    <tr>\n      <th>Zimbabwe</th>\n      <td>50.0</td>\n      <td>46.0</td>\n      <td>41.0</td>\n      <td>62.0</td>\n      <td>50.0</td>\n      <td>83.0</td>\n      <td>75.0</td>\n      <td>67.0</td>\n      <td>70.0</td>\n      <td>66.0</td>\n      <td>...</td>\n      <td>312.0</td>\n      <td>301.0</td>\n      <td>322.0</td>\n      <td>330.0</td>\n      <td>311.0</td>\n      <td>1175.0</td>\n      <td>1180.0</td>\n      <td>1176.0</td>\n      <td>1138.56</td>\n      <td>1138.56</td>\n    </tr>\n  </tbody>\n</table>\n<p>231 rows × 62 columns</p>\n</div>"
     },
     "execution_count": 139,
     "metadata": {},
     "output_type": "execute_result"
    }
   ],
   "source": [
    "rank_at_year_df\n",
    "# TODO - Add FIFA points column\n",
    " "
   ]
  },
  {
   "cell_type": "code",
   "execution_count": 140,
   "metadata": {
    "ExecuteTime": {
     "end_time": "2023-12-01T16:43:14.657972Z",
     "start_time": "2023-12-01T16:43:14.261281Z"
    }
   },
   "outputs": [
    {
     "name": "stdout",
     "output_type": "stream",
     "text": [
      "Before removal of unusable games: (45315, 9)\n",
      "After removal: (38842, 9)\n"
     ]
    }
   ],
   "source": [
    "def fix_col(column):\n",
    "    try:\n",
    "        new_val = int(column)\n",
    "        return new_val\n",
    "    except:\n",
    "        return str(column)\n",
    "rank_at_year_df.columns = rank_at_year_df.columns.map(lambda x: fix_col(x))\n",
    "rank_at_year_df.loc['United States',:] = rank_at_year_df.loc['USA'].copy()\n",
    "rank_at_year_df.drop('USA',inplace=True,axis=0)\n",
    "# Filter out games with teams not in the FIFA ranking\n",
    "print('Before removal of unusable games:', game_results_df.shape)\n",
    "game_results_df.loc[game_results_df['home_team'] == 'USA', 'home_team'] = 'United States'\n",
    "game_results = game_results_df.loc[(game_results_df['home_team'].isin(values=rank_at_year_df.index.values)) & (\n",
    "    game_results_df['away_team'].isin(values=rank_at_year_df.index.values))].copy()\n",
    "print('After removal:', game_results.shape)\n",
    "game_results.drop(columns=['city'],inplace=True,axis=1)"
   ]
  },
  {
   "cell_type": "code",
   "execution_count": 141,
   "metadata": {
    "ExecuteTime": {
     "end_time": "2023-12-01T16:43:14.880941Z",
     "start_time": "2023-12-01T16:43:14.274323Z"
    }
   },
   "outputs": [
    {
     "data": {
      "text/plain": "         date home_team away_team  home_score  away_score tournament  \\\n0  1872-11-30  Scotland   England           0           0   Friendly   \n1  1873-03-08   England  Scotland           4           2   Friendly   \n2  1874-03-07  Scotland   England           2           1   Friendly   \n3  1875-03-06   England  Scotland           2           2   Friendly   \n4  1876-03-04  Scotland   England           3           0   Friendly   \n\n    country  neutral  home_code  away_code  hosting_country_code  \n0  Scotland    False        154         58                   154  \n1   England    False         58        154                    58  \n2  Scotland    False        154         58                   154  \n3   England    False         58        154                    58  \n4  Scotland    False        154         58                   154  ",
      "text/html": "<div>\n<style scoped>\n    .dataframe tbody tr th:only-of-type {\n        vertical-align: middle;\n    }\n\n    .dataframe tbody tr th {\n        vertical-align: top;\n    }\n\n    .dataframe thead th {\n        text-align: right;\n    }\n</style>\n<table border=\"1\" class=\"dataframe\">\n  <thead>\n    <tr style=\"text-align: right;\">\n      <th></th>\n      <th>date</th>\n      <th>home_team</th>\n      <th>away_team</th>\n      <th>home_score</th>\n      <th>away_score</th>\n      <th>tournament</th>\n      <th>country</th>\n      <th>neutral</th>\n      <th>home_code</th>\n      <th>away_code</th>\n      <th>hosting_country_code</th>\n    </tr>\n  </thead>\n  <tbody>\n    <tr>\n      <th>0</th>\n      <td>1872-11-30</td>\n      <td>Scotland</td>\n      <td>England</td>\n      <td>0</td>\n      <td>0</td>\n      <td>Friendly</td>\n      <td>Scotland</td>\n      <td>False</td>\n      <td>154</td>\n      <td>58</td>\n      <td>154</td>\n    </tr>\n    <tr>\n      <th>1</th>\n      <td>1873-03-08</td>\n      <td>England</td>\n      <td>Scotland</td>\n      <td>4</td>\n      <td>2</td>\n      <td>Friendly</td>\n      <td>England</td>\n      <td>False</td>\n      <td>58</td>\n      <td>154</td>\n      <td>58</td>\n    </tr>\n    <tr>\n      <th>2</th>\n      <td>1874-03-07</td>\n      <td>Scotland</td>\n      <td>England</td>\n      <td>2</td>\n      <td>1</td>\n      <td>Friendly</td>\n      <td>Scotland</td>\n      <td>False</td>\n      <td>154</td>\n      <td>58</td>\n      <td>154</td>\n    </tr>\n    <tr>\n      <th>3</th>\n      <td>1875-03-06</td>\n      <td>England</td>\n      <td>Scotland</td>\n      <td>2</td>\n      <td>2</td>\n      <td>Friendly</td>\n      <td>England</td>\n      <td>False</td>\n      <td>58</td>\n      <td>154</td>\n      <td>58</td>\n    </tr>\n    <tr>\n      <th>4</th>\n      <td>1876-03-04</td>\n      <td>Scotland</td>\n      <td>England</td>\n      <td>3</td>\n      <td>0</td>\n      <td>Friendly</td>\n      <td>Scotland</td>\n      <td>False</td>\n      <td>154</td>\n      <td>58</td>\n      <td>154</td>\n    </tr>\n  </tbody>\n</table>\n</div>"
     },
     "execution_count": 141,
     "metadata": {},
     "output_type": "execute_result"
    }
   ],
   "source": [
    "game_results['home_code'] = game_results.home_team.astype('category').cat.codes\n",
    "l = len(game_results['home_team'].values)\n",
    "country_codes = {game_results['home_team'].values[i]:game_results['home_code'].values[i] for i in range(l)}\n",
    "code = max(country_codes.values()) + 1\n",
    "# encode_dict = game_results.['home_team']\n",
    "def encode_away_teams(x):\n",
    "   global code\n",
    "   val = country_codes.setdefault(x, code)\n",
    "   if val == code:\n",
    "      code+=1\n",
    "   return val\n",
    "game_results['away_code'] = game_results.away_team.apply(lambda x: encode_away_teams(x)).copy()\n",
    "game_results['hosting_country_code'] = game_results.country.apply(lambda x: encode_away_teams(x)).copy()\n",
    "game_results.head(5)"
   ]
  },
  {
   "cell_type": "markdown",
   "metadata": {
    "collapsed": false
   },
   "source": [
    "Since we only have fifa rankings starting from 1992-12-31, we'll be only keeping games from 1993-Present"
   ]
  },
  {
   "cell_type": "code",
   "execution_count": 142,
   "metadata": {
    "collapsed": false,
    "ExecuteTime": {
     "end_time": "2023-12-01T16:43:14.881093Z",
     "start_time": "2023-12-01T16:43:14.551440Z"
    }
   },
   "outputs": [
    {
     "data": {
      "text/plain": "tournament\nFriendly                                8343\nFIFA World Cup qualification            5421\nUEFA Euro qualification                 1982\nAfrican Cup of Nations qualification    1234\nUEFA Nations League                      472\n                                        ... \nThree Nations Cup                          1\nTIFOCO Tournament                          1\nThe Other Final                            1\nCup of Ancient Civilizations               1\nCopa Confraternidad                        1\nName: count, Length: 88, dtype: int64"
     },
     "execution_count": 142,
     "metadata": {},
     "output_type": "execute_result"
    }
   ],
   "source": [
    "game_results['date'] = pd.to_datetime(game_results['date'],format='%Y-%m-%d')\n",
    "ranking_df['rank_date'] = pd.to_datetime(ranking_df['rank_date'],format='%Y-%m-%d')\n",
    "# Filter the games and rankings starting from 1993\n",
    "game_results = game_results[game_results['date'] >= datetime(1993, 1, 1)].copy()\n",
    "ranking_df = ranking_df[ranking_df['rank_date'] >= datetime(1993, 1, 1)].copy()\n",
    "\n",
    "# Convert 'neutral' column to boolean format (1 for True, 0 for False)\n",
    "game_results['neutral'] = game_results['neutral'].astype(int)\n",
    "\n",
    "# Display the 'neutral' column to verify the changes\n",
    "game_results['neutral'].head()\n",
    "game_results.tournament.value_counts()"
   ]
  },
  {
   "cell_type": "code",
   "execution_count": 143,
   "outputs": [
    {
     "data": {
      "text/plain": "date                    datetime64[ns]\nhome_team                       object\naway_team                       object\nhome_score                       int64\naway_score                       int64\ntournament                      object\ncountry                         object\nneutral                          int64\nhome_code                        int16\naway_code                        int16\nhosting_country_code             int64\ndtype: object"
     },
     "execution_count": 143,
     "metadata": {},
     "output_type": "execute_result"
    }
   ],
   "source": [
    "game_results.dtypes"
   ],
   "metadata": {
    "collapsed": false,
    "ExecuteTime": {
     "end_time": "2023-12-01T16:43:14.881176Z",
     "start_time": "2023-12-01T16:43:14.563339Z"
    }
   }
  },
  {
   "cell_type": "code",
   "execution_count": 144,
   "metadata": {
    "collapsed": false,
    "ExecuteTime": {
     "end_time": "2023-12-01T16:43:14.921233Z",
     "start_time": "2023-12-01T16:43:14.565762Z"
    }
   },
   "outputs": [],
   "source": [
    "game_results['final_score'] = game_results.apply(lambda x: 2 if x.away_score < x.home_score else 0 if x.away_score > x.home_score else 1,axis=1)"
   ]
  },
  {
   "cell_type": "code",
   "execution_count": 145,
   "metadata": {
    "collapsed": false,
    "ExecuteTime": {
     "end_time": "2023-12-01T16:43:14.921410Z",
     "start_time": "2023-12-01T16:43:14.721344Z"
    }
   },
   "outputs": [
    {
     "data": {
      "text/plain": "final_score\n2    11375\n0     6563\n1     5610\nName: count, dtype: int64"
     },
     "execution_count": 145,
     "metadata": {},
     "output_type": "execute_result"
    }
   ],
   "source": [
    "game_results.reset_index(level=0,inplace=True)\n",
    "game_results.drop('index',inplace=True,axis=1)\n",
    "game_results['final_score'].value_counts()"
   ]
  },
  {
   "cell_type": "markdown",
   "metadata": {
    "collapsed": false
   },
   "source": [
    "We have heavy data imbalance where there are more home wins are alot higher than losses or ties. We'll probably need to either undersample the wins or oversample the ties/losses."
   ]
  },
  {
   "cell_type": "code",
   "execution_count": 146,
   "metadata": {
    "collapsed": false,
    "ExecuteTime": {
     "end_time": "2023-12-01T16:43:14.921510Z",
     "start_time": "2023-12-01T16:43:14.724740Z"
    }
   },
   "outputs": [
    {
     "data": {
      "text/plain": "tournament\nFriendly                                8343\nFIFA World Cup qualification            5421\nUEFA Euro qualification                 1982\nAfrican Cup of Nations qualification    1234\nUEFA Nations League                      472\n                                        ... \nThree Nations Cup                          1\nTIFOCO Tournament                          1\nThe Other Final                            1\nCup of Ancient Civilizations               1\nCopa Confraternidad                        1\nName: count, Length: 88, dtype: int64"
     },
     "execution_count": 146,
     "metadata": {},
     "output_type": "execute_result"
    }
   ],
   "source": [
    "game_results.tournament.value_counts()"
   ]
  },
  {
   "cell_type": "markdown",
   "metadata": {
    "collapsed": false
   },
   "source": [
    "We need to limit the tournament categories to just three: \n",
    "- Cup\n",
    "- Tournament\n",
    "- Friendly"
   ]
  },
  {
   "cell_type": "code",
   "execution_count": 147,
   "metadata": {
    "ExecuteTime": {
     "end_time": "2023-12-01T16:43:14.921538Z",
     "start_time": "2023-12-01T16:43:14.727673Z"
    }
   },
   "outputs": [],
   "source": [
    "def decide_competition(match_type):\n",
    "   # Superclasico is a south american friendly\n",
    "   if match_type.lower() == 'friendly' or match_type.lower().find('superclásico') != -1:\n",
    "      return 2\n",
    "   tournament_names = ['tournoi','uefa','tournament','qualifications','qualification','games','festival','league']\n",
    "   cup_names = ['cup', 'final','championship','copa']\n",
    "   # Tournament - 0\n",
    "   for x in tournament_names:\n",
    "      if match_type.lower().find(x) != -1:\n",
    "         return 0\n",
    "   # Cup - 1\n",
    "   for x in cup_names:\n",
    "      if match_type.lower().find(x) != -1:\n",
    "         return 1"
   ]
  },
  {
   "cell_type": "markdown",
   "metadata": {},
   "source": [
    "### Reorganize the tournaments to either be a cup, tournament, or friendly\n",
    "Encodes the three values: \n",
    "- Tournament $\\rightarrow0$\n",
    "- Cup $\\rightarrow1$\n",
    "- Friendly $\\rightarrow2$"
   ]
  },
  {
   "cell_type": "code",
   "execution_count": 148,
   "metadata": {
    "ExecuteTime": {
     "end_time": "2023-12-01T16:43:14.921568Z",
     "start_time": "2023-12-01T16:43:14.735893Z"
    }
   },
   "outputs": [],
   "source": [
    "game_results['tournament_code'] = game_results['tournament'].apply(decide_competition)"
   ]
  },
  {
   "cell_type": "code",
   "execution_count": 149,
   "metadata": {
    "ExecuteTime": {
     "end_time": "2023-12-01T16:43:14.921635Z",
     "start_time": "2023-12-01T16:43:14.746547Z"
    }
   },
   "outputs": [
    {
     "data": {
      "text/plain": "tournament_code\n0    10857\n2     8351\n1     4340\nName: count, dtype: int64"
     },
     "execution_count": 149,
     "metadata": {},
     "output_type": "execute_result"
    }
   ],
   "source": [
    "game_results['tournament_code'] = game_results.tournament_code.astype(int)\n",
    "game_results['tournament_code'].value_counts()"
   ]
  },
  {
   "cell_type": "markdown",
   "metadata": {},
   "source": [
    "Seems like we have much more tournament matches. We might need to oversample cup games later if the results aren't good"
   ]
  },
  {
   "cell_type": "markdown",
   "metadata": {
    "collapsed": false
   },
   "source": [
    "### Get the most recent FIFA rank at the time of match"
   ]
  },
  {
   "cell_type": "code",
   "execution_count": 150,
   "metadata": {
    "ExecuteTime": {
     "end_time": "2023-12-01T16:43:15.092513Z",
     "start_time": "2023-12-01T16:43:14.749180Z"
    }
   },
   "outputs": [
    {
     "data": {
      "text/plain": "home_advantage\n1    17702\n0     5846\nName: count, dtype: int64"
     },
     "execution_count": 150,
     "metadata": {},
     "output_type": "execute_result"
    }
   ],
   "source": [
    "game_results['most_recent_rank_home'] = game_results.apply(lambda x: rank_at_year_df.loc[x['home_team'],x['date'].year] ,axis=1)\n",
    "game_results['most_recent_rank_away'] = game_results.apply(lambda x: rank_at_year_df.loc[x['away_team'],x['date'].year] ,axis=1)\n",
    "# Calculate the ranking difference\n",
    "game_results['most_recent_rank_difference'] = game_results['most_recent_rank_home'] - game_results['most_recent_rank_away']\n",
    "\n",
    "game_results['home_advantage'] = 0\n",
    "game_results.loc[game_results['home_code'] == game_results['hosting_country_code'], 'home_advantage'] = 1\n",
    "game_results['home_advantage'].value_counts()"
   ]
  },
  {
   "cell_type": "markdown",
   "source": [
    "### Get FIFA points total at the time"
   ],
   "metadata": {
    "collapsed": false
   }
  },
  {
   "cell_type": "code",
   "execution_count": 151,
   "outputs": [],
   "source": [
    "game_results['home_fifa_pts'] = game_results.apply(lambda x: rank_at_year_df.loc[x['home_team'],'{}_points'.format(x['date'].year)], axis = 1)\n",
    "game_results['away_fifa_pts'] = game_results.apply(lambda x: rank_at_year_df.loc[x['away_team'],'{}_points'.format(x['date'].year)], axis = 1)"
   ],
   "metadata": {
    "collapsed": false,
    "ExecuteTime": {
     "end_time": "2023-12-01T16:43:15.599903Z",
     "start_time": "2023-12-01T16:43:15.025745Z"
    }
   }
  },
  {
   "cell_type": "markdown",
   "metadata": {
    "collapsed": false
   },
   "source": [
    "### Now to check historical head-to-head matches between the two teams\n"
   ]
  },
  {
   "cell_type": "code",
   "execution_count": 152,
   "metadata": {
    "collapsed": false,
    "ExecuteTime": {
     "end_time": "2023-12-01T16:43:15.848924Z",
     "start_time": "2023-12-01T16:43:15.599814Z"
    }
   },
   "outputs": [
    {
     "data": {
      "text/plain": "            date     home_team             away_team  home_score  away_score  \\\n0     1993-01-01         Ghana                  Mali           1           1   \n1     1993-01-02         Gabon          Burkina Faso           1           1   \n2     1993-01-02        Kuwait               Lebanon           2           0   \n3     1993-01-03  Burkina Faso                  Mali           1           0   \n4     1993-01-03         Gabon                 Ghana           2           3   \n...          ...           ...                   ...         ...         ...   \n23519 2023-11-21        Jordan          Saudi Arabia           0           2   \n23520 2023-11-21       Bahrain  United Arab Emirates           0           2   \n23521 2023-11-21         Nepal                 Yemen           0           2   \n23523 2023-11-21    Bangladesh               Lebanon           1           1   \n23547 2023-11-21       Romania           Switzerland           1           0   \n\n                         tournament     country  neutral  home_code  \\\n0                          Friendly       Gabon        1         72   \n1                          Friendly       Gabon        0         68   \n2                          Friendly      Kuwait        0         97   \n3                          Friendly       Gabon        1         30   \n4                          Friendly       Gabon        0         68   \n...                             ...         ...      ...        ...   \n23519  FIFA World Cup qualification      Jordan        0         93   \n23520  FIFA World Cup qualification     Bahrain        0         15   \n23521  FIFA World Cup qualification       Nepal        0        125   \n23523  FIFA World Cup qualification  Bangladesh        0         16   \n23547       UEFA Euro qualification     Romania        0        148   \n\n       away_code  hosting_country_code  final_score  tournament_code  \\\n0            112                    68            1                2   \n1             30                    68            1                2   \n2            100                    97            2                2   \n3            112                    68            2                2   \n4             72                    68            0                2   \n...          ...                   ...          ...              ...   \n23519        153                    93            0                0   \n23520        188                    15            0                0   \n23521        196                   125            0                0   \n23523        100                    16            1                0   \n23547        171                   148            2                0   \n\n       most_recent_rank_home  most_recent_rank_away  \\\n0                       48.0                   74.0   \n1                       64.0                  113.0   \n2                       60.0                  108.0   \n3                      113.0                   74.0   \n4                       64.0                   48.0   \n...                      ...                    ...   \n23519                   84.0                   54.0   \n23520                   85.0                   72.0   \n23521                  174.0                  157.0   \n23523                  192.0                   99.0   \n23547                   46.0                   12.0   \n\n       most_recent_rank_difference  home_advantage  home_fifa_pts  \\\n0                            -26.0               0          34.00   \n1                            -49.0               1          29.00   \n2                            -48.0               1          30.00   \n3                             39.0               0          10.00   \n4                             16.0               1          29.00   \n...                            ...             ...            ...   \n23519                         30.0               1        1293.26   \n23520                         13.0               1        1282.05   \n23521                         17.0               1         963.10   \n23523                         93.0               1         883.88   \n23547                         34.0               1        1444.58   \n\n       away_fifa_pts  head_to_head_last_5  \n0              24.00                    0  \n1              10.00                    0  \n2              11.00                    0  \n3              24.00                    0  \n4              34.00                    2  \n...              ...                  ...  \n23519        1421.46                    0  \n23520        1336.28                    0  \n23521        1020.37                    1  \n23523        1202.74                    1  \n23547        1664.24                    0  \n\n[23548 rows x 20 columns]",
      "text/html": "<div>\n<style scoped>\n    .dataframe tbody tr th:only-of-type {\n        vertical-align: middle;\n    }\n\n    .dataframe tbody tr th {\n        vertical-align: top;\n    }\n\n    .dataframe thead th {\n        text-align: right;\n    }\n</style>\n<table border=\"1\" class=\"dataframe\">\n  <thead>\n    <tr style=\"text-align: right;\">\n      <th></th>\n      <th>date</th>\n      <th>home_team</th>\n      <th>away_team</th>\n      <th>home_score</th>\n      <th>away_score</th>\n      <th>tournament</th>\n      <th>country</th>\n      <th>neutral</th>\n      <th>home_code</th>\n      <th>away_code</th>\n      <th>hosting_country_code</th>\n      <th>final_score</th>\n      <th>tournament_code</th>\n      <th>most_recent_rank_home</th>\n      <th>most_recent_rank_away</th>\n      <th>most_recent_rank_difference</th>\n      <th>home_advantage</th>\n      <th>home_fifa_pts</th>\n      <th>away_fifa_pts</th>\n      <th>head_to_head_last_5</th>\n    </tr>\n  </thead>\n  <tbody>\n    <tr>\n      <th>0</th>\n      <td>1993-01-01</td>\n      <td>Ghana</td>\n      <td>Mali</td>\n      <td>1</td>\n      <td>1</td>\n      <td>Friendly</td>\n      <td>Gabon</td>\n      <td>1</td>\n      <td>72</td>\n      <td>112</td>\n      <td>68</td>\n      <td>1</td>\n      <td>2</td>\n      <td>48.0</td>\n      <td>74.0</td>\n      <td>-26.0</td>\n      <td>0</td>\n      <td>34.00</td>\n      <td>24.00</td>\n      <td>0</td>\n    </tr>\n    <tr>\n      <th>1</th>\n      <td>1993-01-02</td>\n      <td>Gabon</td>\n      <td>Burkina Faso</td>\n      <td>1</td>\n      <td>1</td>\n      <td>Friendly</td>\n      <td>Gabon</td>\n      <td>0</td>\n      <td>68</td>\n      <td>30</td>\n      <td>68</td>\n      <td>1</td>\n      <td>2</td>\n      <td>64.0</td>\n      <td>113.0</td>\n      <td>-49.0</td>\n      <td>1</td>\n      <td>29.00</td>\n      <td>10.00</td>\n      <td>0</td>\n    </tr>\n    <tr>\n      <th>2</th>\n      <td>1993-01-02</td>\n      <td>Kuwait</td>\n      <td>Lebanon</td>\n      <td>2</td>\n      <td>0</td>\n      <td>Friendly</td>\n      <td>Kuwait</td>\n      <td>0</td>\n      <td>97</td>\n      <td>100</td>\n      <td>97</td>\n      <td>2</td>\n      <td>2</td>\n      <td>60.0</td>\n      <td>108.0</td>\n      <td>-48.0</td>\n      <td>1</td>\n      <td>30.00</td>\n      <td>11.00</td>\n      <td>0</td>\n    </tr>\n    <tr>\n      <th>3</th>\n      <td>1993-01-03</td>\n      <td>Burkina Faso</td>\n      <td>Mali</td>\n      <td>1</td>\n      <td>0</td>\n      <td>Friendly</td>\n      <td>Gabon</td>\n      <td>1</td>\n      <td>30</td>\n      <td>112</td>\n      <td>68</td>\n      <td>2</td>\n      <td>2</td>\n      <td>113.0</td>\n      <td>74.0</td>\n      <td>39.0</td>\n      <td>0</td>\n      <td>10.00</td>\n      <td>24.00</td>\n      <td>0</td>\n    </tr>\n    <tr>\n      <th>4</th>\n      <td>1993-01-03</td>\n      <td>Gabon</td>\n      <td>Ghana</td>\n      <td>2</td>\n      <td>3</td>\n      <td>Friendly</td>\n      <td>Gabon</td>\n      <td>0</td>\n      <td>68</td>\n      <td>72</td>\n      <td>68</td>\n      <td>0</td>\n      <td>2</td>\n      <td>64.0</td>\n      <td>48.0</td>\n      <td>16.0</td>\n      <td>1</td>\n      <td>29.00</td>\n      <td>34.00</td>\n      <td>2</td>\n    </tr>\n    <tr>\n      <th>...</th>\n      <td>...</td>\n      <td>...</td>\n      <td>...</td>\n      <td>...</td>\n      <td>...</td>\n      <td>...</td>\n      <td>...</td>\n      <td>...</td>\n      <td>...</td>\n      <td>...</td>\n      <td>...</td>\n      <td>...</td>\n      <td>...</td>\n      <td>...</td>\n      <td>...</td>\n      <td>...</td>\n      <td>...</td>\n      <td>...</td>\n      <td>...</td>\n      <td>...</td>\n    </tr>\n    <tr>\n      <th>23519</th>\n      <td>2023-11-21</td>\n      <td>Jordan</td>\n      <td>Saudi Arabia</td>\n      <td>0</td>\n      <td>2</td>\n      <td>FIFA World Cup qualification</td>\n      <td>Jordan</td>\n      <td>0</td>\n      <td>93</td>\n      <td>153</td>\n      <td>93</td>\n      <td>0</td>\n      <td>0</td>\n      <td>84.0</td>\n      <td>54.0</td>\n      <td>30.0</td>\n      <td>1</td>\n      <td>1293.26</td>\n      <td>1421.46</td>\n      <td>0</td>\n    </tr>\n    <tr>\n      <th>23520</th>\n      <td>2023-11-21</td>\n      <td>Bahrain</td>\n      <td>United Arab Emirates</td>\n      <td>0</td>\n      <td>2</td>\n      <td>FIFA World Cup qualification</td>\n      <td>Bahrain</td>\n      <td>0</td>\n      <td>15</td>\n      <td>188</td>\n      <td>15</td>\n      <td>0</td>\n      <td>0</td>\n      <td>85.0</td>\n      <td>72.0</td>\n      <td>13.0</td>\n      <td>1</td>\n      <td>1282.05</td>\n      <td>1336.28</td>\n      <td>0</td>\n    </tr>\n    <tr>\n      <th>23521</th>\n      <td>2023-11-21</td>\n      <td>Nepal</td>\n      <td>Yemen</td>\n      <td>0</td>\n      <td>2</td>\n      <td>FIFA World Cup qualification</td>\n      <td>Nepal</td>\n      <td>0</td>\n      <td>125</td>\n      <td>196</td>\n      <td>125</td>\n      <td>0</td>\n      <td>0</td>\n      <td>174.0</td>\n      <td>157.0</td>\n      <td>17.0</td>\n      <td>1</td>\n      <td>963.10</td>\n      <td>1020.37</td>\n      <td>1</td>\n    </tr>\n    <tr>\n      <th>23523</th>\n      <td>2023-11-21</td>\n      <td>Bangladesh</td>\n      <td>Lebanon</td>\n      <td>1</td>\n      <td>1</td>\n      <td>FIFA World Cup qualification</td>\n      <td>Bangladesh</td>\n      <td>0</td>\n      <td>16</td>\n      <td>100</td>\n      <td>16</td>\n      <td>1</td>\n      <td>0</td>\n      <td>192.0</td>\n      <td>99.0</td>\n      <td>93.0</td>\n      <td>1</td>\n      <td>883.88</td>\n      <td>1202.74</td>\n      <td>1</td>\n    </tr>\n    <tr>\n      <th>23547</th>\n      <td>2023-11-21</td>\n      <td>Romania</td>\n      <td>Switzerland</td>\n      <td>1</td>\n      <td>0</td>\n      <td>UEFA Euro qualification</td>\n      <td>Romania</td>\n      <td>0</td>\n      <td>148</td>\n      <td>171</td>\n      <td>148</td>\n      <td>2</td>\n      <td>0</td>\n      <td>46.0</td>\n      <td>12.0</td>\n      <td>34.0</td>\n      <td>1</td>\n      <td>1444.58</td>\n      <td>1664.24</td>\n      <td>0</td>\n    </tr>\n  </tbody>\n</table>\n<p>23548 rows × 20 columns</p>\n</div>"
     },
     "execution_count": 152,
     "metadata": {},
     "output_type": "execute_result"
    }
   ],
   "source": [
    "# Create a new column 'head_to_head_last_5' with default value 0\n",
    "game_results['head_to_head_last_5'] = 0\n",
    "\n",
    "# Sort the dataframe by date\n",
    "game_results = game_results.sort_values(by='date')\n",
    "\n",
    "# Combine home and away teams to create a unique identifier for each match, TEMPORARY\n",
    "game_results['match_id'] = game_results.apply(lambda row: '_'.join(sorted([row['home_team'], row['away_team']])), axis=1)\n",
    "\n",
    "# Group by match and calculate the cumulative sum of wins for the home team (final_score == 2) using rolling window\n",
    "game_results['head_to_head_last_5'] = game_results.groupby('match_id')['final_score'].rolling(window=5, min_periods=1).apply(lambda x: (x == 2).sum(), raw=True).reset_index(drop=True)\n",
    "\n",
    "# Subtract the current match's wins to get the last 5 matches\n",
    "game_results['head_to_head_last_5'] = (game_results['head_to_head_last_5'] - (game_results['final_score'] == 2))\n",
    "# Clip the values to ensure the minimum is 0\n",
    "game_results['head_to_head_last_5'] = game_results['head_to_head_last_5'].clip(lower=0)\n",
    "# Ensure 'head_to_head_last_5' is of integer type\n",
    "game_results['head_to_head_last_5'] = game_results['head_to_head_last_5'].astype(int)\n",
    "\n",
    "# Display value counts\n",
    "game_results.drop(['match_id'],inplace=True,axis=1)\n",
    "game_results"
   ]
  },
  {
   "cell_type": "markdown",
   "metadata": {},
   "source": [
    "### Get the difference in rank between the two teams\n",
    "Negative value indicates that home team's rank is better than away team. Value itself shows how far apart they are."
   ]
  },
  {
   "cell_type": "code",
   "execution_count": 153,
   "metadata": {
    "ExecuteTime": {
     "end_time": "2023-12-01T16:43:15.921891Z",
     "start_time": "2023-12-01T16:43:15.817982Z"
    }
   },
   "outputs": [],
   "source": [
    "game_results['most_recent_rank_difference'] = game_results.apply(lambda x: x.most_recent_rank_home - x.most_recent_rank_away,axis=1)"
   ]
  },
  {
   "cell_type": "markdown",
   "metadata": {},
   "source": [
    "0 -> Home loss,<br>\n",
    "1 -> Tie,<br>\n",
    "2 -> Home win"
   ]
  },
  {
   "cell_type": "markdown",
   "metadata": {
    "collapsed": false
   },
   "source": [
    "### Now another goal difference column that looks at the previous 5 matches for both teams\n",
    "Checks the goals scored by the team and goals conceded, subtracts them to get the delta. Negative value indicates that a team concedes more than they score."
   ]
  },
  {
   "cell_type": "code",
   "execution_count": 179,
   "metadata": {
    "collapsed": false,
    "ExecuteTime": {
     "end_time": "2023-12-01T17:19:21.478763Z",
     "start_time": "2023-12-01T17:19:21.407025Z"
    }
   },
   "outputs": [
    {
     "data": {
      "text/plain": "            date              home_team     away_team  home_score  away_score  \\\n0     1993-01-01                  Ghana          Mali           1           1   \n1     1993-01-02                  Gabon  Burkina Faso           1           1   \n2     1993-01-02                 Kuwait       Lebanon           2           0   \n3     1993-01-03           Burkina Faso          Mali           1           0   \n4     1993-01-03                  Gabon         Ghana           2           3   \n...          ...                    ...           ...         ...         ...   \n23536 2023-11-21  São Tomé and Príncipe       Namibia           0           2   \n23533 2023-11-21                Somalia        Uganda           0           1   \n23537 2023-11-21                Comoros         Ghana           1           0   \n23546 2023-11-21                 Kosovo       Belarus           0           1   \n23547 2023-11-21                Romania   Switzerland           1           0   \n\n                         tournament  country  neutral  home_code  away_code  \\\n0                          Friendly    Gabon        1         72        112   \n1                          Friendly    Gabon        0         68         30   \n2                          Friendly   Kuwait        0         97        100   \n3                          Friendly    Gabon        1         30        112   \n4                          Friendly    Gabon        0         68         72   \n...                             ...      ...      ...        ...        ...   \n23536  FIFA World Cup qualification  Morocco        1        173        124   \n23533  FIFA World Cup qualification  Morocco        1        163        186   \n23537  FIFA World Cup qualification  Comoros        0         41         72   \n23546       UEFA Euro qualification   Kosovo        0         96         18   \n23547       UEFA Euro qualification  Romania        0        148        171   \n\n       ...  conceded_last_5_home  conceded_last_5_away  \\\n0      ...                     4                     1   \n1      ...                     5                     5   \n2      ...                     7                    16   \n3      ...                     9                    20   \n4      ...                    12                    29   \n...    ...                   ...                   ...   \n23536  ...                     2                     2   \n23533  ...                     1                     3   \n23537  ...                     2                     1   \n23546  ...                     5                     7   \n23547  ...                     4                     4   \n\n       days_since_last_match_home  days_since_last_match_away  \\\n0                             0.0                         0.0   \n1                             0.0                         0.0   \n2                             0.0                         0.0   \n3                             0.0                         2.0   \n4                             1.0                         0.0   \n...                           ...                         ...   \n23536                       240.0                         6.0   \n23533                        35.0                         4.0   \n23537                         4.0                        35.0   \n23546                         9.0                        37.0   \n23547                        37.0                         6.0   \n\n       wins_last_10_games_home  wins_last_10_games_away  \\\n0                            0                        1   \n1                            0                        2   \n2                            0                        3   \n3                            0                        4   \n4                            0                        5   \n...                        ...                      ...   \n23536                        5                        2   \n23533                        6                        2   \n23537                        5                        2   \n23546                        4                        7   \n23547                        4                        7   \n\n                       home_match_id                  away_match_id  \\\n0                         Ghana_Mali                     Ghana_Mali   \n1                 Burkina Faso_Gabon             Burkina Faso_Gabon   \n2                     Kuwait_Lebanon                 Kuwait_Lebanon   \n3                  Burkina Faso_Mali              Burkina Faso_Mali   \n4                        Gabon_Ghana                    Gabon_Ghana   \n...                              ...                            ...   \n23536  Namibia_São Tomé and Príncipe  Namibia_São Tomé and Príncipe   \n23533                 Somalia_Uganda                 Somalia_Uganda   \n23537                  Comoros_Ghana                  Comoros_Ghana   \n23546                 Belarus_Kosovo                 Belarus_Kosovo   \n23547            Romania_Switzerland            Romania_Switzerland   \n\n       scored_last_5_home  scored_last_5_away  \n0                       0                   0  \n1                       0                   0  \n2                       0                   0  \n3                       1                   0  \n4                       2                   1  \n...                   ...                 ...  \n23536                   6                   3  \n23533                  10                   5  \n23537                   5                   3  \n23546                   3                   2  \n23547                   4                   1  \n\n[23548 rows x 35 columns]",
      "text/html": "<div>\n<style scoped>\n    .dataframe tbody tr th:only-of-type {\n        vertical-align: middle;\n    }\n\n    .dataframe tbody tr th {\n        vertical-align: top;\n    }\n\n    .dataframe thead th {\n        text-align: right;\n    }\n</style>\n<table border=\"1\" class=\"dataframe\">\n  <thead>\n    <tr style=\"text-align: right;\">\n      <th></th>\n      <th>date</th>\n      <th>home_team</th>\n      <th>away_team</th>\n      <th>home_score</th>\n      <th>away_score</th>\n      <th>tournament</th>\n      <th>country</th>\n      <th>neutral</th>\n      <th>home_code</th>\n      <th>away_code</th>\n      <th>...</th>\n      <th>conceded_last_5_home</th>\n      <th>conceded_last_5_away</th>\n      <th>days_since_last_match_home</th>\n      <th>days_since_last_match_away</th>\n      <th>wins_last_10_games_home</th>\n      <th>wins_last_10_games_away</th>\n      <th>home_match_id</th>\n      <th>away_match_id</th>\n      <th>scored_last_5_home</th>\n      <th>scored_last_5_away</th>\n    </tr>\n  </thead>\n  <tbody>\n    <tr>\n      <th>0</th>\n      <td>1993-01-01</td>\n      <td>Ghana</td>\n      <td>Mali</td>\n      <td>1</td>\n      <td>1</td>\n      <td>Friendly</td>\n      <td>Gabon</td>\n      <td>1</td>\n      <td>72</td>\n      <td>112</td>\n      <td>...</td>\n      <td>4</td>\n      <td>1</td>\n      <td>0.0</td>\n      <td>0.0</td>\n      <td>0</td>\n      <td>1</td>\n      <td>Ghana_Mali</td>\n      <td>Ghana_Mali</td>\n      <td>0</td>\n      <td>0</td>\n    </tr>\n    <tr>\n      <th>1</th>\n      <td>1993-01-02</td>\n      <td>Gabon</td>\n      <td>Burkina Faso</td>\n      <td>1</td>\n      <td>1</td>\n      <td>Friendly</td>\n      <td>Gabon</td>\n      <td>0</td>\n      <td>68</td>\n      <td>30</td>\n      <td>...</td>\n      <td>5</td>\n      <td>5</td>\n      <td>0.0</td>\n      <td>0.0</td>\n      <td>0</td>\n      <td>2</td>\n      <td>Burkina Faso_Gabon</td>\n      <td>Burkina Faso_Gabon</td>\n      <td>0</td>\n      <td>0</td>\n    </tr>\n    <tr>\n      <th>2</th>\n      <td>1993-01-02</td>\n      <td>Kuwait</td>\n      <td>Lebanon</td>\n      <td>2</td>\n      <td>0</td>\n      <td>Friendly</td>\n      <td>Kuwait</td>\n      <td>0</td>\n      <td>97</td>\n      <td>100</td>\n      <td>...</td>\n      <td>7</td>\n      <td>16</td>\n      <td>0.0</td>\n      <td>0.0</td>\n      <td>0</td>\n      <td>3</td>\n      <td>Kuwait_Lebanon</td>\n      <td>Kuwait_Lebanon</td>\n      <td>0</td>\n      <td>0</td>\n    </tr>\n    <tr>\n      <th>3</th>\n      <td>1993-01-03</td>\n      <td>Burkina Faso</td>\n      <td>Mali</td>\n      <td>1</td>\n      <td>0</td>\n      <td>Friendly</td>\n      <td>Gabon</td>\n      <td>1</td>\n      <td>30</td>\n      <td>112</td>\n      <td>...</td>\n      <td>9</td>\n      <td>20</td>\n      <td>0.0</td>\n      <td>2.0</td>\n      <td>0</td>\n      <td>4</td>\n      <td>Burkina Faso_Mali</td>\n      <td>Burkina Faso_Mali</td>\n      <td>1</td>\n      <td>0</td>\n    </tr>\n    <tr>\n      <th>4</th>\n      <td>1993-01-03</td>\n      <td>Gabon</td>\n      <td>Ghana</td>\n      <td>2</td>\n      <td>3</td>\n      <td>Friendly</td>\n      <td>Gabon</td>\n      <td>0</td>\n      <td>68</td>\n      <td>72</td>\n      <td>...</td>\n      <td>12</td>\n      <td>29</td>\n      <td>1.0</td>\n      <td>0.0</td>\n      <td>0</td>\n      <td>5</td>\n      <td>Gabon_Ghana</td>\n      <td>Gabon_Ghana</td>\n      <td>2</td>\n      <td>1</td>\n    </tr>\n    <tr>\n      <th>...</th>\n      <td>...</td>\n      <td>...</td>\n      <td>...</td>\n      <td>...</td>\n      <td>...</td>\n      <td>...</td>\n      <td>...</td>\n      <td>...</td>\n      <td>...</td>\n      <td>...</td>\n      <td>...</td>\n      <td>...</td>\n      <td>...</td>\n      <td>...</td>\n      <td>...</td>\n      <td>...</td>\n      <td>...</td>\n      <td>...</td>\n      <td>...</td>\n      <td>...</td>\n      <td>...</td>\n    </tr>\n    <tr>\n      <th>23536</th>\n      <td>2023-11-21</td>\n      <td>São Tomé and Príncipe</td>\n      <td>Namibia</td>\n      <td>0</td>\n      <td>2</td>\n      <td>FIFA World Cup qualification</td>\n      <td>Morocco</td>\n      <td>1</td>\n      <td>173</td>\n      <td>124</td>\n      <td>...</td>\n      <td>2</td>\n      <td>2</td>\n      <td>240.0</td>\n      <td>6.0</td>\n      <td>5</td>\n      <td>2</td>\n      <td>Namibia_São Tomé and Príncipe</td>\n      <td>Namibia_São Tomé and Príncipe</td>\n      <td>6</td>\n      <td>3</td>\n    </tr>\n    <tr>\n      <th>23533</th>\n      <td>2023-11-21</td>\n      <td>Somalia</td>\n      <td>Uganda</td>\n      <td>0</td>\n      <td>1</td>\n      <td>FIFA World Cup qualification</td>\n      <td>Morocco</td>\n      <td>1</td>\n      <td>163</td>\n      <td>186</td>\n      <td>...</td>\n      <td>1</td>\n      <td>3</td>\n      <td>35.0</td>\n      <td>4.0</td>\n      <td>6</td>\n      <td>2</td>\n      <td>Somalia_Uganda</td>\n      <td>Somalia_Uganda</td>\n      <td>10</td>\n      <td>5</td>\n    </tr>\n    <tr>\n      <th>23537</th>\n      <td>2023-11-21</td>\n      <td>Comoros</td>\n      <td>Ghana</td>\n      <td>1</td>\n      <td>0</td>\n      <td>FIFA World Cup qualification</td>\n      <td>Comoros</td>\n      <td>0</td>\n      <td>41</td>\n      <td>72</td>\n      <td>...</td>\n      <td>2</td>\n      <td>1</td>\n      <td>4.0</td>\n      <td>35.0</td>\n      <td>5</td>\n      <td>2</td>\n      <td>Comoros_Ghana</td>\n      <td>Comoros_Ghana</td>\n      <td>5</td>\n      <td>3</td>\n    </tr>\n    <tr>\n      <th>23546</th>\n      <td>2023-11-21</td>\n      <td>Kosovo</td>\n      <td>Belarus</td>\n      <td>0</td>\n      <td>1</td>\n      <td>UEFA Euro qualification</td>\n      <td>Kosovo</td>\n      <td>0</td>\n      <td>96</td>\n      <td>18</td>\n      <td>...</td>\n      <td>5</td>\n      <td>7</td>\n      <td>9.0</td>\n      <td>37.0</td>\n      <td>4</td>\n      <td>7</td>\n      <td>Belarus_Kosovo</td>\n      <td>Belarus_Kosovo</td>\n      <td>3</td>\n      <td>2</td>\n    </tr>\n    <tr>\n      <th>23547</th>\n      <td>2023-11-21</td>\n      <td>Romania</td>\n      <td>Switzerland</td>\n      <td>1</td>\n      <td>0</td>\n      <td>UEFA Euro qualification</td>\n      <td>Romania</td>\n      <td>0</td>\n      <td>148</td>\n      <td>171</td>\n      <td>...</td>\n      <td>4</td>\n      <td>4</td>\n      <td>37.0</td>\n      <td>6.0</td>\n      <td>4</td>\n      <td>7</td>\n      <td>Romania_Switzerland</td>\n      <td>Romania_Switzerland</td>\n      <td>4</td>\n      <td>1</td>\n    </tr>\n  </tbody>\n</table>\n<p>23548 rows × 35 columns</p>\n</div>"
     },
     "execution_count": 179,
     "metadata": {},
     "output_type": "execute_result"
    }
   ],
   "source": [
    "# Create new columns 'scored_last_5_home', 'conceded_last_5_home', 'scored_last_5_away', 'conceded_last_5_away'\n",
    "game_results['scored_last_5_home'] = 0\n",
    "game_results['conceded_last_5_home'] = 0\n",
    "game_results['scored_last_5_away'] = 0\n",
    "game_results['conceded_last_5_away'] = 0\n",
    "\n",
    "# Sort the dataframe by date\n",
    "game_results = game_results.sort_values(by='date')\n",
    "\n",
    "# Group by home_team and calculate the cumulative sum of goals scored and conceded using rolling window\n",
    "game_results['scored_last_5_home'] = game_results.groupby('home_team')['home_score'].rolling(window=5, min_periods=1).sum().reset_index(drop=True)\n",
    "game_results['conceded_last_5_home'] = game_results.groupby('home_team')['away_score'].rolling(window=5, min_periods=1).sum().reset_index(drop=True)\n",
    "\n",
    "# Group by away_team and calculate the cumulative sum of goals scored and conceded using rolling window\n",
    "game_results['scored_last_5_away'] = game_results.groupby('away_team')['away_score'].rolling(window=5, min_periods=1).sum().reset_index(drop=True)\n",
    "game_results['conceded_last_5_away'] = game_results.groupby('away_team')['home_score'].rolling(window=5, min_periods=1).sum().reset_index(drop=True)\n",
    "\n",
    "# Ensure 'scored_last_5_home', 'conceded_last_5_home', 'scored_last_5_away', 'conceded_last_5_away' are of integer type\n",
    "game_results[['scored_last_5_home', 'conceded_last_5_home', 'scored_last_5_away', 'conceded_last_5_away']] = game_results[['scored_last_5_home', 'conceded_last_5_home', 'scored_last_5_away', 'conceded_last_5_away']].astype(int)\n",
    "\n",
    "# Calculate goal difference for home and away teams\n",
    "game_results['goal_difference_last_5_home'] = game_results['scored_last_5_home'] - game_results['conceded_last_5_home']\n",
    "game_results['goal_difference_last_5_away'] = game_results['scored_last_5_away'] - game_results['conceded_last_5_away']\n",
    "\n",
    "# Display value counts\n",
    "game_results"
   ]
  },
  {
   "cell_type": "code",
   "execution_count": 155,
   "metadata": {
    "collapsed": false,
    "ExecuteTime": {
     "end_time": "2023-12-01T16:43:16.434033Z",
     "start_time": "2023-12-01T16:43:16.420196Z"
    }
   },
   "outputs": [
    {
     "data": {
      "text/plain": "goal_difference_last_5_home\n 1     3184\n 0     3049\n 2     2848\n 3     2325\n-1     2226\n 4     1759\n-2     1494\n 5     1361\n-3      930\n 6      894\n 7      659\n-4      534\n 8      486\n 9      356\n-5      298\n 10     217\n-6      182\n 11     154\n-7       96\n 12      96\n 13      74\n-8       63\n 14      50\n-9       33\n 15      27\n 16      26\n-10      17\n 17      16\n 20      14\n 19      11\n-12      11\n-11      10\n 18       9\n 23       6\n 22       5\n-13       5\n 21       4\n-14       2\n-16       2\n-17       2\n 33       2\n-15       2\n 26       1\n 28       1\n 24       1\n 25       1\n-31       1\n-23       1\n 30       1\n 31       1\n-18       1\nName: count, dtype: int64"
     },
     "execution_count": 155,
     "metadata": {},
     "output_type": "execute_result"
    }
   ],
   "source": [
    "game_results['goal_difference_last_5_home'].value_counts() # This seems fishy"
   ]
  },
  {
   "cell_type": "markdown",
   "metadata": {
    "collapsed": false
   },
   "source": [
    "### Weird value?\n",
    "There seems to be a team that has a goal difference of 67... Meaning they scored at least 67 goals in the last 5 games? Let's investigate that team"
   ]
  },
  {
   "cell_type": "code",
   "execution_count": 156,
   "metadata": {
    "collapsed": false,
    "ExecuteTime": {
     "end_time": "2023-12-01T16:43:16.434142Z",
     "start_time": "2023-12-01T16:43:16.423921Z"
    }
   },
   "outputs": [
    {
     "data": {
      "text/plain": "Empty DataFrame\nColumns: [date, home_team, away_team, home_score, away_score, tournament, country, neutral, home_code, away_code, hosting_country_code, final_score, tournament_code, most_recent_rank_home, most_recent_rank_away, most_recent_rank_difference, home_advantage, home_fifa_pts, away_fifa_pts, head_to_head_last_5, goal_difference_last_5_home, goal_difference_last_5_away, match_id, score_last_5_home, score_last_5_away, conceded_last_5_home, conceded_last_5_away]\nIndex: []\n\n[0 rows x 27 columns]",
      "text/html": "<div>\n<style scoped>\n    .dataframe tbody tr th:only-of-type {\n        vertical-align: middle;\n    }\n\n    .dataframe tbody tr th {\n        vertical-align: top;\n    }\n\n    .dataframe thead th {\n        text-align: right;\n    }\n</style>\n<table border=\"1\" class=\"dataframe\">\n  <thead>\n    <tr style=\"text-align: right;\">\n      <th></th>\n      <th>date</th>\n      <th>home_team</th>\n      <th>away_team</th>\n      <th>home_score</th>\n      <th>away_score</th>\n      <th>tournament</th>\n      <th>country</th>\n      <th>neutral</th>\n      <th>home_code</th>\n      <th>away_code</th>\n      <th>...</th>\n      <th>home_fifa_pts</th>\n      <th>away_fifa_pts</th>\n      <th>head_to_head_last_5</th>\n      <th>goal_difference_last_5_home</th>\n      <th>goal_difference_last_5_away</th>\n      <th>match_id</th>\n      <th>score_last_5_home</th>\n      <th>score_last_5_away</th>\n      <th>conceded_last_5_home</th>\n      <th>conceded_last_5_away</th>\n    </tr>\n  </thead>\n  <tbody>\n  </tbody>\n</table>\n<p>0 rows × 27 columns</p>\n</div>"
     },
     "execution_count": 156,
     "metadata": {},
     "output_type": "execute_result"
    }
   ],
   "source": [
    "# Let's find that team\n",
    "game_results[game_results['goal_difference_last_5_home'] == 67]"
   ]
  },
  {
   "cell_type": "markdown",
   "metadata": {
    "collapsed": false
   },
   "source": [
    "### Australia had a goal diff. of 67 on June 2001. Let's look at their matches that happened before that game.\n",
    "67 goals across 5 games means an average of 13 goals per game. Let's find any matches with > 10 goals scored by the home team and look at the last 5."
   ]
  },
  {
   "cell_type": "code",
   "execution_count": 157,
   "metadata": {
    "collapsed": false,
    "ExecuteTime": {
     "end_time": "2023-12-01T16:43:16.450244Z",
     "start_time": "2023-12-01T16:43:16.429916Z"
    }
   },
   "outputs": [
    {
     "data": {
      "text/plain": "           date  home_team       away_team  home_score  away_score  \\\n3643 1998-09-28  Australia    Cook Islands          16           0   \n4920 2000-06-19  Australia    Cook Islands          17           0   \n5597 2001-04-09  Australia           Tonga          22           0   \n5598 2001-04-11  Australia  American Samoa          31           0   \n5609 2001-04-16  Australia           Samoa          11           0   \n\n                        tournament           country  neutral  home_code  \\\n3643           Oceania Nations Cup         Australia        0         11   \n4920           Oceania Nations Cup  French Polynesia        1         11   \n5597  FIFA World Cup qualification         Australia        0         11   \n5598  FIFA World Cup qualification         Australia        0         11   \n5609  FIFA World Cup qualification         Australia        0         11   \n\n      away_code  ...  home_fifa_pts  away_fifa_pts  head_to_head_last_5  \\\n3643         43  ...           52.0            7.0                    0   \n4920         43  ...          410.0           73.0                    1   \n5597        180  ...          479.0           98.0                    1   \n5598          3  ...          479.0            8.0                    1   \n5609        151  ...          479.0          140.0                    0   \n\n      goal_difference_last_5_home  goal_difference_last_5_away  \\\n3643                            1                           -1   \n4920                            3                           -3   \n5597                           -3                            3   \n5598                           -1                            1   \n5609                           -6                            6   \n\n                      match_id  score_last_5_home  score_last_5_away  \\\n3643    Australia_Cook Islands                1.0                0.0   \n4920    Australia_Cook Islands                3.0                0.0   \n5597           Australia_Tonga                6.0                9.0   \n5598  American Samoa_Australia                8.0                9.0   \n5609           Australia_Samoa                5.0               11.0   \n\n      conceded_last_5_home  conceded_last_5_away  \n3643                   0.0                   1.0  \n4920                   0.0                   3.0  \n5597                   9.0                   6.0  \n5598                   9.0                   8.0  \n5609                  11.0                   5.0  \n\n[5 rows x 27 columns]",
      "text/html": "<div>\n<style scoped>\n    .dataframe tbody tr th:only-of-type {\n        vertical-align: middle;\n    }\n\n    .dataframe tbody tr th {\n        vertical-align: top;\n    }\n\n    .dataframe thead th {\n        text-align: right;\n    }\n</style>\n<table border=\"1\" class=\"dataframe\">\n  <thead>\n    <tr style=\"text-align: right;\">\n      <th></th>\n      <th>date</th>\n      <th>home_team</th>\n      <th>away_team</th>\n      <th>home_score</th>\n      <th>away_score</th>\n      <th>tournament</th>\n      <th>country</th>\n      <th>neutral</th>\n      <th>home_code</th>\n      <th>away_code</th>\n      <th>...</th>\n      <th>home_fifa_pts</th>\n      <th>away_fifa_pts</th>\n      <th>head_to_head_last_5</th>\n      <th>goal_difference_last_5_home</th>\n      <th>goal_difference_last_5_away</th>\n      <th>match_id</th>\n      <th>score_last_5_home</th>\n      <th>score_last_5_away</th>\n      <th>conceded_last_5_home</th>\n      <th>conceded_last_5_away</th>\n    </tr>\n  </thead>\n  <tbody>\n    <tr>\n      <th>3643</th>\n      <td>1998-09-28</td>\n      <td>Australia</td>\n      <td>Cook Islands</td>\n      <td>16</td>\n      <td>0</td>\n      <td>Oceania Nations Cup</td>\n      <td>Australia</td>\n      <td>0</td>\n      <td>11</td>\n      <td>43</td>\n      <td>...</td>\n      <td>52.0</td>\n      <td>7.0</td>\n      <td>0</td>\n      <td>1</td>\n      <td>-1</td>\n      <td>Australia_Cook Islands</td>\n      <td>1.0</td>\n      <td>0.0</td>\n      <td>0.0</td>\n      <td>1.0</td>\n    </tr>\n    <tr>\n      <th>4920</th>\n      <td>2000-06-19</td>\n      <td>Australia</td>\n      <td>Cook Islands</td>\n      <td>17</td>\n      <td>0</td>\n      <td>Oceania Nations Cup</td>\n      <td>French Polynesia</td>\n      <td>1</td>\n      <td>11</td>\n      <td>43</td>\n      <td>...</td>\n      <td>410.0</td>\n      <td>73.0</td>\n      <td>1</td>\n      <td>3</td>\n      <td>-3</td>\n      <td>Australia_Cook Islands</td>\n      <td>3.0</td>\n      <td>0.0</td>\n      <td>0.0</td>\n      <td>3.0</td>\n    </tr>\n    <tr>\n      <th>5597</th>\n      <td>2001-04-09</td>\n      <td>Australia</td>\n      <td>Tonga</td>\n      <td>22</td>\n      <td>0</td>\n      <td>FIFA World Cup qualification</td>\n      <td>Australia</td>\n      <td>0</td>\n      <td>11</td>\n      <td>180</td>\n      <td>...</td>\n      <td>479.0</td>\n      <td>98.0</td>\n      <td>1</td>\n      <td>-3</td>\n      <td>3</td>\n      <td>Australia_Tonga</td>\n      <td>6.0</td>\n      <td>9.0</td>\n      <td>9.0</td>\n      <td>6.0</td>\n    </tr>\n    <tr>\n      <th>5598</th>\n      <td>2001-04-11</td>\n      <td>Australia</td>\n      <td>American Samoa</td>\n      <td>31</td>\n      <td>0</td>\n      <td>FIFA World Cup qualification</td>\n      <td>Australia</td>\n      <td>0</td>\n      <td>11</td>\n      <td>3</td>\n      <td>...</td>\n      <td>479.0</td>\n      <td>8.0</td>\n      <td>1</td>\n      <td>-1</td>\n      <td>1</td>\n      <td>American Samoa_Australia</td>\n      <td>8.0</td>\n      <td>9.0</td>\n      <td>9.0</td>\n      <td>8.0</td>\n    </tr>\n    <tr>\n      <th>5609</th>\n      <td>2001-04-16</td>\n      <td>Australia</td>\n      <td>Samoa</td>\n      <td>11</td>\n      <td>0</td>\n      <td>FIFA World Cup qualification</td>\n      <td>Australia</td>\n      <td>0</td>\n      <td>11</td>\n      <td>151</td>\n      <td>...</td>\n      <td>479.0</td>\n      <td>140.0</td>\n      <td>0</td>\n      <td>-6</td>\n      <td>6</td>\n      <td>Australia_Samoa</td>\n      <td>5.0</td>\n      <td>11.0</td>\n      <td>11.0</td>\n      <td>5.0</td>\n    </tr>\n  </tbody>\n</table>\n<p>5 rows × 27 columns</p>\n</div>"
     },
     "execution_count": 157,
     "metadata": {},
     "output_type": "execute_result"
    }
   ],
   "source": [
    "game_results.loc[((game_results['home_team'] == 'Australia') | (game_results['away_team'] == 'Australia')) & (game_results['date'] < '2001-06-02') & (game_results['home_score'] > 10)].tail(5)"
   ]
  },
  {
   "cell_type": "markdown",
   "metadata": {
    "collapsed": false
   },
   "source": [
    "### Oh! Seems like that was not an error and it actually happened. Let's move on."
   ]
  },
  {
   "cell_type": "markdown",
   "metadata": {
    "collapsed": false
   },
   "source": [
    "### Days since the last match played"
   ]
  },
  {
   "cell_type": "code",
   "execution_count": 158,
   "metadata": {
    "collapsed": false,
    "ExecuteTime": {
     "end_time": "2023-12-01T16:43:16.450376Z",
     "start_time": "2023-12-01T16:43:16.437536Z"
    }
   },
   "outputs": [
    {
     "data": {
      "text/plain": "days_since_last_match_home\n4.0       1474\n3.0       1293\n2.0        882\n35.0       830\n5.0        549\n          ... \n675.0        1\n1154.0       1\n1193.0       1\n1175.0       1\n898.0        1\nName: count, Length: 827, dtype: int64"
     },
     "execution_count": 158,
     "metadata": {},
     "output_type": "execute_result"
    }
   ],
   "source": [
    "# Create a new column 'days_since_last_match' to represent the days since the last match for each team\n",
    "game_results['days_since_last_match_home'] = game_results.groupby('home_team')['date'].diff().dt.days\n",
    "game_results['days_since_last_match_away'] = game_results.groupby('away_team')['date'].diff().dt.days\n",
    "\n",
    "# Fill NaN values with a default value (e.g., 0)\n",
    "game_results['days_since_last_match_home'] = game_results['days_since_last_match_home'].fillna(0)\n",
    "game_results['days_since_last_match_away'] = game_results['days_since_last_match_away'].fillna(0)\n",
    "\n",
    "game_results['days_since_last_match_home'].value_counts()"
   ]
  },
  {
   "cell_type": "code",
   "execution_count": 159,
   "metadata": {
    "collapsed": false,
    "ExecuteTime": {
     "end_time": "2023-12-01T16:43:16.450462Z",
     "start_time": "2023-12-01T16:43:16.443836Z"
    }
   },
   "outputs": [
    {
     "data": {
      "text/plain": "Index(['date', 'home_team', 'away_team', 'home_score', 'away_score',\n       'tournament', 'country', 'neutral', 'home_code', 'away_code',\n       'hosting_country_code', 'final_score', 'tournament_code',\n       'most_recent_rank_home', 'most_recent_rank_away',\n       'most_recent_rank_difference', 'home_advantage', 'home_fifa_pts',\n       'away_fifa_pts', 'head_to_head_last_5', 'goal_difference_last_5_home',\n       'goal_difference_last_5_away', 'match_id', 'score_last_5_home',\n       'score_last_5_away', 'conceded_last_5_home', 'conceded_last_5_away',\n       'days_since_last_match_home', 'days_since_last_match_away'],\n      dtype='object')"
     },
     "execution_count": 159,
     "metadata": {},
     "output_type": "execute_result"
    }
   ],
   "source": [
    "game_results.columns"
   ]
  },
  {
   "cell_type": "code",
   "execution_count": 160,
   "metadata": {
    "ExecuteTime": {
     "end_time": "2023-12-01T16:43:16.450561Z",
     "start_time": "2023-12-01T16:43:16.447052Z"
    }
   },
   "outputs": [
    {
     "data": {
      "text/plain": "date                           datetime64[ns]\nhome_team                              object\naway_team                              object\nhome_score                              int64\naway_score                              int64\ntournament                             object\ncountry                                object\nneutral                                 int64\nhome_code                               int16\naway_code                               int16\nhosting_country_code                    int64\nfinal_score                             int64\ntournament_code                         int64\nmost_recent_rank_home                 float64\nmost_recent_rank_away                 float64\nmost_recent_rank_difference           float64\nhome_advantage                          int64\nhome_fifa_pts                         float64\naway_fifa_pts                         float64\nhead_to_head_last_5                     int64\ngoal_difference_last_5_home             int64\ngoal_difference_last_5_away             int64\nmatch_id                               object\nscore_last_5_home                     float64\nscore_last_5_away                     float64\nconceded_last_5_home                  float64\nconceded_last_5_away                  float64\ndays_since_last_match_home            float64\ndays_since_last_match_away            float64\ndtype: object"
     },
     "execution_count": 160,
     "metadata": {},
     "output_type": "execute_result"
    }
   ],
   "source": [
    "game_results.dtypes"
   ]
  },
  {
   "cell_type": "code",
   "execution_count": 161,
   "metadata": {
    "ExecuteTime": {
     "end_time": "2023-12-01T16:43:16.497471Z",
     "start_time": "2023-12-01T16:43:16.450080Z"
    }
   },
   "outputs": [
    {
     "data": {
      "text/plain": "            date     home_team    away_team  home_score  away_score  \\\n202   1993-04-18  Saudi Arabia  New Zealand           3           1   \n211   1993-04-24  Saudi Arabia  New Zealand           1           0   \n273   1993-05-14  Saudi Arabia        Macau           8           0   \n277   1993-05-16  Saudi Arabia     Malaysia           3           0   \n280   1993-05-18  Saudi Arabia       Kuwait           2           0   \n...          ...           ...          ...         ...         ...   \n22733 2022-11-30  Saudi Arabia       Mexico           1           2   \n22780 2023-01-12  Saudi Arabia         Oman           1           2   \n22830 2023-03-24  Saudi Arabia    Venezuela           1           2   \n22926 2023-03-28  Saudi Arabia      Bolivia           1           2   \n23412 2023-11-16  Saudi Arabia     Pakistan           4           0   \n\n                         tournament       country  neutral  home_code  \\\n202                        Friendly     Singapore        1        153   \n211                        Friendly     Singapore        1        153   \n273    FIFA World Cup qualification  Saudi Arabia        0        153   \n277    FIFA World Cup qualification  Saudi Arabia        0        153   \n280    FIFA World Cup qualification  Saudi Arabia        0        153   \n...                             ...           ...      ...        ...   \n22733                FIFA World Cup         Qatar        1        153   \n22780                      Gulf Cup          Iraq        1        153   \n22830                      Friendly  Saudi Arabia        0        153   \n22926                      Friendly  Saudi Arabia        0        153   \n23412  FIFA World Cup qualification  Saudi Arabia        0        153   \n\n       away_code  ...  head_to_head_last_5  goal_difference_last_5_home  \\\n202          128  ...                    2                            0   \n211          128  ...                    0                            1   \n273          107  ...                    1                           -1   \n277          110  ...                    0                            0   \n280           97  ...                    0                            4   \n...          ...  ...                  ...                          ...   \n22733        116  ...                    4                            5   \n22780        135  ...                    1                            2   \n22830        193  ...                    3                            4   \n22926         24  ...                    3                            4   \n23412        136  ...                    0                            0   \n\n       goal_difference_last_5_away                  match_id  \\\n202                              0  New Zealand_Saudi Arabia   \n211                             -1  New Zealand_Saudi Arabia   \n273                              1        Macau_Saudi Arabia   \n277                              0     Malaysia_Saudi Arabia   \n280                             -4       Kuwait_Saudi Arabia   \n...                            ...                       ...   \n22733                           -5       Mexico_Saudi Arabia   \n22780                           -2         Oman_Saudi Arabia   \n22830                           -4    Saudi Arabia_Venezuela   \n22926                           -4      Bolivia_Saudi Arabia   \n23412                            0     Pakistan_Saudi Arabia   \n\n       score_last_5_home  score_last_5_away  conceded_last_5_home  \\\n202                 10.0               10.0                  10.0   \n211                  2.0                1.0                   1.0   \n273                  6.0                7.0                   7.0   \n277                  0.0                0.0                   0.0   \n280                  5.0                1.0                   1.0   \n...                  ...                ...                   ...   \n22733                9.0                4.0                   4.0   \n22780                2.0                0.0                   0.0   \n22830                9.0                5.0                   5.0   \n22926                7.0                3.0                   3.0   \n23412                1.0                1.0                   1.0   \n\n       conceded_last_5_away  days_since_last_match_home  \\\n202                    10.0                         0.0   \n211                     2.0                         6.0   \n273                     6.0                        20.0   \n277                     0.0                         2.0   \n280                     5.0                         2.0   \n...                     ...                         ...   \n22733                   9.0                        14.0   \n22780                   2.0                        43.0   \n22830                   9.0                        71.0   \n22926                   7.0                         4.0   \n23412                   1.0                       233.0   \n\n       days_since_last_match_away  \n202                           0.0  \n211                           6.0  \n273                           9.0  \n277                           2.0  \n280                          15.0  \n...                           ...  \n22733                         4.0  \n22780                         6.0  \n22830                       124.0  \n22926                         4.0  \n23412                        35.0  \n\n[276 rows x 29 columns]",
      "text/html": "<div>\n<style scoped>\n    .dataframe tbody tr th:only-of-type {\n        vertical-align: middle;\n    }\n\n    .dataframe tbody tr th {\n        vertical-align: top;\n    }\n\n    .dataframe thead th {\n        text-align: right;\n    }\n</style>\n<table border=\"1\" class=\"dataframe\">\n  <thead>\n    <tr style=\"text-align: right;\">\n      <th></th>\n      <th>date</th>\n      <th>home_team</th>\n      <th>away_team</th>\n      <th>home_score</th>\n      <th>away_score</th>\n      <th>tournament</th>\n      <th>country</th>\n      <th>neutral</th>\n      <th>home_code</th>\n      <th>away_code</th>\n      <th>...</th>\n      <th>head_to_head_last_5</th>\n      <th>goal_difference_last_5_home</th>\n      <th>goal_difference_last_5_away</th>\n      <th>match_id</th>\n      <th>score_last_5_home</th>\n      <th>score_last_5_away</th>\n      <th>conceded_last_5_home</th>\n      <th>conceded_last_5_away</th>\n      <th>days_since_last_match_home</th>\n      <th>days_since_last_match_away</th>\n    </tr>\n  </thead>\n  <tbody>\n    <tr>\n      <th>202</th>\n      <td>1993-04-18</td>\n      <td>Saudi Arabia</td>\n      <td>New Zealand</td>\n      <td>3</td>\n      <td>1</td>\n      <td>Friendly</td>\n      <td>Singapore</td>\n      <td>1</td>\n      <td>153</td>\n      <td>128</td>\n      <td>...</td>\n      <td>2</td>\n      <td>0</td>\n      <td>0</td>\n      <td>New Zealand_Saudi Arabia</td>\n      <td>10.0</td>\n      <td>10.0</td>\n      <td>10.0</td>\n      <td>10.0</td>\n      <td>0.0</td>\n      <td>0.0</td>\n    </tr>\n    <tr>\n      <th>211</th>\n      <td>1993-04-24</td>\n      <td>Saudi Arabia</td>\n      <td>New Zealand</td>\n      <td>1</td>\n      <td>0</td>\n      <td>Friendly</td>\n      <td>Singapore</td>\n      <td>1</td>\n      <td>153</td>\n      <td>128</td>\n      <td>...</td>\n      <td>0</td>\n      <td>1</td>\n      <td>-1</td>\n      <td>New Zealand_Saudi Arabia</td>\n      <td>2.0</td>\n      <td>1.0</td>\n      <td>1.0</td>\n      <td>2.0</td>\n      <td>6.0</td>\n      <td>6.0</td>\n    </tr>\n    <tr>\n      <th>273</th>\n      <td>1993-05-14</td>\n      <td>Saudi Arabia</td>\n      <td>Macau</td>\n      <td>8</td>\n      <td>0</td>\n      <td>FIFA World Cup qualification</td>\n      <td>Saudi Arabia</td>\n      <td>0</td>\n      <td>153</td>\n      <td>107</td>\n      <td>...</td>\n      <td>1</td>\n      <td>-1</td>\n      <td>1</td>\n      <td>Macau_Saudi Arabia</td>\n      <td>6.0</td>\n      <td>7.0</td>\n      <td>7.0</td>\n      <td>6.0</td>\n      <td>20.0</td>\n      <td>9.0</td>\n    </tr>\n    <tr>\n      <th>277</th>\n      <td>1993-05-16</td>\n      <td>Saudi Arabia</td>\n      <td>Malaysia</td>\n      <td>3</td>\n      <td>0</td>\n      <td>FIFA World Cup qualification</td>\n      <td>Saudi Arabia</td>\n      <td>0</td>\n      <td>153</td>\n      <td>110</td>\n      <td>...</td>\n      <td>0</td>\n      <td>0</td>\n      <td>0</td>\n      <td>Malaysia_Saudi Arabia</td>\n      <td>0.0</td>\n      <td>0.0</td>\n      <td>0.0</td>\n      <td>0.0</td>\n      <td>2.0</td>\n      <td>2.0</td>\n    </tr>\n    <tr>\n      <th>280</th>\n      <td>1993-05-18</td>\n      <td>Saudi Arabia</td>\n      <td>Kuwait</td>\n      <td>2</td>\n      <td>0</td>\n      <td>FIFA World Cup qualification</td>\n      <td>Saudi Arabia</td>\n      <td>0</td>\n      <td>153</td>\n      <td>97</td>\n      <td>...</td>\n      <td>0</td>\n      <td>4</td>\n      <td>-4</td>\n      <td>Kuwait_Saudi Arabia</td>\n      <td>5.0</td>\n      <td>1.0</td>\n      <td>1.0</td>\n      <td>5.0</td>\n      <td>2.0</td>\n      <td>15.0</td>\n    </tr>\n    <tr>\n      <th>...</th>\n      <td>...</td>\n      <td>...</td>\n      <td>...</td>\n      <td>...</td>\n      <td>...</td>\n      <td>...</td>\n      <td>...</td>\n      <td>...</td>\n      <td>...</td>\n      <td>...</td>\n      <td>...</td>\n      <td>...</td>\n      <td>...</td>\n      <td>...</td>\n      <td>...</td>\n      <td>...</td>\n      <td>...</td>\n      <td>...</td>\n      <td>...</td>\n      <td>...</td>\n      <td>...</td>\n    </tr>\n    <tr>\n      <th>22733</th>\n      <td>2022-11-30</td>\n      <td>Saudi Arabia</td>\n      <td>Mexico</td>\n      <td>1</td>\n      <td>2</td>\n      <td>FIFA World Cup</td>\n      <td>Qatar</td>\n      <td>1</td>\n      <td>153</td>\n      <td>116</td>\n      <td>...</td>\n      <td>4</td>\n      <td>5</td>\n      <td>-5</td>\n      <td>Mexico_Saudi Arabia</td>\n      <td>9.0</td>\n      <td>4.0</td>\n      <td>4.0</td>\n      <td>9.0</td>\n      <td>14.0</td>\n      <td>4.0</td>\n    </tr>\n    <tr>\n      <th>22780</th>\n      <td>2023-01-12</td>\n      <td>Saudi Arabia</td>\n      <td>Oman</td>\n      <td>1</td>\n      <td>2</td>\n      <td>Gulf Cup</td>\n      <td>Iraq</td>\n      <td>1</td>\n      <td>153</td>\n      <td>135</td>\n      <td>...</td>\n      <td>1</td>\n      <td>2</td>\n      <td>-2</td>\n      <td>Oman_Saudi Arabia</td>\n      <td>2.0</td>\n      <td>0.0</td>\n      <td>0.0</td>\n      <td>2.0</td>\n      <td>43.0</td>\n      <td>6.0</td>\n    </tr>\n    <tr>\n      <th>22830</th>\n      <td>2023-03-24</td>\n      <td>Saudi Arabia</td>\n      <td>Venezuela</td>\n      <td>1</td>\n      <td>2</td>\n      <td>Friendly</td>\n      <td>Saudi Arabia</td>\n      <td>0</td>\n      <td>153</td>\n      <td>193</td>\n      <td>...</td>\n      <td>3</td>\n      <td>4</td>\n      <td>-4</td>\n      <td>Saudi Arabia_Venezuela</td>\n      <td>9.0</td>\n      <td>5.0</td>\n      <td>5.0</td>\n      <td>9.0</td>\n      <td>71.0</td>\n      <td>124.0</td>\n    </tr>\n    <tr>\n      <th>22926</th>\n      <td>2023-03-28</td>\n      <td>Saudi Arabia</td>\n      <td>Bolivia</td>\n      <td>1</td>\n      <td>2</td>\n      <td>Friendly</td>\n      <td>Saudi Arabia</td>\n      <td>0</td>\n      <td>153</td>\n      <td>24</td>\n      <td>...</td>\n      <td>3</td>\n      <td>4</td>\n      <td>-4</td>\n      <td>Bolivia_Saudi Arabia</td>\n      <td>7.0</td>\n      <td>3.0</td>\n      <td>3.0</td>\n      <td>7.0</td>\n      <td>4.0</td>\n      <td>4.0</td>\n    </tr>\n    <tr>\n      <th>23412</th>\n      <td>2023-11-16</td>\n      <td>Saudi Arabia</td>\n      <td>Pakistan</td>\n      <td>4</td>\n      <td>0</td>\n      <td>FIFA World Cup qualification</td>\n      <td>Saudi Arabia</td>\n      <td>0</td>\n      <td>153</td>\n      <td>136</td>\n      <td>...</td>\n      <td>0</td>\n      <td>0</td>\n      <td>0</td>\n      <td>Pakistan_Saudi Arabia</td>\n      <td>1.0</td>\n      <td>1.0</td>\n      <td>1.0</td>\n      <td>1.0</td>\n      <td>233.0</td>\n      <td>35.0</td>\n    </tr>\n  </tbody>\n</table>\n<p>276 rows × 29 columns</p>\n</div>"
     },
     "metadata": {},
     "output_type": "display_data"
    }
   ],
   "source": [
    "# Let's look at Saudi Arabia's games\n",
    "results = game_results.loc[('Saudi Arabia' == game_results['home_team'])]\n",
    "display(results)"
   ]
  },
  {
   "cell_type": "markdown",
   "metadata": {
    "collapsed": false
   },
   "source": [
    "## Now we can work on the model"
   ]
  },
  {
   "cell_type": "markdown",
   "metadata": {
    "collapsed": false
   },
   "source": [
    "### We'll need to add more features to improve the results"
   ]
  },
  {
   "cell_type": "code",
   "execution_count": 162,
   "metadata": {
    "collapsed": false,
    "ExecuteTime": {
     "end_time": "2023-12-01T16:43:16.666720Z",
     "start_time": "2023-12-01T16:43:16.460274Z"
    }
   },
   "outputs": [
    {
     "data": {
      "text/plain": "            date     home_team           away_team  home_score  away_score  \\\n0     1993-01-01         Ghana                Mali           1           1   \n1     1993-01-02         Gabon        Burkina Faso           1           1   \n2     1993-01-02        Kuwait             Lebanon           2           0   \n3     1993-01-03  Burkina Faso                Mali           1           0   \n4     1993-01-03         Gabon               Ghana           2           3   \n...          ...           ...                 ...         ...         ...   \n23521 2023-11-21         Nepal               Yemen           0           2   \n23501 2023-11-21     Nicaragua  Dominican Republic           0           0   \n23512 2023-11-21   Afghanistan              Kuwait           0           4   \n23523 2023-11-21    Bangladesh             Lebanon           1           1   \n23547 2023-11-21       Romania         Switzerland           1           0   \n\n                         tournament       country  neutral  home_code  \\\n0                          Friendly         Gabon        1         72   \n1                          Friendly         Gabon        0         68   \n2                          Friendly        Kuwait        0         97   \n3                          Friendly         Gabon        1         30   \n4                          Friendly         Gabon        0         68   \n...                             ...           ...      ...        ...   \n23521  FIFA World Cup qualification         Nepal        0        125   \n23501       CONCACAF Nations League     Nicaragua        0        129   \n23512  FIFA World Cup qualification  Saudi Arabia        1          0   \n23523  FIFA World Cup qualification    Bangladesh        0         16   \n23547       UEFA Euro qualification       Romania        0        148   \n\n       away_code  ...  score_last_5_home  score_last_5_away  \\\n0            112  ...                0.0                0.0   \n1             30  ...                2.0                2.0   \n2            100  ...                3.0                3.0   \n3            112  ...                7.0                3.0   \n4             72  ...                8.0                3.0   \n...          ...  ...                ...                ...   \n23521        196  ...                5.0                4.0   \n23501         54  ...                3.0                2.0   \n23512         97  ...               12.0                5.0   \n23523        100  ...                6.0                6.0   \n23547        171  ...                5.0               10.0   \n\n       conceded_last_5_home  conceded_last_5_away  days_since_last_match_home  \\\n0                       0.0                   0.0                         0.0   \n1                       2.0                   2.0                         0.0   \n2                       3.0                   3.0                         0.0   \n3                       3.0                   7.0                         0.0   \n4                       3.0                   8.0                         1.0   \n...                     ...                   ...                         ...   \n23521                   4.0                   5.0                        40.0   \n23501                   2.0                   3.0                        36.0   \n23512                   5.0                  12.0                        40.0   \n23523                   6.0                   6.0                        35.0   \n23547                  10.0                   5.0                        37.0   \n\n       days_since_last_match_away  wins_last_10_games_home  \\\n0                             0.0                        0   \n1                             0.0                        0   \n2                             0.0                        0   \n3                             2.0                        0   \n4                             0.0                        0   \n...                           ...                      ...   \n23521                        35.0                        4   \n23501                         4.0                        8   \n23512                        29.0                        4   \n23523                        35.0                        5   \n23547                         6.0                        4   \n\n       wins_last_10_games_away                 home_match_id  \\\n0                            1                    Ghana_Mali   \n1                            2            Burkina Faso_Gabon   \n2                            3                Kuwait_Lebanon   \n3                            4             Burkina Faso_Mali   \n4                            5                   Gabon_Ghana   \n...                        ...                           ...   \n23521                        3                   Nepal_Yemen   \n23501                        3  Dominican Republic_Nicaragua   \n23512                        2            Afghanistan_Kuwait   \n23523                        3            Bangladesh_Lebanon   \n23547                        7           Romania_Switzerland   \n\n                      away_match_id  \n0                        Ghana_Mali  \n1                Burkina Faso_Gabon  \n2                    Kuwait_Lebanon  \n3                 Burkina Faso_Mali  \n4                       Gabon_Ghana  \n...                             ...  \n23521                   Nepal_Yemen  \n23501  Dominican Republic_Nicaragua  \n23512            Afghanistan_Kuwait  \n23523            Bangladesh_Lebanon  \n23547           Romania_Switzerland  \n\n[23548 rows x 33 columns]",
      "text/html": "<div>\n<style scoped>\n    .dataframe tbody tr th:only-of-type {\n        vertical-align: middle;\n    }\n\n    .dataframe tbody tr th {\n        vertical-align: top;\n    }\n\n    .dataframe thead th {\n        text-align: right;\n    }\n</style>\n<table border=\"1\" class=\"dataframe\">\n  <thead>\n    <tr style=\"text-align: right;\">\n      <th></th>\n      <th>date</th>\n      <th>home_team</th>\n      <th>away_team</th>\n      <th>home_score</th>\n      <th>away_score</th>\n      <th>tournament</th>\n      <th>country</th>\n      <th>neutral</th>\n      <th>home_code</th>\n      <th>away_code</th>\n      <th>...</th>\n      <th>score_last_5_home</th>\n      <th>score_last_5_away</th>\n      <th>conceded_last_5_home</th>\n      <th>conceded_last_5_away</th>\n      <th>days_since_last_match_home</th>\n      <th>days_since_last_match_away</th>\n      <th>wins_last_10_games_home</th>\n      <th>wins_last_10_games_away</th>\n      <th>home_match_id</th>\n      <th>away_match_id</th>\n    </tr>\n  </thead>\n  <tbody>\n    <tr>\n      <th>0</th>\n      <td>1993-01-01</td>\n      <td>Ghana</td>\n      <td>Mali</td>\n      <td>1</td>\n      <td>1</td>\n      <td>Friendly</td>\n      <td>Gabon</td>\n      <td>1</td>\n      <td>72</td>\n      <td>112</td>\n      <td>...</td>\n      <td>0.0</td>\n      <td>0.0</td>\n      <td>0.0</td>\n      <td>0.0</td>\n      <td>0.0</td>\n      <td>0.0</td>\n      <td>0</td>\n      <td>1</td>\n      <td>Ghana_Mali</td>\n      <td>Ghana_Mali</td>\n    </tr>\n    <tr>\n      <th>1</th>\n      <td>1993-01-02</td>\n      <td>Gabon</td>\n      <td>Burkina Faso</td>\n      <td>1</td>\n      <td>1</td>\n      <td>Friendly</td>\n      <td>Gabon</td>\n      <td>0</td>\n      <td>68</td>\n      <td>30</td>\n      <td>...</td>\n      <td>2.0</td>\n      <td>2.0</td>\n      <td>2.0</td>\n      <td>2.0</td>\n      <td>0.0</td>\n      <td>0.0</td>\n      <td>0</td>\n      <td>2</td>\n      <td>Burkina Faso_Gabon</td>\n      <td>Burkina Faso_Gabon</td>\n    </tr>\n    <tr>\n      <th>2</th>\n      <td>1993-01-02</td>\n      <td>Kuwait</td>\n      <td>Lebanon</td>\n      <td>2</td>\n      <td>0</td>\n      <td>Friendly</td>\n      <td>Kuwait</td>\n      <td>0</td>\n      <td>97</td>\n      <td>100</td>\n      <td>...</td>\n      <td>3.0</td>\n      <td>3.0</td>\n      <td>3.0</td>\n      <td>3.0</td>\n      <td>0.0</td>\n      <td>0.0</td>\n      <td>0</td>\n      <td>3</td>\n      <td>Kuwait_Lebanon</td>\n      <td>Kuwait_Lebanon</td>\n    </tr>\n    <tr>\n      <th>3</th>\n      <td>1993-01-03</td>\n      <td>Burkina Faso</td>\n      <td>Mali</td>\n      <td>1</td>\n      <td>0</td>\n      <td>Friendly</td>\n      <td>Gabon</td>\n      <td>1</td>\n      <td>30</td>\n      <td>112</td>\n      <td>...</td>\n      <td>7.0</td>\n      <td>3.0</td>\n      <td>3.0</td>\n      <td>7.0</td>\n      <td>0.0</td>\n      <td>2.0</td>\n      <td>0</td>\n      <td>4</td>\n      <td>Burkina Faso_Mali</td>\n      <td>Burkina Faso_Mali</td>\n    </tr>\n    <tr>\n      <th>4</th>\n      <td>1993-01-03</td>\n      <td>Gabon</td>\n      <td>Ghana</td>\n      <td>2</td>\n      <td>3</td>\n      <td>Friendly</td>\n      <td>Gabon</td>\n      <td>0</td>\n      <td>68</td>\n      <td>72</td>\n      <td>...</td>\n      <td>8.0</td>\n      <td>3.0</td>\n      <td>3.0</td>\n      <td>8.0</td>\n      <td>1.0</td>\n      <td>0.0</td>\n      <td>0</td>\n      <td>5</td>\n      <td>Gabon_Ghana</td>\n      <td>Gabon_Ghana</td>\n    </tr>\n    <tr>\n      <th>...</th>\n      <td>...</td>\n      <td>...</td>\n      <td>...</td>\n      <td>...</td>\n      <td>...</td>\n      <td>...</td>\n      <td>...</td>\n      <td>...</td>\n      <td>...</td>\n      <td>...</td>\n      <td>...</td>\n      <td>...</td>\n      <td>...</td>\n      <td>...</td>\n      <td>...</td>\n      <td>...</td>\n      <td>...</td>\n      <td>...</td>\n      <td>...</td>\n      <td>...</td>\n      <td>...</td>\n    </tr>\n    <tr>\n      <th>23521</th>\n      <td>2023-11-21</td>\n      <td>Nepal</td>\n      <td>Yemen</td>\n      <td>0</td>\n      <td>2</td>\n      <td>FIFA World Cup qualification</td>\n      <td>Nepal</td>\n      <td>0</td>\n      <td>125</td>\n      <td>196</td>\n      <td>...</td>\n      <td>5.0</td>\n      <td>4.0</td>\n      <td>4.0</td>\n      <td>5.0</td>\n      <td>40.0</td>\n      <td>35.0</td>\n      <td>4</td>\n      <td>3</td>\n      <td>Nepal_Yemen</td>\n      <td>Nepal_Yemen</td>\n    </tr>\n    <tr>\n      <th>23501</th>\n      <td>2023-11-21</td>\n      <td>Nicaragua</td>\n      <td>Dominican Republic</td>\n      <td>0</td>\n      <td>0</td>\n      <td>CONCACAF Nations League</td>\n      <td>Nicaragua</td>\n      <td>0</td>\n      <td>129</td>\n      <td>54</td>\n      <td>...</td>\n      <td>3.0</td>\n      <td>2.0</td>\n      <td>2.0</td>\n      <td>3.0</td>\n      <td>36.0</td>\n      <td>4.0</td>\n      <td>8</td>\n      <td>3</td>\n      <td>Dominican Republic_Nicaragua</td>\n      <td>Dominican Republic_Nicaragua</td>\n    </tr>\n    <tr>\n      <th>23512</th>\n      <td>2023-11-21</td>\n      <td>Afghanistan</td>\n      <td>Kuwait</td>\n      <td>0</td>\n      <td>4</td>\n      <td>FIFA World Cup qualification</td>\n      <td>Saudi Arabia</td>\n      <td>1</td>\n      <td>0</td>\n      <td>97</td>\n      <td>...</td>\n      <td>12.0</td>\n      <td>5.0</td>\n      <td>5.0</td>\n      <td>12.0</td>\n      <td>40.0</td>\n      <td>29.0</td>\n      <td>4</td>\n      <td>2</td>\n      <td>Afghanistan_Kuwait</td>\n      <td>Afghanistan_Kuwait</td>\n    </tr>\n    <tr>\n      <th>23523</th>\n      <td>2023-11-21</td>\n      <td>Bangladesh</td>\n      <td>Lebanon</td>\n      <td>1</td>\n      <td>1</td>\n      <td>FIFA World Cup qualification</td>\n      <td>Bangladesh</td>\n      <td>0</td>\n      <td>16</td>\n      <td>100</td>\n      <td>...</td>\n      <td>6.0</td>\n      <td>6.0</td>\n      <td>6.0</td>\n      <td>6.0</td>\n      <td>35.0</td>\n      <td>35.0</td>\n      <td>5</td>\n      <td>3</td>\n      <td>Bangladesh_Lebanon</td>\n      <td>Bangladesh_Lebanon</td>\n    </tr>\n    <tr>\n      <th>23547</th>\n      <td>2023-11-21</td>\n      <td>Romania</td>\n      <td>Switzerland</td>\n      <td>1</td>\n      <td>0</td>\n      <td>UEFA Euro qualification</td>\n      <td>Romania</td>\n      <td>0</td>\n      <td>148</td>\n      <td>171</td>\n      <td>...</td>\n      <td>5.0</td>\n      <td>10.0</td>\n      <td>10.0</td>\n      <td>5.0</td>\n      <td>37.0</td>\n      <td>6.0</td>\n      <td>4</td>\n      <td>7</td>\n      <td>Romania_Switzerland</td>\n      <td>Romania_Switzerland</td>\n    </tr>\n  </tbody>\n</table>\n<p>23548 rows × 33 columns</p>\n</div>"
     },
     "execution_count": 162,
     "metadata": {},
     "output_type": "execute_result"
    }
   ],
   "source": [
    "\n",
    "# We'll create new columns 'wins_last_10_games_home' and 'wins_last_10_games_away' with NaN values\n",
    "game_results['wins_last_10_games_home'] = pd.Series(dtype=float)\n",
    "game_results['wins_last_10_games_away'] = pd.Series(dtype=float)\n",
    "\n",
    "# Sort the dataframe by date\n",
    "game_results = game_results.sort_values(by='date')\n",
    "\n",
    "# Combine home and away teams to create a unique identifier for each match\n",
    "game_results['home_match_id'] = game_results.apply(lambda row: '_'.join(sorted([row['home_team'], row['away_team']])), axis=1)\n",
    "game_results['away_match_id'] = game_results.apply(lambda row: '_'.join(sorted([row['away_team'], row['home_team']])), axis=1)\n",
    "\n",
    "# Define a function to calculate the rolling sum of wins in the last 10 games for each team\n",
    "def calculate_rolling_wins_last_10(series):\n",
    "    return (series == 2).rolling(window=10, min_periods=1).sum()\n",
    "\n",
    "# Apply the rolling sum function to calculate wins in the last 10 games for home_team and away_team\n",
    "game_results['wins_last_10_games_home'] = game_results.groupby('home_team')['final_score'].apply(calculate_rolling_wins_last_10).reset_index(drop=True)\n",
    "game_results['wins_last_10_games_away'] = game_results.groupby('away_team')['final_score'].apply(calculate_rolling_wins_last_10).reset_index(drop=True)\n",
    "\n",
    "# Ensure 'wins_last_10_games_home' and 'wins_last_10_games_away' are of integer type\n",
    "game_results[['wins_last_10_games_home', 'wins_last_10_games_away']] = game_results[['wins_last_10_games_home', 'wins_last_10_games_away']].astype(int)\n",
    "\n",
    "game_results"
   ]
  },
  {
   "cell_type": "markdown",
   "source": [
    "### Refine the features to only include important ones\n",
    "We get rid of `object` columns and `x_score` columns because giving the score makes no sense. We'll use `game_results_ready` in order to keep the original game_results dataframe for functions that use it."
   ],
   "metadata": {
    "collapsed": false
   }
  },
  {
   "cell_type": "code",
   "execution_count": 180,
   "outputs": [
    {
     "data": {
      "text/plain": "            date              home_team     away_team  home_score  away_score  \\\n0     1993-01-01                  Ghana          Mali           1           1   \n1     1993-01-02                  Gabon  Burkina Faso           1           1   \n2     1993-01-02                 Kuwait       Lebanon           2           0   \n3     1993-01-03           Burkina Faso          Mali           1           0   \n4     1993-01-03                  Gabon         Ghana           2           3   \n...          ...                    ...           ...         ...         ...   \n23536 2023-11-21  São Tomé and Príncipe       Namibia           0           2   \n23533 2023-11-21                Somalia        Uganda           0           1   \n23537 2023-11-21                Comoros         Ghana           1           0   \n23546 2023-11-21                 Kosovo       Belarus           0           1   \n23547 2023-11-21                Romania   Switzerland           1           0   \n\n                         tournament  country  neutral  home_code  away_code  \\\n0                          Friendly    Gabon        1         72        112   \n1                          Friendly    Gabon        0         68         30   \n2                          Friendly   Kuwait        0         97        100   \n3                          Friendly    Gabon        1         30        112   \n4                          Friendly    Gabon        0         68         72   \n...                             ...      ...      ...        ...        ...   \n23536  FIFA World Cup qualification  Morocco        1        173        124   \n23533  FIFA World Cup qualification  Morocco        1        163        186   \n23537  FIFA World Cup qualification  Comoros        0         41         72   \n23546       UEFA Euro qualification   Kosovo        0         96         18   \n23547       UEFA Euro qualification  Romania        0        148        171   \n\n       ...  conceded_last_5_home  conceded_last_5_away  \\\n0      ...                     4                     1   \n1      ...                     5                     5   \n2      ...                     7                    16   \n3      ...                     9                    20   \n4      ...                    12                    29   \n...    ...                   ...                   ...   \n23536  ...                     2                     2   \n23533  ...                     1                     3   \n23537  ...                     2                     1   \n23546  ...                     5                     7   \n23547  ...                     4                     4   \n\n       days_since_last_match_home  days_since_last_match_away  \\\n0                             0.0                         0.0   \n1                             0.0                         0.0   \n2                             0.0                         0.0   \n3                             0.0                         2.0   \n4                             1.0                         0.0   \n...                           ...                         ...   \n23536                       240.0                         6.0   \n23533                        35.0                         4.0   \n23537                         4.0                        35.0   \n23546                         9.0                        37.0   \n23547                        37.0                         6.0   \n\n       wins_last_10_games_home  wins_last_10_games_away  \\\n0                            0                        1   \n1                            0                        2   \n2                            0                        3   \n3                            0                        4   \n4                            0                        5   \n...                        ...                      ...   \n23536                        5                        2   \n23533                        6                        2   \n23537                        5                        2   \n23546                        4                        7   \n23547                        4                        7   \n\n                       home_match_id                  away_match_id  \\\n0                         Ghana_Mali                     Ghana_Mali   \n1                 Burkina Faso_Gabon             Burkina Faso_Gabon   \n2                     Kuwait_Lebanon                 Kuwait_Lebanon   \n3                  Burkina Faso_Mali              Burkina Faso_Mali   \n4                        Gabon_Ghana                    Gabon_Ghana   \n...                              ...                            ...   \n23536  Namibia_São Tomé and Príncipe  Namibia_São Tomé and Príncipe   \n23533                 Somalia_Uganda                 Somalia_Uganda   \n23537                  Comoros_Ghana                  Comoros_Ghana   \n23546                 Belarus_Kosovo                 Belarus_Kosovo   \n23547            Romania_Switzerland            Romania_Switzerland   \n\n       scored_last_5_home  scored_last_5_away  \n0                       0                   0  \n1                       0                   0  \n2                       0                   0  \n3                       1                   0  \n4                       2                   1  \n...                   ...                 ...  \n23536                   6                   3  \n23533                  10                   5  \n23537                   5                   3  \n23546                   3                   2  \n23547                   4                   1  \n\n[23548 rows x 35 columns]",
      "text/html": "<div>\n<style scoped>\n    .dataframe tbody tr th:only-of-type {\n        vertical-align: middle;\n    }\n\n    .dataframe tbody tr th {\n        vertical-align: top;\n    }\n\n    .dataframe thead th {\n        text-align: right;\n    }\n</style>\n<table border=\"1\" class=\"dataframe\">\n  <thead>\n    <tr style=\"text-align: right;\">\n      <th></th>\n      <th>date</th>\n      <th>home_team</th>\n      <th>away_team</th>\n      <th>home_score</th>\n      <th>away_score</th>\n      <th>tournament</th>\n      <th>country</th>\n      <th>neutral</th>\n      <th>home_code</th>\n      <th>away_code</th>\n      <th>...</th>\n      <th>conceded_last_5_home</th>\n      <th>conceded_last_5_away</th>\n      <th>days_since_last_match_home</th>\n      <th>days_since_last_match_away</th>\n      <th>wins_last_10_games_home</th>\n      <th>wins_last_10_games_away</th>\n      <th>home_match_id</th>\n      <th>away_match_id</th>\n      <th>scored_last_5_home</th>\n      <th>scored_last_5_away</th>\n    </tr>\n  </thead>\n  <tbody>\n    <tr>\n      <th>0</th>\n      <td>1993-01-01</td>\n      <td>Ghana</td>\n      <td>Mali</td>\n      <td>1</td>\n      <td>1</td>\n      <td>Friendly</td>\n      <td>Gabon</td>\n      <td>1</td>\n      <td>72</td>\n      <td>112</td>\n      <td>...</td>\n      <td>4</td>\n      <td>1</td>\n      <td>0.0</td>\n      <td>0.0</td>\n      <td>0</td>\n      <td>1</td>\n      <td>Ghana_Mali</td>\n      <td>Ghana_Mali</td>\n      <td>0</td>\n      <td>0</td>\n    </tr>\n    <tr>\n      <th>1</th>\n      <td>1993-01-02</td>\n      <td>Gabon</td>\n      <td>Burkina Faso</td>\n      <td>1</td>\n      <td>1</td>\n      <td>Friendly</td>\n      <td>Gabon</td>\n      <td>0</td>\n      <td>68</td>\n      <td>30</td>\n      <td>...</td>\n      <td>5</td>\n      <td>5</td>\n      <td>0.0</td>\n      <td>0.0</td>\n      <td>0</td>\n      <td>2</td>\n      <td>Burkina Faso_Gabon</td>\n      <td>Burkina Faso_Gabon</td>\n      <td>0</td>\n      <td>0</td>\n    </tr>\n    <tr>\n      <th>2</th>\n      <td>1993-01-02</td>\n      <td>Kuwait</td>\n      <td>Lebanon</td>\n      <td>2</td>\n      <td>0</td>\n      <td>Friendly</td>\n      <td>Kuwait</td>\n      <td>0</td>\n      <td>97</td>\n      <td>100</td>\n      <td>...</td>\n      <td>7</td>\n      <td>16</td>\n      <td>0.0</td>\n      <td>0.0</td>\n      <td>0</td>\n      <td>3</td>\n      <td>Kuwait_Lebanon</td>\n      <td>Kuwait_Lebanon</td>\n      <td>0</td>\n      <td>0</td>\n    </tr>\n    <tr>\n      <th>3</th>\n      <td>1993-01-03</td>\n      <td>Burkina Faso</td>\n      <td>Mali</td>\n      <td>1</td>\n      <td>0</td>\n      <td>Friendly</td>\n      <td>Gabon</td>\n      <td>1</td>\n      <td>30</td>\n      <td>112</td>\n      <td>...</td>\n      <td>9</td>\n      <td>20</td>\n      <td>0.0</td>\n      <td>2.0</td>\n      <td>0</td>\n      <td>4</td>\n      <td>Burkina Faso_Mali</td>\n      <td>Burkina Faso_Mali</td>\n      <td>1</td>\n      <td>0</td>\n    </tr>\n    <tr>\n      <th>4</th>\n      <td>1993-01-03</td>\n      <td>Gabon</td>\n      <td>Ghana</td>\n      <td>2</td>\n      <td>3</td>\n      <td>Friendly</td>\n      <td>Gabon</td>\n      <td>0</td>\n      <td>68</td>\n      <td>72</td>\n      <td>...</td>\n      <td>12</td>\n      <td>29</td>\n      <td>1.0</td>\n      <td>0.0</td>\n      <td>0</td>\n      <td>5</td>\n      <td>Gabon_Ghana</td>\n      <td>Gabon_Ghana</td>\n      <td>2</td>\n      <td>1</td>\n    </tr>\n    <tr>\n      <th>...</th>\n      <td>...</td>\n      <td>...</td>\n      <td>...</td>\n      <td>...</td>\n      <td>...</td>\n      <td>...</td>\n      <td>...</td>\n      <td>...</td>\n      <td>...</td>\n      <td>...</td>\n      <td>...</td>\n      <td>...</td>\n      <td>...</td>\n      <td>...</td>\n      <td>...</td>\n      <td>...</td>\n      <td>...</td>\n      <td>...</td>\n      <td>...</td>\n      <td>...</td>\n      <td>...</td>\n    </tr>\n    <tr>\n      <th>23536</th>\n      <td>2023-11-21</td>\n      <td>São Tomé and Príncipe</td>\n      <td>Namibia</td>\n      <td>0</td>\n      <td>2</td>\n      <td>FIFA World Cup qualification</td>\n      <td>Morocco</td>\n      <td>1</td>\n      <td>173</td>\n      <td>124</td>\n      <td>...</td>\n      <td>2</td>\n      <td>2</td>\n      <td>240.0</td>\n      <td>6.0</td>\n      <td>5</td>\n      <td>2</td>\n      <td>Namibia_São Tomé and Príncipe</td>\n      <td>Namibia_São Tomé and Príncipe</td>\n      <td>6</td>\n      <td>3</td>\n    </tr>\n    <tr>\n      <th>23533</th>\n      <td>2023-11-21</td>\n      <td>Somalia</td>\n      <td>Uganda</td>\n      <td>0</td>\n      <td>1</td>\n      <td>FIFA World Cup qualification</td>\n      <td>Morocco</td>\n      <td>1</td>\n      <td>163</td>\n      <td>186</td>\n      <td>...</td>\n      <td>1</td>\n      <td>3</td>\n      <td>35.0</td>\n      <td>4.0</td>\n      <td>6</td>\n      <td>2</td>\n      <td>Somalia_Uganda</td>\n      <td>Somalia_Uganda</td>\n      <td>10</td>\n      <td>5</td>\n    </tr>\n    <tr>\n      <th>23537</th>\n      <td>2023-11-21</td>\n      <td>Comoros</td>\n      <td>Ghana</td>\n      <td>1</td>\n      <td>0</td>\n      <td>FIFA World Cup qualification</td>\n      <td>Comoros</td>\n      <td>0</td>\n      <td>41</td>\n      <td>72</td>\n      <td>...</td>\n      <td>2</td>\n      <td>1</td>\n      <td>4.0</td>\n      <td>35.0</td>\n      <td>5</td>\n      <td>2</td>\n      <td>Comoros_Ghana</td>\n      <td>Comoros_Ghana</td>\n      <td>5</td>\n      <td>3</td>\n    </tr>\n    <tr>\n      <th>23546</th>\n      <td>2023-11-21</td>\n      <td>Kosovo</td>\n      <td>Belarus</td>\n      <td>0</td>\n      <td>1</td>\n      <td>UEFA Euro qualification</td>\n      <td>Kosovo</td>\n      <td>0</td>\n      <td>96</td>\n      <td>18</td>\n      <td>...</td>\n      <td>5</td>\n      <td>7</td>\n      <td>9.0</td>\n      <td>37.0</td>\n      <td>4</td>\n      <td>7</td>\n      <td>Belarus_Kosovo</td>\n      <td>Belarus_Kosovo</td>\n      <td>3</td>\n      <td>2</td>\n    </tr>\n    <tr>\n      <th>23547</th>\n      <td>2023-11-21</td>\n      <td>Romania</td>\n      <td>Switzerland</td>\n      <td>1</td>\n      <td>0</td>\n      <td>UEFA Euro qualification</td>\n      <td>Romania</td>\n      <td>0</td>\n      <td>148</td>\n      <td>171</td>\n      <td>...</td>\n      <td>4</td>\n      <td>4</td>\n      <td>37.0</td>\n      <td>6.0</td>\n      <td>4</td>\n      <td>7</td>\n      <td>Romania_Switzerland</td>\n      <td>Romania_Switzerland</td>\n      <td>4</td>\n      <td>1</td>\n    </tr>\n  </tbody>\n</table>\n<p>23548 rows × 35 columns</p>\n</div>"
     },
     "execution_count": 180,
     "metadata": {},
     "output_type": "execute_result"
    }
   ],
   "source": [
    "game_results"
   ],
   "metadata": {
    "collapsed": false,
    "ExecuteTime": {
     "end_time": "2023-12-01T17:20:58.539873Z",
     "start_time": "2023-12-01T17:20:58.489260Z"
    }
   }
  },
  {
   "cell_type": "code",
   "execution_count": 181,
   "metadata": {
    "collapsed": false,
    "ExecuteTime": {
     "end_time": "2023-12-01T17:21:14.659348Z",
     "start_time": "2023-12-01T17:21:14.642891Z"
    }
   },
   "outputs": [],
   "source": [
    "game_results_ready = game_results.drop(['home_team','away_team','home_score','away_score','tournament','country','date','match_id','home_match_id','away_match_id'],axis=1)"
   ]
  },
  {
   "cell_type": "code",
   "execution_count": 182,
   "metadata": {
    "collapsed": false,
    "ExecuteTime": {
     "end_time": "2023-12-01T17:21:15.570339Z",
     "start_time": "2023-12-01T17:21:15.522778Z"
    }
   },
   "outputs": [
    {
     "data": {
      "text/plain": "       neutral  home_code  away_code  hosting_country_code  final_score  \\\n0            1         72        112                    68            1   \n1            0         68         30                    68            1   \n2            0         97        100                    97            2   \n3            1         30        112                    68            2   \n4            0         68         72                    68            0   \n...        ...        ...        ...                   ...          ...   \n23536        1        173        124                   121            0   \n23533        1        163        186                   121            0   \n23537        0         41         72                    41            2   \n23546        0         96         18                    96            0   \n23547        0        148        171                   148            2   \n\n       tournament_code  most_recent_rank_home  most_recent_rank_away  \\\n0                    2                   48.0                   74.0   \n1                    2                   64.0                  113.0   \n2                    2                   60.0                  108.0   \n3                    2                  113.0                   74.0   \n4                    2                   64.0                   48.0   \n...                ...                    ...                    ...   \n23536                0                  184.0                  106.0   \n23533                0                  201.0                   89.0   \n23537                0                  131.0                   60.0   \n23546                0                  107.0                   98.0   \n23547                0                   46.0                   12.0   \n\n       most_recent_rank_difference  home_advantage  ...  score_last_5_home  \\\n0                            -26.0               0  ...                0.0   \n1                            -49.0               1  ...                2.0   \n2                            -48.0               1  ...                3.0   \n3                             39.0               0  ...                7.0   \n4                             16.0               1  ...                8.0   \n...                            ...             ...  ...                ...   \n23536                         78.0               0  ...               11.0   \n23533                        112.0               0  ...                5.0   \n23537                         71.0               1  ...                8.0   \n23546                          9.0               1  ...                6.0   \n23547                         34.0               1  ...                5.0   \n\n       score_last_5_away  conceded_last_5_home  conceded_last_5_away  \\\n0                    0.0                     4                     1   \n1                    2.0                     5                     5   \n2                    3.0                     7                    16   \n3                    3.0                     9                    20   \n4                    3.0                    12                    29   \n...                  ...                   ...                   ...   \n23536                2.0                     2                     2   \n23533                2.0                     1                     3   \n23537                1.0                     2                     1   \n23546               11.0                     5                     7   \n23547               10.0                     4                     4   \n\n       days_since_last_match_home  days_since_last_match_away  \\\n0                             0.0                         0.0   \n1                             0.0                         0.0   \n2                             0.0                         0.0   \n3                             0.0                         2.0   \n4                             1.0                         0.0   \n...                           ...                         ...   \n23536                       240.0                         6.0   \n23533                        35.0                         4.0   \n23537                         4.0                        35.0   \n23546                         9.0                        37.0   \n23547                        37.0                         6.0   \n\n       wins_last_10_games_home  wins_last_10_games_away  scored_last_5_home  \\\n0                            0                        1                   0   \n1                            0                        2                   0   \n2                            0                        3                   0   \n3                            0                        4                   1   \n4                            0                        5                   2   \n...                        ...                      ...                 ...   \n23536                        5                        2                   6   \n23533                        6                        2                  10   \n23537                        5                        2                   5   \n23546                        4                        7                   3   \n23547                        4                        7                   4   \n\n       scored_last_5_away  \n0                       0  \n1                       0  \n2                       0  \n3                       0  \n4                       1  \n...                   ...  \n23536                   3  \n23533                   5  \n23537                   3  \n23546                   2  \n23547                   1  \n\n[23548 rows x 25 columns]",
      "text/html": "<div>\n<style scoped>\n    .dataframe tbody tr th:only-of-type {\n        vertical-align: middle;\n    }\n\n    .dataframe tbody tr th {\n        vertical-align: top;\n    }\n\n    .dataframe thead th {\n        text-align: right;\n    }\n</style>\n<table border=\"1\" class=\"dataframe\">\n  <thead>\n    <tr style=\"text-align: right;\">\n      <th></th>\n      <th>neutral</th>\n      <th>home_code</th>\n      <th>away_code</th>\n      <th>hosting_country_code</th>\n      <th>final_score</th>\n      <th>tournament_code</th>\n      <th>most_recent_rank_home</th>\n      <th>most_recent_rank_away</th>\n      <th>most_recent_rank_difference</th>\n      <th>home_advantage</th>\n      <th>...</th>\n      <th>score_last_5_home</th>\n      <th>score_last_5_away</th>\n      <th>conceded_last_5_home</th>\n      <th>conceded_last_5_away</th>\n      <th>days_since_last_match_home</th>\n      <th>days_since_last_match_away</th>\n      <th>wins_last_10_games_home</th>\n      <th>wins_last_10_games_away</th>\n      <th>scored_last_5_home</th>\n      <th>scored_last_5_away</th>\n    </tr>\n  </thead>\n  <tbody>\n    <tr>\n      <th>0</th>\n      <td>1</td>\n      <td>72</td>\n      <td>112</td>\n      <td>68</td>\n      <td>1</td>\n      <td>2</td>\n      <td>48.0</td>\n      <td>74.0</td>\n      <td>-26.0</td>\n      <td>0</td>\n      <td>...</td>\n      <td>0.0</td>\n      <td>0.0</td>\n      <td>4</td>\n      <td>1</td>\n      <td>0.0</td>\n      <td>0.0</td>\n      <td>0</td>\n      <td>1</td>\n      <td>0</td>\n      <td>0</td>\n    </tr>\n    <tr>\n      <th>1</th>\n      <td>0</td>\n      <td>68</td>\n      <td>30</td>\n      <td>68</td>\n      <td>1</td>\n      <td>2</td>\n      <td>64.0</td>\n      <td>113.0</td>\n      <td>-49.0</td>\n      <td>1</td>\n      <td>...</td>\n      <td>2.0</td>\n      <td>2.0</td>\n      <td>5</td>\n      <td>5</td>\n      <td>0.0</td>\n      <td>0.0</td>\n      <td>0</td>\n      <td>2</td>\n      <td>0</td>\n      <td>0</td>\n    </tr>\n    <tr>\n      <th>2</th>\n      <td>0</td>\n      <td>97</td>\n      <td>100</td>\n      <td>97</td>\n      <td>2</td>\n      <td>2</td>\n      <td>60.0</td>\n      <td>108.0</td>\n      <td>-48.0</td>\n      <td>1</td>\n      <td>...</td>\n      <td>3.0</td>\n      <td>3.0</td>\n      <td>7</td>\n      <td>16</td>\n      <td>0.0</td>\n      <td>0.0</td>\n      <td>0</td>\n      <td>3</td>\n      <td>0</td>\n      <td>0</td>\n    </tr>\n    <tr>\n      <th>3</th>\n      <td>1</td>\n      <td>30</td>\n      <td>112</td>\n      <td>68</td>\n      <td>2</td>\n      <td>2</td>\n      <td>113.0</td>\n      <td>74.0</td>\n      <td>39.0</td>\n      <td>0</td>\n      <td>...</td>\n      <td>7.0</td>\n      <td>3.0</td>\n      <td>9</td>\n      <td>20</td>\n      <td>0.0</td>\n      <td>2.0</td>\n      <td>0</td>\n      <td>4</td>\n      <td>1</td>\n      <td>0</td>\n    </tr>\n    <tr>\n      <th>4</th>\n      <td>0</td>\n      <td>68</td>\n      <td>72</td>\n      <td>68</td>\n      <td>0</td>\n      <td>2</td>\n      <td>64.0</td>\n      <td>48.0</td>\n      <td>16.0</td>\n      <td>1</td>\n      <td>...</td>\n      <td>8.0</td>\n      <td>3.0</td>\n      <td>12</td>\n      <td>29</td>\n      <td>1.0</td>\n      <td>0.0</td>\n      <td>0</td>\n      <td>5</td>\n      <td>2</td>\n      <td>1</td>\n    </tr>\n    <tr>\n      <th>...</th>\n      <td>...</td>\n      <td>...</td>\n      <td>...</td>\n      <td>...</td>\n      <td>...</td>\n      <td>...</td>\n      <td>...</td>\n      <td>...</td>\n      <td>...</td>\n      <td>...</td>\n      <td>...</td>\n      <td>...</td>\n      <td>...</td>\n      <td>...</td>\n      <td>...</td>\n      <td>...</td>\n      <td>...</td>\n      <td>...</td>\n      <td>...</td>\n      <td>...</td>\n      <td>...</td>\n    </tr>\n    <tr>\n      <th>23536</th>\n      <td>1</td>\n      <td>173</td>\n      <td>124</td>\n      <td>121</td>\n      <td>0</td>\n      <td>0</td>\n      <td>184.0</td>\n      <td>106.0</td>\n      <td>78.0</td>\n      <td>0</td>\n      <td>...</td>\n      <td>11.0</td>\n      <td>2.0</td>\n      <td>2</td>\n      <td>2</td>\n      <td>240.0</td>\n      <td>6.0</td>\n      <td>5</td>\n      <td>2</td>\n      <td>6</td>\n      <td>3</td>\n    </tr>\n    <tr>\n      <th>23533</th>\n      <td>1</td>\n      <td>163</td>\n      <td>186</td>\n      <td>121</td>\n      <td>0</td>\n      <td>0</td>\n      <td>201.0</td>\n      <td>89.0</td>\n      <td>112.0</td>\n      <td>0</td>\n      <td>...</td>\n      <td>5.0</td>\n      <td>2.0</td>\n      <td>1</td>\n      <td>3</td>\n      <td>35.0</td>\n      <td>4.0</td>\n      <td>6</td>\n      <td>2</td>\n      <td>10</td>\n      <td>5</td>\n    </tr>\n    <tr>\n      <th>23537</th>\n      <td>0</td>\n      <td>41</td>\n      <td>72</td>\n      <td>41</td>\n      <td>2</td>\n      <td>0</td>\n      <td>131.0</td>\n      <td>60.0</td>\n      <td>71.0</td>\n      <td>1</td>\n      <td>...</td>\n      <td>8.0</td>\n      <td>1.0</td>\n      <td>2</td>\n      <td>1</td>\n      <td>4.0</td>\n      <td>35.0</td>\n      <td>5</td>\n      <td>2</td>\n      <td>5</td>\n      <td>3</td>\n    </tr>\n    <tr>\n      <th>23546</th>\n      <td>0</td>\n      <td>96</td>\n      <td>18</td>\n      <td>96</td>\n      <td>0</td>\n      <td>0</td>\n      <td>107.0</td>\n      <td>98.0</td>\n      <td>9.0</td>\n      <td>1</td>\n      <td>...</td>\n      <td>6.0</td>\n      <td>11.0</td>\n      <td>5</td>\n      <td>7</td>\n      <td>9.0</td>\n      <td>37.0</td>\n      <td>4</td>\n      <td>7</td>\n      <td>3</td>\n      <td>2</td>\n    </tr>\n    <tr>\n      <th>23547</th>\n      <td>0</td>\n      <td>148</td>\n      <td>171</td>\n      <td>148</td>\n      <td>2</td>\n      <td>0</td>\n      <td>46.0</td>\n      <td>12.0</td>\n      <td>34.0</td>\n      <td>1</td>\n      <td>...</td>\n      <td>5.0</td>\n      <td>10.0</td>\n      <td>4</td>\n      <td>4</td>\n      <td>37.0</td>\n      <td>6.0</td>\n      <td>4</td>\n      <td>7</td>\n      <td>4</td>\n      <td>1</td>\n    </tr>\n  </tbody>\n</table>\n<p>23548 rows × 25 columns</p>\n</div>"
     },
     "execution_count": 182,
     "metadata": {},
     "output_type": "execute_result"
    }
   ],
   "source": [
    "game_results_ready"
   ]
  },
  {
   "cell_type": "code",
   "execution_count": 183,
   "metadata": {
    "collapsed": false,
    "ExecuteTime": {
     "end_time": "2023-12-01T17:21:18.920459Z",
     "start_time": "2023-12-01T17:21:18.889751Z"
    }
   },
   "outputs": [
    {
     "data": {
      "text/plain": "final_score                    1.000000\nmost_recent_rank_away          0.231586\nhome_advantage                 0.086379\nhome_fifa_pts                  0.086351\ndays_since_last_match_away     0.048250\nhome_code                      0.032000\ntournament_code                0.010496\nhosting_country_code           0.006617\nwins_last_10_games_away        0.006418\nwins_last_10_games_home        0.005414\ngoal_difference_last_5_home    0.004807\nconceded_last_5_away           0.002624\nscore_last_5_home              0.002197\nscored_last_5_home             0.001042\nscore_last_5_away              0.000808\nscored_last_5_away            -0.001356\ngoal_difference_last_5_away   -0.002621\nconceded_last_5_home          -0.007172\naway_code                     -0.029439\ndays_since_last_match_home    -0.056896\nneutral                       -0.086615\naway_fifa_pts                 -0.148793\nmost_recent_rank_home         -0.205148\nhead_to_head_last_5           -0.313995\nmost_recent_rank_difference   -0.406616\nName: final_score, dtype: float64"
     },
     "execution_count": 183,
     "metadata": {},
     "output_type": "execute_result"
    }
   ],
   "source": [
    "corr_mtx = game_results_ready.corr(numeric_only=True)\n",
    "corr_mtx['final_score'].sort_values(ascending=False)"
   ]
  },
  {
   "cell_type": "code",
   "execution_count": 184,
   "metadata": {
    "collapsed": false,
    "ExecuteTime": {
     "end_time": "2023-12-01T17:21:41.404816Z",
     "start_time": "2023-12-01T17:21:41.395453Z"
    }
   },
   "outputs": [
    {
     "data": {
      "text/plain": "   neutral  home_code  away_code  hosting_country_code  final_score  \\\n0        1         72        112                    68            1   \n1        0         68         30                    68            1   \n2        0         97        100                    97            2   \n3        1         30        112                    68            2   \n4        0         68         72                    68            0   \n\n   tournament_code  most_recent_rank_home  most_recent_rank_away  \\\n0                2                   48.0                   74.0   \n1                2                   64.0                  113.0   \n2                2                   60.0                  108.0   \n3                2                  113.0                   74.0   \n4                2                   64.0                   48.0   \n\n   most_recent_rank_difference  home_advantage  ...  score_last_5_home  \\\n0                        -26.0               0  ...                0.0   \n1                        -49.0               1  ...                2.0   \n2                        -48.0               1  ...                3.0   \n3                         39.0               0  ...                7.0   \n4                         16.0               1  ...                8.0   \n\n   score_last_5_away  conceded_last_5_home  conceded_last_5_away  \\\n0                0.0                     4                     1   \n1                2.0                     5                     5   \n2                3.0                     7                    16   \n3                3.0                     9                    20   \n4                3.0                    12                    29   \n\n   days_since_last_match_home  days_since_last_match_away  \\\n0                         0.0                         0.0   \n1                         0.0                         0.0   \n2                         0.0                         0.0   \n3                         0.0                         2.0   \n4                         1.0                         0.0   \n\n   wins_last_10_games_home  wins_last_10_games_away  scored_last_5_home  \\\n0                        0                        1                   0   \n1                        0                        2                   0   \n2                        0                        3                   0   \n3                        0                        4                   1   \n4                        0                        5                   2   \n\n   scored_last_5_away  \n0                   0  \n1                   0  \n2                   0  \n3                   0  \n4                   1  \n\n[5 rows x 25 columns]",
      "text/html": "<div>\n<style scoped>\n    .dataframe tbody tr th:only-of-type {\n        vertical-align: middle;\n    }\n\n    .dataframe tbody tr th {\n        vertical-align: top;\n    }\n\n    .dataframe thead th {\n        text-align: right;\n    }\n</style>\n<table border=\"1\" class=\"dataframe\">\n  <thead>\n    <tr style=\"text-align: right;\">\n      <th></th>\n      <th>neutral</th>\n      <th>home_code</th>\n      <th>away_code</th>\n      <th>hosting_country_code</th>\n      <th>final_score</th>\n      <th>tournament_code</th>\n      <th>most_recent_rank_home</th>\n      <th>most_recent_rank_away</th>\n      <th>most_recent_rank_difference</th>\n      <th>home_advantage</th>\n      <th>...</th>\n      <th>score_last_5_home</th>\n      <th>score_last_5_away</th>\n      <th>conceded_last_5_home</th>\n      <th>conceded_last_5_away</th>\n      <th>days_since_last_match_home</th>\n      <th>days_since_last_match_away</th>\n      <th>wins_last_10_games_home</th>\n      <th>wins_last_10_games_away</th>\n      <th>scored_last_5_home</th>\n      <th>scored_last_5_away</th>\n    </tr>\n  </thead>\n  <tbody>\n    <tr>\n      <th>0</th>\n      <td>1</td>\n      <td>72</td>\n      <td>112</td>\n      <td>68</td>\n      <td>1</td>\n      <td>2</td>\n      <td>48.0</td>\n      <td>74.0</td>\n      <td>-26.0</td>\n      <td>0</td>\n      <td>...</td>\n      <td>0.0</td>\n      <td>0.0</td>\n      <td>4</td>\n      <td>1</td>\n      <td>0.0</td>\n      <td>0.0</td>\n      <td>0</td>\n      <td>1</td>\n      <td>0</td>\n      <td>0</td>\n    </tr>\n    <tr>\n      <th>1</th>\n      <td>0</td>\n      <td>68</td>\n      <td>30</td>\n      <td>68</td>\n      <td>1</td>\n      <td>2</td>\n      <td>64.0</td>\n      <td>113.0</td>\n      <td>-49.0</td>\n      <td>1</td>\n      <td>...</td>\n      <td>2.0</td>\n      <td>2.0</td>\n      <td>5</td>\n      <td>5</td>\n      <td>0.0</td>\n      <td>0.0</td>\n      <td>0</td>\n      <td>2</td>\n      <td>0</td>\n      <td>0</td>\n    </tr>\n    <tr>\n      <th>2</th>\n      <td>0</td>\n      <td>97</td>\n      <td>100</td>\n      <td>97</td>\n      <td>2</td>\n      <td>2</td>\n      <td>60.0</td>\n      <td>108.0</td>\n      <td>-48.0</td>\n      <td>1</td>\n      <td>...</td>\n      <td>3.0</td>\n      <td>3.0</td>\n      <td>7</td>\n      <td>16</td>\n      <td>0.0</td>\n      <td>0.0</td>\n      <td>0</td>\n      <td>3</td>\n      <td>0</td>\n      <td>0</td>\n    </tr>\n    <tr>\n      <th>3</th>\n      <td>1</td>\n      <td>30</td>\n      <td>112</td>\n      <td>68</td>\n      <td>2</td>\n      <td>2</td>\n      <td>113.0</td>\n      <td>74.0</td>\n      <td>39.0</td>\n      <td>0</td>\n      <td>...</td>\n      <td>7.0</td>\n      <td>3.0</td>\n      <td>9</td>\n      <td>20</td>\n      <td>0.0</td>\n      <td>2.0</td>\n      <td>0</td>\n      <td>4</td>\n      <td>1</td>\n      <td>0</td>\n    </tr>\n    <tr>\n      <th>4</th>\n      <td>0</td>\n      <td>68</td>\n      <td>72</td>\n      <td>68</td>\n      <td>0</td>\n      <td>2</td>\n      <td>64.0</td>\n      <td>48.0</td>\n      <td>16.0</td>\n      <td>1</td>\n      <td>...</td>\n      <td>8.0</td>\n      <td>3.0</td>\n      <td>12</td>\n      <td>29</td>\n      <td>1.0</td>\n      <td>0.0</td>\n      <td>0</td>\n      <td>5</td>\n      <td>2</td>\n      <td>1</td>\n    </tr>\n  </tbody>\n</table>\n<p>5 rows × 25 columns</p>\n</div>"
     },
     "execution_count": 184,
     "metadata": {},
     "output_type": "execute_result"
    }
   ],
   "source": [
    "game_results_ready.head()"
   ]
  },
  {
   "cell_type": "code",
   "execution_count": 185,
   "outputs": [
    {
     "data": {
      "text/plain": "0        1\n1        1\n2        2\n3        2\n4        0\n        ..\n23536    0\n23533    0\n23537    2\n23546    0\n23547    2\nName: final_score, Length: 23548, dtype: int64"
     },
     "execution_count": 185,
     "metadata": {},
     "output_type": "execute_result"
    }
   ],
   "source": [
    "game_results_ready['final_score']"
   ],
   "metadata": {
    "collapsed": false,
    "ExecuteTime": {
     "end_time": "2023-12-01T17:21:42.029066Z",
     "start_time": "2023-12-01T17:21:42.016813Z"
    }
   }
  },
  {
   "cell_type": "code",
   "execution_count": 186,
   "outputs": [],
   "source": [
    "# Determine the number of instances for the smallest class\n",
    "min_class_count = pd.Series.min(game_results_ready['final_score'].value_counts())  # The count of the smallest class\n",
    "# Create a balanced DataFrame by sampling from each class\n",
    "balanced_game_results = pd.DataFrame()\n",
    "# If a class has fewer instances than the smallest class, we'll need to sample with replacement\n",
    "for class_label in game_results_ready['final_score'].unique():\n",
    "    class_subset = game_results_ready[game_results_ready['final_score'] == class_label]\n",
    "    if len(class_subset) > min_class_count:\n",
    "        # If we have more than the minimum class count, we sample without replacement\n",
    "        class_subset_sample = class_subset.sample(n=min_class_count, random_state=42)\n",
    "    else:\n",
    "        # If not, we sample with replacement to boost up to the minimum class count\n",
    "        class_subset_sample = class_subset.sample(n=min_class_count, random_state=42, replace=True)\n",
    "    balanced_game_results = pd.concat([balanced_game_results, class_subset_sample], axis=0)\n",
    "\n",
    "# Update the game_results DataFrame to be the balanced one\n",
    "game_results_ready = balanced_game_results"
   ],
   "metadata": {
    "collapsed": false,
    "ExecuteTime": {
     "end_time": "2023-12-01T17:21:42.654404Z",
     "start_time": "2023-12-01T17:21:42.640908Z"
    }
   }
  },
  {
   "cell_type": "code",
   "execution_count": 187,
   "outputs": [
    {
     "data": {
      "text/plain": "final_score\n1    5610\n2    5610\n0    5610\nName: count, dtype: int64"
     },
     "execution_count": 187,
     "metadata": {},
     "output_type": "execute_result"
    }
   ],
   "source": [
    "# Now, each class should have the same number of instances\n",
    "balanced_game_results['final_score'].value_counts()"
   ],
   "metadata": {
    "collapsed": false,
    "ExecuteTime": {
     "end_time": "2023-12-01T17:21:43.862597Z",
     "start_time": "2023-12-01T17:21:43.848636Z"
    }
   }
  },
  {
   "cell_type": "code",
   "execution_count": 188,
   "metadata": {
    "collapsed": false,
    "ExecuteTime": {
     "end_time": "2023-12-01T17:21:44.653022Z",
     "start_time": "2023-12-01T17:21:44.620329Z"
    }
   },
   "outputs": [],
   "source": [
    "# Define the classes based on final_score\n",
    "X = game_results_ready.drop(['final_score'], axis=1)\n",
    "y = game_results_ready['final_score']"
   ]
  },
  {
   "cell_type": "markdown",
   "metadata": {
    "collapsed": false
   },
   "source": [
    "### We have our X and y\n",
    "We will not shuffle because we want our training to happen to the earlier games and our testing to happen to the later games."
   ]
  },
  {
   "cell_type": "code",
   "execution_count": 189,
   "metadata": {
    "collapsed": false,
    "ExecuteTime": {
     "end_time": "2023-12-01T17:21:46.000886Z",
     "start_time": "2023-12-01T17:21:45.971313Z"
    }
   },
   "outputs": [
    {
     "data": {
      "text/plain": "       neutral  home_code  away_code  hosting_country_code  tournament_code  \\\n11259        0         56        109                    56                0   \n20173        0         54         77                    54                2   \n6362         0         62        122                    62                2   \n2434         0        190          8                   190                0   \n5467         0        161        190                   161                2   \n...        ...        ...        ...                   ...              ...   \n12739        1        160        140                   164                1   \n14045        0        131        198                   131                2   \n10557        0         15        159                    15                2   \n13424        1        195        133                   147                1   \n18278        0        139        174                   139                0   \n\n       most_recent_rank_home  most_recent_rank_away  \\\n11259                   35.0                  137.0   \n20173                  154.0                  149.0   \n6362                   133.0                  128.0   \n2434                    43.0                   18.0   \n5467                    35.0                   33.0   \n...                      ...                    ...   \n12739                   36.0                   29.0   \n14045                   32.0                   81.0   \n10557                   97.0                  126.0   \n13424                  113.0                   43.0   \n18278                  171.0                  149.0   \n\n       most_recent_rank_difference  home_advantage  home_fifa_pts  ...  \\\n11259                       -102.0               1          733.0  ...   \n20173                          5.0               1         1036.0  ...   \n6362                           5.0               1          323.0  ...   \n2434                          25.0               1           45.0  ...   \n5467                           2.0               1          586.0  ...   \n...                            ...             ...            ...  ...   \n12739                          7.0               0          752.0  ...   \n14045                        -49.0               1          730.0  ...   \n10557                        -29.0               1          321.0  ...   \n13424                         70.0               0          261.0  ...   \n18278                         22.0               1          122.0  ...   \n\n       score_last_5_home  score_last_5_away  conceded_last_5_home  \\\n11259                6.0                5.0                     6   \n20173               16.0                5.0                     5   \n6362                11.0                5.0                     4   \n2434                 0.0                0.0                     6   \n5467                 7.0                3.0                     8   \n...                  ...                ...                   ...   \n12739                6.0                4.0                     4   \n14045                2.0                4.0                     3   \n10557                2.0                2.0                     5   \n13424               13.0                5.0                     2   \n18278                5.0                6.0                     5   \n\n       conceded_last_5_away  days_since_last_match_home  \\\n11259                     4                        88.0   \n20173                     5                       143.0   \n6362                      5                         1.0   \n2434                     18                        28.0   \n5467                      5                       140.0   \n...                     ...                         ...   \n12739                    15                        15.0   \n14045                    16                         3.0   \n10557                     4                        27.0   \n13424                     8                         2.0   \n18278                     7                       285.0   \n\n       days_since_last_match_away  wins_last_10_games_home  \\\n11259                        28.0                        6   \n20173                        66.0                        6   \n6362                          1.0                        7   \n2434                         95.0                        3   \n5467                        105.0                        4   \n...                           ...                      ...   \n12739                         6.0                        2   \n14045                        72.0                        4   \n10557                       242.0                        5   \n13424                         3.0                        7   \n18278                       130.0                        2   \n\n       wins_last_10_games_away  scored_last_5_home  scored_last_5_away  \n11259                        2                  10                  11  \n20173                        4                   9                  10  \n6362                         1                  14                  10  \n2434                        10                   8                   1  \n5467                         1                   6                   5  \n...                        ...                 ...                 ...  \n12739                        6                  12                   3  \n14045                        7                  11                   1  \n10557                        5                   7                   8  \n13424                        2                   9                  14  \n18278                        4                   3                   6  \n\n[11781 rows x 24 columns]",
      "text/html": "<div>\n<style scoped>\n    .dataframe tbody tr th:only-of-type {\n        vertical-align: middle;\n    }\n\n    .dataframe tbody tr th {\n        vertical-align: top;\n    }\n\n    .dataframe thead th {\n        text-align: right;\n    }\n</style>\n<table border=\"1\" class=\"dataframe\">\n  <thead>\n    <tr style=\"text-align: right;\">\n      <th></th>\n      <th>neutral</th>\n      <th>home_code</th>\n      <th>away_code</th>\n      <th>hosting_country_code</th>\n      <th>tournament_code</th>\n      <th>most_recent_rank_home</th>\n      <th>most_recent_rank_away</th>\n      <th>most_recent_rank_difference</th>\n      <th>home_advantage</th>\n      <th>home_fifa_pts</th>\n      <th>...</th>\n      <th>score_last_5_home</th>\n      <th>score_last_5_away</th>\n      <th>conceded_last_5_home</th>\n      <th>conceded_last_5_away</th>\n      <th>days_since_last_match_home</th>\n      <th>days_since_last_match_away</th>\n      <th>wins_last_10_games_home</th>\n      <th>wins_last_10_games_away</th>\n      <th>scored_last_5_home</th>\n      <th>scored_last_5_away</th>\n    </tr>\n  </thead>\n  <tbody>\n    <tr>\n      <th>11259</th>\n      <td>0</td>\n      <td>56</td>\n      <td>109</td>\n      <td>56</td>\n      <td>0</td>\n      <td>35.0</td>\n      <td>137.0</td>\n      <td>-102.0</td>\n      <td>1</td>\n      <td>733.0</td>\n      <td>...</td>\n      <td>6.0</td>\n      <td>5.0</td>\n      <td>6</td>\n      <td>4</td>\n      <td>88.0</td>\n      <td>28.0</td>\n      <td>6</td>\n      <td>2</td>\n      <td>10</td>\n      <td>11</td>\n    </tr>\n    <tr>\n      <th>20173</th>\n      <td>0</td>\n      <td>54</td>\n      <td>77</td>\n      <td>54</td>\n      <td>2</td>\n      <td>154.0</td>\n      <td>149.0</td>\n      <td>5.0</td>\n      <td>1</td>\n      <td>1036.0</td>\n      <td>...</td>\n      <td>16.0</td>\n      <td>5.0</td>\n      <td>5</td>\n      <td>5</td>\n      <td>143.0</td>\n      <td>66.0</td>\n      <td>6</td>\n      <td>4</td>\n      <td>9</td>\n      <td>10</td>\n    </tr>\n    <tr>\n      <th>6362</th>\n      <td>0</td>\n      <td>62</td>\n      <td>122</td>\n      <td>62</td>\n      <td>2</td>\n      <td>133.0</td>\n      <td>128.0</td>\n      <td>5.0</td>\n      <td>1</td>\n      <td>323.0</td>\n      <td>...</td>\n      <td>11.0</td>\n      <td>5.0</td>\n      <td>4</td>\n      <td>5</td>\n      <td>1.0</td>\n      <td>1.0</td>\n      <td>7</td>\n      <td>1</td>\n      <td>14</td>\n      <td>10</td>\n    </tr>\n    <tr>\n      <th>2434</th>\n      <td>0</td>\n      <td>190</td>\n      <td>8</td>\n      <td>190</td>\n      <td>0</td>\n      <td>43.0</td>\n      <td>18.0</td>\n      <td>25.0</td>\n      <td>1</td>\n      <td>45.0</td>\n      <td>...</td>\n      <td>0.0</td>\n      <td>0.0</td>\n      <td>6</td>\n      <td>18</td>\n      <td>28.0</td>\n      <td>95.0</td>\n      <td>3</td>\n      <td>10</td>\n      <td>8</td>\n      <td>1</td>\n    </tr>\n    <tr>\n      <th>5467</th>\n      <td>0</td>\n      <td>161</td>\n      <td>190</td>\n      <td>161</td>\n      <td>2</td>\n      <td>35.0</td>\n      <td>33.0</td>\n      <td>2.0</td>\n      <td>1</td>\n      <td>586.0</td>\n      <td>...</td>\n      <td>7.0</td>\n      <td>3.0</td>\n      <td>8</td>\n      <td>5</td>\n      <td>140.0</td>\n      <td>105.0</td>\n      <td>4</td>\n      <td>1</td>\n      <td>6</td>\n      <td>5</td>\n    </tr>\n    <tr>\n      <th>...</th>\n      <td>...</td>\n      <td>...</td>\n      <td>...</td>\n      <td>...</td>\n      <td>...</td>\n      <td>...</td>\n      <td>...</td>\n      <td>...</td>\n      <td>...</td>\n      <td>...</td>\n      <td>...</td>\n      <td>...</td>\n      <td>...</td>\n      <td>...</td>\n      <td>...</td>\n      <td>...</td>\n      <td>...</td>\n      <td>...</td>\n      <td>...</td>\n      <td>...</td>\n      <td>...</td>\n    </tr>\n    <tr>\n      <th>12739</th>\n      <td>1</td>\n      <td>160</td>\n      <td>140</td>\n      <td>164</td>\n      <td>1</td>\n      <td>36.0</td>\n      <td>29.0</td>\n      <td>7.0</td>\n      <td>0</td>\n      <td>752.0</td>\n      <td>...</td>\n      <td>6.0</td>\n      <td>4.0</td>\n      <td>4</td>\n      <td>15</td>\n      <td>15.0</td>\n      <td>6.0</td>\n      <td>2</td>\n      <td>6</td>\n      <td>12</td>\n      <td>3</td>\n    </tr>\n    <tr>\n      <th>14045</th>\n      <td>0</td>\n      <td>131</td>\n      <td>198</td>\n      <td>131</td>\n      <td>2</td>\n      <td>32.0</td>\n      <td>81.0</td>\n      <td>-49.0</td>\n      <td>1</td>\n      <td>730.0</td>\n      <td>...</td>\n      <td>2.0</td>\n      <td>4.0</td>\n      <td>3</td>\n      <td>16</td>\n      <td>3.0</td>\n      <td>72.0</td>\n      <td>4</td>\n      <td>7</td>\n      <td>11</td>\n      <td>1</td>\n    </tr>\n    <tr>\n      <th>10557</th>\n      <td>0</td>\n      <td>15</td>\n      <td>159</td>\n      <td>15</td>\n      <td>2</td>\n      <td>97.0</td>\n      <td>126.0</td>\n      <td>-29.0</td>\n      <td>1</td>\n      <td>321.0</td>\n      <td>...</td>\n      <td>2.0</td>\n      <td>2.0</td>\n      <td>5</td>\n      <td>4</td>\n      <td>27.0</td>\n      <td>242.0</td>\n      <td>5</td>\n      <td>5</td>\n      <td>7</td>\n      <td>8</td>\n    </tr>\n    <tr>\n      <th>13424</th>\n      <td>1</td>\n      <td>195</td>\n      <td>133</td>\n      <td>147</td>\n      <td>1</td>\n      <td>113.0</td>\n      <td>43.0</td>\n      <td>70.0</td>\n      <td>0</td>\n      <td>261.0</td>\n      <td>...</td>\n      <td>13.0</td>\n      <td>5.0</td>\n      <td>2</td>\n      <td>8</td>\n      <td>2.0</td>\n      <td>3.0</td>\n      <td>7</td>\n      <td>2</td>\n      <td>9</td>\n      <td>14</td>\n    </tr>\n    <tr>\n      <th>18278</th>\n      <td>0</td>\n      <td>139</td>\n      <td>174</td>\n      <td>139</td>\n      <td>0</td>\n      <td>171.0</td>\n      <td>149.0</td>\n      <td>22.0</td>\n      <td>1</td>\n      <td>122.0</td>\n      <td>...</td>\n      <td>5.0</td>\n      <td>6.0</td>\n      <td>5</td>\n      <td>7</td>\n      <td>285.0</td>\n      <td>130.0</td>\n      <td>2</td>\n      <td>4</td>\n      <td>3</td>\n      <td>6</td>\n    </tr>\n  </tbody>\n</table>\n<p>11781 rows × 24 columns</p>\n</div>"
     },
     "execution_count": 189,
     "metadata": {},
     "output_type": "execute_result"
    }
   ],
   "source": [
    "from sklearn.model_selection import train_test_split\n",
    "# Splitting of Data\n",
    "X_train, X_test, y_train, y_test = train_test_split(X, y,test_size=0.3, stratify=y,  random_state=42)\n",
    "X_train"
   ]
  },
  {
   "cell_type": "markdown",
   "metadata": {
    "collapsed": false
   },
   "source": [
    "### Model Training Phase \n",
    "\n",
    "Multi-Class Model predicts for 3 outcomes : Home win, Home loss, and Tie\n"
   ]
  },
  {
   "cell_type": "code",
   "execution_count": 190,
   "metadata": {
    "collapsed": false,
    "ExecuteTime": {
     "end_time": "2023-12-01T17:21:52.218616Z",
     "start_time": "2023-12-01T17:21:47.300250Z"
    }
   },
   "outputs": [],
   "source": [
    "from sklearn.ensemble import RandomForestClassifier\n",
    "\n",
    "# Create a RandomForestClassifier model with balanced class weights\n",
    "clf = RandomForestClassifier(n_estimators=300,class_weight='balanced', bootstrap=True, random_state=42)\n",
    "clf.fit(X_train, y_train)\n",
    "# Makes Prediction on the test set \n",
    "y_pred = clf.predict(X_test)"
   ]
  },
  {
   "cell_type": "code",
   "execution_count": 191,
   "outputs": [],
   "source": [
    "# TODO - More classification models here\n",
    "# SVM\n",
    "# "
   ],
   "metadata": {
    "collapsed": false,
    "ExecuteTime": {
     "end_time": "2023-12-01T17:21:53.117182Z",
     "start_time": "2023-12-01T17:21:53.088198Z"
    }
   }
  },
  {
   "cell_type": "markdown",
   "metadata": {
    "collapsed": false
   },
   "source": [
    "### Let's evaluate"
   ]
  },
  {
   "cell_type": "code",
   "execution_count": 192,
   "metadata": {
    "collapsed": false,
    "ExecuteTime": {
     "end_time": "2023-12-01T17:21:54.451715Z",
     "start_time": "2023-12-01T17:21:54.412422Z"
    }
   },
   "outputs": [
    {
     "name": "stdout",
     "output_type": "stream",
     "text": [
      "Accuracy: 0.6858783917607447\n",
      "              precision    recall  f1-score   support\n",
      "\n",
      "           0       0.64      0.64      0.64      1683\n",
      "           1       0.69      0.67      0.68      1683\n",
      "           2       0.72      0.75      0.73      1683\n",
      "\n",
      "    accuracy                           0.69      5049\n",
      "   macro avg       0.69      0.69      0.69      5049\n",
      "weighted avg       0.69      0.69      0.69      5049\n"
     ]
    }
   ],
   "source": [
    "from sklearn.metrics import accuracy_score, classification_report,confusion_matrix\n",
    "\n",
    "co_m = confusion_matrix(y_test, y_pred)\n",
    "accuracy = accuracy_score(y_test, y_pred)\n",
    "print(f'Accuracy: {accuracy}')\n",
    "print(classification_report(y_test, y_pred))"
   ]
  },
  {
   "cell_type": "code",
   "execution_count": 193,
   "metadata": {
    "collapsed": false,
    "ExecuteTime": {
     "end_time": "2023-12-01T17:21:57.300852Z",
     "start_time": "2023-12-01T17:21:57.197890Z"
    }
   },
   "outputs": [
    {
     "data": {
      "text/plain": "<Figure size 640x480 with 2 Axes>",
      "image/png": "[encoded data removed]"
     },
     "metadata": {},
     "output_type": "display_data"
    }
   ],
   "source": [
    "import seaborn as sns\n",
    "import matplotlib.pyplot as plt\n",
    "\n",
    "sns.heatmap(co_m, annot=True, fmt='d', cmap='Blues')\n",
    "plt.xlabel('Predicted Labels')\n",
    "plt.ylabel('True Labels')\n",
    "plt.title('Confusion Matrix')\n",
    "plt.show()\n"
   ]
  },
  {
   "cell_type": "markdown",
   "metadata": {
    "collapsed": false
   },
   "source": [
    "### Ok that was good enough"
   ]
  },
  {
   "cell_type": "code",
   "execution_count": 177,
   "metadata": {
    "collapsed": false,
    "ExecuteTime": {
     "end_time": "2023-12-01T16:43:21.747781Z",
     "start_time": "2023-12-01T16:43:21.742483Z"
    }
   },
   "outputs": [],
   "source": [
    "# tournament code 0 as default -> Tournament\n",
    "def match_creator(team_1,team_2,tournament_code=0):\n",
    "    # Get home and away codes\n",
    "    home_code,away_code = country_codes[team_1],country_codes[team_2]\n",
    "    # Randomize if game is played at neutral ground\n",
    "    neutral = random.randint(0,1)\n",
    "    # if not on neutral ground, pick either home or away as playing ground. Else pick a random ground\n",
    "    hosting_country_code = random.choice([home_code,away_code]) if not neutral else random.choice(list(country_codes.values()))\n",
    "    # Get most recent rank for home\n",
    "    most_recent_rank_home = rank_at_year_df.loc[team_1,datetime.now().year]\n",
    "    # Get most recent rank for away\n",
    "    most_recent_rank_away = rank_at_year_df.loc[team_2,datetime.now().year]\n",
    "    most_recent_rank_difference = most_recent_rank_home-most_recent_rank_away\n",
    "    home_advantage = (country_codes[team_1] == hosting_country_code)\n",
    "    game_info = {\n",
    "        'home_team':team_1,\n",
    "        'away_team':team_2,\n",
    "        'date':datetime.now()\n",
    "    }\n",
    "    head_to_head_last_5 = calculate_head_to_head(game_info)\n",
    "    goal_difference_last_5_home = calculate_goal_difference_last_5(game_info,'home_team')\n",
    "    goal_difference_last_5_away = calculate_goal_difference_last_5(game_info,'away_team')\n",
    "    days_since_last_match_home:pd.Series = (datetime.now() - game_results.loc[game_results['home_team'] == team_1].tail(1)['date']).to_list()[0].days\n",
    "    days_since_last_match_away = (datetime.now() - game_results.loc[game_results['away_team'] == team_2].tail(1)['date']).to_list()[0].days\n",
    "    wins_last_10_games = calculate_wins_last_10(game_info)\n",
    "    home_fifa_pts = rank_at_year_df.loc[team_1,'{}_points'.format(datetime.now().year)]\n",
    "    away_fifa_pts = rank_at_year_df.loc[team_2,'{}_points'.format(datetime.now().year)]\n",
    "    match_data = {\n",
    "        'neutral': neutral,\n",
    "        'home_code':home_code,\n",
    "        'away_code':away_code,\n",
    "        'hosting_country_code':hosting_country_code,\n",
    "        'tournament_code':tournament_code,\n",
    "        'most_recent_rank_home':most_recent_rank_home,\n",
    "        'most_recent_rank_away':most_recent_rank_away,\n",
    "        'most_recent_rank_difference':most_recent_rank_difference,\n",
    "        'home_advantage':home_advantage,\n",
    "        'home_fifa_pts':home_fifa_pts,\n",
    "        'away_fifa_pts':away_fifa_pts,\n",
    "        'head_to_head_last_5':head_to_head_last_5,\n",
    "        'goal_difference_last_5_home':goal_difference_last_5_home,\n",
    "        'goal_difference_last_5_away':goal_difference_last_5_away,\n",
    "        'days_since_last_match_home':days_since_last_match_home,\n",
    "        'days_since_last_match_away':days_since_last_match_away,\n",
    "        'wins_last_10_games':wins_last_10_games\n",
    "    }\n",
    "    match_idx = match_data.keys()\n",
    "    return pd.Series(data=match_data.values(),index=match_idx).values.reshape(1,-1)"
   ]
  },
  {
   "cell_type": "markdown",
   "source": [
    "### USA vs Saudi Arabia"
   ],
   "metadata": {
    "collapsed": false
   }
  },
  {
   "cell_type": "code",
   "execution_count": 178,
   "metadata": {
    "collapsed": false,
    "ExecuteTime": {
     "end_time": "2023-12-01T16:43:21.826639Z",
     "start_time": "2023-12-01T16:43:21.751075Z"
    }
   },
   "outputs": [
    {
     "ename": "NameError",
     "evalue": "name 'calculate_head_to_head' is not defined",
     "output_type": "error",
     "traceback": [
      "\u001B[0;31m---------------------------------------------------------------------------\u001B[0m",
      "\u001B[0;31mNameError\u001B[0m                                 Traceback (most recent call last)",
      "Cell \u001B[0;32mIn[178], line 2\u001B[0m\n\u001B[1;32m      1\u001B[0m team_1, team_2 \u001B[38;5;241m=\u001B[39m \u001B[38;5;124m'\u001B[39m\u001B[38;5;124mUnited States\u001B[39m\u001B[38;5;124m'\u001B[39m,\u001B[38;5;124m'\u001B[39m\u001B[38;5;124mSaudi Arabia\u001B[39m\u001B[38;5;124m'\u001B[39m\n\u001B[0;32m----> 2\u001B[0m my_match \u001B[38;5;241m=\u001B[39m \u001B[43mmatch_creator\u001B[49m\u001B[43m(\u001B[49m\u001B[43mteam_1\u001B[49m\u001B[43m,\u001B[49m\u001B[43m \u001B[49m\u001B[43mteam_2\u001B[49m\u001B[43m)\u001B[49m\n\u001B[1;32m      3\u001B[0m my_match[\u001B[38;5;241m0\u001B[39m]\n",
      "Cell \u001B[0;32mIn[177], line 20\u001B[0m, in \u001B[0;36mmatch_creator\u001B[0;34m(team_1, team_2, tournament_code)\u001B[0m\n\u001B[1;32m     14\u001B[0m home_advantage \u001B[38;5;241m=\u001B[39m (country_codes[team_1] \u001B[38;5;241m==\u001B[39m hosting_country_code)\n\u001B[1;32m     15\u001B[0m game_info \u001B[38;5;241m=\u001B[39m {\n\u001B[1;32m     16\u001B[0m     \u001B[38;5;124m'\u001B[39m\u001B[38;5;124mhome_team\u001B[39m\u001B[38;5;124m'\u001B[39m:team_1,\n\u001B[1;32m     17\u001B[0m     \u001B[38;5;124m'\u001B[39m\u001B[38;5;124maway_team\u001B[39m\u001B[38;5;124m'\u001B[39m:team_2,\n\u001B[1;32m     18\u001B[0m     \u001B[38;5;124m'\u001B[39m\u001B[38;5;124mdate\u001B[39m\u001B[38;5;124m'\u001B[39m:datetime\u001B[38;5;241m.\u001B[39mnow()\n\u001B[1;32m     19\u001B[0m }\n\u001B[0;32m---> 20\u001B[0m head_to_head_last_5 \u001B[38;5;241m=\u001B[39m \u001B[43mcalculate_head_to_head\u001B[49m(game_info)\n\u001B[1;32m     21\u001B[0m goal_difference_last_5_home \u001B[38;5;241m=\u001B[39m calculate_goal_difference_last_5(game_info,\u001B[38;5;124m'\u001B[39m\u001B[38;5;124mhome_team\u001B[39m\u001B[38;5;124m'\u001B[39m)\n\u001B[1;32m     22\u001B[0m goal_difference_last_5_away \u001B[38;5;241m=\u001B[39m calculate_goal_difference_last_5(game_info,\u001B[38;5;124m'\u001B[39m\u001B[38;5;124maway_team\u001B[39m\u001B[38;5;124m'\u001B[39m)\n",
      "\u001B[0;31mNameError\u001B[0m: name 'calculate_head_to_head' is not defined"
     ]
    }
   ],
   "source": [
    "team_1, team_2 = 'United States','Saudi Arabia'\n",
    "my_match = match_creator(team_1, team_2)\n",
    "my_match[0]"
   ]
  },
  {
   "cell_type": "code",
   "execution_count": null,
   "metadata": {
    "collapsed": false,
    "ExecuteTime": {
     "start_time": "2023-12-01T16:43:21.767489Z"
    }
   },
   "outputs": [],
   "source": [
    "team_1 if clf.predict(my_match) == 2 else team_2"
   ]
  },
  {
   "cell_type": "markdown",
   "source": [
    "### Let's run our own little tournament!"
   ],
   "metadata": {
    "collapsed": false
   }
  },
  {
   "cell_type": "code",
   "execution_count": null,
   "metadata": {
    "collapsed": false,
    "ExecuteTime": {
     "start_time": "2023-12-01T16:43:21.768445Z"
    }
   },
   "outputs": [],
   "source": [
    "countries_to_match = ['Belgium','United States','Japan','Qatar','Saudi Arabia','England','Scotland','France','Brazil','Italy','Germany','Uruguay','Argentina','Spain','Mexico','Australia'] \n",
    "\n",
    "import warnings\n",
    "\n",
    "# Suppress FutureWarning messages\n",
    "warnings.simplefilter(action='ignore', category=FutureWarning)\n",
    "warnings.simplefilter(action='ignore', category=UserWarning)\n",
    "def run_tournament(teams,tournament_type='cup',hosting_country='random',with_print=True):\n",
    "    if not teams:\n",
    "        return \n",
    "    # Randomize teams\n",
    "    random.shuffle(teams)\n",
    "    # If tournament_type is 'cup' then draws are not allowed. One team must win!\n",
    "    tab=''\n",
    "    while len(teams) != 1:\n",
    "        winners = []\n",
    "        for i in range(0,len(teams),2):\n",
    "            match = match_creator(teams[i],teams[i+1])\n",
    "            if hosting_country != 'random':\n",
    "                match = change_host(match,hosting_country,teams,i)\n",
    "                # match[0][3] = country_codes[hosting_country]\n",
    "                # match[0][0] = (match[0][3] != teams[i]) and (match[0][3] != teams[i+1])\n",
    "                # match[0][8] = match[0][3] == teams[i]\n",
    "            if len(teams) == 2: tab+='Final:'\n",
    "            if with_print: print(tab,teams[i],'vs',teams[i+1],end=' -> ')\n",
    "            # Initial prediction\n",
    "            pred = clf.predict(match)\n",
    "            if pred == 1 and tournament_type == 'cup':\n",
    "                if with_print: print('Tie at full time. Playing extra-time.',end=' -> ')\n",
    "                match = match_creator(teams[i],teams[i+1],tournament_code=1)\n",
    "                if hosting_country != 'random': match = change_host(match,hosting_country,teams,i)\n",
    "                pred = clf.predict(match)\n",
    "                if pred == 1:\n",
    "                    if with_print: print('Tie at extra time. Playing penalty shoot-outs.',end=' -> ')\n",
    "                    match = match_creator(teams[i],teams[i+1],tournament_code=1)\n",
    "                    if hosting_country != 'random': match = change_host(match,hosting_country,teams,i)\n",
    "                    pred = clf.predict(match)\n",
    "                    if pred == 1:\n",
    "                        winner = teams[i] if random.randint(0,99) % 2 == 0 else teams[i+1]\n",
    "                    else: \n",
    "                        winner = teams[i] if pred == 2 else teams[i+1]\n",
    "                    if with_print: print(winner,'won after penalty shoot-outs!')\n",
    "                else:\n",
    "                    winner = teams[i] if pred == 2 else teams[i+1]\n",
    "                    if with_print: print(winner,'won after extra time.')\n",
    "            else:\n",
    "                winner = teams[i] if pred == 2 else teams[i+1]\n",
    "                if with_print: print(winner,'won after full time.')\n",
    "            winners.append(winner)\n",
    "        teams.clear()\n",
    "        teams = winners\n",
    "        tab+='\\t'\n",
    "    return teams[0]\n",
    "\n",
    "def change_host(match,host,teams,i):\n",
    "    match[0][3] = country_codes[host]\n",
    "    match[0][0] = (match[0][3] != teams[i]) and (match[0][3] != teams[i+1])\n",
    "    match[0][8] = match[0][3] == teams[i]\n",
    "    return match\n",
    "run_tournament(countries_to_match)"
   ]
  },
  {
   "cell_type": "code",
   "execution_count": null,
   "metadata": {
    "collapsed": false,
    "ExecuteTime": {
     "start_time": "2023-12-01T16:43:21.769370Z"
    }
   },
   "outputs": [],
   "source": [
    "rank_at_year_df.index.values"
   ]
  },
  {
   "cell_type": "code",
   "execution_count": null,
   "outputs": [],
   "source": [
    "def get_valid_countries(k):\n",
    "    all_countries = list(rank_at_year_df.index.values)\n",
    "    # For some reason these countries cause issues\n",
    "    all_countries.remove('Yugoslavia')\n",
    "    all_countries.remove('Serbia and Montenegro')\n",
    "    all_countries.remove('Czechoslovakia')\n",
    "    all_countries.remove('Netherlands Antilles')\n",
    "    valid_countries = set()\n",
    "    while len(valid_countries) != k:\n",
    "        curr_country = random.choice(all_countries)\n",
    "        val = country_codes.setdefault(curr_country,-1)\n",
    "        if val != -1: valid_countries.add(curr_country)\n",
    "    return list(valid_countries)"
   ],
   "metadata": {
    "collapsed": false,
    "ExecuteTime": {
     "start_time": "2023-12-01T16:43:21.770286Z"
    }
   }
  },
  {
   "cell_type": "markdown",
   "source": [
    "### Let's generate random countries and create a 64-team tournament"
   ],
   "metadata": {
    "collapsed": false
   }
  },
  {
   "cell_type": "code",
   "execution_count": null,
   "outputs": [],
   "source": [
    "world_cup = get_valid_countries(64)\n",
    "country_ranks = {country:rank_at_year_df.loc[country,int(datetime.now().year)] for country in world_cup}\n",
    "best_rank = min(country_ranks.values())\n",
    "best_country = list(filter(lambda x: country_ranks[x] == best_rank,country_ranks.keys()))[0]\n",
    "avg_rank = sum(country_ranks.values())/len(country_ranks.values())\n",
    "print('Best country: {} - Ranked {}\\nAverage Team Rank: {}'.format(best_country,best_rank,avg_rank))"
   ],
   "metadata": {
    "collapsed": false,
    "ExecuteTime": {
     "start_time": "2023-12-01T16:43:21.771236Z"
    }
   }
  },
  {
   "cell_type": "code",
   "execution_count": null,
   "metadata": {
    "collapsed": false,
    "ExecuteTime": {
     "start_time": "2023-12-01T16:43:21.772113Z"
    }
   },
   "outputs": [],
   "source": [
    "host = 'Brazil'\n",
    "winner = run_tournament(world_cup,hosting_country=host,with_print=False)\n",
    "print(winner,'wins the tournament!')\n",
    "if winner != best_country:\n",
    "    print('What a great tournament!')\n",
    "else:\n",
    "    print('The best team won, as expected.')\n",
    "print('Tournament hosted by',host)"
   ]
  },
  {
   "cell_type": "code",
   "execution_count": null,
   "outputs": [],
   "source": [
    "i = 0\n",
    "WC_wins = dict()\n",
    "runs = 10\n",
    "num_teams = 32\n",
    "host='England'\n",
    "while i != runs:\n",
    "    print('run {}'.format(i))\n",
    "    world_cup = get_valid_countries(num_teams)\n",
    "    winner = run_tournament(teams=world_cup,hosting_country=host,with_print=False)\n",
    "    WC_wins[winner] = (WC_wins.get(winner,0) + 1)\n",
    "    i+=1\n",
    "stats = dict()\n",
    "for winner in WC_wins.keys():\n",
    "    stats[winner] = WC_wins.get(winner)*100/runs\n",
    "display(stats)"
   ],
   "metadata": {
    "collapsed": false,
    "ExecuteTime": {
     "start_time": "2023-12-01T16:43:21.772757Z"
    }
   }
  },
  {
   "cell_type": "code",
   "execution_count": null,
   "outputs": [],
   "source": [],
   "metadata": {
    "collapsed": false,
    "ExecuteTime": {
     "start_time": "2023-12-01T16:43:21.773342Z"
    }
   }
  },
  {
   "cell_type": "code",
   "execution_count": null,
   "outputs": [],
   "source": [],
   "metadata": {
    "collapsed": false,
    "ExecuteTime": {
     "start_time": "2023-12-01T16:43:21.773893Z"
    }
   }
  },
  {
   "cell_type": "code",
   "execution_count": null,
   "outputs": [],
   "source": [],
   "metadata": {
    "collapsed": false,
    "ExecuteTime": {
     "start_time": "2023-12-01T16:43:21.774502Z"
    }
   }
  }
 ],
 "metadata": {
  "kernelspec": {
   "display_name": "Python 3 (ipykernel)",
   "language": "python",
   "name": "python3"
  },
  "language_info": {
   "codemirror_mode": {
    "name": "ipython",
    "version": 3
   },
   "file_extension": ".py",
   "mimetype": "text/x-python",
   "name": "python",
   "nbconvert_exporter": "python",
   "pygments_lexer": "ipython3",
   "version": "3.11.6"
  }
 },
 "nbformat": 4,
 "nbformat_minor": 4
}
