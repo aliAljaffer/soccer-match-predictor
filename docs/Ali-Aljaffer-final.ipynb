{
 "cells": [
  {
   "cell_type": "markdown",
   "source": [
    "# Total run time for notebook\n",
    "On an M2 MacBook Pro it took approx. 12 seconds for a full run."
   ],
   "metadata": {
    "collapsed": false
   }
  },
  {
   "cell_type": "code",
   "execution_count": 1,
   "metadata": {
    "ExecuteTime": {
     "end_time": "2024-03-04T18:04:23.715003Z",
     "start_time": "2024-03-04T18:04:23.642938Z"
    }
   },
   "outputs": [],
   "source": [
    "import pandas as pd\n",
    "import numpy as np\n",
    "import random\n",
    "from IPython.display import display\n",
    "from datetime import datetime\n",
    "\n",
    "ranking_df = pd.read_csv('./datasets/fifa_ranking-2023-07-20.csv')\n",
    "game_results_df = pd.read_csv('./datasets/results.csv')\n",
    "rank_at_year_df = pd.read_csv('./datasets/rank_per_yr_T_sorted.csv')\n",
    "rank_at_year_df.set_index('Country',inplace=True)"
   ]
  },
  {
   "cell_type": "markdown",
   "source": [
    "# Checking dataset info"
   ],
   "metadata": {
    "collapsed": false
   }
  },
  {
   "cell_type": "code",
   "execution_count": 2,
   "metadata": {
    "ExecuteTime": {
     "end_time": "2024-03-04T18:04:23.733051Z",
     "start_time": "2024-03-04T18:04:23.713228Z"
    }
   },
   "outputs": [
    {
     "name": "stdout",
     "output_type": "stream",
     "text": [
      "<class 'pandas.core.frame.DataFrame'>\n",
      "RangeIndex: 64757 entries, 0 to 64756\n",
      "Data columns (total 8 columns):\n",
      " #   Column           Non-Null Count  Dtype  \n",
      "---  ------           --------------  -----  \n",
      " 0   rank             64757 non-null  int64  \n",
      " 1   country_full     64757 non-null  object \n",
      " 2   country_abrv     64757 non-null  object \n",
      " 3   total_points     64757 non-null  float64\n",
      " 4   previous_points  64757 non-null  float64\n",
      " 5   rank_change      64757 non-null  int64  \n",
      " 6   confederation    64757 non-null  object \n",
      " 7   rank_date        64757 non-null  object \n",
      "dtypes: float64(2), int64(2), object(4)\n",
      "memory usage: 4.0+ MB\n",
      "<class 'pandas.core.frame.DataFrame'>\n",
      "RangeIndex: 45315 entries, 0 to 45314\n",
      "Data columns (total 9 columns):\n",
      " #   Column      Non-Null Count  Dtype \n",
      "---  ------      --------------  ----- \n",
      " 0   date        45315 non-null  object\n",
      " 1   home_team   45315 non-null  object\n",
      " 2   away_team   45315 non-null  object\n",
      " 3   home_score  45315 non-null  int64 \n",
      " 4   away_score  45315 non-null  int64 \n",
      " 5   tournament  45315 non-null  object\n",
      " 6   city        45315 non-null  object\n",
      " 7   country     45315 non-null  object\n",
      " 8   neutral     45315 non-null  bool  \n",
      "dtypes: bool(1), int64(2), object(6)\n",
      "memory usage: 2.8+ MB\n"
     ]
    }
   ],
   "source": [
    "ranking_df.info()\n",
    "game_results_df.info()"
   ]
  },
  {
   "cell_type": "code",
   "execution_count": 3,
   "metadata": {
    "ExecuteTime": {
     "end_time": "2024-03-04T18:04:23.786825Z",
     "start_time": "2024-03-04T18:04:23.736484Z"
    }
   },
   "outputs": [
    {
     "name": "stdout",
     "output_type": "stream",
     "text": [
      "Before removal of unusable games: (45315, 9)\n",
      "After removal: (38842, 9)\n"
     ]
    },
    {
     "data": {
      "text/plain": "             date home_team    away_team  home_score  away_score  \\\n0      1872-11-30  Scotland      England           0           0   \n1      1873-03-08   England     Scotland           4           2   \n2      1874-03-07  Scotland      England           2           1   \n3      1875-03-06   England     Scotland           2           2   \n4      1876-03-04  Scotland      England           3           0   \n...           ...       ...          ...         ...         ...   \n45310  2023-11-21     Wales       Turkey           1           1   \n45311  2023-11-21   Croatia      Armenia           1           0   \n45312  2023-11-21   Andorra       Israel           0           2   \n45313  2023-11-21    Kosovo      Belarus           0           1   \n45314  2023-11-21   Romania  Switzerland           1           0   \n\n                    tournament   country  neutral  \n0                     Friendly  Scotland    False  \n1                     Friendly   England    False  \n2                     Friendly  Scotland    False  \n3                     Friendly   England    False  \n4                     Friendly  Scotland    False  \n...                        ...       ...      ...  \n45310  UEFA Euro qualification     Wales    False  \n45311  UEFA Euro qualification   Croatia    False  \n45312  UEFA Euro qualification   Andorra    False  \n45313  UEFA Euro qualification    Kosovo    False  \n45314  UEFA Euro qualification   Romania    False  \n\n[38842 rows x 8 columns]",
      "text/html": "<div>\n<style scoped>\n    .dataframe tbody tr th:only-of-type {\n        vertical-align: middle;\n    }\n\n    .dataframe tbody tr th {\n        vertical-align: top;\n    }\n\n    .dataframe thead th {\n        text-align: right;\n    }\n</style>\n<table border=\"1\" class=\"dataframe\">\n  <thead>\n    <tr style=\"text-align: right;\">\n      <th></th>\n      <th>date</th>\n      <th>home_team</th>\n      <th>away_team</th>\n      <th>home_score</th>\n      <th>away_score</th>\n      <th>tournament</th>\n      <th>country</th>\n      <th>neutral</th>\n    </tr>\n  </thead>\n  <tbody>\n    <tr>\n      <th>0</th>\n      <td>1872-11-30</td>\n      <td>Scotland</td>\n      <td>England</td>\n      <td>0</td>\n      <td>0</td>\n      <td>Friendly</td>\n      <td>Scotland</td>\n      <td>False</td>\n    </tr>\n    <tr>\n      <th>1</th>\n      <td>1873-03-08</td>\n      <td>England</td>\n      <td>Scotland</td>\n      <td>4</td>\n      <td>2</td>\n      <td>Friendly</td>\n      <td>England</td>\n      <td>False</td>\n    </tr>\n    <tr>\n      <th>2</th>\n      <td>1874-03-07</td>\n      <td>Scotland</td>\n      <td>England</td>\n      <td>2</td>\n      <td>1</td>\n      <td>Friendly</td>\n      <td>Scotland</td>\n      <td>False</td>\n    </tr>\n    <tr>\n      <th>3</th>\n      <td>1875-03-06</td>\n      <td>England</td>\n      <td>Scotland</td>\n      <td>2</td>\n      <td>2</td>\n      <td>Friendly</td>\n      <td>England</td>\n      <td>False</td>\n    </tr>\n    <tr>\n      <th>4</th>\n      <td>1876-03-04</td>\n      <td>Scotland</td>\n      <td>England</td>\n      <td>3</td>\n      <td>0</td>\n      <td>Friendly</td>\n      <td>Scotland</td>\n      <td>False</td>\n    </tr>\n    <tr>\n      <th>...</th>\n      <td>...</td>\n      <td>...</td>\n      <td>...</td>\n      <td>...</td>\n      <td>...</td>\n      <td>...</td>\n      <td>...</td>\n      <td>...</td>\n    </tr>\n    <tr>\n      <th>45310</th>\n      <td>2023-11-21</td>\n      <td>Wales</td>\n      <td>Turkey</td>\n      <td>1</td>\n      <td>1</td>\n      <td>UEFA Euro qualification</td>\n      <td>Wales</td>\n      <td>False</td>\n    </tr>\n    <tr>\n      <th>45311</th>\n      <td>2023-11-21</td>\n      <td>Croatia</td>\n      <td>Armenia</td>\n      <td>1</td>\n      <td>0</td>\n      <td>UEFA Euro qualification</td>\n      <td>Croatia</td>\n      <td>False</td>\n    </tr>\n    <tr>\n      <th>45312</th>\n      <td>2023-11-21</td>\n      <td>Andorra</td>\n      <td>Israel</td>\n      <td>0</td>\n      <td>2</td>\n      <td>UEFA Euro qualification</td>\n      <td>Andorra</td>\n      <td>False</td>\n    </tr>\n    <tr>\n      <th>45313</th>\n      <td>2023-11-21</td>\n      <td>Kosovo</td>\n      <td>Belarus</td>\n      <td>0</td>\n      <td>1</td>\n      <td>UEFA Euro qualification</td>\n      <td>Kosovo</td>\n      <td>False</td>\n    </tr>\n    <tr>\n      <th>45314</th>\n      <td>2023-11-21</td>\n      <td>Romania</td>\n      <td>Switzerland</td>\n      <td>1</td>\n      <td>0</td>\n      <td>UEFA Euro qualification</td>\n      <td>Romania</td>\n      <td>False</td>\n    </tr>\n  </tbody>\n</table>\n<p>38842 rows × 8 columns</p>\n</div>"
     },
     "execution_count": 3,
     "metadata": {},
     "output_type": "execute_result"
    }
   ],
   "source": [
    "# Fixes the columns by converting year columns to int. If not possible convert to str.\n",
    "def fix_col(column):\n",
    "    try:\n",
    "        new_val = int(column)\n",
    "        return new_val\n",
    "    except:\n",
    "        return str(column)\n",
    "rank_at_year_df.columns = rank_at_year_df.columns.map(lambda x: fix_col(x))\n",
    "# Replace USA -> United States\n",
    "rank_at_year_df.loc['United States',:] = rank_at_year_df.loc['USA'].copy()\n",
    "rank_at_year_df.drop('USA',inplace=True,axis=0)\n",
    "# Filter out games with teams not in the FIFA ranking\n",
    "print('Before removal of unusable games:', game_results_df.shape)\n",
    "game_results_df.loc[game_results_df['home_team'] == 'USA', 'home_team'] = 'United States'\n",
    "game_results = game_results_df.loc[(game_results_df['home_team'].isin(values=rank_at_year_df.index.values)) & (\n",
    "    game_results_df['away_team'].isin(values=rank_at_year_df.index.values))].copy()\n",
    "print('After removal:', game_results.shape)\n",
    "# Get rid of the City column - useless\n",
    "game_results.drop(columns=['city'],inplace=True,axis=1)\n",
    "game_results"
   ]
  },
  {
   "cell_type": "code",
   "execution_count": 4,
   "metadata": {
    "ExecuteTime": {
     "end_time": "2024-03-04T18:04:24.026656Z",
     "start_time": "2024-03-04T18:04:23.748972Z"
    }
   },
   "outputs": [
    {
     "data": {
      "text/plain": "         date home_team away_team  home_score  away_score tournament  \\\n0  1872-11-30  Scotland   England           0           0   Friendly   \n1  1873-03-08   England  Scotland           4           2   Friendly   \n2  1874-03-07  Scotland   England           2           1   Friendly   \n3  1875-03-06   England  Scotland           2           2   Friendly   \n4  1876-03-04  Scotland   England           3           0   Friendly   \n\n    country  neutral  home_code  away_code  hosting_country_code  \n0  Scotland    False        154         58                   154  \n1   England    False         58        154                    58  \n2  Scotland    False        154         58                   154  \n3   England    False         58        154                    58  \n4  Scotland    False        154         58                   154  ",
      "text/html": "<div>\n<style scoped>\n    .dataframe tbody tr th:only-of-type {\n        vertical-align: middle;\n    }\n\n    .dataframe tbody tr th {\n        vertical-align: top;\n    }\n\n    .dataframe thead th {\n        text-align: right;\n    }\n</style>\n<table border=\"1\" class=\"dataframe\">\n  <thead>\n    <tr style=\"text-align: right;\">\n      <th></th>\n      <th>date</th>\n      <th>home_team</th>\n      <th>away_team</th>\n      <th>home_score</th>\n      <th>away_score</th>\n      <th>tournament</th>\n      <th>country</th>\n      <th>neutral</th>\n      <th>home_code</th>\n      <th>away_code</th>\n      <th>hosting_country_code</th>\n    </tr>\n  </thead>\n  <tbody>\n    <tr>\n      <th>0</th>\n      <td>1872-11-30</td>\n      <td>Scotland</td>\n      <td>England</td>\n      <td>0</td>\n      <td>0</td>\n      <td>Friendly</td>\n      <td>Scotland</td>\n      <td>False</td>\n      <td>154</td>\n      <td>58</td>\n      <td>154</td>\n    </tr>\n    <tr>\n      <th>1</th>\n      <td>1873-03-08</td>\n      <td>England</td>\n      <td>Scotland</td>\n      <td>4</td>\n      <td>2</td>\n      <td>Friendly</td>\n      <td>England</td>\n      <td>False</td>\n      <td>58</td>\n      <td>154</td>\n      <td>58</td>\n    </tr>\n    <tr>\n      <th>2</th>\n      <td>1874-03-07</td>\n      <td>Scotland</td>\n      <td>England</td>\n      <td>2</td>\n      <td>1</td>\n      <td>Friendly</td>\n      <td>Scotland</td>\n      <td>False</td>\n      <td>154</td>\n      <td>58</td>\n      <td>154</td>\n    </tr>\n    <tr>\n      <th>3</th>\n      <td>1875-03-06</td>\n      <td>England</td>\n      <td>Scotland</td>\n      <td>2</td>\n      <td>2</td>\n      <td>Friendly</td>\n      <td>England</td>\n      <td>False</td>\n      <td>58</td>\n      <td>154</td>\n      <td>58</td>\n    </tr>\n    <tr>\n      <th>4</th>\n      <td>1876-03-04</td>\n      <td>Scotland</td>\n      <td>England</td>\n      <td>3</td>\n      <td>0</td>\n      <td>Friendly</td>\n      <td>Scotland</td>\n      <td>False</td>\n      <td>154</td>\n      <td>58</td>\n      <td>154</td>\n    </tr>\n  </tbody>\n</table>\n</div>"
     },
     "execution_count": 4,
     "metadata": {},
     "output_type": "execute_result"
    }
   ],
   "source": [
    "# Encode the home team.\n",
    "game_results['home_code'] = game_results.home_team.astype('category').cat.codes\n",
    "l = len(game_results['home_team'].values)\n",
    "# Using the home team encoding, create a dict for country:country_code\n",
    "country_codes = {game_results['home_team'].values[i]:game_results['home_code'].values[i] for i in range(l)}\n",
    "# Get the last code\n",
    "code = max(country_codes.values()) + 1\n",
    "# encode_dict = game_results.['home_team']\n",
    "def encode_away_teams(x):\n",
    "   global code\n",
    "   val = country_codes.setdefault(x, code)\n",
    "   if val == code:\n",
    "      code+=1\n",
    "   return val\n",
    "# Now using values from home_code, encode away and hosting country. This ensures they are identical. I.e. if United States as a home team is coded 22, then it's\n",
    "# 22 in away and hosting country.\n",
    "game_results['away_code'] = game_results.away_team.apply(lambda x: encode_away_teams(x)).copy()\n",
    "game_results['hosting_country_code'] = game_results.country.apply(lambda x: encode_away_teams(x)).copy()\n",
    "game_results.head(5)"
   ]
  },
  {
   "cell_type": "markdown",
   "metadata": {
    "collapsed": false
   },
   "source": [
    "Since we only have fifa rankings starting from 1992-12-31, we'll be only keeping games from 1993-Present"
   ]
  },
  {
   "cell_type": "code",
   "execution_count": 5,
   "metadata": {
    "collapsed": false,
    "ExecuteTime": {
     "end_time": "2024-03-04T18:04:24.043805Z",
     "start_time": "2024-03-04T18:04:24.029835Z"
    }
   },
   "outputs": [
    {
     "data": {
      "text/plain": "tournament\nFriendly                                8343\nFIFA World Cup qualification            5421\nUEFA Euro qualification                 1982\nAfrican Cup of Nations qualification    1234\nUEFA Nations League                      472\n                                        ... \nThree Nations Cup                          1\nTIFOCO Tournament                          1\nThe Other Final                            1\nCup of Ancient Civilizations               1\nCopa Confraternidad                        1\nName: count, Length: 88, dtype: int64"
     },
     "execution_count": 5,
     "metadata": {},
     "output_type": "execute_result"
    }
   ],
   "source": [
    "# Convert dates to datetime\n",
    "game_results['date'] = pd.to_datetime(game_results['date'],format='%Y-%m-%d')\n",
    "ranking_df['rank_date'] = pd.to_datetime(ranking_df['rank_date'],format='%Y-%m-%d')\n",
    "# Filter the games and rankings starting from 1993\n",
    "game_results = game_results[game_results['date'] >= datetime(1993, 1, 1)].copy()\n",
    "ranking_df = ranking_df[ranking_df['rank_date'] >= datetime(1993, 1, 1)].copy()\n",
    "# Convert 'neutral' column to int\n",
    "game_results['neutral'] = game_results['neutral'].astype(int)\n",
    "# Display the 'neutral' column to verify the changes\n",
    "game_results['neutral'].head()\n",
    "game_results.tournament.value_counts()"
   ]
  },
  {
   "cell_type": "code",
   "execution_count": 6,
   "outputs": [
    {
     "data": {
      "text/plain": "date                    datetime64[ns]\nhome_team                       object\naway_team                       object\nhome_score                       int64\naway_score                       int64\ntournament                      object\ncountry                         object\nneutral                          int64\nhome_code                        int16\naway_code                        int16\nhosting_country_code             int64\ndtype: object"
     },
     "execution_count": 6,
     "metadata": {},
     "output_type": "execute_result"
    }
   ],
   "source": [
    "game_results.dtypes"
   ],
   "metadata": {
    "collapsed": false,
    "ExecuteTime": {
     "end_time": "2024-03-04T18:04:24.059079Z",
     "start_time": "2024-03-04T18:04:24.043695Z"
    }
   }
  },
  {
   "cell_type": "markdown",
   "source": [
    "# Create a final_score column\n",
    "Encodes the three values: \n",
    "- Home loss $\\rightarrow0$\n",
    "- Tie $\\rightarrow1$\n",
    "- Home win $\\rightarrow2$"
   ],
   "metadata": {
    "collapsed": false
   }
  },
  {
   "cell_type": "code",
   "execution_count": 7,
   "metadata": {
    "collapsed": false,
    "ExecuteTime": {
     "end_time": "2024-03-04T18:04:24.204439Z",
     "start_time": "2024-03-04T18:04:24.046093Z"
    }
   },
   "outputs": [],
   "source": [
    "game_results['final_score'] = game_results.apply(lambda x: 2 if x.away_score < x.home_score else 0 if x.away_score > x.home_score else 1,axis=1)"
   ]
  },
  {
   "cell_type": "markdown",
   "source": [
    "# Drop the index"
   ],
   "metadata": {
    "collapsed": false
   }
  },
  {
   "cell_type": "code",
   "execution_count": 8,
   "metadata": {
    "collapsed": false,
    "ExecuteTime": {
     "end_time": "2024-03-04T18:04:24.204895Z",
     "start_time": "2024-03-04T18:04:24.200599Z"
    }
   },
   "outputs": [
    {
     "data": {
      "text/plain": "final_score\n2    11375\n0     6563\n1     5610\nName: count, dtype: int64"
     },
     "execution_count": 8,
     "metadata": {},
     "output_type": "execute_result"
    }
   ],
   "source": [
    "game_results.reset_index(level=0,inplace=True)\n",
    "game_results.drop('index',inplace=True,axis=1)\n",
    "game_results['final_score'].value_counts()"
   ]
  },
  {
   "cell_type": "markdown",
   "source": [
    "# Plot the final_score values"
   ],
   "metadata": {
    "collapsed": false
   }
  },
  {
   "cell_type": "code",
   "execution_count": 9,
   "outputs": [
    {
     "data": {
      "text/plain": "<Figure size 200x600 with 1 Axes>",
      "image/png": "[encoded data removed]"
     },
     "metadata": {},
     "output_type": "display_data"
    }
   ],
   "source": [
    "import seaborn as sns\n",
    "import pandas as pd\n",
    "import matplotlib.pyplot as plt\n",
    "plt.figure(figsize=(2, 6))\n",
    "sns.countplot(x='final_score', data=game_results)\n",
    "plt.title('final_score')\n",
    "plt.xlabel('Unique Values')\n",
    "plt.ylabel('Count')\n",
    "plt.show()"
   ],
   "metadata": {
    "collapsed": false,
    "ExecuteTime": {
     "end_time": "2024-03-04T18:04:24.348540Z",
     "start_time": "2024-03-04T18:04:24.205036Z"
    }
   }
  },
  {
   "cell_type": "markdown",
   "metadata": {
    "collapsed": false
   },
   "source": [
    "We have heavy data imbalance where there are more home wins are alot higher than losses or ties. We'll probably need to either undersample the wins or oversample the ties/losses."
   ]
  },
  {
   "cell_type": "code",
   "execution_count": 10,
   "metadata": {
    "collapsed": false,
    "ExecuteTime": {
     "end_time": "2024-03-04T18:04:24.352633Z",
     "start_time": "2024-03-04T18:04:24.346606Z"
    }
   },
   "outputs": [
    {
     "data": {
      "text/plain": "tournament\nFriendly                                8343\nFIFA World Cup qualification            5421\nUEFA Euro qualification                 1982\nAfrican Cup of Nations qualification    1234\nUEFA Nations League                      472\n                                        ... \nThree Nations Cup                          1\nTIFOCO Tournament                          1\nThe Other Final                            1\nCup of Ancient Civilizations               1\nCopa Confraternidad                        1\nName: count, Length: 88, dtype: int64"
     },
     "execution_count": 10,
     "metadata": {},
     "output_type": "execute_result"
    }
   ],
   "source": [
    "game_results.tournament.value_counts()"
   ]
  },
  {
   "cell_type": "markdown",
   "metadata": {
    "collapsed": false
   },
   "source": [
    "We need to limit the tournament categories to just three: \n",
    "- Cup\n",
    "- Tournament\n",
    "- Friendly"
   ]
  },
  {
   "cell_type": "code",
   "execution_count": 11,
   "metadata": {
    "ExecuteTime": {
     "end_time": "2024-03-04T18:04:24.355537Z",
     "start_time": "2024-03-04T18:04:24.350127Z"
    }
   },
   "outputs": [],
   "source": [
    "def decide_competition(match_type):\n",
    "   # Superclasico is a south american friendly\n",
    "   if match_type.lower() == 'friendly' or match_type.lower().find('superclásico') != -1:\n",
    "      return 2\n",
    "   tournament_names = ['tournoi','uefa','tournament','qualifications','qualification','games','festival','league']\n",
    "   cup_names = ['cup', 'final','championship','copa']\n",
    "   # Tournament - 0\n",
    "   for x in tournament_names:\n",
    "      if match_type.lower().find(x) != -1:\n",
    "         return 0\n",
    "   # Cup - 1\n",
    "   for x in cup_names:\n",
    "      if match_type.lower().find(x) != -1:\n",
    "         return 1"
   ]
  },
  {
   "cell_type": "markdown",
   "metadata": {},
   "source": [
    "### Reorganize the tournaments to either be a cup, tournament, or friendly\n",
    "Encodes the three values: \n",
    "- Tournament $\\rightarrow0$\n",
    "- Cup $\\rightarrow1$\n",
    "- Friendly $\\rightarrow2$"
   ]
  },
  {
   "cell_type": "code",
   "execution_count": 12,
   "metadata": {
    "ExecuteTime": {
     "end_time": "2024-03-04T18:04:24.407517Z",
     "start_time": "2024-03-04T18:04:24.369509Z"
    }
   },
   "outputs": [],
   "source": [
    "game_results['tournament_code'] = game_results['tournament'].apply(decide_competition)"
   ]
  },
  {
   "cell_type": "code",
   "execution_count": 13,
   "metadata": {
    "ExecuteTime": {
     "end_time": "2024-03-04T18:04:24.408118Z",
     "start_time": "2024-03-04T18:04:24.372972Z"
    }
   },
   "outputs": [
    {
     "data": {
      "text/plain": "            date     home_team     away_team  home_score  away_score  \\\n0     1993-01-01         Ghana          Mali           1           1   \n1     1993-01-02         Gabon  Burkina Faso           1           1   \n2     1993-01-02        Kuwait       Lebanon           2           0   \n3     1993-01-03  Burkina Faso          Mali           1           0   \n4     1993-01-03         Gabon         Ghana           2           3   \n...          ...           ...           ...         ...         ...   \n23543 2023-11-21         Wales        Turkey           1           1   \n23544 2023-11-21       Croatia       Armenia           1           0   \n23545 2023-11-21       Andorra        Israel           0           2   \n23546 2023-11-21        Kosovo       Belarus           0           1   \n23547 2023-11-21       Romania   Switzerland           1           0   \n\n                    tournament  country  neutral  home_code  away_code  \\\n0                     Friendly    Gabon        1         72        112   \n1                     Friendly    Gabon        0         68         30   \n2                     Friendly   Kuwait        0         97        100   \n3                     Friendly    Gabon        1         30        112   \n4                     Friendly    Gabon        0         68         72   \n...                        ...      ...      ...        ...        ...   \n23543  UEFA Euro qualification    Wales        0        195        183   \n23544  UEFA Euro qualification  Croatia        0         45          9   \n23545  UEFA Euro qualification  Andorra        0          4         89   \n23546  UEFA Euro qualification   Kosovo        0         96         18   \n23547  UEFA Euro qualification  Romania        0        148        171   \n\n       hosting_country_code  final_score  tournament_code  \n0                        68            1                2  \n1                        68            1                2  \n2                        97            2                2  \n3                        68            2                2  \n4                        68            0                2  \n...                     ...          ...              ...  \n23543                   195            1                0  \n23544                    45            2                0  \n23545                     4            0                0  \n23546                    96            0                0  \n23547                   148            2                0  \n\n[23548 rows x 13 columns]",
      "text/html": "<div>\n<style scoped>\n    .dataframe tbody tr th:only-of-type {\n        vertical-align: middle;\n    }\n\n    .dataframe tbody tr th {\n        vertical-align: top;\n    }\n\n    .dataframe thead th {\n        text-align: right;\n    }\n</style>\n<table border=\"1\" class=\"dataframe\">\n  <thead>\n    <tr style=\"text-align: right;\">\n      <th></th>\n      <th>date</th>\n      <th>home_team</th>\n      <th>away_team</th>\n      <th>home_score</th>\n      <th>away_score</th>\n      <th>tournament</th>\n      <th>country</th>\n      <th>neutral</th>\n      <th>home_code</th>\n      <th>away_code</th>\n      <th>hosting_country_code</th>\n      <th>final_score</th>\n      <th>tournament_code</th>\n    </tr>\n  </thead>\n  <tbody>\n    <tr>\n      <th>0</th>\n      <td>1993-01-01</td>\n      <td>Ghana</td>\n      <td>Mali</td>\n      <td>1</td>\n      <td>1</td>\n      <td>Friendly</td>\n      <td>Gabon</td>\n      <td>1</td>\n      <td>72</td>\n      <td>112</td>\n      <td>68</td>\n      <td>1</td>\n      <td>2</td>\n    </tr>\n    <tr>\n      <th>1</th>\n      <td>1993-01-02</td>\n      <td>Gabon</td>\n      <td>Burkina Faso</td>\n      <td>1</td>\n      <td>1</td>\n      <td>Friendly</td>\n      <td>Gabon</td>\n      <td>0</td>\n      <td>68</td>\n      <td>30</td>\n      <td>68</td>\n      <td>1</td>\n      <td>2</td>\n    </tr>\n    <tr>\n      <th>2</th>\n      <td>1993-01-02</td>\n      <td>Kuwait</td>\n      <td>Lebanon</td>\n      <td>2</td>\n      <td>0</td>\n      <td>Friendly</td>\n      <td>Kuwait</td>\n      <td>0</td>\n      <td>97</td>\n      <td>100</td>\n      <td>97</td>\n      <td>2</td>\n      <td>2</td>\n    </tr>\n    <tr>\n      <th>3</th>\n      <td>1993-01-03</td>\n      <td>Burkina Faso</td>\n      <td>Mali</td>\n      <td>1</td>\n      <td>0</td>\n      <td>Friendly</td>\n      <td>Gabon</td>\n      <td>1</td>\n      <td>30</td>\n      <td>112</td>\n      <td>68</td>\n      <td>2</td>\n      <td>2</td>\n    </tr>\n    <tr>\n      <th>4</th>\n      <td>1993-01-03</td>\n      <td>Gabon</td>\n      <td>Ghana</td>\n      <td>2</td>\n      <td>3</td>\n      <td>Friendly</td>\n      <td>Gabon</td>\n      <td>0</td>\n      <td>68</td>\n      <td>72</td>\n      <td>68</td>\n      <td>0</td>\n      <td>2</td>\n    </tr>\n    <tr>\n      <th>...</th>\n      <td>...</td>\n      <td>...</td>\n      <td>...</td>\n      <td>...</td>\n      <td>...</td>\n      <td>...</td>\n      <td>...</td>\n      <td>...</td>\n      <td>...</td>\n      <td>...</td>\n      <td>...</td>\n      <td>...</td>\n      <td>...</td>\n    </tr>\n    <tr>\n      <th>23543</th>\n      <td>2023-11-21</td>\n      <td>Wales</td>\n      <td>Turkey</td>\n      <td>1</td>\n      <td>1</td>\n      <td>UEFA Euro qualification</td>\n      <td>Wales</td>\n      <td>0</td>\n      <td>195</td>\n      <td>183</td>\n      <td>195</td>\n      <td>1</td>\n      <td>0</td>\n    </tr>\n    <tr>\n      <th>23544</th>\n      <td>2023-11-21</td>\n      <td>Croatia</td>\n      <td>Armenia</td>\n      <td>1</td>\n      <td>0</td>\n      <td>UEFA Euro qualification</td>\n      <td>Croatia</td>\n      <td>0</td>\n      <td>45</td>\n      <td>9</td>\n      <td>45</td>\n      <td>2</td>\n      <td>0</td>\n    </tr>\n    <tr>\n      <th>23545</th>\n      <td>2023-11-21</td>\n      <td>Andorra</td>\n      <td>Israel</td>\n      <td>0</td>\n      <td>2</td>\n      <td>UEFA Euro qualification</td>\n      <td>Andorra</td>\n      <td>0</td>\n      <td>4</td>\n      <td>89</td>\n      <td>4</td>\n      <td>0</td>\n      <td>0</td>\n    </tr>\n    <tr>\n      <th>23546</th>\n      <td>2023-11-21</td>\n      <td>Kosovo</td>\n      <td>Belarus</td>\n      <td>0</td>\n      <td>1</td>\n      <td>UEFA Euro qualification</td>\n      <td>Kosovo</td>\n      <td>0</td>\n      <td>96</td>\n      <td>18</td>\n      <td>96</td>\n      <td>0</td>\n      <td>0</td>\n    </tr>\n    <tr>\n      <th>23547</th>\n      <td>2023-11-21</td>\n      <td>Romania</td>\n      <td>Switzerland</td>\n      <td>1</td>\n      <td>0</td>\n      <td>UEFA Euro qualification</td>\n      <td>Romania</td>\n      <td>0</td>\n      <td>148</td>\n      <td>171</td>\n      <td>148</td>\n      <td>2</td>\n      <td>0</td>\n    </tr>\n  </tbody>\n</table>\n<p>23548 rows × 13 columns</p>\n</div>"
     },
     "execution_count": 13,
     "metadata": {},
     "output_type": "execute_result"
    }
   ],
   "source": [
    "game_results['tournament_code'] = game_results.tournament_code.astype(int)\n",
    "game_results['tournament_code'].value_counts()\n",
    "game_results"
   ]
  },
  {
   "cell_type": "markdown",
   "metadata": {},
   "source": [
    "Seems like we have much more tournament matches. We might need to oversample cup games later if the results aren't good"
   ]
  },
  {
   "cell_type": "markdown",
   "source": [
    "### Test run.."
   ],
   "metadata": {
    "collapsed": false
   }
  },
  {
   "cell_type": "code",
   "execution_count": 14,
   "outputs": [],
   "source": [
    "from sklearn.ensemble import GradientBoostingClassifier\n",
    "test_me = False\n",
    "if test_me:\n",
    "    from sklearn.linear_model import LogisticRegression\n",
    "    from sklearn.svm import SVC\n",
    "    from sklearn.model_selection import train_test_split\n",
    "    from sklearn.metrics import accuracy_score,f1_score,confusion_matrix\n",
    "    game_results_ready = game_results.drop(['home_team','away_team','home_score','away_score','tournament','country','date'],axis=1)\n",
    "    X = game_results_ready.drop(['final_score'], axis=1)\n",
    "    y = game_results_ready['final_score']\n",
    "    X.info()\n",
    "    # Splitting of Data - 70/30\n",
    "    X_train, X_test, y_train, y_test = train_test_split(X, y,test_size=0.3, stratify=y,  random_state=42)\n",
    "    # svm = svm_ovo = SVC(decision_function_shape='ovo', kernel='linear')\n",
    "    lr = GradientBoostingClassifier(n_estimators=100, random_state=42)\n",
    "    # svm_ovo.fit(X_train, y_train)\n",
    "    lr.fit(X_train,y_train)\n",
    "    # y_pred_ovo = svm_ovo.predict(X_test)\n",
    "    y_pred_lr = lr.predict(X_test)\n",
    "    # accuracy_ovo = accuracy_score(y_test, y_pred_ovo)\n",
    "    # f1_ovo = f1_score(y_test,y_pred_ovo,average='macro')\n",
    "    accuracy_lr = accuracy_score(y_test, y_pred_lr)\n",
    "    conf_mat = confusion_matrix(y_test,y_pred_lr)\n",
    "    f1_lr = f1_score(y_test,y_pred_lr,average='macro')\n",
    "    # print(f\"Accuracy (One-vs-One): {accuracy_ovo}\")\n",
    "    # print(f'F1-Score: {f1_ovo}')\n",
    "    print(f\"Accuracy (Logistic Regression): {accuracy_lr}\")\n",
    "    print(f'F1-Score: {f1_lr}')\n",
    "    \n",
    "    accuracy = accuracy_score(y_test, y_pred_lr)\n",
    "    print(f\"Accuracy: {accuracy:.2f}\")\n",
    "    import seaborn as sns\n",
    "    import matplotlib.pyplot as plt\n",
    "    \n",
    "    # Plot a heatmap of the confusion matrix\n",
    "    plt.figure(figsize=(10, 8))\n",
    "    sns.heatmap(conf_mat, annot=True, fmt='d', cmap='Blues',\n",
    "                xticklabels=lr.classes_, yticklabels=lr.classes_)\n",
    "    plt.xlabel('Predicted Labels')\n",
    "    plt.ylabel('True Labels')\n",
    "    plt.title('Confusion Matrix')\n",
    "    plt.show()"
   ],
   "metadata": {
    "collapsed": false,
    "ExecuteTime": {
     "end_time": "2024-03-04T18:04:25.474120Z",
     "start_time": "2024-03-04T18:04:24.384374Z"
    }
   }
  },
  {
   "cell_type": "markdown",
   "metadata": {
    "collapsed": false
   },
   "source": [
    "### Get the most recent FIFA rank at the time of match and get the difference in rank between the two teams\n",
    "Negative value indicates that home team's rank is better than away team. Value itself shows how far apart they are."
   ]
  },
  {
   "cell_type": "code",
   "execution_count": 15,
   "metadata": {
    "ExecuteTime": {
     "end_time": "2024-03-04T18:04:25.761336Z",
     "start_time": "2024-03-04T18:04:25.474291Z"
    }
   },
   "outputs": [
    {
     "data": {
      "text/plain": "home_advantage\n1    17702\n0     5846\nName: count, dtype: int64"
     },
     "execution_count": 15,
     "metadata": {},
     "output_type": "execute_result"
    }
   ],
   "source": [
    "game_results['most_recent_rank_home'] = game_results.apply(lambda x: rank_at_year_df.loc[x['home_team'],x['date'].year] ,axis=1)\n",
    "game_results['most_recent_rank_away'] = game_results.apply(lambda x: rank_at_year_df.loc[x['away_team'],x['date'].year] ,axis=1)\n",
    "# Calculate the ranking difference\n",
    "game_results['most_recent_rank_difference'] = game_results['most_recent_rank_home'] - game_results['most_recent_rank_away']\n",
    "\n",
    "game_results['home_advantage'] = 0\n",
    "game_results.loc[game_results['home_code'] == game_results['hosting_country_code'], 'home_advantage'] = 1\n",
    "game_results['home_advantage'].value_counts()"
   ]
  },
  {
   "cell_type": "markdown",
   "source": [
    "### Get FIFA points total at the time"
   ],
   "metadata": {
    "collapsed": false
   }
  },
  {
   "cell_type": "code",
   "execution_count": 16,
   "outputs": [],
   "source": [
    "game_results['home_fifa_pts'] = game_results.apply(lambda x: rank_at_year_df.loc[x['home_team'],'{}_points'.format(x['date'].year)], axis = 1)\n",
    "game_results['away_fifa_pts'] = game_results.apply(lambda x: rank_at_year_df.loc[x['away_team'],'{}_points'.format(x['date'].year)], axis = 1)"
   ],
   "metadata": {
    "collapsed": false,
    "ExecuteTime": {
     "end_time": "2024-03-04T18:04:26.185832Z",
     "start_time": "2024-03-04T18:04:25.760647Z"
    }
   }
  },
  {
   "cell_type": "markdown",
   "metadata": {
    "collapsed": false
   },
   "source": [
    "### Now to check historical head-to-head matches between the two teams\n"
   ]
  },
  {
   "cell_type": "code",
   "execution_count": 17,
   "metadata": {
    "collapsed": false,
    "ExecuteTime": {
     "end_time": "2024-03-04T18:04:26.454428Z",
     "start_time": "2024-03-04T18:04:26.165743Z"
    }
   },
   "outputs": [
    {
     "data": {
      "text/plain": "head_to_head_last_5_away\n0    9177\n1    9057\n2    3997\n3    1125\n4     178\n5      14\nName: count, dtype: int64"
     },
     "execution_count": 17,
     "metadata": {},
     "output_type": "execute_result"
    }
   ],
   "source": [
    "\n",
    "# Define a function to calculate the number of wins for the home team against the away team in the last 5 matches\n",
    "# This is too slow so we'll only use it for rows later\n",
    "def calculate_head_to_head(row):\n",
    "    home_team = row['home_team']\n",
    "    away_team = row['away_team']\n",
    "    \n",
    "    # Extract the relevant subset of matches\n",
    "    relevant_matches = game_results[((game_results['home_team'] == home_team) & (game_results['away_team'] == away_team))]\n",
    "    \n",
    "    # Consider only the last 5 matches\n",
    "    last_5_matches = relevant_matches[relevant_matches['date'] < row['date']].tail(5)\n",
    "    \n",
    "    # Count the number of wins for the home team\n",
    "    wins_home_team = last_5_matches[\n",
    "        (last_5_matches['final_score'] == 2)\n",
    "    ].shape[0] \n",
    "    \n",
    "    wins_away_team = last_5_matches[(last_5_matches['final_score'] == 0)].shape[0] \n",
    "    \n",
    "    return wins_home_team, wins_away_team\n",
    "\n",
    "game_results['head_to_head_last_5_home'] = 0\n",
    "game_results['head_to_head_last_5_away'] = 0\n",
    "# Combine home and away teams to create a unique identifier for each match, TEMPORARY\n",
    "game_results['match_id'] = game_results.apply(lambda row: '_'.join(sorted([row['home_team'], row['away_team']])), axis=1)\n",
    "\n",
    "# Group by match and calculate the cumulative sum of wins for the home team (final_score == 2) using rolling window\n",
    "game_results['head_to_head_last_5_home'] = game_results.groupby('match_id')['final_score'].rolling(window=5, min_periods=1).apply(lambda x: (x == 2).sum(), raw=True).reset_index(drop=True)\n",
    "game_results['head_to_head_last_5_away'] = game_results.groupby('match_id')['final_score'].rolling(window=5, min_periods=1).apply(lambda x: (x == 0).sum(), raw=True).reset_index(drop=True)\n",
    "# Clip the values to ensure the minimum is 0\n",
    "game_results['head_to_head_last_5_home'] = game_results['head_to_head_last_5_home'].clip(lower=0)\n",
    "game_results['head_to_head_last_5_away'] = game_results['head_to_head_last_5_away'].clip(lower=0)\n",
    "# Ensure 'head_to_head_last_5' is of integer type\n",
    "game_results['head_to_head_last_5_home'] = game_results['head_to_head_last_5_home'].astype(int)\n",
    "game_results['head_to_head_last_5_away'] = game_results['head_to_head_last_5_away'].astype(int)\n",
    "\n",
    "# Display value counts\n",
    "game_results['head_to_head_last_5_home'].value_counts()\n",
    "game_results['head_to_head_last_5_away'].value_counts()"
   ]
  },
  {
   "cell_type": "markdown",
   "metadata": {
    "collapsed": false
   },
   "source": [
    "### Now another goal difference column that looks at the previous 5 matches for both teams\n",
    "Checks the goals scored by the team and goals conceded, subtracts them to get the delta. Negative value indicates that a team concedes more than they score."
   ]
  },
  {
   "cell_type": "code",
   "execution_count": 18,
   "metadata": {
    "collapsed": false,
    "ExecuteTime": {
     "end_time": "2024-03-04T18:04:26.496184Z",
     "start_time": "2024-03-04T18:04:26.456536Z"
    }
   },
   "outputs": [
    {
     "data": {
      "text/plain": "            date home_team    away_team  home_score  away_score  \\\n23543 2023-11-21     Wales       Turkey           1           1   \n23544 2023-11-21   Croatia      Armenia           1           0   \n23545 2023-11-21   Andorra       Israel           0           2   \n23546 2023-11-21    Kosovo      Belarus           0           1   \n23547 2023-11-21   Romania  Switzerland           1           0   \n\n                    tournament  country  neutral  home_code  away_code  ...  \\\n23543  UEFA Euro qualification    Wales        0        195        183  ...   \n23544  UEFA Euro qualification  Croatia        0         45          9  ...   \n23545  UEFA Euro qualification  Andorra        0          4         89  ...   \n23546  UEFA Euro qualification   Kosovo        0         96         18  ...   \n23547  UEFA Euro qualification  Romania        0        148        171  ...   \n\n       away_fifa_pts  head_to_head_last_5_home  head_to_head_last_5_away  \\\n23543           0.00                         1                         2   \n23544        1224.08                         1                         2   \n23545        1307.41                         0                         2   \n23546        1210.17                         0                         3   \n23547        1664.24                         0                         3   \n\n                  match_id  scored_last_5_home  conceded_last_5_home  \\\n23543         Turkey_Wales                   6                     4   \n23544      Armenia_Croatia                   3                     4   \n23545       Andorra_Israel                   1                     4   \n23546       Belarus_Kosovo                   3                     5   \n23547  Romania_Switzerland                   4                     4   \n\n       scored_last_5_away  conceded_last_5_away  goal_difference_last_5_home  \\\n23543                   2                     9                            2   \n23544                   2                     7                           -1   \n23545                   1                     6                           -3   \n23546                   2                     7                           -2   \n23547                   1                     4                            0   \n\n       goal_difference_last_5_away  \n23543                           -7  \n23544                           -5  \n23545                           -5  \n23546                           -5  \n23547                           -3  \n\n[5 rows x 28 columns]",
      "text/html": "<div>\n<style scoped>\n    .dataframe tbody tr th:only-of-type {\n        vertical-align: middle;\n    }\n\n    .dataframe tbody tr th {\n        vertical-align: top;\n    }\n\n    .dataframe thead th {\n        text-align: right;\n    }\n</style>\n<table border=\"1\" class=\"dataframe\">\n  <thead>\n    <tr style=\"text-align: right;\">\n      <th></th>\n      <th>date</th>\n      <th>home_team</th>\n      <th>away_team</th>\n      <th>home_score</th>\n      <th>away_score</th>\n      <th>tournament</th>\n      <th>country</th>\n      <th>neutral</th>\n      <th>home_code</th>\n      <th>away_code</th>\n      <th>...</th>\n      <th>away_fifa_pts</th>\n      <th>head_to_head_last_5_home</th>\n      <th>head_to_head_last_5_away</th>\n      <th>match_id</th>\n      <th>scored_last_5_home</th>\n      <th>conceded_last_5_home</th>\n      <th>scored_last_5_away</th>\n      <th>conceded_last_5_away</th>\n      <th>goal_difference_last_5_home</th>\n      <th>goal_difference_last_5_away</th>\n    </tr>\n  </thead>\n  <tbody>\n    <tr>\n      <th>23543</th>\n      <td>2023-11-21</td>\n      <td>Wales</td>\n      <td>Turkey</td>\n      <td>1</td>\n      <td>1</td>\n      <td>UEFA Euro qualification</td>\n      <td>Wales</td>\n      <td>0</td>\n      <td>195</td>\n      <td>183</td>\n      <td>...</td>\n      <td>0.00</td>\n      <td>1</td>\n      <td>2</td>\n      <td>Turkey_Wales</td>\n      <td>6</td>\n      <td>4</td>\n      <td>2</td>\n      <td>9</td>\n      <td>2</td>\n      <td>-7</td>\n    </tr>\n    <tr>\n      <th>23544</th>\n      <td>2023-11-21</td>\n      <td>Croatia</td>\n      <td>Armenia</td>\n      <td>1</td>\n      <td>0</td>\n      <td>UEFA Euro qualification</td>\n      <td>Croatia</td>\n      <td>0</td>\n      <td>45</td>\n      <td>9</td>\n      <td>...</td>\n      <td>1224.08</td>\n      <td>1</td>\n      <td>2</td>\n      <td>Armenia_Croatia</td>\n      <td>3</td>\n      <td>4</td>\n      <td>2</td>\n      <td>7</td>\n      <td>-1</td>\n      <td>-5</td>\n    </tr>\n    <tr>\n      <th>23545</th>\n      <td>2023-11-21</td>\n      <td>Andorra</td>\n      <td>Israel</td>\n      <td>0</td>\n      <td>2</td>\n      <td>UEFA Euro qualification</td>\n      <td>Andorra</td>\n      <td>0</td>\n      <td>4</td>\n      <td>89</td>\n      <td>...</td>\n      <td>1307.41</td>\n      <td>0</td>\n      <td>2</td>\n      <td>Andorra_Israel</td>\n      <td>1</td>\n      <td>4</td>\n      <td>1</td>\n      <td>6</td>\n      <td>-3</td>\n      <td>-5</td>\n    </tr>\n    <tr>\n      <th>23546</th>\n      <td>2023-11-21</td>\n      <td>Kosovo</td>\n      <td>Belarus</td>\n      <td>0</td>\n      <td>1</td>\n      <td>UEFA Euro qualification</td>\n      <td>Kosovo</td>\n      <td>0</td>\n      <td>96</td>\n      <td>18</td>\n      <td>...</td>\n      <td>1210.17</td>\n      <td>0</td>\n      <td>3</td>\n      <td>Belarus_Kosovo</td>\n      <td>3</td>\n      <td>5</td>\n      <td>2</td>\n      <td>7</td>\n      <td>-2</td>\n      <td>-5</td>\n    </tr>\n    <tr>\n      <th>23547</th>\n      <td>2023-11-21</td>\n      <td>Romania</td>\n      <td>Switzerland</td>\n      <td>1</td>\n      <td>0</td>\n      <td>UEFA Euro qualification</td>\n      <td>Romania</td>\n      <td>0</td>\n      <td>148</td>\n      <td>171</td>\n      <td>...</td>\n      <td>1664.24</td>\n      <td>0</td>\n      <td>3</td>\n      <td>Romania_Switzerland</td>\n      <td>4</td>\n      <td>4</td>\n      <td>1</td>\n      <td>4</td>\n      <td>0</td>\n      <td>-3</td>\n    </tr>\n  </tbody>\n</table>\n<p>5 rows × 28 columns</p>\n</div>"
     },
     "execution_count": 18,
     "metadata": {},
     "output_type": "execute_result"
    }
   ],
   "source": [
    "# Slow!\n",
    "def calculate_goal_difference_last_5(row, team_type):\n",
    "    team = row[team_type]\n",
    "    \n",
    "    # Extract the relevant subset of matches\n",
    "    relevant_matches = game_results[game_results[team_type] == team]\n",
    "    \n",
    "    # Sort the subset by date\n",
    "    relevant_matches = relevant_matches.sort_values(by='date')\n",
    "    \n",
    "    # Consider only the last five matches\n",
    "    last_5_matches = relevant_matches[relevant_matches['date'] < row['date']].tail(5)\n",
    "    \n",
    "    # Calculate the total goals scored by the team in the last five matches\n",
    "    goals_scored = last_5_matches['{}_score'.format('home' if team_type == 'home_team' else 'away')].sum()\n",
    "    # Calculate the total goals scored against the team in the last five matches\n",
    "    goals_conceded = last_5_matches['{}_score'.format('home' if team_type == 'away_team' else 'away')].sum()\n",
    "    # Calculate the goal difference\n",
    "    goal_difference = goals_scored - goals_conceded\n",
    "    \n",
    "    return goal_difference\n",
    "\n",
    "game_results['scored_last_5_home'] = 0\n",
    "game_results['conceded_last_5_home'] = 0\n",
    "game_results['scored_last_5_away'] = 0\n",
    "game_results['conceded_last_5_away'] = 0\n",
    "\n",
    "# Group by home_team and calculate the cumulative sum of goals scored and conceded using rolling window\n",
    "game_results['scored_last_5_home'] = game_results.groupby('home_team')['home_score'].rolling(window=5, min_periods=1).sum().reset_index(drop=True)\n",
    "game_results['conceded_last_5_home'] = game_results.groupby('home_team')['away_score'].rolling(window=5, min_periods=1).sum().reset_index(drop=True)\n",
    "\n",
    "# Group by away_team and calculate the cumulative sum of goals scored and conceded using rolling window\n",
    "game_results['scored_last_5_away'] = game_results.groupby('away_team')['away_score'].rolling(window=5, min_periods=1).sum().reset_index(drop=True)\n",
    "game_results['conceded_last_5_away'] = game_results.groupby('away_team')['home_score'].rolling(window=5, min_periods=1).sum().reset_index(drop=True)\n",
    "\n",
    "# Ensure 'scored_last_5_home', 'conceded_last_5_home', 'scored_last_5_away', 'conceded_last_5_away' are of integer type\n",
    "game_results[['scored_last_5_home', 'conceded_last_5_home', 'scored_last_5_away', 'conceded_last_5_away']] = game_results[['scored_last_5_home', 'conceded_last_5_home', 'scored_last_5_away', 'conceded_last_5_away']].astype(int)\n",
    "\n",
    "# Calculate goal difference for home and away teams (Scored - Conceded)\n",
    "game_results['goal_difference_last_5_home'] = game_results['scored_last_5_home'] - game_results['conceded_last_5_home']\n",
    "game_results['goal_difference_last_5_away'] = game_results['scored_last_5_away'] - game_results['conceded_last_5_away']\n",
    "\n",
    "# Display value counts\n",
    "game_results.tail()"
   ]
  },
  {
   "cell_type": "code",
   "execution_count": 19,
   "metadata": {
    "collapsed": false,
    "ExecuteTime": {
     "end_time": "2024-03-04T18:04:26.498285Z",
     "start_time": "2024-03-04T18:04:26.493751Z"
    }
   },
   "outputs": [
    {
     "data": {
      "text/plain": "goal_difference_last_5_home\n 2     1867\n 1     1825\n 3     1818\n 4     1781\n 5     1612\n       ... \n 43       1\n-44       1\n-45       1\n-29       1\n-32       1\nName: count, Length: 77, dtype: int64"
     },
     "execution_count": 19,
     "metadata": {},
     "output_type": "execute_result"
    }
   ],
   "source": [
    "game_results['goal_difference_last_5_home'].value_counts()"
   ]
  },
  {
   "cell_type": "markdown",
   "metadata": {
    "collapsed": false
   },
   "source": [
    "### Days since the last match played"
   ]
  },
  {
   "cell_type": "code",
   "execution_count": 20,
   "metadata": {
    "collapsed": false,
    "ExecuteTime": {
     "end_time": "2024-03-04T18:04:26.511861Z",
     "start_time": "2024-03-04T18:04:26.497481Z"
    }
   },
   "outputs": [
    {
     "data": {
      "text/plain": "days_since_last_match_home\n4.0       1474\n3.0       1293\n2.0        882\n35.0       830\n5.0        549\n          ... \n675.0        1\n1154.0       1\n1193.0       1\n1175.0       1\n898.0        1\nName: count, Length: 827, dtype: int64"
     },
     "execution_count": 20,
     "metadata": {},
     "output_type": "execute_result"
    }
   ],
   "source": [
    "# Create a new column 'days_since_last_match' to represent the days since the last match for each team\n",
    "game_results['days_since_last_match_home'] = game_results.groupby('home_team')['date'].diff().dt.days\n",
    "game_results['days_since_last_match_away'] = game_results.groupby('away_team')['date'].diff().dt.days\n",
    "\n",
    "# Fill NaN values with a default value (e.g., 0)\n",
    "game_results['days_since_last_match_home'] = game_results['days_since_last_match_home'].fillna(0)\n",
    "game_results['days_since_last_match_away'] = game_results['days_since_last_match_away'].fillna(0)\n",
    "\n",
    "game_results['days_since_last_match_home'].value_counts()"
   ]
  },
  {
   "cell_type": "code",
   "execution_count": 21,
   "metadata": {
    "collapsed": false,
    "ExecuteTime": {
     "end_time": "2024-03-04T18:04:26.512134Z",
     "start_time": "2024-03-04T18:04:26.506501Z"
    }
   },
   "outputs": [
    {
     "data": {
      "text/plain": "Index(['date', 'home_team', 'away_team', 'home_score', 'away_score',\n       'tournament', 'country', 'neutral', 'home_code', 'away_code',\n       'hosting_country_code', 'final_score', 'tournament_code',\n       'most_recent_rank_home', 'most_recent_rank_away',\n       'most_recent_rank_difference', 'home_advantage', 'home_fifa_pts',\n       'away_fifa_pts', 'head_to_head_last_5_home', 'head_to_head_last_5_away',\n       'match_id', 'scored_last_5_home', 'conceded_last_5_home',\n       'scored_last_5_away', 'conceded_last_5_away',\n       'goal_difference_last_5_home', 'goal_difference_last_5_away',\n       'days_since_last_match_home', 'days_since_last_match_away'],\n      dtype='object')"
     },
     "execution_count": 21,
     "metadata": {},
     "output_type": "execute_result"
    }
   ],
   "source": [
    "game_results.columns"
   ]
  },
  {
   "cell_type": "code",
   "execution_count": 22,
   "metadata": {
    "ExecuteTime": {
     "end_time": "2024-03-04T18:04:26.513001Z",
     "start_time": "2024-03-04T18:04:26.510043Z"
    }
   },
   "outputs": [
    {
     "data": {
      "text/plain": "date                           datetime64[ns]\nhome_team                              object\naway_team                              object\nhome_score                              int64\naway_score                              int64\ntournament                             object\ncountry                                object\nneutral                                 int64\nhome_code                               int16\naway_code                               int16\nhosting_country_code                    int64\nfinal_score                             int64\ntournament_code                         int64\nmost_recent_rank_home                 float64\nmost_recent_rank_away                 float64\nmost_recent_rank_difference           float64\nhome_advantage                          int64\nhome_fifa_pts                         float64\naway_fifa_pts                         float64\nhead_to_head_last_5_home                int64\nhead_to_head_last_5_away                int64\nmatch_id                               object\nscored_last_5_home                      int64\nconceded_last_5_home                    int64\nscored_last_5_away                      int64\nconceded_last_5_away                    int64\ngoal_difference_last_5_home             int64\ngoal_difference_last_5_away             int64\ndays_since_last_match_home            float64\ndays_since_last_match_away            float64\ndtype: object"
     },
     "execution_count": 22,
     "metadata": {},
     "output_type": "execute_result"
    }
   ],
   "source": [
    "game_results.dtypes"
   ]
  },
  {
   "cell_type": "code",
   "execution_count": 23,
   "metadata": {
    "ExecuteTime": {
     "end_time": "2024-03-04T18:04:26.557672Z",
     "start_time": "2024-03-04T18:04:26.513162Z"
    }
   },
   "outputs": [
    {
     "data": {
      "text/plain": "            date     home_team    away_team  home_score  away_score  \\\n202   1993-04-18  Saudi Arabia  New Zealand           3           1   \n211   1993-04-24  Saudi Arabia  New Zealand           1           0   \n273   1993-05-14  Saudi Arabia        Macau           8           0   \n277   1993-05-16  Saudi Arabia     Malaysia           3           0   \n280   1993-05-18  Saudi Arabia       Kuwait           2           0   \n...          ...           ...          ...         ...         ...   \n22733 2022-11-30  Saudi Arabia       Mexico           1           2   \n22780 2023-01-12  Saudi Arabia         Oman           1           2   \n22830 2023-03-24  Saudi Arabia    Venezuela           1           2   \n22926 2023-03-28  Saudi Arabia      Bolivia           1           2   \n23412 2023-11-16  Saudi Arabia     Pakistan           4           0   \n\n                         tournament       country  neutral  home_code  \\\n202                        Friendly     Singapore        1        153   \n211                        Friendly     Singapore        1        153   \n273    FIFA World Cup qualification  Saudi Arabia        0        153   \n277    FIFA World Cup qualification  Saudi Arabia        0        153   \n280    FIFA World Cup qualification  Saudi Arabia        0        153   \n...                             ...           ...      ...        ...   \n22733                FIFA World Cup         Qatar        1        153   \n22780                      Gulf Cup          Iraq        1        153   \n22830                      Friendly  Saudi Arabia        0        153   \n22926                      Friendly  Saudi Arabia        0        153   \n23412  FIFA World Cup qualification  Saudi Arabia        0        153   \n\n       away_code  ...  head_to_head_last_5_away                  match_id  \\\n202          128  ...                         2  New Zealand_Saudi Arabia   \n211          128  ...                         1  New Zealand_Saudi Arabia   \n273          107  ...                         2        Macau_Saudi Arabia   \n277          110  ...                         0     Malaysia_Saudi Arabia   \n280           97  ...                         0       Kuwait_Saudi Arabia   \n...          ...  ...                       ...                       ...   \n22733        116  ...                         1       Mexico_Saudi Arabia   \n22780        135  ...                         0         Oman_Saudi Arabia   \n22830        193  ...                         1    Saudi Arabia_Venezuela   \n22926         24  ...                         0      Bolivia_Saudi Arabia   \n23412        136  ...                         0     Pakistan_Saudi Arabia   \n\n       scored_last_5_home  conceded_last_5_home  scored_last_5_away  \\\n202                    12                     2                   2   \n211                     8                     6                   4   \n273                    14                     1                   1   \n277                     8                     5                   5   \n280                     9                     3                   5   \n...                   ...                   ...                 ...   \n22733                   7                     5                   8   \n22780                   8                     8                   9   \n22830                   4                     7                   7   \n22926                  19                     5                   4   \n23412                   3                     1                   6   \n\n       conceded_last_5_away  goal_difference_last_5_home  \\\n202                       6                           10   \n211                       6                            2   \n273                       8                           13   \n277                       4                            3   \n280                       2                            6   \n...                     ...                          ...   \n22733                     1                            2   \n22780                     5                            0   \n22830                    11                           -3   \n22926                     8                           14   \n23412                     1                            2   \n\n       goal_difference_last_5_away  days_since_last_match_home  \\\n202                             -4                         0.0   \n211                             -2                         6.0   \n273                             -7                        20.0   \n277                              1                         2.0   \n280                              3                         2.0   \n...                            ...                         ...   \n22733                            7                        14.0   \n22780                            4                        43.0   \n22830                           -4                        71.0   \n22926                           -4                         4.0   \n23412                            5                       233.0   \n\n       days_since_last_match_away  \n202                           0.0  \n211                           6.0  \n273                           9.0  \n277                           2.0  \n280                          15.0  \n...                           ...  \n22733                         4.0  \n22780                         6.0  \n22830                       124.0  \n22926                         4.0  \n23412                        35.0  \n\n[276 rows x 30 columns]",
      "text/html": "<div>\n<style scoped>\n    .dataframe tbody tr th:only-of-type {\n        vertical-align: middle;\n    }\n\n    .dataframe tbody tr th {\n        vertical-align: top;\n    }\n\n    .dataframe thead th {\n        text-align: right;\n    }\n</style>\n<table border=\"1\" class=\"dataframe\">\n  <thead>\n    <tr style=\"text-align: right;\">\n      <th></th>\n      <th>date</th>\n      <th>home_team</th>\n      <th>away_team</th>\n      <th>home_score</th>\n      <th>away_score</th>\n      <th>tournament</th>\n      <th>country</th>\n      <th>neutral</th>\n      <th>home_code</th>\n      <th>away_code</th>\n      <th>...</th>\n      <th>head_to_head_last_5_away</th>\n      <th>match_id</th>\n      <th>scored_last_5_home</th>\n      <th>conceded_last_5_home</th>\n      <th>scored_last_5_away</th>\n      <th>conceded_last_5_away</th>\n      <th>goal_difference_last_5_home</th>\n      <th>goal_difference_last_5_away</th>\n      <th>days_since_last_match_home</th>\n      <th>days_since_last_match_away</th>\n    </tr>\n  </thead>\n  <tbody>\n    <tr>\n      <th>202</th>\n      <td>1993-04-18</td>\n      <td>Saudi Arabia</td>\n      <td>New Zealand</td>\n      <td>3</td>\n      <td>1</td>\n      <td>Friendly</td>\n      <td>Singapore</td>\n      <td>1</td>\n      <td>153</td>\n      <td>128</td>\n      <td>...</td>\n      <td>2</td>\n      <td>New Zealand_Saudi Arabia</td>\n      <td>12</td>\n      <td>2</td>\n      <td>2</td>\n      <td>6</td>\n      <td>10</td>\n      <td>-4</td>\n      <td>0.0</td>\n      <td>0.0</td>\n    </tr>\n    <tr>\n      <th>211</th>\n      <td>1993-04-24</td>\n      <td>Saudi Arabia</td>\n      <td>New Zealand</td>\n      <td>1</td>\n      <td>0</td>\n      <td>Friendly</td>\n      <td>Singapore</td>\n      <td>1</td>\n      <td>153</td>\n      <td>128</td>\n      <td>...</td>\n      <td>1</td>\n      <td>New Zealand_Saudi Arabia</td>\n      <td>8</td>\n      <td>6</td>\n      <td>4</td>\n      <td>6</td>\n      <td>2</td>\n      <td>-2</td>\n      <td>6.0</td>\n      <td>6.0</td>\n    </tr>\n    <tr>\n      <th>273</th>\n      <td>1993-05-14</td>\n      <td>Saudi Arabia</td>\n      <td>Macau</td>\n      <td>8</td>\n      <td>0</td>\n      <td>FIFA World Cup qualification</td>\n      <td>Saudi Arabia</td>\n      <td>0</td>\n      <td>153</td>\n      <td>107</td>\n      <td>...</td>\n      <td>2</td>\n      <td>Macau_Saudi Arabia</td>\n      <td>14</td>\n      <td>1</td>\n      <td>1</td>\n      <td>8</td>\n      <td>13</td>\n      <td>-7</td>\n      <td>20.0</td>\n      <td>9.0</td>\n    </tr>\n    <tr>\n      <th>277</th>\n      <td>1993-05-16</td>\n      <td>Saudi Arabia</td>\n      <td>Malaysia</td>\n      <td>3</td>\n      <td>0</td>\n      <td>FIFA World Cup qualification</td>\n      <td>Saudi Arabia</td>\n      <td>0</td>\n      <td>153</td>\n      <td>110</td>\n      <td>...</td>\n      <td>0</td>\n      <td>Malaysia_Saudi Arabia</td>\n      <td>8</td>\n      <td>5</td>\n      <td>5</td>\n      <td>4</td>\n      <td>3</td>\n      <td>1</td>\n      <td>2.0</td>\n      <td>2.0</td>\n    </tr>\n    <tr>\n      <th>280</th>\n      <td>1993-05-18</td>\n      <td>Saudi Arabia</td>\n      <td>Kuwait</td>\n      <td>2</td>\n      <td>0</td>\n      <td>FIFA World Cup qualification</td>\n      <td>Saudi Arabia</td>\n      <td>0</td>\n      <td>153</td>\n      <td>97</td>\n      <td>...</td>\n      <td>0</td>\n      <td>Kuwait_Saudi Arabia</td>\n      <td>9</td>\n      <td>3</td>\n      <td>5</td>\n      <td>2</td>\n      <td>6</td>\n      <td>3</td>\n      <td>2.0</td>\n      <td>15.0</td>\n    </tr>\n    <tr>\n      <th>...</th>\n      <td>...</td>\n      <td>...</td>\n      <td>...</td>\n      <td>...</td>\n      <td>...</td>\n      <td>...</td>\n      <td>...</td>\n      <td>...</td>\n      <td>...</td>\n      <td>...</td>\n      <td>...</td>\n      <td>...</td>\n      <td>...</td>\n      <td>...</td>\n      <td>...</td>\n      <td>...</td>\n      <td>...</td>\n      <td>...</td>\n      <td>...</td>\n      <td>...</td>\n      <td>...</td>\n    </tr>\n    <tr>\n      <th>22733</th>\n      <td>2022-11-30</td>\n      <td>Saudi Arabia</td>\n      <td>Mexico</td>\n      <td>1</td>\n      <td>2</td>\n      <td>FIFA World Cup</td>\n      <td>Qatar</td>\n      <td>1</td>\n      <td>153</td>\n      <td>116</td>\n      <td>...</td>\n      <td>1</td>\n      <td>Mexico_Saudi Arabia</td>\n      <td>7</td>\n      <td>5</td>\n      <td>8</td>\n      <td>1</td>\n      <td>2</td>\n      <td>7</td>\n      <td>14.0</td>\n      <td>4.0</td>\n    </tr>\n    <tr>\n      <th>22780</th>\n      <td>2023-01-12</td>\n      <td>Saudi Arabia</td>\n      <td>Oman</td>\n      <td>1</td>\n      <td>2</td>\n      <td>Gulf Cup</td>\n      <td>Iraq</td>\n      <td>1</td>\n      <td>153</td>\n      <td>135</td>\n      <td>...</td>\n      <td>0</td>\n      <td>Oman_Saudi Arabia</td>\n      <td>8</td>\n      <td>8</td>\n      <td>9</td>\n      <td>5</td>\n      <td>0</td>\n      <td>4</td>\n      <td>43.0</td>\n      <td>6.0</td>\n    </tr>\n    <tr>\n      <th>22830</th>\n      <td>2023-03-24</td>\n      <td>Saudi Arabia</td>\n      <td>Venezuela</td>\n      <td>1</td>\n      <td>2</td>\n      <td>Friendly</td>\n      <td>Saudi Arabia</td>\n      <td>0</td>\n      <td>153</td>\n      <td>193</td>\n      <td>...</td>\n      <td>1</td>\n      <td>Saudi Arabia_Venezuela</td>\n      <td>4</td>\n      <td>7</td>\n      <td>7</td>\n      <td>11</td>\n      <td>-3</td>\n      <td>-4</td>\n      <td>71.0</td>\n      <td>124.0</td>\n    </tr>\n    <tr>\n      <th>22926</th>\n      <td>2023-03-28</td>\n      <td>Saudi Arabia</td>\n      <td>Bolivia</td>\n      <td>1</td>\n      <td>2</td>\n      <td>Friendly</td>\n      <td>Saudi Arabia</td>\n      <td>0</td>\n      <td>153</td>\n      <td>24</td>\n      <td>...</td>\n      <td>0</td>\n      <td>Bolivia_Saudi Arabia</td>\n      <td>19</td>\n      <td>5</td>\n      <td>4</td>\n      <td>8</td>\n      <td>14</td>\n      <td>-4</td>\n      <td>4.0</td>\n      <td>4.0</td>\n    </tr>\n    <tr>\n      <th>23412</th>\n      <td>2023-11-16</td>\n      <td>Saudi Arabia</td>\n      <td>Pakistan</td>\n      <td>4</td>\n      <td>0</td>\n      <td>FIFA World Cup qualification</td>\n      <td>Saudi Arabia</td>\n      <td>0</td>\n      <td>153</td>\n      <td>136</td>\n      <td>...</td>\n      <td>0</td>\n      <td>Pakistan_Saudi Arabia</td>\n      <td>3</td>\n      <td>1</td>\n      <td>6</td>\n      <td>1</td>\n      <td>2</td>\n      <td>5</td>\n      <td>233.0</td>\n      <td>35.0</td>\n    </tr>\n  </tbody>\n</table>\n<p>276 rows × 30 columns</p>\n</div>"
     },
     "metadata": {},
     "output_type": "display_data"
    }
   ],
   "source": [
    "# Let's look at Saudi Arabia's games\n",
    "results = game_results.loc[('Saudi Arabia' == game_results['home_team'])]\n",
    "display(results)"
   ]
  },
  {
   "cell_type": "markdown",
   "metadata": {
    "collapsed": false
   },
   "source": [
    "# Now we can work on the model\n",
    "## We'll need to add more features to improve the results"
   ]
  },
  {
   "cell_type": "code",
   "execution_count": 24,
   "metadata": {
    "collapsed": false,
    "ExecuteTime": {
     "end_time": "2024-03-04T18:04:26.758483Z",
     "start_time": "2024-03-04T18:04:26.522656Z"
    }
   },
   "outputs": [
    {
     "data": {
      "text/plain": "            date     home_team     away_team  home_score  away_score  \\\n0     1993-01-01         Ghana          Mali           1           1   \n1     1993-01-02         Gabon  Burkina Faso           1           1   \n2     1993-01-02        Kuwait       Lebanon           2           0   \n3     1993-01-03  Burkina Faso          Mali           1           0   \n4     1993-01-03         Gabon         Ghana           2           3   \n...          ...           ...           ...         ...         ...   \n23543 2023-11-21         Wales        Turkey           1           1   \n23544 2023-11-21       Croatia       Armenia           1           0   \n23545 2023-11-21       Andorra        Israel           0           2   \n23546 2023-11-21        Kosovo       Belarus           0           1   \n23547 2023-11-21       Romania   Switzerland           1           0   \n\n                    tournament  country  neutral  home_code  away_code  ...  \\\n0                     Friendly    Gabon        1         72        112  ...   \n1                     Friendly    Gabon        0         68         30  ...   \n2                     Friendly   Kuwait        0         97        100  ...   \n3                     Friendly    Gabon        1         30        112  ...   \n4                     Friendly    Gabon        0         68         72  ...   \n...                        ...      ...      ...        ...        ...  ...   \n23543  UEFA Euro qualification    Wales        0        195        183  ...   \n23544  UEFA Euro qualification  Croatia        0         45          9  ...   \n23545  UEFA Euro qualification  Andorra        0          4         89  ...   \n23546  UEFA Euro qualification   Kosovo        0         96         18  ...   \n23547  UEFA Euro qualification  Romania        0        148        171  ...   \n\n       scored_last_5_away  conceded_last_5_away  goal_difference_last_5_home  \\\n0                       0                     1                           -4   \n1                       0                     5                           -5   \n2                       0                    16                           -7   \n3                       0                    20                           -8   \n4                       1                    29                          -10   \n...                   ...                   ...                          ...   \n23543                   2                     9                            2   \n23544                   2                     7                           -1   \n23545                   1                     6                           -3   \n23546                   2                     7                           -2   \n23547                   1                     4                            0   \n\n       goal_difference_last_5_away  days_since_last_match_home  \\\n0                               -1                         0.0   \n1                               -5                         0.0   \n2                              -16                         0.0   \n3                              -20                         0.0   \n4                              -28                         1.0   \n...                            ...                         ...   \n23543                           -7                        37.0   \n23544                           -5                        40.0   \n23545                           -5                        40.0   \n23546                           -5                         9.0   \n23547                           -3                        37.0   \n\n       days_since_last_match_away  wins_last_10_games_home  \\\n0                             0.0                        0   \n1                             0.0                        0   \n2                             0.0                        0   \n3                             2.0                        0   \n4                             0.0                        0   \n...                           ...                      ...   \n23543                         3.0                        5   \n23544                        35.0                        5   \n23545                         9.0                        4   \n23546                        37.0                        4   \n23547                         6.0                        4   \n\n       wins_last_10_games_away        home_match_id        away_match_id  \n0                            1           Ghana_Mali           Ghana_Mali  \n1                            2   Burkina Faso_Gabon   Burkina Faso_Gabon  \n2                            3       Kuwait_Lebanon       Kuwait_Lebanon  \n3                            4    Burkina Faso_Mali    Burkina Faso_Mali  \n4                            5          Gabon_Ghana          Gabon_Ghana  \n...                        ...                  ...                  ...  \n23543                        5         Turkey_Wales         Turkey_Wales  \n23544                        5      Armenia_Croatia      Armenia_Croatia  \n23545                        6       Andorra_Israel       Andorra_Israel  \n23546                        7       Belarus_Kosovo       Belarus_Kosovo  \n23547                        7  Romania_Switzerland  Romania_Switzerland  \n\n[23548 rows x 34 columns]",
      "text/html": "<div>\n<style scoped>\n    .dataframe tbody tr th:only-of-type {\n        vertical-align: middle;\n    }\n\n    .dataframe tbody tr th {\n        vertical-align: top;\n    }\n\n    .dataframe thead th {\n        text-align: right;\n    }\n</style>\n<table border=\"1\" class=\"dataframe\">\n  <thead>\n    <tr style=\"text-align: right;\">\n      <th></th>\n      <th>date</th>\n      <th>home_team</th>\n      <th>away_team</th>\n      <th>home_score</th>\n      <th>away_score</th>\n      <th>tournament</th>\n      <th>country</th>\n      <th>neutral</th>\n      <th>home_code</th>\n      <th>away_code</th>\n      <th>...</th>\n      <th>scored_last_5_away</th>\n      <th>conceded_last_5_away</th>\n      <th>goal_difference_last_5_home</th>\n      <th>goal_difference_last_5_away</th>\n      <th>days_since_last_match_home</th>\n      <th>days_since_last_match_away</th>\n      <th>wins_last_10_games_home</th>\n      <th>wins_last_10_games_away</th>\n      <th>home_match_id</th>\n      <th>away_match_id</th>\n    </tr>\n  </thead>\n  <tbody>\n    <tr>\n      <th>0</th>\n      <td>1993-01-01</td>\n      <td>Ghana</td>\n      <td>Mali</td>\n      <td>1</td>\n      <td>1</td>\n      <td>Friendly</td>\n      <td>Gabon</td>\n      <td>1</td>\n      <td>72</td>\n      <td>112</td>\n      <td>...</td>\n      <td>0</td>\n      <td>1</td>\n      <td>-4</td>\n      <td>-1</td>\n      <td>0.0</td>\n      <td>0.0</td>\n      <td>0</td>\n      <td>1</td>\n      <td>Ghana_Mali</td>\n      <td>Ghana_Mali</td>\n    </tr>\n    <tr>\n      <th>1</th>\n      <td>1993-01-02</td>\n      <td>Gabon</td>\n      <td>Burkina Faso</td>\n      <td>1</td>\n      <td>1</td>\n      <td>Friendly</td>\n      <td>Gabon</td>\n      <td>0</td>\n      <td>68</td>\n      <td>30</td>\n      <td>...</td>\n      <td>0</td>\n      <td>5</td>\n      <td>-5</td>\n      <td>-5</td>\n      <td>0.0</td>\n      <td>0.0</td>\n      <td>0</td>\n      <td>2</td>\n      <td>Burkina Faso_Gabon</td>\n      <td>Burkina Faso_Gabon</td>\n    </tr>\n    <tr>\n      <th>2</th>\n      <td>1993-01-02</td>\n      <td>Kuwait</td>\n      <td>Lebanon</td>\n      <td>2</td>\n      <td>0</td>\n      <td>Friendly</td>\n      <td>Kuwait</td>\n      <td>0</td>\n      <td>97</td>\n      <td>100</td>\n      <td>...</td>\n      <td>0</td>\n      <td>16</td>\n      <td>-7</td>\n      <td>-16</td>\n      <td>0.0</td>\n      <td>0.0</td>\n      <td>0</td>\n      <td>3</td>\n      <td>Kuwait_Lebanon</td>\n      <td>Kuwait_Lebanon</td>\n    </tr>\n    <tr>\n      <th>3</th>\n      <td>1993-01-03</td>\n      <td>Burkina Faso</td>\n      <td>Mali</td>\n      <td>1</td>\n      <td>0</td>\n      <td>Friendly</td>\n      <td>Gabon</td>\n      <td>1</td>\n      <td>30</td>\n      <td>112</td>\n      <td>...</td>\n      <td>0</td>\n      <td>20</td>\n      <td>-8</td>\n      <td>-20</td>\n      <td>0.0</td>\n      <td>2.0</td>\n      <td>0</td>\n      <td>4</td>\n      <td>Burkina Faso_Mali</td>\n      <td>Burkina Faso_Mali</td>\n    </tr>\n    <tr>\n      <th>4</th>\n      <td>1993-01-03</td>\n      <td>Gabon</td>\n      <td>Ghana</td>\n      <td>2</td>\n      <td>3</td>\n      <td>Friendly</td>\n      <td>Gabon</td>\n      <td>0</td>\n      <td>68</td>\n      <td>72</td>\n      <td>...</td>\n      <td>1</td>\n      <td>29</td>\n      <td>-10</td>\n      <td>-28</td>\n      <td>1.0</td>\n      <td>0.0</td>\n      <td>0</td>\n      <td>5</td>\n      <td>Gabon_Ghana</td>\n      <td>Gabon_Ghana</td>\n    </tr>\n    <tr>\n      <th>...</th>\n      <td>...</td>\n      <td>...</td>\n      <td>...</td>\n      <td>...</td>\n      <td>...</td>\n      <td>...</td>\n      <td>...</td>\n      <td>...</td>\n      <td>...</td>\n      <td>...</td>\n      <td>...</td>\n      <td>...</td>\n      <td>...</td>\n      <td>...</td>\n      <td>...</td>\n      <td>...</td>\n      <td>...</td>\n      <td>...</td>\n      <td>...</td>\n      <td>...</td>\n      <td>...</td>\n    </tr>\n    <tr>\n      <th>23543</th>\n      <td>2023-11-21</td>\n      <td>Wales</td>\n      <td>Turkey</td>\n      <td>1</td>\n      <td>1</td>\n      <td>UEFA Euro qualification</td>\n      <td>Wales</td>\n      <td>0</td>\n      <td>195</td>\n      <td>183</td>\n      <td>...</td>\n      <td>2</td>\n      <td>9</td>\n      <td>2</td>\n      <td>-7</td>\n      <td>37.0</td>\n      <td>3.0</td>\n      <td>5</td>\n      <td>5</td>\n      <td>Turkey_Wales</td>\n      <td>Turkey_Wales</td>\n    </tr>\n    <tr>\n      <th>23544</th>\n      <td>2023-11-21</td>\n      <td>Croatia</td>\n      <td>Armenia</td>\n      <td>1</td>\n      <td>0</td>\n      <td>UEFA Euro qualification</td>\n      <td>Croatia</td>\n      <td>0</td>\n      <td>45</td>\n      <td>9</td>\n      <td>...</td>\n      <td>2</td>\n      <td>7</td>\n      <td>-1</td>\n      <td>-5</td>\n      <td>40.0</td>\n      <td>35.0</td>\n      <td>5</td>\n      <td>5</td>\n      <td>Armenia_Croatia</td>\n      <td>Armenia_Croatia</td>\n    </tr>\n    <tr>\n      <th>23545</th>\n      <td>2023-11-21</td>\n      <td>Andorra</td>\n      <td>Israel</td>\n      <td>0</td>\n      <td>2</td>\n      <td>UEFA Euro qualification</td>\n      <td>Andorra</td>\n      <td>0</td>\n      <td>4</td>\n      <td>89</td>\n      <td>...</td>\n      <td>1</td>\n      <td>6</td>\n      <td>-3</td>\n      <td>-5</td>\n      <td>40.0</td>\n      <td>9.0</td>\n      <td>4</td>\n      <td>6</td>\n      <td>Andorra_Israel</td>\n      <td>Andorra_Israel</td>\n    </tr>\n    <tr>\n      <th>23546</th>\n      <td>2023-11-21</td>\n      <td>Kosovo</td>\n      <td>Belarus</td>\n      <td>0</td>\n      <td>1</td>\n      <td>UEFA Euro qualification</td>\n      <td>Kosovo</td>\n      <td>0</td>\n      <td>96</td>\n      <td>18</td>\n      <td>...</td>\n      <td>2</td>\n      <td>7</td>\n      <td>-2</td>\n      <td>-5</td>\n      <td>9.0</td>\n      <td>37.0</td>\n      <td>4</td>\n      <td>7</td>\n      <td>Belarus_Kosovo</td>\n      <td>Belarus_Kosovo</td>\n    </tr>\n    <tr>\n      <th>23547</th>\n      <td>2023-11-21</td>\n      <td>Romania</td>\n      <td>Switzerland</td>\n      <td>1</td>\n      <td>0</td>\n      <td>UEFA Euro qualification</td>\n      <td>Romania</td>\n      <td>0</td>\n      <td>148</td>\n      <td>171</td>\n      <td>...</td>\n      <td>1</td>\n      <td>4</td>\n      <td>0</td>\n      <td>-3</td>\n      <td>37.0</td>\n      <td>6.0</td>\n      <td>4</td>\n      <td>7</td>\n      <td>Romania_Switzerland</td>\n      <td>Romania_Switzerland</td>\n    </tr>\n  </tbody>\n</table>\n<p>23548 rows × 34 columns</p>\n</div>"
     },
     "execution_count": 24,
     "metadata": {},
     "output_type": "execute_result"
    }
   ],
   "source": [
    "# Define a function to calculate the number of wins in the last 10 games\n",
    "# Slow!\n",
    "def calculate_wins_last_10(row):\n",
    "    team = row['home_team']\n",
    "    date = row['date']\n",
    "    last_10_games = game_results[(game_results['home_team'] == team) | (game_results['away_team'] == team)]\n",
    "    last_10_games = last_10_games[last_10_games['date'] < date].tail(10)\n",
    "    wins = last_10_games['final_score'].eq(2).sum()  # 2 represents a home win\n",
    "    return wins\n",
    "\n",
    "\n",
    "# We'll create new columns 'wins_last_10_games_home' and 'wins_last_10_games_away' with NaN values\n",
    "game_results['wins_last_10_games_home'] = pd.Series(dtype=float)\n",
    "game_results['wins_last_10_games_away'] = pd.Series(dtype=float)\n",
    "\n",
    "# Combine home and away teams to create a unique identifier for each match\n",
    "game_results['home_match_id'] = game_results.apply(lambda row: '_'.join(sorted([row['home_team'], row['away_team']])), axis=1)\n",
    "game_results['away_match_id'] = game_results.apply(lambda row: '_'.join(sorted([row['away_team'], row['home_team']])), axis=1)\n",
    "\n",
    "# Define a function to calculate the rolling sum of wins in the last 10 games for each team\n",
    "def calculate_rolling_wins_last_10(series):\n",
    "    return (series == 2).rolling(window=10, min_periods=1).sum()\n",
    "\n",
    "# Apply the rolling sum function to calculate wins in the last 10 games for home_team and away_team\n",
    "game_results['wins_last_10_games_home'] = game_results.groupby('home_team')['final_score'].apply(calculate_rolling_wins_last_10).reset_index(drop=True)\n",
    "game_results['wins_last_10_games_away'] = game_results.groupby('away_team')['final_score'].apply(calculate_rolling_wins_last_10).reset_index(drop=True)\n",
    "\n",
    "# Ensure 'wins_last_10_games_home' and 'wins_last_10_games_away' are of integer type\n",
    "game_results[['wins_last_10_games_home', 'wins_last_10_games_away']] = game_results[['wins_last_10_games_home', 'wins_last_10_games_away']].astype(int)\n",
    "game_results"
   ]
  },
  {
   "cell_type": "markdown",
   "source": [
    "### Refine the features to only include important ones\n",
    "We get rid of `object` columns and `x_score` columns because giving the score makes no sense. We'll use `game_results_ready` in order to keep the original game_results dataframe for functions that use it."
   ],
   "metadata": {
    "collapsed": false
   }
  },
  {
   "cell_type": "code",
   "execution_count": 25,
   "outputs": [
    {
     "data": {
      "text/plain": "            date     home_team     away_team  home_score  away_score  \\\n0     1993-01-01         Ghana          Mali           1           1   \n1     1993-01-02         Gabon  Burkina Faso           1           1   \n2     1993-01-02        Kuwait       Lebanon           2           0   \n3     1993-01-03  Burkina Faso          Mali           1           0   \n4     1993-01-03         Gabon         Ghana           2           3   \n...          ...           ...           ...         ...         ...   \n23543 2023-11-21         Wales        Turkey           1           1   \n23544 2023-11-21       Croatia       Armenia           1           0   \n23545 2023-11-21       Andorra        Israel           0           2   \n23546 2023-11-21        Kosovo       Belarus           0           1   \n23547 2023-11-21       Romania   Switzerland           1           0   \n\n                    tournament  country  neutral  home_code  away_code  ...  \\\n0                     Friendly    Gabon        1         72        112  ...   \n1                     Friendly    Gabon        0         68         30  ...   \n2                     Friendly   Kuwait        0         97        100  ...   \n3                     Friendly    Gabon        1         30        112  ...   \n4                     Friendly    Gabon        0         68         72  ...   \n...                        ...      ...      ...        ...        ...  ...   \n23543  UEFA Euro qualification    Wales        0        195        183  ...   \n23544  UEFA Euro qualification  Croatia        0         45          9  ...   \n23545  UEFA Euro qualification  Andorra        0          4         89  ...   \n23546  UEFA Euro qualification   Kosovo        0         96         18  ...   \n23547  UEFA Euro qualification  Romania        0        148        171  ...   \n\n       scored_last_5_away  conceded_last_5_away  goal_difference_last_5_home  \\\n0                       0                     1                           -4   \n1                       0                     5                           -5   \n2                       0                    16                           -7   \n3                       0                    20                           -8   \n4                       1                    29                          -10   \n...                   ...                   ...                          ...   \n23543                   2                     9                            2   \n23544                   2                     7                           -1   \n23545                   1                     6                           -3   \n23546                   2                     7                           -2   \n23547                   1                     4                            0   \n\n       goal_difference_last_5_away  days_since_last_match_home  \\\n0                               -1                         0.0   \n1                               -5                         0.0   \n2                              -16                         0.0   \n3                              -20                         0.0   \n4                              -28                         1.0   \n...                            ...                         ...   \n23543                           -7                        37.0   \n23544                           -5                        40.0   \n23545                           -5                        40.0   \n23546                           -5                         9.0   \n23547                           -3                        37.0   \n\n       days_since_last_match_away  wins_last_10_games_home  \\\n0                             0.0                        0   \n1                             0.0                        0   \n2                             0.0                        0   \n3                             2.0                        0   \n4                             0.0                        0   \n...                           ...                      ...   \n23543                         3.0                        5   \n23544                        35.0                        5   \n23545                         9.0                        4   \n23546                        37.0                        4   \n23547                         6.0                        4   \n\n       wins_last_10_games_away        home_match_id        away_match_id  \n0                            1           Ghana_Mali           Ghana_Mali  \n1                            2   Burkina Faso_Gabon   Burkina Faso_Gabon  \n2                            3       Kuwait_Lebanon       Kuwait_Lebanon  \n3                            4    Burkina Faso_Mali    Burkina Faso_Mali  \n4                            5          Gabon_Ghana          Gabon_Ghana  \n...                        ...                  ...                  ...  \n23543                        5         Turkey_Wales         Turkey_Wales  \n23544                        5      Armenia_Croatia      Armenia_Croatia  \n23545                        6       Andorra_Israel       Andorra_Israel  \n23546                        7       Belarus_Kosovo       Belarus_Kosovo  \n23547                        7  Romania_Switzerland  Romania_Switzerland  \n\n[23548 rows x 34 columns]",
      "text/html": "<div>\n<style scoped>\n    .dataframe tbody tr th:only-of-type {\n        vertical-align: middle;\n    }\n\n    .dataframe tbody tr th {\n        vertical-align: top;\n    }\n\n    .dataframe thead th {\n        text-align: right;\n    }\n</style>\n<table border=\"1\" class=\"dataframe\">\n  <thead>\n    <tr style=\"text-align: right;\">\n      <th></th>\n      <th>date</th>\n      <th>home_team</th>\n      <th>away_team</th>\n      <th>home_score</th>\n      <th>away_score</th>\n      <th>tournament</th>\n      <th>country</th>\n      <th>neutral</th>\n      <th>home_code</th>\n      <th>away_code</th>\n      <th>...</th>\n      <th>scored_last_5_away</th>\n      <th>conceded_last_5_away</th>\n      <th>goal_difference_last_5_home</th>\n      <th>goal_difference_last_5_away</th>\n      <th>days_since_last_match_home</th>\n      <th>days_since_last_match_away</th>\n      <th>wins_last_10_games_home</th>\n      <th>wins_last_10_games_away</th>\n      <th>home_match_id</th>\n      <th>away_match_id</th>\n    </tr>\n  </thead>\n  <tbody>\n    <tr>\n      <th>0</th>\n      <td>1993-01-01</td>\n      <td>Ghana</td>\n      <td>Mali</td>\n      <td>1</td>\n      <td>1</td>\n      <td>Friendly</td>\n      <td>Gabon</td>\n      <td>1</td>\n      <td>72</td>\n      <td>112</td>\n      <td>...</td>\n      <td>0</td>\n      <td>1</td>\n      <td>-4</td>\n      <td>-1</td>\n      <td>0.0</td>\n      <td>0.0</td>\n      <td>0</td>\n      <td>1</td>\n      <td>Ghana_Mali</td>\n      <td>Ghana_Mali</td>\n    </tr>\n    <tr>\n      <th>1</th>\n      <td>1993-01-02</td>\n      <td>Gabon</td>\n      <td>Burkina Faso</td>\n      <td>1</td>\n      <td>1</td>\n      <td>Friendly</td>\n      <td>Gabon</td>\n      <td>0</td>\n      <td>68</td>\n      <td>30</td>\n      <td>...</td>\n      <td>0</td>\n      <td>5</td>\n      <td>-5</td>\n      <td>-5</td>\n      <td>0.0</td>\n      <td>0.0</td>\n      <td>0</td>\n      <td>2</td>\n      <td>Burkina Faso_Gabon</td>\n      <td>Burkina Faso_Gabon</td>\n    </tr>\n    <tr>\n      <th>2</th>\n      <td>1993-01-02</td>\n      <td>Kuwait</td>\n      <td>Lebanon</td>\n      <td>2</td>\n      <td>0</td>\n      <td>Friendly</td>\n      <td>Kuwait</td>\n      <td>0</td>\n      <td>97</td>\n      <td>100</td>\n      <td>...</td>\n      <td>0</td>\n      <td>16</td>\n      <td>-7</td>\n      <td>-16</td>\n      <td>0.0</td>\n      <td>0.0</td>\n      <td>0</td>\n      <td>3</td>\n      <td>Kuwait_Lebanon</td>\n      <td>Kuwait_Lebanon</td>\n    </tr>\n    <tr>\n      <th>3</th>\n      <td>1993-01-03</td>\n      <td>Burkina Faso</td>\n      <td>Mali</td>\n      <td>1</td>\n      <td>0</td>\n      <td>Friendly</td>\n      <td>Gabon</td>\n      <td>1</td>\n      <td>30</td>\n      <td>112</td>\n      <td>...</td>\n      <td>0</td>\n      <td>20</td>\n      <td>-8</td>\n      <td>-20</td>\n      <td>0.0</td>\n      <td>2.0</td>\n      <td>0</td>\n      <td>4</td>\n      <td>Burkina Faso_Mali</td>\n      <td>Burkina Faso_Mali</td>\n    </tr>\n    <tr>\n      <th>4</th>\n      <td>1993-01-03</td>\n      <td>Gabon</td>\n      <td>Ghana</td>\n      <td>2</td>\n      <td>3</td>\n      <td>Friendly</td>\n      <td>Gabon</td>\n      <td>0</td>\n      <td>68</td>\n      <td>72</td>\n      <td>...</td>\n      <td>1</td>\n      <td>29</td>\n      <td>-10</td>\n      <td>-28</td>\n      <td>1.0</td>\n      <td>0.0</td>\n      <td>0</td>\n      <td>5</td>\n      <td>Gabon_Ghana</td>\n      <td>Gabon_Ghana</td>\n    </tr>\n    <tr>\n      <th>...</th>\n      <td>...</td>\n      <td>...</td>\n      <td>...</td>\n      <td>...</td>\n      <td>...</td>\n      <td>...</td>\n      <td>...</td>\n      <td>...</td>\n      <td>...</td>\n      <td>...</td>\n      <td>...</td>\n      <td>...</td>\n      <td>...</td>\n      <td>...</td>\n      <td>...</td>\n      <td>...</td>\n      <td>...</td>\n      <td>...</td>\n      <td>...</td>\n      <td>...</td>\n      <td>...</td>\n    </tr>\n    <tr>\n      <th>23543</th>\n      <td>2023-11-21</td>\n      <td>Wales</td>\n      <td>Turkey</td>\n      <td>1</td>\n      <td>1</td>\n      <td>UEFA Euro qualification</td>\n      <td>Wales</td>\n      <td>0</td>\n      <td>195</td>\n      <td>183</td>\n      <td>...</td>\n      <td>2</td>\n      <td>9</td>\n      <td>2</td>\n      <td>-7</td>\n      <td>37.0</td>\n      <td>3.0</td>\n      <td>5</td>\n      <td>5</td>\n      <td>Turkey_Wales</td>\n      <td>Turkey_Wales</td>\n    </tr>\n    <tr>\n      <th>23544</th>\n      <td>2023-11-21</td>\n      <td>Croatia</td>\n      <td>Armenia</td>\n      <td>1</td>\n      <td>0</td>\n      <td>UEFA Euro qualification</td>\n      <td>Croatia</td>\n      <td>0</td>\n      <td>45</td>\n      <td>9</td>\n      <td>...</td>\n      <td>2</td>\n      <td>7</td>\n      <td>-1</td>\n      <td>-5</td>\n      <td>40.0</td>\n      <td>35.0</td>\n      <td>5</td>\n      <td>5</td>\n      <td>Armenia_Croatia</td>\n      <td>Armenia_Croatia</td>\n    </tr>\n    <tr>\n      <th>23545</th>\n      <td>2023-11-21</td>\n      <td>Andorra</td>\n      <td>Israel</td>\n      <td>0</td>\n      <td>2</td>\n      <td>UEFA Euro qualification</td>\n      <td>Andorra</td>\n      <td>0</td>\n      <td>4</td>\n      <td>89</td>\n      <td>...</td>\n      <td>1</td>\n      <td>6</td>\n      <td>-3</td>\n      <td>-5</td>\n      <td>40.0</td>\n      <td>9.0</td>\n      <td>4</td>\n      <td>6</td>\n      <td>Andorra_Israel</td>\n      <td>Andorra_Israel</td>\n    </tr>\n    <tr>\n      <th>23546</th>\n      <td>2023-11-21</td>\n      <td>Kosovo</td>\n      <td>Belarus</td>\n      <td>0</td>\n      <td>1</td>\n      <td>UEFA Euro qualification</td>\n      <td>Kosovo</td>\n      <td>0</td>\n      <td>96</td>\n      <td>18</td>\n      <td>...</td>\n      <td>2</td>\n      <td>7</td>\n      <td>-2</td>\n      <td>-5</td>\n      <td>9.0</td>\n      <td>37.0</td>\n      <td>4</td>\n      <td>7</td>\n      <td>Belarus_Kosovo</td>\n      <td>Belarus_Kosovo</td>\n    </tr>\n    <tr>\n      <th>23547</th>\n      <td>2023-11-21</td>\n      <td>Romania</td>\n      <td>Switzerland</td>\n      <td>1</td>\n      <td>0</td>\n      <td>UEFA Euro qualification</td>\n      <td>Romania</td>\n      <td>0</td>\n      <td>148</td>\n      <td>171</td>\n      <td>...</td>\n      <td>1</td>\n      <td>4</td>\n      <td>0</td>\n      <td>-3</td>\n      <td>37.0</td>\n      <td>6.0</td>\n      <td>4</td>\n      <td>7</td>\n      <td>Romania_Switzerland</td>\n      <td>Romania_Switzerland</td>\n    </tr>\n  </tbody>\n</table>\n<p>23548 rows × 34 columns</p>\n</div>"
     },
     "execution_count": 25,
     "metadata": {},
     "output_type": "execute_result"
    }
   ],
   "source": [
    "game_results"
   ],
   "metadata": {
    "collapsed": false,
    "ExecuteTime": {
     "end_time": "2024-03-04T18:04:26.772268Z",
     "start_time": "2024-03-04T18:04:26.756844Z"
    }
   }
  },
  {
   "cell_type": "code",
   "execution_count": 26,
   "metadata": {
    "collapsed": false,
    "ExecuteTime": {
     "end_time": "2024-03-04T18:04:26.775188Z",
     "start_time": "2024-03-04T18:04:26.771063Z"
    }
   },
   "outputs": [],
   "source": [
    "game_results_ready = game_results.drop(['home_team','away_team','home_score','away_score','tournament','country','date','match_id','home_match_id','away_match_id'],axis=1)"
   ]
  },
  {
   "cell_type": "code",
   "execution_count": 27,
   "metadata": {
    "collapsed": false,
    "ExecuteTime": {
     "end_time": "2024-03-04T18:04:26.807839Z",
     "start_time": "2024-03-04T18:04:26.774111Z"
    }
   },
   "outputs": [
    {
     "name": "stdout",
     "output_type": "stream",
     "text": [
      "<class 'pandas.core.frame.DataFrame'>\n",
      "RangeIndex: 23548 entries, 0 to 23547\n",
      "Data columns (total 24 columns):\n",
      " #   Column                       Non-Null Count  Dtype  \n",
      "---  ------                       --------------  -----  \n",
      " 0   neutral                      23548 non-null  int64  \n",
      " 1   home_code                    23548 non-null  int16  \n",
      " 2   away_code                    23548 non-null  int16  \n",
      " 3   hosting_country_code         23548 non-null  int64  \n",
      " 4   final_score                  23548 non-null  int64  \n",
      " 5   tournament_code              23548 non-null  int64  \n",
      " 6   most_recent_rank_home        23548 non-null  float64\n",
      " 7   most_recent_rank_away        23548 non-null  float64\n",
      " 8   most_recent_rank_difference  23548 non-null  float64\n",
      " 9   home_advantage               23548 non-null  int64  \n",
      " 10  home_fifa_pts                23548 non-null  float64\n",
      " 11  away_fifa_pts                23548 non-null  float64\n",
      " 12  head_to_head_last_5_home     23548 non-null  int64  \n",
      " 13  head_to_head_last_5_away     23548 non-null  int64  \n",
      " 14  scored_last_5_home           23548 non-null  int64  \n",
      " 15  conceded_last_5_home         23548 non-null  int64  \n",
      " 16  scored_last_5_away           23548 non-null  int64  \n",
      " 17  conceded_last_5_away         23548 non-null  int64  \n",
      " 18  goal_difference_last_5_home  23548 non-null  int64  \n",
      " 19  goal_difference_last_5_away  23548 non-null  int64  \n",
      " 20  days_since_last_match_home   23548 non-null  float64\n",
      " 21  days_since_last_match_away   23548 non-null  float64\n",
      " 22  wins_last_10_games_home      23548 non-null  int64  \n",
      " 23  wins_last_10_games_away      23548 non-null  int64  \n",
      "dtypes: float64(7), int16(2), int64(15)\n",
      "memory usage: 4.0 MB\n"
     ]
    }
   ],
   "source": [
    "game_results_ready.info()"
   ]
  },
  {
   "cell_type": "code",
   "execution_count": 28,
   "metadata": {
    "collapsed": false,
    "ExecuteTime": {
     "end_time": "2024-03-04T18:04:26.822584Z",
     "start_time": "2024-03-04T18:04:26.785133Z"
    }
   },
   "outputs": [
    {
     "data": {
      "text/plain": "   neutral  home_code  away_code  hosting_country_code  final_score  \\\n0        1         72        112                    68            1   \n1        0         68         30                    68            1   \n2        0         97        100                    97            2   \n3        1         30        112                    68            2   \n4        0         68         72                    68            0   \n\n   tournament_code  most_recent_rank_home  most_recent_rank_away  \\\n0                2                   48.0                   74.0   \n1                2                   64.0                  113.0   \n2                2                   60.0                  108.0   \n3                2                  113.0                   74.0   \n4                2                   64.0                   48.0   \n\n   most_recent_rank_difference  home_advantage  ...  scored_last_5_home  \\\n0                        -26.0               0  ...                   0   \n1                        -49.0               1  ...                   0   \n2                        -48.0               1  ...                   0   \n3                         39.0               0  ...                   1   \n4                         16.0               1  ...                   2   \n\n   conceded_last_5_home  scored_last_5_away  conceded_last_5_away  \\\n0                     4                   0                     1   \n1                     5                   0                     5   \n2                     7                   0                    16   \n3                     9                   0                    20   \n4                    12                   1                    29   \n\n   goal_difference_last_5_home  goal_difference_last_5_away  \\\n0                           -4                           -1   \n1                           -5                           -5   \n2                           -7                          -16   \n3                           -8                          -20   \n4                          -10                          -28   \n\n   days_since_last_match_home  days_since_last_match_away  \\\n0                         0.0                         0.0   \n1                         0.0                         0.0   \n2                         0.0                         0.0   \n3                         0.0                         2.0   \n4                         1.0                         0.0   \n\n   wins_last_10_games_home  wins_last_10_games_away  \n0                        0                        1  \n1                        0                        2  \n2                        0                        3  \n3                        0                        4  \n4                        0                        5  \n\n[5 rows x 24 columns]",
      "text/html": "<div>\n<style scoped>\n    .dataframe tbody tr th:only-of-type {\n        vertical-align: middle;\n    }\n\n    .dataframe tbody tr th {\n        vertical-align: top;\n    }\n\n    .dataframe thead th {\n        text-align: right;\n    }\n</style>\n<table border=\"1\" class=\"dataframe\">\n  <thead>\n    <tr style=\"text-align: right;\">\n      <th></th>\n      <th>neutral</th>\n      <th>home_code</th>\n      <th>away_code</th>\n      <th>hosting_country_code</th>\n      <th>final_score</th>\n      <th>tournament_code</th>\n      <th>most_recent_rank_home</th>\n      <th>most_recent_rank_away</th>\n      <th>most_recent_rank_difference</th>\n      <th>home_advantage</th>\n      <th>...</th>\n      <th>scored_last_5_home</th>\n      <th>conceded_last_5_home</th>\n      <th>scored_last_5_away</th>\n      <th>conceded_last_5_away</th>\n      <th>goal_difference_last_5_home</th>\n      <th>goal_difference_last_5_away</th>\n      <th>days_since_last_match_home</th>\n      <th>days_since_last_match_away</th>\n      <th>wins_last_10_games_home</th>\n      <th>wins_last_10_games_away</th>\n    </tr>\n  </thead>\n  <tbody>\n    <tr>\n      <th>0</th>\n      <td>1</td>\n      <td>72</td>\n      <td>112</td>\n      <td>68</td>\n      <td>1</td>\n      <td>2</td>\n      <td>48.0</td>\n      <td>74.0</td>\n      <td>-26.0</td>\n      <td>0</td>\n      <td>...</td>\n      <td>0</td>\n      <td>4</td>\n      <td>0</td>\n      <td>1</td>\n      <td>-4</td>\n      <td>-1</td>\n      <td>0.0</td>\n      <td>0.0</td>\n      <td>0</td>\n      <td>1</td>\n    </tr>\n    <tr>\n      <th>1</th>\n      <td>0</td>\n      <td>68</td>\n      <td>30</td>\n      <td>68</td>\n      <td>1</td>\n      <td>2</td>\n      <td>64.0</td>\n      <td>113.0</td>\n      <td>-49.0</td>\n      <td>1</td>\n      <td>...</td>\n      <td>0</td>\n      <td>5</td>\n      <td>0</td>\n      <td>5</td>\n      <td>-5</td>\n      <td>-5</td>\n      <td>0.0</td>\n      <td>0.0</td>\n      <td>0</td>\n      <td>2</td>\n    </tr>\n    <tr>\n      <th>2</th>\n      <td>0</td>\n      <td>97</td>\n      <td>100</td>\n      <td>97</td>\n      <td>2</td>\n      <td>2</td>\n      <td>60.0</td>\n      <td>108.0</td>\n      <td>-48.0</td>\n      <td>1</td>\n      <td>...</td>\n      <td>0</td>\n      <td>7</td>\n      <td>0</td>\n      <td>16</td>\n      <td>-7</td>\n      <td>-16</td>\n      <td>0.0</td>\n      <td>0.0</td>\n      <td>0</td>\n      <td>3</td>\n    </tr>\n    <tr>\n      <th>3</th>\n      <td>1</td>\n      <td>30</td>\n      <td>112</td>\n      <td>68</td>\n      <td>2</td>\n      <td>2</td>\n      <td>113.0</td>\n      <td>74.0</td>\n      <td>39.0</td>\n      <td>0</td>\n      <td>...</td>\n      <td>1</td>\n      <td>9</td>\n      <td>0</td>\n      <td>20</td>\n      <td>-8</td>\n      <td>-20</td>\n      <td>0.0</td>\n      <td>2.0</td>\n      <td>0</td>\n      <td>4</td>\n    </tr>\n    <tr>\n      <th>4</th>\n      <td>0</td>\n      <td>68</td>\n      <td>72</td>\n      <td>68</td>\n      <td>0</td>\n      <td>2</td>\n      <td>64.0</td>\n      <td>48.0</td>\n      <td>16.0</td>\n      <td>1</td>\n      <td>...</td>\n      <td>2</td>\n      <td>12</td>\n      <td>1</td>\n      <td>29</td>\n      <td>-10</td>\n      <td>-28</td>\n      <td>1.0</td>\n      <td>0.0</td>\n      <td>0</td>\n      <td>5</td>\n    </tr>\n  </tbody>\n</table>\n<p>5 rows × 24 columns</p>\n</div>"
     },
     "execution_count": 28,
     "metadata": {},
     "output_type": "execute_result"
    }
   ],
   "source": [
    "game_results_ready.head()"
   ]
  },
  {
   "cell_type": "code",
   "execution_count": 29,
   "outputs": [
    {
     "data": {
      "text/plain": "0        1\n1        1\n2        2\n3        2\n4        0\n        ..\n23543    1\n23544    2\n23545    0\n23546    0\n23547    2\nName: final_score, Length: 23548, dtype: int64"
     },
     "execution_count": 29,
     "metadata": {},
     "output_type": "execute_result"
    }
   ],
   "source": [
    "game_results_ready['final_score']"
   ],
   "metadata": {
    "collapsed": false,
    "ExecuteTime": {
     "end_time": "2024-03-04T18:04:26.853922Z",
     "start_time": "2024-03-04T18:04:26.787778Z"
    }
   }
  },
  {
   "cell_type": "markdown",
   "source": [
    "# To SMOTE or not to SMOTE\n",
    "Overall I didn't get any significant boost in metrics with smoting."
   ],
   "metadata": {
    "collapsed": false
   }
  },
  {
   "cell_type": "code",
   "execution_count": 30,
   "outputs": [
    {
     "data": {
      "text/plain": "<Figure size 200x600 with 1 Axes>",
      "image/png": "[encoded data removed]"
     },
     "metadata": {},
     "output_type": "display_data"
    }
   ],
   "source": [
    "USE_SMOTE = False # Change this flag to True to use SMOTE.\n",
    "\n",
    "# If I used smote I don't want to undersample to use a balanced dataset\n",
    "use_balanced = not USE_SMOTE\n",
    "if use_balanced:\n",
    "    min_class_count = pd.Series.min(game_results_ready['final_score'].value_counts())  # The count of the smallest class\n",
    "    # Create a balanced DataFrame by sampling from each class\n",
    "    balanced_game_results = pd.DataFrame()\n",
    "    # If a class has fewer instances than the smallest class, we'll need to sample with replacement\n",
    "    for class_label in game_results_ready['final_score'].unique():\n",
    "        class_subset = game_results_ready[game_results_ready['final_score'] == class_label]\n",
    "        if len(class_subset) > min_class_count:\n",
    "            # If we have more than the minimum class count, we sample without replacement\n",
    "            class_subset_sample = class_subset.sample(n=min_class_count, random_state=42)\n",
    "        else:\n",
    "            # If not, we sample with replacement to boost up to the minimum class count\n",
    "            class_subset_sample = class_subset.sample(n=min_class_count, random_state=42, replace=True)\n",
    "        balanced_game_results = pd.concat([balanced_game_results, class_subset_sample], axis=0)\n",
    "    \n",
    "    # Update the game_results DataFrame to be the balanced one\n",
    "    game_results_ready = balanced_game_results\n",
    "import seaborn as sns\n",
    "import pandas as pd\n",
    "import matplotlib.pyplot as plt\n",
    "plt.figure(figsize=(2, 6))\n",
    "sns.countplot(x='final_score', data=game_results_ready)\n",
    "plt.title('final_score')\n",
    "plt.xlabel('Unique Values')\n",
    "plt.ylabel('Count')\n",
    "plt.show()"
   ],
   "metadata": {
    "collapsed": false,
    "ExecuteTime": {
     "end_time": "2024-03-04T18:04:26.942888Z",
     "start_time": "2024-03-04T18:04:26.791931Z"
    }
   }
  },
  {
   "cell_type": "code",
   "execution_count": 31,
   "outputs": [
    {
     "data": {
      "text/plain": "final_score\n1    5610\n2    5610\n0    5610\nName: count, dtype: int64"
     },
     "execution_count": 31,
     "metadata": {},
     "output_type": "execute_result"
    }
   ],
   "source": [
    "# Now, each class should have the same number of instances\n",
    "game_results_ready['final_score'].value_counts()"
   ],
   "metadata": {
    "collapsed": false,
    "ExecuteTime": {
     "end_time": "2024-03-04T18:04:26.943563Z",
     "start_time": "2024-03-04T18:04:26.863073Z"
    }
   }
  },
  {
   "cell_type": "code",
   "execution_count": 32,
   "metadata": {
    "collapsed": false,
    "ExecuteTime": {
     "end_time": "2024-03-04T18:04:26.943814Z",
     "start_time": "2024-03-04T18:04:26.867218Z"
    }
   },
   "outputs": [
    {
     "name": "stdout",
     "output_type": "stream",
     "text": [
      "<class 'pandas.core.frame.DataFrame'>\n",
      "Index: 16830 entries, 3621 to 12312\n",
      "Data columns (total 23 columns):\n",
      " #   Column                       Non-Null Count  Dtype  \n",
      "---  ------                       --------------  -----  \n",
      " 0   neutral                      16830 non-null  int64  \n",
      " 1   home_code                    16830 non-null  int16  \n",
      " 2   away_code                    16830 non-null  int16  \n",
      " 3   hosting_country_code         16830 non-null  int64  \n",
      " 4   tournament_code              16830 non-null  int64  \n",
      " 5   most_recent_rank_home        16830 non-null  float64\n",
      " 6   most_recent_rank_away        16830 non-null  float64\n",
      " 7   most_recent_rank_difference  16830 non-null  float64\n",
      " 8   home_advantage               16830 non-null  int64  \n",
      " 9   home_fifa_pts                16830 non-null  float64\n",
      " 10  away_fifa_pts                16830 non-null  float64\n",
      " 11  head_to_head_last_5_home     16830 non-null  int64  \n",
      " 12  head_to_head_last_5_away     16830 non-null  int64  \n",
      " 13  scored_last_5_home           16830 non-null  int64  \n",
      " 14  conceded_last_5_home         16830 non-null  int64  \n",
      " 15  scored_last_5_away           16830 non-null  int64  \n",
      " 16  conceded_last_5_away         16830 non-null  int64  \n",
      " 17  goal_difference_last_5_home  16830 non-null  int64  \n",
      " 18  goal_difference_last_5_away  16830 non-null  int64  \n",
      " 19  days_since_last_match_home   16830 non-null  float64\n",
      " 20  days_since_last_match_away   16830 non-null  float64\n",
      " 21  wins_last_10_games_home      16830 non-null  int64  \n",
      " 22  wins_last_10_games_away      16830 non-null  int64  \n",
      "dtypes: float64(7), int16(2), int64(14)\n",
      "memory usage: 2.9 MB\n"
     ]
    }
   ],
   "source": [
    "# Define the classes based on final_score\n",
    "X = game_results_ready.drop(['final_score'], axis=1)\n",
    "y = game_results_ready['final_score']\n",
    "X.info()"
   ]
  },
  {
   "cell_type": "code",
   "execution_count": 33,
   "outputs": [
    {
     "data": {
      "text/plain": "final_score                    1.000000\nmost_recent_rank_away          0.210981\nhome_advantage                 0.094003\nhome_fifa_pts                  0.085454\nhome_code                      0.041697\ndays_since_last_match_away     0.039010\nhosting_country_code           0.014275\nwins_last_10_games_home        0.010306\ntournament_code                0.009907\ngoal_difference_last_5_home    0.005923\ngoal_difference_last_5_away    0.005110\nwins_last_10_games_away        0.003537\nscored_last_5_away             0.002350\nscored_last_5_home             0.001436\nhead_to_head_last_5_away       0.000483\nhead_to_head_last_5_home      -0.000736\nconceded_last_5_away          -0.005326\nconceded_last_5_home          -0.008702\naway_code                     -0.031356\ndays_since_last_match_home    -0.052441\nneutral                       -0.094519\naway_fifa_pts                 -0.138563\nmost_recent_rank_home         -0.205386\nmost_recent_rank_difference   -0.389226\nName: final_score, dtype: float64"
     },
     "execution_count": 33,
     "metadata": {},
     "output_type": "execute_result"
    }
   ],
   "source": [
    "corr_mtx = game_results_ready.corr(numeric_only=True)\n",
    "corr_mtx['final_score'].sort_values(ascending=False)"
   ],
   "metadata": {
    "collapsed": false,
    "ExecuteTime": {
     "end_time": "2024-03-04T18:04:26.945498Z",
     "start_time": "2024-03-04T18:04:26.872459Z"
    }
   }
  },
  {
   "cell_type": "code",
   "execution_count": 34,
   "outputs": [],
   "source": [
    "# from sklearn.linear_model import LogisticRegression\n",
    "# from sklearn.svm import SVC\n",
    "# from sklearn.model_selection import train_test_split\n",
    "# from sklearn.metrics import accuracy_score\n",
    "# \n",
    "# game_results_ready = game_results.drop(['home_team','away_team','home_score','away_score','tournament','country','date','match_id','home_match_id','away_match_id'],axis=1)\n",
    "# X = game_results_ready.drop(['final_score'], axis=1)\n",
    "# y = game_results_ready['final_score']\n",
    "# \n",
    "# # Splitting of Data - 70/30\n",
    "# X_train, X_test, y_train, y_test = train_test_split(X, y,test_size=0.3, stratify=y,  random_state=42)\n",
    "# svm = svm_ovo = SVC(decision_function_shape='ovo', kernel='linear')\n",
    "# lr = LogisticRegression(multi_class='multinomial',random_state=42)\n",
    "# svm_ovo.fit(X_train, y_train)\n",
    "# lr.fit(X_train,y_train)\n",
    "# y_pred_ovo = svm_ovo.predict(X_test)\n",
    "# y_pred_lr = lr.predict(X_test)\n",
    "# accuracy_ovo = accuracy_score(y_test, y_pred_ovo)\n",
    "# accuracy_lr = accuracy_score(y_test, y_pred_lr)\n",
    "# print(f\"Accuracy (One-vs-One): {accuracy_ovo}\")\n",
    "# print(f\"Accuracy (Logistic Regression): {accuracy_lr}\")"
   ],
   "metadata": {
    "collapsed": false,
    "ExecuteTime": {
     "end_time": "2024-03-04T18:04:26.945602Z",
     "start_time": "2024-03-04T18:04:26.894646Z"
    }
   }
  },
  {
   "cell_type": "markdown",
   "metadata": {
    "collapsed": false
   },
   "source": [
    "### We have our X and y\n",
    "We will not shuffle because we want our training to happen to the earlier games and our testing to happen to the later games."
   ]
  },
  {
   "cell_type": "code",
   "execution_count": 35,
   "metadata": {
    "collapsed": false,
    "ExecuteTime": {
     "end_time": "2024-03-04T18:04:26.945801Z",
     "start_time": "2024-03-04T18:04:26.897537Z"
    }
   },
   "outputs": [],
   "source": [
    "from sklearn.model_selection import train_test_split\n",
    "from sklearn.preprocessing import StandardScaler\n",
    "# Splitting of Data - 70/30\n",
    "X_train, X_test, y_train, y_test = train_test_split(X, y,test_size=0.3,stratify=y,  random_state=42)\n",
    "use_scaled_data = True\n",
    "if use_scaled_data:\n",
    "    scaler = StandardScaler()\n",
    "    X_train_scaled = scaler.fit_transform(X_train)\n",
    "    X_test_scaled = scaler.fit_transform(X_test)"
   ]
  },
  {
   "cell_type": "markdown",
   "source": [
    "### SMOTE-ing\n",
    "Here we can choose to SMOTE or not.."
   ],
   "metadata": {
    "collapsed": false
   }
  },
  {
   "cell_type": "code",
   "execution_count": 36,
   "outputs": [
    {
     "ename": "NameError",
     "evalue": "name 'y_train_smote' is not defined",
     "output_type": "error",
     "traceback": [
      "\u001B[0;31m---------------------------------------------------------------------------\u001B[0m",
      "\u001B[0;31mNameError\u001B[0m                                 Traceback (most recent call last)",
      "Cell \u001B[0;32mIn[36], line 37\u001B[0m\n\u001B[1;32m     35\u001B[0m \u001B[38;5;28;01mimport\u001B[39;00m \u001B[38;5;21;01mmatplotlib\u001B[39;00m\u001B[38;5;21;01m.\u001B[39;00m\u001B[38;5;21;01mpyplot\u001B[39;00m \u001B[38;5;28;01mas\u001B[39;00m \u001B[38;5;21;01mplt\u001B[39;00m\n\u001B[1;32m     36\u001B[0m plt\u001B[38;5;241m.\u001B[39mfigure(figsize\u001B[38;5;241m=\u001B[39m(\u001B[38;5;241m2\u001B[39m, \u001B[38;5;241m6\u001B[39m))\n\u001B[0;32m---> 37\u001B[0m sns\u001B[38;5;241m.\u001B[39mcountplot(x\u001B[38;5;241m=\u001B[39m\u001B[43my_train_smote\u001B[49m)\n\u001B[1;32m     38\u001B[0m plt\u001B[38;5;241m.\u001B[39mtitle(\u001B[38;5;124m'\u001B[39m\u001B[38;5;124mfinal_score\u001B[39m\u001B[38;5;124m'\u001B[39m)\n\u001B[1;32m     39\u001B[0m plt\u001B[38;5;241m.\u001B[39mxlabel(\u001B[38;5;124m'\u001B[39m\u001B[38;5;124mUnique Values\u001B[39m\u001B[38;5;124m'\u001B[39m)\n",
      "\u001B[0;31mNameError\u001B[0m: name 'y_train_smote' is not defined"
     ]
    },
    {
     "data": {
      "text/plain": "<Figure size 200x600 with 0 Axes>"
     },
     "metadata": {},
     "output_type": "display_data"
    }
   ],
   "source": [
    "from imblearn.over_sampling import SMOTE\n",
    "import matplotlib.pyplot as plt\n",
    "#use_smote = False # Change this flag to True to use SMOTE.\n",
    "if USE_SMOTE:\n",
    "    kn = list(range(2,20,2))\n",
    "    accuracies = []\n",
    "    i=0\n",
    "    while i<len(kn):\n",
    "        smote = SMOTE(random_state=42,k_neighbors=kn[i],n_jobs=-1)\n",
    "        X_train_smote, y_train_smote = smote.fit_resample(X_train, y_train)\n",
    "        from sklearn.ensemble import ExtraTreesClassifier  \n",
    "        from sklearn.metrics import accuracy_score, classification_report,confusion_matrix\n",
    "        test_model = ExtraTreesClassifier(criterion='gini',warm_start=True,bootstrap=False,n_jobs=-1,max_depth=None, max_features='log2', min_samples_leaf=1, min_samples_split=3, n_estimators= 400)\n",
    "        test_model.fit(X_train_smote,y_train_smote)\n",
    "        y_preds = test_model.predict(X_test)\n",
    "        accuracy = accuracy_score(y_test, y_preds)\n",
    "        accuracies.append(accuracy)\n",
    "        i+=1\n",
    "    kn_accuracy = {kn[i]:accuracies[i] for i in range(len(kn))}\n",
    "    \n",
    "    # Plotting\n",
    "    plt.figure(figsize=(10, 6))\n",
    "    plt.plot(kn, accuracies, marker='o', linestyle='-', color='b')\n",
    "    plt.title('Accuracy vs K-Neighbors')\n",
    "    plt.xlabel('K-Neighbors')\n",
    "    plt.ylabel('Accuracy')\n",
    "    plt.xticks(np.arange(0, 31, step=2))  # Adjust x-axis ticks as needed\n",
    "    plt.yticks(np.arange(0.58, 0.61, step=0.01))  # Adjust y-axis ticks as needed\n",
    "    plt.grid(True)\n",
    "    plt.show()\n",
    "    # Find best KN\n",
    "    BEST_KN = max(kn_accuracy, key=kn_accuracy.get)\n",
    "import seaborn as sns\n",
    "import pandas as pd\n",
    "import matplotlib.pyplot as plt\n",
    "plt.figure(figsize=(2, 6))\n",
    "sns.countplot(x=y_train_smote)\n",
    "plt.title('final_score')\n",
    "plt.xlabel('Unique Values')\n",
    "plt.ylabel('Count')\n",
    "plt.show()"
   ],
   "metadata": {
    "collapsed": false,
    "ExecuteTime": {
     "end_time": "2024-03-04T18:04:27.256329Z",
     "start_time": "2024-03-04T18:04:26.912156Z"
    }
   }
  },
  {
   "cell_type": "markdown",
   "metadata": {
    "collapsed": false
   },
   "source": [
    "### Model Training Phase \n",
    "\n",
    "Multi-Class Model predicts for 3 outcomes : Home win, Home loss, and Tie\n"
   ]
  },
  {
   "cell_type": "code",
   "execution_count": null,
   "metadata": {
    "collapsed": false,
    "ExecuteTime": {
     "start_time": "2024-03-04T18:04:27.255031Z"
    }
   },
   "outputs": [],
   "source": [
    "from sklearn.ensemble import ExtraTreesClassifier,RandomTreesEmbedding\n",
    "\n",
    "from sklearn.pipeline import make_pipeline\n",
    "# Create a RandomForestClassifier model with balanced class weights\n",
    "from sklearn.metrics import accuracy_score, classification_report,confusion_matrix\n",
    "main_model = make_pipeline(RandomTreesEmbedding(n_estimators=400,min_samples_leaf=5, random_state=42), ExtraTreesClassifier(n_jobs=-1,max_depth=None, max_features='log2', min_samples_leaf=1, min_samples_split=3, n_estimators=400))\n",
    "\n",
    "if USE_SMOTE:\n",
    "    smote = SMOTE(random_state=42,k_neighbors=BEST_KN,n_jobs=-1)\n",
    "    X_train_smote, y_train_smote = smote.fit_resample(X_train, y_train)\n",
    "    main_model.fit(X_train_smote,y_train_smote)\n",
    "elif use_scaled_data:\n",
    "    main_model.fit(X_train_scaled,y_train)\n",
    "else:\n",
    "    main_model.fit(X_train,y_train)\n",
    "y_preds = main_model.predict(X_test_scaled) if use_scaled_data else main_model.predict(X_test)\n",
    "conf_mat = confusion_matrix(y_test,y_preds)\n",
    "accuracy = accuracy_score(y_test, y_preds)\n",
    "print(f'Model: Random Trees Embedding -> Extra Trees Classifier\\nAccuracy: {accuracy}')\n",
    "print(classification_report(y_test, y_preds))\n",
    "accuracy = accuracy_score(y_test, y_preds)\n",
    "print(f\"Accuracy: {accuracy:.2f}\")\n",
    "import seaborn as sns\n",
    "import matplotlib.pyplot as plt\n",
    "\n",
    "# Plot a heatmap of the confusion matrix\n",
    "plt.figure(figsize=(10, 8))\n",
    "sns.heatmap(conf_mat, annot=True, fmt='d', cmap='Blues',\n",
    "            xticklabels=main_model.classes_, yticklabels=main_model.classes_)\n",
    "plt.xlabel('Predicted Labels')\n",
    "plt.ylabel('True Labels')\n",
    "plt.title('Confusion Matrix')\n",
    "plt.show()"
   ]
  },
  {
   "cell_type": "markdown",
   "source": [
    "```\n",
    "Accuracy: 0.6813230342642107\n",
    "              precision    recall  f1-score   support\n",
    "\n",
    "           0       0.62      0.68      0.65      1683\n",
    "           1       0.77      0.62      0.69      1683\n",
    "           2       0.67      0.74      0.71      1683\n",
    "\n",
    "    accuracy                           0.68      5049\n",
    "   macro avg       0.69      0.68      0.68      5049\n",
    "weighted avg       0.69      0.68      0.68      5049\n",
    "```"
   ],
   "metadata": {
    "collapsed": false
   }
  },
  {
   "cell_type": "markdown",
   "source": [
    "### Comparison of Results\n",
    "Results when using standard scaler for the features:\n",
    "```\n",
    "Accuracy: 0.6712220241632006\n",
    "              precision    recall  f1-score   support\n",
    "\n",
    "           0       0.64      0.63      0.64      1683\n",
    "           1       0.69      0.64      0.67      1683\n",
    "           2       0.69      0.73      0.71      1683\n",
    "\n",
    "    accuracy                           0.67      5049\n",
    "   macro avg       0.67      0.67      0.67      5049\n",
    "weighted avg       0.67      0.67      0.67      5049\n",
    "```\n",
    "Dry run of dataset as it is, no resampling:\n",
    "```\n",
    "Model: Logistic Regression multi-class\n",
    "Accuracy: 0.5905166312809625\n",
    "              precision    recall  f1-score   support\n",
    "\n",
    "           0       0.55      0.53      0.54      1969\n",
    "           1       0.38      0.12      0.19      1683\n",
    "           2       0.63      0.85      0.73      3413\n",
    "\n",
    "    accuracy                           0.59      7065\n",
    "   macro avg       0.52      0.50      0.49      7065\n",
    "weighted avg       0.55      0.59      0.55      7065\n",
    "```\n",
    "\n",
    "Undersampled dataset with ExtraTreesClassifier:\n",
    "```\n",
    "Accuracy: 0.678748266983561\n",
    "              precision    recall  f1-score   support\n",
    "\n",
    "           0       0.62      0.67      0.64      1683\n",
    "           1       0.76      0.62      0.68      1683\n",
    "           2       0.67      0.74      0.71      1683\n",
    "\n",
    "    accuracy                           0.68      5049\n",
    "   macro avg       0.69      0.68      0.68      5049\n",
    "weighted avg       0.69      0.68      0.68      5049\n",
    "```\n",
    "\n",
    "SMOTE oversample:\n",
    "```\n",
    "Accuracy: 0.5985845718329795\n",
    "              precision    recall  f1-score   support\n",
    "\n",
    "           0       0.54      0.55      0.54      1969\n",
    "           1       0.40      0.27      0.32      1683\n",
    "           2       0.69      0.79      0.74      3413\n",
    "\n",
    "    accuracy                           0.60      7065\n",
    "   macro avg       0.54      0.54      0.53      7065\n",
    "weighted avg       0.58      0.60      0.58      7065\n",
    "```\n",
    "Undersampled dataset with BOOTSTRAP=TRUE\n",
    "```\n",
    "Accuracy: 0.6726084373143196\n",
    "              precision    recall  f1-score   support\n",
    "\n",
    "           0       0.63      0.63      0.63      1683\n",
    "           1       0.70      0.65      0.67      1683\n",
    "           2       0.69      0.73      0.71      1683\n",
    "\n",
    "    accuracy                           0.67      5049\n",
    "   macro avg       0.67      0.67      0.67      5049\n",
    "weighted avg       0.67      0.67      0.67      5049\n",
    "```"
   ],
   "metadata": {
    "collapsed": false
   }
  },
  {
   "cell_type": "markdown",
   "source": [
    "### Comparing to different models"
   ],
   "metadata": {
    "collapsed": false
   }
  },
  {
   "cell_type": "code",
   "execution_count": null,
   "outputs": [],
   "source": [
    "from sklearn.linear_model import ElasticNet, Lasso, LogisticRegression\n",
    "from sklearn.svm import SVC\n",
    "from sklearn.pipeline import make_pipeline\n",
    "from sklearn.ensemble import BaggingClassifier\n",
    "# Comparison\n",
    "compare = True\n",
    "if compare:\n",
    "    models = {\n",
    "        'SVM': SVC(decision_function_shape='ovo',random_state=42,kernel='rbf'),\n",
    "        'Logistic_Multi': LogisticRegression(multi_class='multinomial',random_state=42,max_iter=100000),\n",
    "        'Gradient Boosting Classifier (400 estimators)': GradientBoostingClassifier(n_estimators=400, random_state=42),\n",
    "        # 'Bagging Classifier':BaggingClassifier(n_estimators=200, max_samples=1.0, max_features=0.8, random_state=42,bootstrap=False),\n",
    "        # 'hard voting classifier (ExtraTrees+GBoost+RandomForest)': VotingClassifier(estimators=[\n",
    "        # ('extra_trees', ExtraTreesClassifier(criterion='gini',max_depth=None, max_features='log2', min_samples_leaf=1, min_samples_split=3, n_estimators=400)),\n",
    "        # ('gradient_boosting', GradientBoostingClassifier(n_estimators=400, random_state=42)),\n",
    "        # ('random_forest', RandomForestClassifier(n_estimators=100))], voting='hard'),\n",
    "        # 'ExtraTrees with Entropy':ExtraTreesClassifier(n_estimators=400,criterion='entropy',warm_start=False,bootstrap=False),\n",
    "        # 'Rotational_Forest': RotationForest(n_estimators=100),\n",
    "        'Random Tree Embedding': make_pipeline(RandomTreesEmbedding(n_estimators=400,min_samples_leaf=5, random_state=42), ExtraTreesClassifier(criterion='gini',n_jobs=-1,max_depth=None, max_features='log2', min_samples_leaf=1, min_samples_split=3, n_estimators=400)),\n",
    "        # 'Random Subspace (Pasting)':BaggingClassifier(estimator=ExtraTreesClassifier(), n_estimators=400, max_samples=1.0, max_features=0.8, random_state=42,bootstrap=False)\n",
    "    }\n",
    "    models_preds = {key:0 for key in models.keys()}\n",
    "    for model in models.keys():\n",
    "        print(model)\n",
    "        if USE_SMOTE:\n",
    "            models[model].fit(X_train_smote,y_train_smote)\n",
    "        elif use_scaled_data:\n",
    "            models[model].fit(X_train_scaled,y_train)\n",
    "        else:\n",
    "            models[model].fit(X_train,y_train)\n",
    "        y_pred = models[model].predict(X_test_scaled) if use_scaled_data else models[model].predict(X_test)\n",
    "        print(f'done predicting {model}')\n",
    "        models_preds[model] = y_pred"
   ],
   "metadata": {
    "collapsed": false,
    "ExecuteTime": {
     "start_time": "2024-03-04T18:04:27.256255Z"
    }
   }
  },
  {
   "cell_type": "markdown",
   "source": [
    "### Let's evaluate the models"
   ],
   "metadata": {
    "collapsed": false
   }
  },
  {
   "cell_type": "code",
   "execution_count": null,
   "metadata": {
    "collapsed": false,
    "ExecuteTime": {
     "end_time": "2024-03-04T18:04:27.260672Z",
     "start_time": "2024-03-04T18:04:27.257473Z"
    }
   },
   "outputs": [],
   "source": [
    "print('test')\n",
    "if compare:\n",
    "    from sklearn.metrics import accuracy_score, classification_report,confusion_matrix\n",
    "    models_mtxs =  {key:0 for key in models.keys()}\n",
    "    for model in models_preds.keys():\n",
    "        conf_mtx = confusion_matrix(y_test,models_preds[model])\n",
    "        accuracy = accuracy_score(y_test, models_preds[model])\n",
    "        print(f'Model: {model}\\nAccuracy: {accuracy}')\n",
    "        print(classification_report(y_test, models_preds[model]))\n",
    "        models_mtxs[model] = conf_mtx"
   ]
  },
  {
   "cell_type": "code",
   "execution_count": null,
   "outputs": [],
   "source": [
    "if compare:\n",
    "    import seaborn as sns\n",
    "    import matplotlib.pyplot as plt\n",
    "    for mtx in models_mtxs.keys():\n",
    "        sns.heatmap(models_mtxs[mtx], annot=True, fmt='d', cmap='Blues')\n",
    "        plt.xlabel('Predicted Labels')\n",
    "        plt.ylabel('True Labels')\n",
    "        plt.title(f'Confusion Matrix for {mtx}')\n",
    "        plt.show()"
   ],
   "metadata": {
    "collapsed": false,
    "ExecuteTime": {
     "start_time": "2024-03-04T18:04:27.258987Z"
    }
   }
  },
  {
   "cell_type": "markdown",
   "metadata": {
    "collapsed": false
   },
   "source": [
    "# Application of the Predictive Model"
   ]
  },
  {
   "cell_type": "markdown",
   "source": [
    "Match creator function to set up a match row between two teams. By default the game is played \"today\", so all the values for head_to_head and previous matches are relative to the match date."
   ],
   "metadata": {
    "collapsed": false
   }
  },
  {
   "cell_type": "code",
   "execution_count": 38,
   "outputs": [],
   "source": [
    "# tournament code 0 as default -> Tournament\n",
    "def match_creator(team_1,team_2,tournament_code=0):\n",
    "    # Get home and away codes\n",
    "    home_code,away_code = country_codes[team_1],country_codes[team_2]\n",
    "    # Randomize if game is played at neutral ground\n",
    "    neutral = random.randint(0,1)\n",
    "    # if not on neutral ground, pick either home or away as playing ground. Else pick a random ground\n",
    "    hosting_country_code = random.choice([home_code,away_code]) if not neutral else random.choice(list(country_codes.values()))\n",
    "    # Get most recent rank for home\n",
    "    most_recent_rank_home = rank_at_year_df.loc[team_1,datetime.now().year]\n",
    "    # Get most recent rank for away\n",
    "    most_recent_rank_away = rank_at_year_df.loc[team_2,datetime.now().year]\n",
    "    most_recent_rank_difference = most_recent_rank_home-most_recent_rank_away\n",
    "    home_advantage = (country_codes[team_1] == hosting_country_code)\n",
    "    game_info = {\n",
    "        'home_team':team_1,\n",
    "        'away_team':team_2,\n",
    "        'date':datetime.now()\n",
    "    }\n",
    "    head_to_head_last_5_home,head_to_head_last_5_away = calculate_head_to_head(game_info)\n",
    "    goal_difference_last_5_home = calculate_goal_difference_last_5(game_info,'home_team')\n",
    "    goal_difference_last_5_away = calculate_goal_difference_last_5(game_info,'away_team')\n",
    "    days_since_last_match_home:pd.Series = (datetime.now() - game_results.loc[game_results['home_team'] == team_1].tail(1)['date']).to_list()[0].days\n",
    "    days_since_last_match_away = (datetime.now() - game_results.loc[game_results['away_team'] == team_2].tail(1)['date']).to_list()[0].days\n",
    "    wins_last_10_games_home = game_results.loc[(game_results['home_team'] == team_1)]['final_score'].eq(2).sum() + game_results.loc[(game_results['away_team'] == team_1)]['final_score'].eq(0).sum()\n",
    "    wins_last_10_games_away = game_results.loc[(game_results['home_team'] == team_2)]['final_score'].eq(2).sum() + game_results.loc[(game_results['away_team'] == team_2)]['final_score'].eq(0).sum()\n",
    "    home_fifa_pts = rank_at_year_df.loc[team_1,'{}_points'.format(datetime.now().year)]\n",
    "    away_fifa_pts = rank_at_year_df.loc[team_2,'{}_points'.format(datetime.now().year)]\n",
    "    scored_last_5_home =  game_results.loc[(game_results['home_team'] == team_1)].tail(5)['home_score'].sum() + game_results.loc[(game_results['away_team'] == team_1)].tail(5)['away_score'].sum()\n",
    "    scored_last_5_away = game_results.loc[(game_results['home_team'] == team_2)].tail(5)['home_score'].sum() + game_results.loc[(game_results['away_team'] == team_2)].tail(5)['away_score'].sum()\n",
    "    \n",
    "    conceded_last_5_home = game_results.loc[(game_results['home_team'] == team_1)].tail(5)['away_score'].sum() + game_results.loc[(game_results['away_team'] == team_1)].tail(5)['home_score'].sum()\n",
    "    \n",
    "    conceded_last_5_away = game_results.loc[(game_results['home_team'] == team_2)].tail(5)['away_score'].sum() + game_results.loc[(game_results['away_team'] == team_2)].tail(5)['home_score'].sum()\n",
    "    match_data = {\n",
    "        'neutral': neutral,\n",
    "        'home_code':home_code,\n",
    "        'away_code':away_code,\n",
    "        'hosting_country_code':hosting_country_code,\n",
    "        'tournament_code':tournament_code,\n",
    "        'most_recent_rank_home':most_recent_rank_home,\n",
    "        'most_recent_rank_away':most_recent_rank_away,\n",
    "        'most_recent_rank_difference':most_recent_rank_difference,\n",
    "        'home_advantage':home_advantage,\n",
    "        'home_fifa_pts':home_fifa_pts,\n",
    "        'away_fifa_pts':away_fifa_pts,\n",
    "        'head_to_head_last_5_home':head_to_head_last_5_home,\n",
    "        'head_to_head_last_5_away':head_to_head_last_5_away,\n",
    "        'goal_difference_last_5_home':goal_difference_last_5_home,\n",
    "        'goal_difference_last_5_away':goal_difference_last_5_away,\n",
    "        'days_since_last_match_home':days_since_last_match_home,\n",
    "        'days_since_last_match_away':days_since_last_match_away,\n",
    "        'scored_last_5_home':scored_last_5_home,\n",
    "        'scored_last_5_away':scored_last_5_away,\n",
    "        'conceded_last_5_home':conceded_last_5_home,\n",
    "        'conceded_last_5_away':conceded_last_5_away, \n",
    "        'wins_last_10_games_home':wins_last_10_games_home,\n",
    "        'wins_last_10_games_away':wins_last_10_games_away\n",
    "    }\n",
    "    match_idx = match_data.keys()\n",
    "    return pd.Series(data=match_data.values(),index=match_idx).values.reshape(1,-1)"
   ],
   "metadata": {
    "collapsed": false,
    "ExecuteTime": {
     "end_time": "2024-03-04T18:04:50.475987Z",
     "start_time": "2024-03-04T18:04:50.451394Z"
    }
   }
  },
  {
   "cell_type": "markdown",
   "source": [
    "### USA vs Saudi Arabia"
   ],
   "metadata": {
    "collapsed": false
   }
  },
  {
   "cell_type": "code",
   "execution_count": 39,
   "metadata": {
    "collapsed": false,
    "ExecuteTime": {
     "end_time": "2024-03-04T18:04:52.595341Z",
     "start_time": "2024-03-04T18:04:52.132775Z"
    }
   },
   "outputs": [
    {
     "ename": "KeyError",
     "evalue": "2024",
     "output_type": "error",
     "traceback": [
      "\u001B[0;31m---------------------------------------------------------------------------\u001B[0m",
      "\u001B[0;31mKeyError\u001B[0m                                  Traceback (most recent call last)",
      "File \u001B[0;32m/opt/homebrew/lib/python3.11/site-packages/pandas/core/indexes/base.py:3790\u001B[0m, in \u001B[0;36mIndex.get_loc\u001B[0;34m(self, key)\u001B[0m\n\u001B[1;32m   3789\u001B[0m \u001B[38;5;28;01mtry\u001B[39;00m:\n\u001B[0;32m-> 3790\u001B[0m     \u001B[38;5;28;01mreturn\u001B[39;00m \u001B[38;5;28;43mself\u001B[39;49m\u001B[38;5;241;43m.\u001B[39;49m\u001B[43m_engine\u001B[49m\u001B[38;5;241;43m.\u001B[39;49m\u001B[43mget_loc\u001B[49m\u001B[43m(\u001B[49m\u001B[43mcasted_key\u001B[49m\u001B[43m)\u001B[49m\n\u001B[1;32m   3791\u001B[0m \u001B[38;5;28;01mexcept\u001B[39;00m \u001B[38;5;167;01mKeyError\u001B[39;00m \u001B[38;5;28;01mas\u001B[39;00m err:\n",
      "File \u001B[0;32mindex.pyx:152\u001B[0m, in \u001B[0;36mpandas._libs.index.IndexEngine.get_loc\u001B[0;34m()\u001B[0m\n",
      "File \u001B[0;32mindex.pyx:181\u001B[0m, in \u001B[0;36mpandas._libs.index.IndexEngine.get_loc\u001B[0;34m()\u001B[0m\n",
      "File \u001B[0;32mpandas/_libs/hashtable_class_helper.pxi:7080\u001B[0m, in \u001B[0;36mpandas._libs.hashtable.PyObjectHashTable.get_item\u001B[0;34m()\u001B[0m\n",
      "File \u001B[0;32mpandas/_libs/hashtable_class_helper.pxi:7088\u001B[0m, in \u001B[0;36mpandas._libs.hashtable.PyObjectHashTable.get_item\u001B[0;34m()\u001B[0m\n",
      "\u001B[0;31mKeyError\u001B[0m: 2024",
      "\nThe above exception was the direct cause of the following exception:\n",
      "\u001B[0;31mKeyError\u001B[0m                                  Traceback (most recent call last)",
      "Cell \u001B[0;32mIn[39], line 2\u001B[0m\n\u001B[1;32m      1\u001B[0m team_1, team_2 \u001B[38;5;241m=\u001B[39m \u001B[38;5;124m'\u001B[39m\u001B[38;5;124mNigeria\u001B[39m\u001B[38;5;124m'\u001B[39m,\u001B[38;5;124m'\u001B[39m\u001B[38;5;124mSaudi Arabia\u001B[39m\u001B[38;5;124m'\u001B[39m\n\u001B[0;32m----> 2\u001B[0m my_match \u001B[38;5;241m=\u001B[39m \u001B[43mmatch_creator\u001B[49m\u001B[43m(\u001B[49m\u001B[43mteam_1\u001B[49m\u001B[43m,\u001B[49m\u001B[43m \u001B[49m\u001B[43mteam_2\u001B[49m\u001B[43m)\u001B[49m\n",
      "Cell \u001B[0;32mIn[38], line 10\u001B[0m, in \u001B[0;36mmatch_creator\u001B[0;34m(team_1, team_2, tournament_code)\u001B[0m\n\u001B[1;32m      8\u001B[0m hosting_country_code \u001B[38;5;241m=\u001B[39m random\u001B[38;5;241m.\u001B[39mchoice([home_code,away_code]) \u001B[38;5;28;01mif\u001B[39;00m \u001B[38;5;129;01mnot\u001B[39;00m neutral \u001B[38;5;28;01melse\u001B[39;00m random\u001B[38;5;241m.\u001B[39mchoice(\u001B[38;5;28mlist\u001B[39m(country_codes\u001B[38;5;241m.\u001B[39mvalues()))\n\u001B[1;32m      9\u001B[0m \u001B[38;5;66;03m# Get most recent rank for home\u001B[39;00m\n\u001B[0;32m---> 10\u001B[0m most_recent_rank_home \u001B[38;5;241m=\u001B[39m \u001B[43mrank_at_year_df\u001B[49m\u001B[38;5;241;43m.\u001B[39;49m\u001B[43mloc\u001B[49m\u001B[43m[\u001B[49m\u001B[43mteam_1\u001B[49m\u001B[43m,\u001B[49m\u001B[43mdatetime\u001B[49m\u001B[38;5;241;43m.\u001B[39;49m\u001B[43mnow\u001B[49m\u001B[43m(\u001B[49m\u001B[43m)\u001B[49m\u001B[38;5;241;43m.\u001B[39;49m\u001B[43myear\u001B[49m\u001B[43m]\u001B[49m\n\u001B[1;32m     11\u001B[0m \u001B[38;5;66;03m# Get most recent rank for away\u001B[39;00m\n\u001B[1;32m     12\u001B[0m most_recent_rank_away \u001B[38;5;241m=\u001B[39m rank_at_year_df\u001B[38;5;241m.\u001B[39mloc[team_2,datetime\u001B[38;5;241m.\u001B[39mnow()\u001B[38;5;241m.\u001B[39myear]\n",
      "File \u001B[0;32m/opt/homebrew/lib/python3.11/site-packages/pandas/core/indexing.py:1146\u001B[0m, in \u001B[0;36m_LocationIndexer.__getitem__\u001B[0;34m(self, key)\u001B[0m\n\u001B[1;32m   1144\u001B[0m     key \u001B[38;5;241m=\u001B[39m \u001B[38;5;28mtuple\u001B[39m(com\u001B[38;5;241m.\u001B[39mapply_if_callable(x, \u001B[38;5;28mself\u001B[39m\u001B[38;5;241m.\u001B[39mobj) \u001B[38;5;28;01mfor\u001B[39;00m x \u001B[38;5;129;01min\u001B[39;00m key)\n\u001B[1;32m   1145\u001B[0m     \u001B[38;5;28;01mif\u001B[39;00m \u001B[38;5;28mself\u001B[39m\u001B[38;5;241m.\u001B[39m_is_scalar_access(key):\n\u001B[0;32m-> 1146\u001B[0m         \u001B[38;5;28;01mreturn\u001B[39;00m \u001B[38;5;28;43mself\u001B[39;49m\u001B[38;5;241;43m.\u001B[39;49m\u001B[43mobj\u001B[49m\u001B[38;5;241;43m.\u001B[39;49m\u001B[43m_get_value\u001B[49m\u001B[43m(\u001B[49m\u001B[38;5;241;43m*\u001B[39;49m\u001B[43mkey\u001B[49m\u001B[43m,\u001B[49m\u001B[43m \u001B[49m\u001B[43mtakeable\u001B[49m\u001B[38;5;241;43m=\u001B[39;49m\u001B[38;5;28;43mself\u001B[39;49m\u001B[38;5;241;43m.\u001B[39;49m\u001B[43m_takeable\u001B[49m\u001B[43m)\u001B[49m\n\u001B[1;32m   1147\u001B[0m     \u001B[38;5;28;01mreturn\u001B[39;00m \u001B[38;5;28mself\u001B[39m\u001B[38;5;241m.\u001B[39m_getitem_tuple(key)\n\u001B[1;32m   1148\u001B[0m \u001B[38;5;28;01melse\u001B[39;00m:\n\u001B[1;32m   1149\u001B[0m     \u001B[38;5;66;03m# we by definition only have the 0th axis\u001B[39;00m\n",
      "File \u001B[0;32m/opt/homebrew/lib/python3.11/site-packages/pandas/core/frame.py:4008\u001B[0m, in \u001B[0;36mDataFrame._get_value\u001B[0;34m(self, index, col, takeable)\u001B[0m\n\u001B[1;32m   4005\u001B[0m     series \u001B[38;5;241m=\u001B[39m \u001B[38;5;28mself\u001B[39m\u001B[38;5;241m.\u001B[39m_ixs(col, axis\u001B[38;5;241m=\u001B[39m\u001B[38;5;241m1\u001B[39m)\n\u001B[1;32m   4006\u001B[0m     \u001B[38;5;28;01mreturn\u001B[39;00m series\u001B[38;5;241m.\u001B[39m_values[index]\n\u001B[0;32m-> 4008\u001B[0m series \u001B[38;5;241m=\u001B[39m \u001B[38;5;28;43mself\u001B[39;49m\u001B[38;5;241;43m.\u001B[39;49m\u001B[43m_get_item_cache\u001B[49m\u001B[43m(\u001B[49m\u001B[43mcol\u001B[49m\u001B[43m)\u001B[49m\n\u001B[1;32m   4009\u001B[0m engine \u001B[38;5;241m=\u001B[39m \u001B[38;5;28mself\u001B[39m\u001B[38;5;241m.\u001B[39mindex\u001B[38;5;241m.\u001B[39m_engine\n\u001B[1;32m   4011\u001B[0m \u001B[38;5;28;01mif\u001B[39;00m \u001B[38;5;129;01mnot\u001B[39;00m \u001B[38;5;28misinstance\u001B[39m(\u001B[38;5;28mself\u001B[39m\u001B[38;5;241m.\u001B[39mindex, MultiIndex):\n\u001B[1;32m   4012\u001B[0m     \u001B[38;5;66;03m# CategoricalIndex: Trying to use the engine fastpath may give incorrect\u001B[39;00m\n\u001B[1;32m   4013\u001B[0m     \u001B[38;5;66;03m#  results if our categories are integers that dont match our codes\u001B[39;00m\n\u001B[1;32m   4014\u001B[0m     \u001B[38;5;66;03m# IntervalIndex: IntervalTree has no get_loc\u001B[39;00m\n",
      "File \u001B[0;32m/opt/homebrew/lib/python3.11/site-packages/pandas/core/frame.py:4417\u001B[0m, in \u001B[0;36mDataFrame._get_item_cache\u001B[0;34m(self, item)\u001B[0m\n\u001B[1;32m   4412\u001B[0m res \u001B[38;5;241m=\u001B[39m cache\u001B[38;5;241m.\u001B[39mget(item)\n\u001B[1;32m   4413\u001B[0m \u001B[38;5;28;01mif\u001B[39;00m res \u001B[38;5;129;01mis\u001B[39;00m \u001B[38;5;28;01mNone\u001B[39;00m:\n\u001B[1;32m   4414\u001B[0m     \u001B[38;5;66;03m# All places that call _get_item_cache have unique columns,\u001B[39;00m\n\u001B[1;32m   4415\u001B[0m     \u001B[38;5;66;03m#  pending resolution of GH#33047\u001B[39;00m\n\u001B[0;32m-> 4417\u001B[0m     loc \u001B[38;5;241m=\u001B[39m \u001B[38;5;28;43mself\u001B[39;49m\u001B[38;5;241;43m.\u001B[39;49m\u001B[43mcolumns\u001B[49m\u001B[38;5;241;43m.\u001B[39;49m\u001B[43mget_loc\u001B[49m\u001B[43m(\u001B[49m\u001B[43mitem\u001B[49m\u001B[43m)\u001B[49m\n\u001B[1;32m   4418\u001B[0m     res \u001B[38;5;241m=\u001B[39m \u001B[38;5;28mself\u001B[39m\u001B[38;5;241m.\u001B[39m_ixs(loc, axis\u001B[38;5;241m=\u001B[39m\u001B[38;5;241m1\u001B[39m)\n\u001B[1;32m   4420\u001B[0m     cache[item] \u001B[38;5;241m=\u001B[39m res\n",
      "File \u001B[0;32m/opt/homebrew/lib/python3.11/site-packages/pandas/core/indexes/base.py:3797\u001B[0m, in \u001B[0;36mIndex.get_loc\u001B[0;34m(self, key)\u001B[0m\n\u001B[1;32m   3792\u001B[0m     \u001B[38;5;28;01mif\u001B[39;00m \u001B[38;5;28misinstance\u001B[39m(casted_key, \u001B[38;5;28mslice\u001B[39m) \u001B[38;5;129;01mor\u001B[39;00m (\n\u001B[1;32m   3793\u001B[0m         \u001B[38;5;28misinstance\u001B[39m(casted_key, abc\u001B[38;5;241m.\u001B[39mIterable)\n\u001B[1;32m   3794\u001B[0m         \u001B[38;5;129;01mand\u001B[39;00m \u001B[38;5;28many\u001B[39m(\u001B[38;5;28misinstance\u001B[39m(x, \u001B[38;5;28mslice\u001B[39m) \u001B[38;5;28;01mfor\u001B[39;00m x \u001B[38;5;129;01min\u001B[39;00m casted_key)\n\u001B[1;32m   3795\u001B[0m     ):\n\u001B[1;32m   3796\u001B[0m         \u001B[38;5;28;01mraise\u001B[39;00m InvalidIndexError(key)\n\u001B[0;32m-> 3797\u001B[0m     \u001B[38;5;28;01mraise\u001B[39;00m \u001B[38;5;167;01mKeyError\u001B[39;00m(key) \u001B[38;5;28;01mfrom\u001B[39;00m \u001B[38;5;21;01merr\u001B[39;00m\n\u001B[1;32m   3798\u001B[0m \u001B[38;5;28;01mexcept\u001B[39;00m \u001B[38;5;167;01mTypeError\u001B[39;00m:\n\u001B[1;32m   3799\u001B[0m     \u001B[38;5;66;03m# If we have a listlike key, _check_indexing_error will raise\u001B[39;00m\n\u001B[1;32m   3800\u001B[0m     \u001B[38;5;66;03m#  InvalidIndexError. Otherwise we fall through and re-raise\u001B[39;00m\n\u001B[1;32m   3801\u001B[0m     \u001B[38;5;66;03m#  the TypeError.\u001B[39;00m\n\u001B[1;32m   3802\u001B[0m     \u001B[38;5;28mself\u001B[39m\u001B[38;5;241m.\u001B[39m_check_indexing_error(key)\n",
      "\u001B[0;31mKeyError\u001B[0m: 2024"
     ]
    }
   ],
   "source": [
    "team_1, team_2 = 'Nigeria','Saudi Arabia'\n",
    "my_match = match_creator(team_1, team_2)"
   ]
  },
  {
   "cell_type": "code",
   "execution_count": 40,
   "metadata": {
    "collapsed": false,
    "ExecuteTime": {
     "end_time": "2024-03-04T18:04:53.844300Z",
     "start_time": "2024-03-04T18:04:53.813330Z"
    }
   },
   "outputs": [
    {
     "ename": "NameError",
     "evalue": "name 'main_model' is not defined",
     "output_type": "error",
     "traceback": [
      "\u001B[0;31m---------------------------------------------------------------------------\u001B[0m",
      "\u001B[0;31mNameError\u001B[0m                                 Traceback (most recent call last)",
      "Cell \u001B[0;32mIn[40], line 1\u001B[0m\n\u001B[0;32m----> 1\u001B[0m team_1 \u001B[38;5;28;01mif\u001B[39;00m \u001B[43mmain_model\u001B[49m\u001B[38;5;241m.\u001B[39mpredict(my_match) \u001B[38;5;241m==\u001B[39m \u001B[38;5;241m2\u001B[39m \u001B[38;5;28;01melse\u001B[39;00m team_2\n",
      "\u001B[0;31mNameError\u001B[0m: name 'main_model' is not defined"
     ]
    }
   ],
   "source": [
    "team_1 if main_model.predict(my_match) == 2 else team_2"
   ]
  },
  {
   "cell_type": "markdown",
   "source": [
    "### Let's run our own little tournament!\n",
    "Predetermined countries in the tournament."
   ],
   "metadata": {
    "collapsed": false
   }
  },
  {
   "cell_type": "code",
   "execution_count": 41,
   "metadata": {
    "collapsed": false,
    "ExecuteTime": {
     "end_time": "2024-03-04T18:05:02.404385Z",
     "start_time": "2024-03-04T18:05:02.349065Z"
    }
   },
   "outputs": [
    {
     "ename": "KeyError",
     "evalue": "2024",
     "output_type": "error",
     "traceback": [
      "\u001B[0;31m---------------------------------------------------------------------------\u001B[0m",
      "\u001B[0;31mKeyError\u001B[0m                                  Traceback (most recent call last)",
      "File \u001B[0;32m/opt/homebrew/lib/python3.11/site-packages/pandas/core/indexes/base.py:3790\u001B[0m, in \u001B[0;36mIndex.get_loc\u001B[0;34m(self, key)\u001B[0m\n\u001B[1;32m   3789\u001B[0m \u001B[38;5;28;01mtry\u001B[39;00m:\n\u001B[0;32m-> 3790\u001B[0m     \u001B[38;5;28;01mreturn\u001B[39;00m \u001B[38;5;28;43mself\u001B[39;49m\u001B[38;5;241;43m.\u001B[39;49m\u001B[43m_engine\u001B[49m\u001B[38;5;241;43m.\u001B[39;49m\u001B[43mget_loc\u001B[49m\u001B[43m(\u001B[49m\u001B[43mcasted_key\u001B[49m\u001B[43m)\u001B[49m\n\u001B[1;32m   3791\u001B[0m \u001B[38;5;28;01mexcept\u001B[39;00m \u001B[38;5;167;01mKeyError\u001B[39;00m \u001B[38;5;28;01mas\u001B[39;00m err:\n",
      "File \u001B[0;32mindex.pyx:152\u001B[0m, in \u001B[0;36mpandas._libs.index.IndexEngine.get_loc\u001B[0;34m()\u001B[0m\n",
      "File \u001B[0;32mindex.pyx:181\u001B[0m, in \u001B[0;36mpandas._libs.index.IndexEngine.get_loc\u001B[0;34m()\u001B[0m\n",
      "File \u001B[0;32mpandas/_libs/hashtable_class_helper.pxi:7080\u001B[0m, in \u001B[0;36mpandas._libs.hashtable.PyObjectHashTable.get_item\u001B[0;34m()\u001B[0m\n",
      "File \u001B[0;32mpandas/_libs/hashtable_class_helper.pxi:7088\u001B[0m, in \u001B[0;36mpandas._libs.hashtable.PyObjectHashTable.get_item\u001B[0;34m()\u001B[0m\n",
      "\u001B[0;31mKeyError\u001B[0m: 2024",
      "\nThe above exception was the direct cause of the following exception:\n",
      "\u001B[0;31mKeyError\u001B[0m                                  Traceback (most recent call last)",
      "Cell \u001B[0;32mIn[41], line 66\u001B[0m\n\u001B[1;32m     64\u001B[0m     \u001B[38;5;28;01mmatch\u001B[39;00m[\u001B[38;5;241m0\u001B[39m][\u001B[38;5;241m8\u001B[39m] \u001B[38;5;241m=\u001B[39m match[\u001B[38;5;241m0\u001B[39m][\u001B[38;5;241m3\u001B[39m] \u001B[38;5;241m==\u001B[39m teams[i]\n\u001B[1;32m     65\u001B[0m     \u001B[38;5;28;01mreturn\u001B[39;00m match\n\u001B[0;32m---> 66\u001B[0m \u001B[43mrun_tournament\u001B[49m\u001B[43m(\u001B[49m\u001B[43mcountries_to_match\u001B[49m\u001B[43m)\u001B[49m\n",
      "Cell \u001B[0;32mIn[41], line 21\u001B[0m, in \u001B[0;36mrun_tournament\u001B[0;34m(teams, tournament_type, hosting_country, with_print)\u001B[0m\n\u001B[1;32m     19\u001B[0m \u001B[38;5;66;03m# step of 2 to use 2 teams\u001B[39;00m\n\u001B[1;32m     20\u001B[0m \u001B[38;5;28;01mfor\u001B[39;00m i \u001B[38;5;129;01min\u001B[39;00m \u001B[38;5;28mrange\u001B[39m(\u001B[38;5;241m0\u001B[39m,\u001B[38;5;28mlen\u001B[39m(teams),\u001B[38;5;241m2\u001B[39m):\n\u001B[0;32m---> 21\u001B[0m     match \u001B[38;5;241m=\u001B[39m \u001B[43mmatch_creator\u001B[49m\u001B[43m(\u001B[49m\u001B[43mteams\u001B[49m\u001B[43m[\u001B[49m\u001B[43mi\u001B[49m\u001B[43m]\u001B[49m\u001B[43m,\u001B[49m\u001B[43mteams\u001B[49m\u001B[43m[\u001B[49m\u001B[43mi\u001B[49m\u001B[38;5;241;43m+\u001B[39;49m\u001B[38;5;241;43m1\u001B[39;49m\u001B[43m]\u001B[49m\u001B[43m)\u001B[49m\n\u001B[1;32m     22\u001B[0m     \u001B[38;5;28;01mif\u001B[39;00m hosting_country \u001B[38;5;241m!=\u001B[39m \u001B[38;5;124m'\u001B[39m\u001B[38;5;124mrandom\u001B[39m\u001B[38;5;124m'\u001B[39m:\n\u001B[1;32m     23\u001B[0m         match \u001B[38;5;241m=\u001B[39m change_host(match,hosting_country,teams,i)\n",
      "Cell \u001B[0;32mIn[38], line 10\u001B[0m, in \u001B[0;36mmatch_creator\u001B[0;34m(team_1, team_2, tournament_code)\u001B[0m\n\u001B[1;32m      8\u001B[0m hosting_country_code \u001B[38;5;241m=\u001B[39m random\u001B[38;5;241m.\u001B[39mchoice([home_code,away_code]) \u001B[38;5;28;01mif\u001B[39;00m \u001B[38;5;129;01mnot\u001B[39;00m neutral \u001B[38;5;28;01melse\u001B[39;00m random\u001B[38;5;241m.\u001B[39mchoice(\u001B[38;5;28mlist\u001B[39m(country_codes\u001B[38;5;241m.\u001B[39mvalues()))\n\u001B[1;32m      9\u001B[0m \u001B[38;5;66;03m# Get most recent rank for home\u001B[39;00m\n\u001B[0;32m---> 10\u001B[0m most_recent_rank_home \u001B[38;5;241m=\u001B[39m \u001B[43mrank_at_year_df\u001B[49m\u001B[38;5;241;43m.\u001B[39;49m\u001B[43mloc\u001B[49m\u001B[43m[\u001B[49m\u001B[43mteam_1\u001B[49m\u001B[43m,\u001B[49m\u001B[43mdatetime\u001B[49m\u001B[38;5;241;43m.\u001B[39;49m\u001B[43mnow\u001B[49m\u001B[43m(\u001B[49m\u001B[43m)\u001B[49m\u001B[38;5;241;43m.\u001B[39;49m\u001B[43myear\u001B[49m\u001B[43m]\u001B[49m\n\u001B[1;32m     11\u001B[0m \u001B[38;5;66;03m# Get most recent rank for away\u001B[39;00m\n\u001B[1;32m     12\u001B[0m most_recent_rank_away \u001B[38;5;241m=\u001B[39m rank_at_year_df\u001B[38;5;241m.\u001B[39mloc[team_2,datetime\u001B[38;5;241m.\u001B[39mnow()\u001B[38;5;241m.\u001B[39myear]\n",
      "File \u001B[0;32m/opt/homebrew/lib/python3.11/site-packages/pandas/core/indexing.py:1146\u001B[0m, in \u001B[0;36m_LocationIndexer.__getitem__\u001B[0;34m(self, key)\u001B[0m\n\u001B[1;32m   1144\u001B[0m     key \u001B[38;5;241m=\u001B[39m \u001B[38;5;28mtuple\u001B[39m(com\u001B[38;5;241m.\u001B[39mapply_if_callable(x, \u001B[38;5;28mself\u001B[39m\u001B[38;5;241m.\u001B[39mobj) \u001B[38;5;28;01mfor\u001B[39;00m x \u001B[38;5;129;01min\u001B[39;00m key)\n\u001B[1;32m   1145\u001B[0m     \u001B[38;5;28;01mif\u001B[39;00m \u001B[38;5;28mself\u001B[39m\u001B[38;5;241m.\u001B[39m_is_scalar_access(key):\n\u001B[0;32m-> 1146\u001B[0m         \u001B[38;5;28;01mreturn\u001B[39;00m \u001B[38;5;28;43mself\u001B[39;49m\u001B[38;5;241;43m.\u001B[39;49m\u001B[43mobj\u001B[49m\u001B[38;5;241;43m.\u001B[39;49m\u001B[43m_get_value\u001B[49m\u001B[43m(\u001B[49m\u001B[38;5;241;43m*\u001B[39;49m\u001B[43mkey\u001B[49m\u001B[43m,\u001B[49m\u001B[43m \u001B[49m\u001B[43mtakeable\u001B[49m\u001B[38;5;241;43m=\u001B[39;49m\u001B[38;5;28;43mself\u001B[39;49m\u001B[38;5;241;43m.\u001B[39;49m\u001B[43m_takeable\u001B[49m\u001B[43m)\u001B[49m\n\u001B[1;32m   1147\u001B[0m     \u001B[38;5;28;01mreturn\u001B[39;00m \u001B[38;5;28mself\u001B[39m\u001B[38;5;241m.\u001B[39m_getitem_tuple(key)\n\u001B[1;32m   1148\u001B[0m \u001B[38;5;28;01melse\u001B[39;00m:\n\u001B[1;32m   1149\u001B[0m     \u001B[38;5;66;03m# we by definition only have the 0th axis\u001B[39;00m\n",
      "File \u001B[0;32m/opt/homebrew/lib/python3.11/site-packages/pandas/core/frame.py:4008\u001B[0m, in \u001B[0;36mDataFrame._get_value\u001B[0;34m(self, index, col, takeable)\u001B[0m\n\u001B[1;32m   4005\u001B[0m     series \u001B[38;5;241m=\u001B[39m \u001B[38;5;28mself\u001B[39m\u001B[38;5;241m.\u001B[39m_ixs(col, axis\u001B[38;5;241m=\u001B[39m\u001B[38;5;241m1\u001B[39m)\n\u001B[1;32m   4006\u001B[0m     \u001B[38;5;28;01mreturn\u001B[39;00m series\u001B[38;5;241m.\u001B[39m_values[index]\n\u001B[0;32m-> 4008\u001B[0m series \u001B[38;5;241m=\u001B[39m \u001B[38;5;28;43mself\u001B[39;49m\u001B[38;5;241;43m.\u001B[39;49m\u001B[43m_get_item_cache\u001B[49m\u001B[43m(\u001B[49m\u001B[43mcol\u001B[49m\u001B[43m)\u001B[49m\n\u001B[1;32m   4009\u001B[0m engine \u001B[38;5;241m=\u001B[39m \u001B[38;5;28mself\u001B[39m\u001B[38;5;241m.\u001B[39mindex\u001B[38;5;241m.\u001B[39m_engine\n\u001B[1;32m   4011\u001B[0m \u001B[38;5;28;01mif\u001B[39;00m \u001B[38;5;129;01mnot\u001B[39;00m \u001B[38;5;28misinstance\u001B[39m(\u001B[38;5;28mself\u001B[39m\u001B[38;5;241m.\u001B[39mindex, MultiIndex):\n\u001B[1;32m   4012\u001B[0m     \u001B[38;5;66;03m# CategoricalIndex: Trying to use the engine fastpath may give incorrect\u001B[39;00m\n\u001B[1;32m   4013\u001B[0m     \u001B[38;5;66;03m#  results if our categories are integers that dont match our codes\u001B[39;00m\n\u001B[1;32m   4014\u001B[0m     \u001B[38;5;66;03m# IntervalIndex: IntervalTree has no get_loc\u001B[39;00m\n",
      "File \u001B[0;32m/opt/homebrew/lib/python3.11/site-packages/pandas/core/frame.py:4417\u001B[0m, in \u001B[0;36mDataFrame._get_item_cache\u001B[0;34m(self, item)\u001B[0m\n\u001B[1;32m   4412\u001B[0m res \u001B[38;5;241m=\u001B[39m cache\u001B[38;5;241m.\u001B[39mget(item)\n\u001B[1;32m   4413\u001B[0m \u001B[38;5;28;01mif\u001B[39;00m res \u001B[38;5;129;01mis\u001B[39;00m \u001B[38;5;28;01mNone\u001B[39;00m:\n\u001B[1;32m   4414\u001B[0m     \u001B[38;5;66;03m# All places that call _get_item_cache have unique columns,\u001B[39;00m\n\u001B[1;32m   4415\u001B[0m     \u001B[38;5;66;03m#  pending resolution of GH#33047\u001B[39;00m\n\u001B[0;32m-> 4417\u001B[0m     loc \u001B[38;5;241m=\u001B[39m \u001B[38;5;28;43mself\u001B[39;49m\u001B[38;5;241;43m.\u001B[39;49m\u001B[43mcolumns\u001B[49m\u001B[38;5;241;43m.\u001B[39;49m\u001B[43mget_loc\u001B[49m\u001B[43m(\u001B[49m\u001B[43mitem\u001B[49m\u001B[43m)\u001B[49m\n\u001B[1;32m   4418\u001B[0m     res \u001B[38;5;241m=\u001B[39m \u001B[38;5;28mself\u001B[39m\u001B[38;5;241m.\u001B[39m_ixs(loc, axis\u001B[38;5;241m=\u001B[39m\u001B[38;5;241m1\u001B[39m)\n\u001B[1;32m   4420\u001B[0m     cache[item] \u001B[38;5;241m=\u001B[39m res\n",
      "File \u001B[0;32m/opt/homebrew/lib/python3.11/site-packages/pandas/core/indexes/base.py:3797\u001B[0m, in \u001B[0;36mIndex.get_loc\u001B[0;34m(self, key)\u001B[0m\n\u001B[1;32m   3792\u001B[0m     \u001B[38;5;28;01mif\u001B[39;00m \u001B[38;5;28misinstance\u001B[39m(casted_key, \u001B[38;5;28mslice\u001B[39m) \u001B[38;5;129;01mor\u001B[39;00m (\n\u001B[1;32m   3793\u001B[0m         \u001B[38;5;28misinstance\u001B[39m(casted_key, abc\u001B[38;5;241m.\u001B[39mIterable)\n\u001B[1;32m   3794\u001B[0m         \u001B[38;5;129;01mand\u001B[39;00m \u001B[38;5;28many\u001B[39m(\u001B[38;5;28misinstance\u001B[39m(x, \u001B[38;5;28mslice\u001B[39m) \u001B[38;5;28;01mfor\u001B[39;00m x \u001B[38;5;129;01min\u001B[39;00m casted_key)\n\u001B[1;32m   3795\u001B[0m     ):\n\u001B[1;32m   3796\u001B[0m         \u001B[38;5;28;01mraise\u001B[39;00m InvalidIndexError(key)\n\u001B[0;32m-> 3797\u001B[0m     \u001B[38;5;28;01mraise\u001B[39;00m \u001B[38;5;167;01mKeyError\u001B[39;00m(key) \u001B[38;5;28;01mfrom\u001B[39;00m \u001B[38;5;21;01merr\u001B[39;00m\n\u001B[1;32m   3798\u001B[0m \u001B[38;5;28;01mexcept\u001B[39;00m \u001B[38;5;167;01mTypeError\u001B[39;00m:\n\u001B[1;32m   3799\u001B[0m     \u001B[38;5;66;03m# If we have a listlike key, _check_indexing_error will raise\u001B[39;00m\n\u001B[1;32m   3800\u001B[0m     \u001B[38;5;66;03m#  InvalidIndexError. Otherwise we fall through and re-raise\u001B[39;00m\n\u001B[1;32m   3801\u001B[0m     \u001B[38;5;66;03m#  the TypeError.\u001B[39;00m\n\u001B[1;32m   3802\u001B[0m     \u001B[38;5;28mself\u001B[39m\u001B[38;5;241m.\u001B[39m_check_indexing_error(key)\n",
      "\u001B[0;31mKeyError\u001B[0m: 2024"
     ]
    }
   ],
   "source": [
    "countries_to_match = ['Belgium','United States','Japan','Qatar','Saudi Arabia','England','Scotland','France','Brazil','Italy','Germany','Uruguay','Argentina','Spain','Mexico','Australia'] \n",
    "\n",
    "import warnings\n",
    "\n",
    "# Suppress FutureWarning messages\n",
    "warnings.simplefilter(action='ignore', category=FutureWarning)\n",
    "warnings.simplefilter(action='ignore', category=UserWarning)\n",
    "\n",
    "def run_tournament(teams,tournament_type='cup',hosting_country='random',with_print=True):\n",
    "    if not teams:\n",
    "        return \n",
    "    # Randomize teams\n",
    "    random.shuffle(teams)\n",
    "    # If tournament_type is 'cup' then draws are not allowed. One team must win!\n",
    "    tab=''\n",
    "    # Match the teams until we have one team left\n",
    "    while len(teams) != 1:\n",
    "        winners = []\n",
    "        # step of 2 to use 2 teams\n",
    "        for i in range(0,len(teams),2):\n",
    "            match = match_creator(teams[i],teams[i+1])\n",
    "            if hosting_country != 'random':\n",
    "                match = change_host(match,hosting_country,teams,i)\n",
    "            # When we are at the final\n",
    "            if len(teams) == 2: tab+='Final:'\n",
    "            if with_print: print(tab,teams[i],'vs',teams[i+1],end=' -> ')\n",
    "            # Initial prediction\n",
    "            pred = main_model.predict(match)\n",
    "            # If predicting a tie and it's a cup game, keep playing\n",
    "            if pred == 1 and tournament_type == 'cup':\n",
    "                if with_print: print('Tie at full time. Playing extra-time.',end=' -> ')\n",
    "                match = match_creator(teams[i],teams[i+1],tournament_code=1) # Make the game more serious by\n",
    "                if hosting_country != 'random': match = change_host(match,hosting_country,teams,i)\n",
    "                pred = main_model.predict(match)\n",
    "                # If tie again, keep going\n",
    "                if pred == 1:\n",
    "                    if with_print: print('Tie at extra time. Playing penalty shoot-outs.',end=' -> ')\n",
    "                    match = match_creator(teams[i],teams[i+1],tournament_code=1)\n",
    "                    if hosting_country != 'random': match = change_host(match,hosting_country,teams,i)\n",
    "                    pred = main_model.predict(match)\n",
    "                    # If another tie -> go to penalties. At this point it's just random, just like the outcome of a penalty shootout!\n",
    "                    if pred == 1:\n",
    "                        # Penalties are random anyway!\n",
    "                        winner = teams[i] if random.randint(0,99) % 2 == 0 else teams[i+1]\n",
    "                    else:\n",
    "                        winner = teams[i] if pred == 2 else teams[i+1]\n",
    "                    if with_print: print(winner,'won after penalty shoot-outs!')\n",
    "                else:\n",
    "                    winner = teams[i] if pred == 2 else teams[i+1]\n",
    "                    if with_print: print(winner,'won after extra time.')\n",
    "            else:\n",
    "                winner = teams[i] if pred == 2 else teams[i+1]\n",
    "                if with_print: print(winner,'won after full time.')\n",
    "            winners.append(winner)\n",
    "        # Clear the teams\n",
    "        teams.clear()\n",
    "        teams = winners\n",
    "        tab+='\\t'\n",
    "    return teams[0]\n",
    "# Quick and dirty\n",
    "def change_host(match,host,teams,i):\n",
    "    match[0][3] = country_codes[host]\n",
    "    match[0][0] = (match[0][3] != teams[i]) and (match[0][3] != teams[i+1])\n",
    "    match[0][8] = match[0][3] == teams[i]\n",
    "    return match\n",
    "run_tournament(countries_to_match)"
   ]
  },
  {
   "cell_type": "markdown",
   "source": [
    "## Gets k countries randomly"
   ],
   "metadata": {
    "collapsed": false
   }
  },
  {
   "cell_type": "code",
   "execution_count": 816,
   "outputs": [],
   "source": [
    "def get_valid_countries(k):\n",
    "    # We need evens only\n",
    "    if k % 2 == 1:\n",
    "        k += 1\n",
    "    all_countries = list(rank_at_year_df.index.values)\n",
    "    # For some reason these countries cause issues\n",
    "    all_countries.remove('Yugoslavia')\n",
    "    all_countries.remove('Serbia and Montenegro')\n",
    "    all_countries.remove('Czechoslovakia')\n",
    "    all_countries.remove('Netherlands Antilles')\n",
    "    valid_countries = set()\n",
    "    while len(valid_countries) != k:\n",
    "        curr_country = random.choice(all_countries)\n",
    "        val = country_codes.setdefault(curr_country,-1)\n",
    "        if val != -1: valid_countries.add(curr_country)\n",
    "    return list(valid_countries)"
   ],
   "metadata": {
    "collapsed": false,
    "ExecuteTime": {
     "end_time": "2023-12-08T14:15:26.227841Z",
     "start_time": "2023-12-08T14:15:26.225243Z"
    }
   }
  },
  {
   "cell_type": "markdown",
   "source": [
    "### Let's generate random countries and create a 64-team tournament"
   ],
   "metadata": {
    "collapsed": false
   }
  },
  {
   "cell_type": "code",
   "execution_count": 817,
   "outputs": [
    {
     "name": "stdout",
     "output_type": "stream",
     "text": [
      "Best country: England - Ranked 5.0\n",
      "Average Team Rank: 113.890625\n"
     ]
    }
   ],
   "source": [
    "my_tournament = get_valid_countries(64)\n",
    "country_ranks = {country:rank_at_year_df.loc[country,int(datetime.now().year)] for country in my_tournament}\n",
    "best_rank = min(country_ranks.values())\n",
    "best_country = list(filter(lambda x: country_ranks[x] == best_rank,country_ranks.keys()))[0]\n",
    "avg_rank = sum(country_ranks.values())/len(country_ranks.values())\n",
    "print('Best country: {} - Ranked {}\\nAverage Team Rank: {}'.format(best_country,best_rank,avg_rank))"
   ],
   "metadata": {
    "collapsed": false,
    "ExecuteTime": {
     "end_time": "2023-12-08T14:15:26.232421Z",
     "start_time": "2023-12-08T14:15:26.227046Z"
    }
   }
  },
  {
   "cell_type": "code",
   "execution_count": 818,
   "metadata": {
    "collapsed": false,
    "ExecuteTime": {
     "end_time": "2023-12-08T14:15:32.034316Z",
     "start_time": "2023-12-08T14:15:26.230217Z"
    }
   },
   "outputs": [
    {
     "name": "stdout",
     "output_type": "stream",
     "text": [
      " Chile vs Saudi Arabia -> Tie at full time. Playing extra-time. -> Tie at extra time. Playing penalty shoot-outs. -> Saudi Arabia won after penalty shoot-outs!\n",
      " Laos vs Pakistan -> Pakistan won after full time.\n",
      " Bhutan vs Burkina Faso -> Burkina Faso won after full time.\n",
      " Algeria vs Guinea -> Tie at full time. Playing extra-time. -> Guinea won after extra time.\n",
      " Tunisia vs England -> England won after full time.\n",
      " Madagascar vs Republic of Ireland -> Republic of Ireland won after full time.\n",
      " Turkey vs Faroe Islands -> Turkey won after full time.\n",
      " Benin vs Libya -> Tie at full time. Playing extra-time. -> Tie at extra time. Playing penalty shoot-outs. -> Libya won after penalty shoot-outs!\n",
      " New Zealand vs Burundi -> Tie at full time. Playing extra-time. -> Tie at extra time. Playing penalty shoot-outs. -> Burundi won after penalty shoot-outs!\n",
      " Zimbabwe vs United States -> United States won after full time.\n",
      " Kuwait vs Senegal -> Senegal won after full time.\n",
      " Sierra Leone vs Curaçao -> Curaçao won after full time.\n",
      " Eswatini vs Montserrat -> Montserrat won after full time.\n",
      " Ghana vs Panama -> Tie at full time. Playing extra-time. -> Tie at extra time. Playing penalty shoot-outs. -> Ghana won after penalty shoot-outs!\n",
      " Belarus vs Myanmar -> Tie at full time. Playing extra-time. -> Tie at extra time. Playing penalty shoot-outs. -> Belarus won after penalty shoot-outs!\n",
      " Slovenia vs Turks and Caicos Islands -> Slovenia won after full time.\n",
      " Palestine vs Andorra -> Tie at full time. Playing extra-time. -> Tie at extra time. Playing penalty shoot-outs. -> Andorra won after penalty shoot-outs!\n",
      " San Marino vs Malawi -> Malawi won after full time.\n",
      " Jordan vs Malaysia -> Tie at full time. Playing extra-time. -> Tie at extra time. Playing penalty shoot-outs. -> Malaysia won after penalty shoot-outs!\n",
      " Cook Islands vs Jamaica -> Jamaica won after full time.\n",
      " Philippines vs Comoros -> Comoros won after full time.\n",
      " New Caledonia vs China PR -> China PR won after full time.\n",
      " Tanzania vs Iraq -> Iraq won after full time.\n",
      " Kazakhstan vs Uzbekistan -> Uzbekistan won after full time.\n",
      " Estonia vs Timor-Leste -> Tie at full time. Playing extra-time. -> Estonia won after extra time.\n",
      " Fiji vs Papua New Guinea -> Papua New Guinea won after full time.\n",
      " Lithuania vs Tonga -> Tonga won after full time.\n",
      " Cuba vs Tajikistan -> Tajikistan won after full time.\n",
      " Mauritius vs São Tomé and Príncipe -> São Tomé and Príncipe won after full time.\n",
      " Thailand vs Romania -> Romania won after full time.\n",
      " Azerbaijan vs Uganda -> Uganda won after full time.\n",
      " Guyana vs Bahrain -> Bahrain won after full time.\n",
      "\t Saudi Arabia vs Pakistan -> Saudi Arabia won after full time.\n",
      "\t Burkina Faso vs Guinea -> Tie at full time. Playing extra-time. -> Guinea won after extra time.\n",
      "\t England vs Republic of Ireland -> Tie at full time. Playing extra-time. -> Republic of Ireland won after extra time.\n",
      "\t Turkey vs Libya -> Libya won after full time.\n",
      "\t Burundi vs United States -> United States won after full time.\n",
      "\t Senegal vs Curaçao -> Tie at full time. Playing extra-time. -> Tie at extra time. Playing penalty shoot-outs. -> Senegal won after penalty shoot-outs!\n",
      "\t Montserrat vs Ghana -> Ghana won after full time.\n",
      "\t Belarus vs Slovenia -> Slovenia won after full time.\n",
      "\t Andorra vs Malawi -> Malawi won after full time.\n",
      "\t Malaysia vs Jamaica -> Jamaica won after full time.\n",
      "\t Comoros vs China PR -> China PR won after full time.\n",
      "\t Iraq vs Uzbekistan -> Uzbekistan won after full time.\n",
      "\t Estonia vs Papua New Guinea -> Tie at full time. Playing extra-time. -> Tie at extra time. Playing penalty shoot-outs. -> Estonia won after penalty shoot-outs!\n",
      "\t Tonga vs Tajikistan -> Tajikistan won after full time.\n",
      "\t São Tomé and Príncipe vs Romania -> Romania won after full time.\n",
      "\t Uganda vs Bahrain -> Tie at full time. Playing extra-time. -> Bahrain won after extra time.\n",
      "\t\t Saudi Arabia vs Guinea -> Guinea won after full time.\n",
      "\t\t Republic of Ireland vs Libya -> Tie at full time. Playing extra-time. -> Tie at extra time. Playing penalty shoot-outs. -> Republic of Ireland won after penalty shoot-outs!\n",
      "\t\t United States vs Senegal -> Tie at full time. Playing extra-time. -> Senegal won after extra time.\n",
      "\t\t Ghana vs Slovenia -> Tie at full time. Playing extra-time. -> Tie at extra time. Playing penalty shoot-outs. -> Ghana won after penalty shoot-outs!\n",
      "\t\t Malawi vs Jamaica -> Jamaica won after full time.\n",
      "\t\t China PR vs Uzbekistan -> Tie at full time. Playing extra-time. -> Tie at extra time. Playing penalty shoot-outs. -> China PR won after penalty shoot-outs!\n",
      "\t\t Estonia vs Tajikistan -> Tajikistan won after full time.\n",
      "\t\t Romania vs Bahrain -> Bahrain won after full time.\n",
      "\t\t\t Guinea vs Republic of Ireland -> Republic of Ireland won after full time.\n",
      "\t\t\t Senegal vs Ghana -> Tie at full time. Playing extra-time. -> Tie at extra time. Playing penalty shoot-outs. -> Ghana won after penalty shoot-outs!\n",
      "\t\t\t Jamaica vs China PR -> China PR won after full time.\n",
      "\t\t\t Tajikistan vs Bahrain -> Bahrain won after full time.\n",
      "\t\t\t\t Republic of Ireland vs Ghana -> Tie at full time. Playing extra-time. -> Ghana won after extra time.\n",
      "\t\t\t\t China PR vs Bahrain -> Tie at full time. Playing extra-time. -> Tie at extra time. Playing penalty shoot-outs. -> China PR won after penalty shoot-outs!\n",
      "\t\t\t\t\tFinal: Ghana vs China PR -> Tie at full time. Playing extra-time. -> Tie at extra time. Playing penalty shoot-outs. -> China PR won after penalty shoot-outs!\n",
      "China PR wins the tournament!\n",
      "What a great tournament!\n",
      "Tournament hosted by England\n"
     ]
    }
   ],
   "source": [
    "# Designate a country to host the tournament\n",
    "host = 'England'\n",
    "winner = run_tournament(my_tournament,hosting_country=host,with_print=True)\n",
    "print(winner,'wins the tournament!')\n",
    "if winner != best_country:\n",
    "    print('What a great tournament!')\n",
    "else:\n",
    "    print('The best team won, as expected.')\n",
    "print('Tournament hosted by',host)"
   ]
  },
  {
   "cell_type": "code",
   "execution_count": 819,
   "outputs": [
    {
     "data": {
      "text/plain": "{}"
     },
     "metadata": {},
     "output_type": "display_data"
    }
   ],
   "source": [
    "i = 0\n",
    "WC_wins = dict()\n",
    "# Number of runs to run statistics on\n",
    "runs = 0\n",
    "num_teams = 32\n",
    "host='England'\n",
    "while i != runs:\n",
    "    world_cup = get_valid_countries(num_teams)\n",
    "    country_ranks = {country:rank_at_year_df.loc[country,2023] for country in world_cup}\n",
    "    best_rank = min(country_ranks.values())\n",
    "    best_country = list(filter(lambda x: country_ranks[x] == best_rank,country_ranks.keys()))[0]\n",
    "    print('run {} - Highest ranked team: {} Rank {}'.format(i,best_country,best_rank))\n",
    "    winner = run_tournament(teams=world_cup,hosting_country=host,with_print=False)\n",
    "    WC_wins[winner] = (WC_wins.get(winner,0) + 1)\n",
    "    i+=1\n",
    "stats = dict()\n",
    "for winner in WC_wins.keys():\n",
    "    stats[winner] = WC_wins.get(winner)/runs\n",
    "display(stats)"
   ],
   "metadata": {
    "collapsed": false,
    "ExecuteTime": {
     "end_time": "2023-12-08T14:15:32.037444Z",
     "start_time": "2023-12-08T14:15:32.034434Z"
    }
   }
  },
  {
   "cell_type": "code",
   "execution_count": 820,
   "outputs": [
    {
     "name": "stdout",
     "output_type": "stream",
     "text": [
      "test\n"
     ]
    }
   ],
   "source": [
    "print('test')\n",
    "sorted_dict = sorted(WC_wins.items(), key=lambda x:x[1])\n",
    "for winner in sorted_dict[-10:]:\n",
    "    rank = rank_at_year_df.loc[winner[0],2023]\n",
    "    print(f'Team: {winner[0]:<20} Win%: {winner[1]:<2}% {\" \"*3:<10}FIFA Ranking 2023: {rank:<15}')"
   ],
   "metadata": {
    "collapsed": false,
    "ExecuteTime": {
     "end_time": "2023-12-08T14:15:32.041432Z",
     "start_time": "2023-12-08T14:15:32.037242Z"
    }
   }
  },
  {
   "cell_type": "markdown",
   "source": [
    "## Optimization part\n",
    "Used GridSearch to find the best params for the extra trees"
   ],
   "metadata": {
    "collapsed": false
   }
  },
  {
   "cell_type": "code",
   "execution_count": 821,
   "outputs": [],
   "source": [
    "perform_gridsearch = False\n",
    "\n",
    "if perform_gridsearch:\n",
    "    from sklearn.metrics import make_scorer, precision_score\n",
    "    from sklearn.model_selection import GridSearchCV\n",
    "    import warnings\n",
    "    \n",
    "    # Suppress the ANNOYING FutureWarning messages\n",
    "    warnings.simplefilter(action='ignore', category=FutureWarning)\n",
    "    warnings.simplefilter(action='ignore', category=UserWarning)\n",
    "    \n",
    "    param_grid = {\n",
    "        'base_estimator__n_estimators': [50, 100, 200,300,400],\n",
    "        'base_estimator__max_depth': [None, 10, 20],\n",
    "        'max_samples': [0.8, 1.0],\n",
    "        'max_features': [0.8, 1.0]\n",
    "    }\n",
    "    # Create a Random Subspace Classifier pipeline\n",
    "    random_subspace_model = BaggingClassifier(base_estimator=ExtraTreesClassifier(random_state=42), random_state=42)\n",
    "    scorer = make_scorer(precision_score, average='macro')\n",
    "    grid_search = GridSearchCV(estimator=random_subspace_model, param_grid=param_grid, cv=5, scoring=scorer, n_jobs=-1)\n",
    "    \n",
    "    # Fit the grid search to the data\n",
    "    grid_search.fit(X_train, y_train)\n",
    "    \n",
    "    # Print the best parameters and corresponding precision score\n",
    "    print(\"Best Parameters:\", grid_search.best_params_)\n",
    "    print(\"Best Precision Score:\", grid_search.best_score_)\n",
    "    \n",
    "    # Get the best model\n",
    "    best_model = grid_search.best_estimator_\n",
    "    \n",
    "    # Evaluate the best model on the test set\n",
    "    y_pred = best_model.predict(X_test)"
   ],
   "metadata": {
    "collapsed": false,
    "ExecuteTime": {
     "end_time": "2023-12-08T14:15:32.048313Z",
     "start_time": "2023-12-08T14:15:32.040367Z"
    }
   }
  },
  {
   "cell_type": "markdown",
   "source": [
    "```\n",
    "Best Parameters: {'max_depth': None, 'max_features': 'log2', 'min_samples_leaf': 1, 'min_samples_split': 3, 'n_estimators': 400}\n",
    "Best Precision Score: 0.6496295887336865\n",
    "\n",
    "Best Parameters: {'base_estimator__max_depth': None, 'base_estimator__n_estimators': 50, 'max_features': 0.8, 'max_samples': 1.0}\n",
    "Best Precision Score: 0.6331092403002385\n",
    "```"
   ],
   "metadata": {
    "collapsed": false
   }
  }
 ],
 "metadata": {
  "kernelspec": {
   "display_name": "Python 3 (ipykernel)",
   "language": "python",
   "name": "python3"
  },
  "language_info": {
   "codemirror_mode": {
    "name": "ipython",
    "version": 3
   },
   "file_extension": ".py",
   "mimetype": "text/x-python",
   "name": "python",
   "nbconvert_exporter": "python",
   "pygments_lexer": "ipython3",
   "version": "3.11.6"
  }
 },
 "nbformat": 4,
 "nbformat_minor": 4
}
