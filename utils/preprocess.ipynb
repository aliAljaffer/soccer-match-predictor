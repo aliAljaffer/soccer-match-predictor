{
 "cells": [
  {
   "cell_type": "code",
   "execution_count": 1,
   "metadata": {
    "editable": true,
    "slideshow": {
     "slide_type": ""
    },
    "tags": [],
    "ExecuteTime": {
     "end_time": "2023-11-30T18:49:25.642258Z",
     "start_time": "2023-11-30T18:49:25.524431Z"
    }
   },
   "outputs": [],
   "source": [
    "import pandas as pd\n",
    "import numpy as np\n",
    "import sklearn as sk\n",
    "from sklearn.preprocessing import LabelEncoder\n",
    "import random\n",
    "from sklearn.utils import resample\n",
    "from IPython.display import display\n",
    "from datetime import datetime\n",
    "ranking = pd.read_csv('../datasets/fifa_ranking-2023-07-20.csv')\n",
    "game_results = pd.read_csv('../datasets/results.csv')\n",
    "rank_at_year = pd.read_csv('../datasets/rank_per_yr_T_sorted.csv')"
   ]
  },
  {
   "cell_type": "code",
   "execution_count": 2,
   "metadata": {
    "ExecuteTime": {
     "end_time": "2023-11-30T18:49:26.081772Z",
     "start_time": "2023-11-30T18:49:26.075493Z"
    }
   },
   "outputs": [
    {
     "name": "stdout",
     "output_type": "stream",
     "text": [
      "<class 'pandas.core.frame.DataFrame'>\n",
      "Index: 231 entries, Afghanistan to Zimbabwe\n",
      "Data columns (total 31 columns):\n",
      " #   Column  Non-Null Count  Dtype  \n",
      "---  ------  --------------  -----  \n",
      " 0   1993    231 non-null    float64\n",
      " 1   1994    231 non-null    float64\n",
      " 2   1995    231 non-null    float64\n",
      " 3   1996    231 non-null    float64\n",
      " 4   1997    231 non-null    float64\n",
      " 5   1998    231 non-null    float64\n",
      " 6   1999    231 non-null    float64\n",
      " 7   2000    231 non-null    float64\n",
      " 8   2001    231 non-null    float64\n",
      " 9   2002    231 non-null    float64\n",
      " 10  2003    231 non-null    float64\n",
      " 11  2004    231 non-null    float64\n",
      " 12  2005    231 non-null    float64\n",
      " 13  2006    231 non-null    float64\n",
      " 14  2007    231 non-null    float64\n",
      " 15  2008    231 non-null    float64\n",
      " 16  2009    231 non-null    float64\n",
      " 17  2010    231 non-null    float64\n",
      " 18  2011    231 non-null    float64\n",
      " 19  2012    231 non-null    float64\n",
      " 20  2013    231 non-null    float64\n",
      " 21  2014    231 non-null    float64\n",
      " 22  2015    231 non-null    float64\n",
      " 23  2016    231 non-null    float64\n",
      " 24  2017    231 non-null    float64\n",
      " 25  2018    231 non-null    float64\n",
      " 26  2019    231 non-null    float64\n",
      " 27  2020    231 non-null    float64\n",
      " 28  2021    231 non-null    float64\n",
      " 29  2022    231 non-null    float64\n",
      " 30  2023    231 non-null    float64\n",
      "dtypes: float64(31)\n",
      "memory usage: 57.8+ KB\n"
     ]
    }
   ],
   "source": [
    "rank_at_year.set_index('Country',inplace=True)\n",
    "rank_at_year.info()"
   ]
  },
  {
   "cell_type": "code",
   "execution_count": 3,
   "metadata": {
    "ExecuteTime": {
     "end_time": "2023-11-30T18:49:27.492778Z",
     "start_time": "2023-11-30T18:49:27.472741Z"
    }
   },
   "outputs": [
    {
     "name": "stdout",
     "output_type": "stream",
     "text": [
      "Before removal of unusable games: (45315, 9)\n",
      "After removal: (38116, 9)\n"
     ]
    }
   ],
   "source": [
    "rank_at_year.columns = rank_at_year.columns.astype(int)\n",
    "# Remove games that have teams not present in the FIFA ranking\n",
    "print('Before removal of unusable games:',game_results.shape)\n",
    "# game_results = game_results.loc[(game_results['home_team'] in rank_at_year.index.values) & (game_results['away_team'] in rank_at_year.index.values)]\n",
    "game_results = game_results.loc[(game_results['home_team'].isin(values=rank_at_year.index.values)) & (game_results['away_team'].isin(values=rank_at_year.index.values))]\n",
    "print('After removal:',game_results.shape)\n",
    "# Converting dates to datetime objects\n",
    "game_results['date'] = pd.to_datetime(game_results['date'])\n",
    "ranking['rank_date'] = pd.to_datetime(ranking['rank_date'])\n",
    "game_results.drop(columns=['city'],inplace=True,axis=1)"
   ]
  },
  {
   "cell_type": "code",
   "execution_count": 4,
   "metadata": {
    "ExecuteTime": {
     "end_time": "2023-11-30T18:49:29.128015Z",
     "start_time": "2023-11-30T18:49:28.853286Z"
    }
   },
   "outputs": [
    {
     "data": {
      "text/plain": "            date            home_team    away_team  home_score  away_score  \\\n0     1872-11-30             Scotland      England           0           0   \n1     1873-03-08              England     Scotland           4           2   \n2     1874-03-07             Scotland      England           2           1   \n3     1875-03-06              England     Scotland           2           2   \n4     1876-03-04             Scotland      England           3           0   \n...          ...                  ...          ...         ...         ...   \n45305 2023-11-21              Austria      Germany           2           0   \n45306 2023-11-21               Poland       Latvia           2           0   \n45307 2023-11-21  Republic of Ireland  New Zealand           1           1   \n45308 2023-11-21            Gibraltar  Netherlands           0           6   \n45309 2023-11-21               Greece       France           2           2   \n\n                    tournament              country  neutral  home_code  \\\n0                     Friendly             Scotland    False        154   \n1                     Friendly              England    False         58   \n2                     Friendly             Scotland    False        154   \n3                     Friendly              England    False         58   \n4                     Friendly             Scotland    False        154   \n...                        ...                  ...      ...        ...   \n45305                 Friendly              Austria    False         12   \n45306                 Friendly               Poland    False        143   \n45307                 Friendly  Republic of Ireland    False        147   \n45308  UEFA Euro qualification             Portugal     True         73   \n45309  UEFA Euro qualification               Greece    False         74   \n\n       away_code  hosting_country_code  \n0             58                   154  \n1            154                    58  \n2             58                   154  \n3            154                    58  \n4             58                   154  \n...          ...                   ...  \n45305         71                    12  \n45306         99                   143  \n45307        128                   147  \n45308        126                   144  \n45309         67                    74  \n\n[38111 rows x 11 columns]",
      "text/html": "<div>\n<style scoped>\n    .dataframe tbody tr th:only-of-type {\n        vertical-align: middle;\n    }\n\n    .dataframe tbody tr th {\n        vertical-align: top;\n    }\n\n    .dataframe thead th {\n        text-align: right;\n    }\n</style>\n<table border=\"1\" class=\"dataframe\">\n  <thead>\n    <tr style=\"text-align: right;\">\n      <th></th>\n      <th>date</th>\n      <th>home_team</th>\n      <th>away_team</th>\n      <th>home_score</th>\n      <th>away_score</th>\n      <th>tournament</th>\n      <th>country</th>\n      <th>neutral</th>\n      <th>home_code</th>\n      <th>away_code</th>\n      <th>hosting_country_code</th>\n    </tr>\n  </thead>\n  <tbody>\n    <tr>\n      <th>0</th>\n      <td>1872-11-30</td>\n      <td>Scotland</td>\n      <td>England</td>\n      <td>0</td>\n      <td>0</td>\n      <td>Friendly</td>\n      <td>Scotland</td>\n      <td>False</td>\n      <td>154</td>\n      <td>58</td>\n      <td>154</td>\n    </tr>\n    <tr>\n      <th>1</th>\n      <td>1873-03-08</td>\n      <td>England</td>\n      <td>Scotland</td>\n      <td>4</td>\n      <td>2</td>\n      <td>Friendly</td>\n      <td>England</td>\n      <td>False</td>\n      <td>58</td>\n      <td>154</td>\n      <td>58</td>\n    </tr>\n    <tr>\n      <th>2</th>\n      <td>1874-03-07</td>\n      <td>Scotland</td>\n      <td>England</td>\n      <td>2</td>\n      <td>1</td>\n      <td>Friendly</td>\n      <td>Scotland</td>\n      <td>False</td>\n      <td>154</td>\n      <td>58</td>\n      <td>154</td>\n    </tr>\n    <tr>\n      <th>3</th>\n      <td>1875-03-06</td>\n      <td>England</td>\n      <td>Scotland</td>\n      <td>2</td>\n      <td>2</td>\n      <td>Friendly</td>\n      <td>England</td>\n      <td>False</td>\n      <td>58</td>\n      <td>154</td>\n      <td>58</td>\n    </tr>\n    <tr>\n      <th>4</th>\n      <td>1876-03-04</td>\n      <td>Scotland</td>\n      <td>England</td>\n      <td>3</td>\n      <td>0</td>\n      <td>Friendly</td>\n      <td>Scotland</td>\n      <td>False</td>\n      <td>154</td>\n      <td>58</td>\n      <td>154</td>\n    </tr>\n    <tr>\n      <th>...</th>\n      <td>...</td>\n      <td>...</td>\n      <td>...</td>\n      <td>...</td>\n      <td>...</td>\n      <td>...</td>\n      <td>...</td>\n      <td>...</td>\n      <td>...</td>\n      <td>...</td>\n      <td>...</td>\n    </tr>\n    <tr>\n      <th>45305</th>\n      <td>2023-11-21</td>\n      <td>Austria</td>\n      <td>Germany</td>\n      <td>2</td>\n      <td>0</td>\n      <td>Friendly</td>\n      <td>Austria</td>\n      <td>False</td>\n      <td>12</td>\n      <td>71</td>\n      <td>12</td>\n    </tr>\n    <tr>\n      <th>45306</th>\n      <td>2023-11-21</td>\n      <td>Poland</td>\n      <td>Latvia</td>\n      <td>2</td>\n      <td>0</td>\n      <td>Friendly</td>\n      <td>Poland</td>\n      <td>False</td>\n      <td>143</td>\n      <td>99</td>\n      <td>143</td>\n    </tr>\n    <tr>\n      <th>45307</th>\n      <td>2023-11-21</td>\n      <td>Republic of Ireland</td>\n      <td>New Zealand</td>\n      <td>1</td>\n      <td>1</td>\n      <td>Friendly</td>\n      <td>Republic of Ireland</td>\n      <td>False</td>\n      <td>147</td>\n      <td>128</td>\n      <td>147</td>\n    </tr>\n    <tr>\n      <th>45308</th>\n      <td>2023-11-21</td>\n      <td>Gibraltar</td>\n      <td>Netherlands</td>\n      <td>0</td>\n      <td>6</td>\n      <td>UEFA Euro qualification</td>\n      <td>Portugal</td>\n      <td>True</td>\n      <td>73</td>\n      <td>126</td>\n      <td>144</td>\n    </tr>\n    <tr>\n      <th>45309</th>\n      <td>2023-11-21</td>\n      <td>Greece</td>\n      <td>France</td>\n      <td>2</td>\n      <td>2</td>\n      <td>UEFA Euro qualification</td>\n      <td>Greece</td>\n      <td>False</td>\n      <td>74</td>\n      <td>67</td>\n      <td>74</td>\n    </tr>\n  </tbody>\n</table>\n<p>38111 rows × 11 columns</p>\n</div>"
     },
     "execution_count": 4,
     "metadata": {},
     "output_type": "execute_result"
    }
   ],
   "source": [
    "game_results['home_code'] = game_results.home_team.astype('category').cat.codes\n",
    "l = len(game_results['home_team'].values)\n",
    "country_codes = {game_results['home_team'].values[i]:game_results['home_code'].values[i] for i in range(l)}\n",
    "# labelEnconder.fit(game_results.stack().unique())\n",
    "code = max(country_codes.values()) + 1\n",
    "# encode_dict = game_results.['home_team']\n",
    "def encode_away_teams(x):\n",
    "   global code\n",
    "   val = country_codes.setdefault(x, code)\n",
    "   if val == code:\n",
    "      code+=1\n",
    "   return val\n",
    "game_results['away_code'] = game_results.away_team.apply(lambda x: encode_away_teams(x))\n",
    "game_results['hosting_country_code'] = game_results.country.apply(lambda x: encode_away_teams(x))\n",
    "game_results.head(-5)"
   ]
  },
  {
   "cell_type": "markdown",
   "metadata": {
    "collapsed": false
   },
   "source": [
    "Since we only have fifa rankings starting from 1992-12-31, we'll be only keeping games from 1993-Present"
   ]
  },
  {
   "cell_type": "code",
   "execution_count": 599,
   "metadata": {
    "ExecuteTime": {
     "end_time": "2023-11-30T16:36:21.455248Z",
     "start_time": "2023-11-30T16:36:21.448325Z"
    },
    "collapsed": false
   },
   "outputs": [],
   "source": [
    "game_results = game_results.loc[game_results['date'] >= datetime(year=1993,month=1,day=1)]\n",
    "ranking = ranking.loc[ranking['rank_date'] >= datetime(year=1993,month=1,day=1)]\n",
    "# We don't care about neutral\n",
    "game_results.drop('neutral',inplace=True,axis=1)"
   ]
  },
  {
   "cell_type": "code",
   "execution_count": 600,
   "metadata": {
    "ExecuteTime": {
     "end_time": "2023-11-30T16:36:21.876264Z",
     "start_time": "2023-11-30T16:36:21.456555Z"
    },
    "collapsed": false
   },
   "outputs": [],
   "source": [
    "game_results['final_score'] = game_results.apply(lambda x: 2 if x.away_score < x.home_score else 0 if x.away_score > x.home_score else 1,axis=1)"
   ]
  },
  {
   "cell_type": "code",
   "execution_count": 601,
   "metadata": {
    "ExecuteTime": {
     "end_time": "2023-11-30T16:36:21.882982Z",
     "start_time": "2023-11-30T16:36:21.878366Z"
    },
    "collapsed": false
   },
   "outputs": [
    {
     "data": {
      "text/plain": [
       "final_score\n",
       "2    11098\n",
       "0     6446\n",
       "1     5499\n",
       "Name: count, dtype: int64"
      ]
     },
     "execution_count": 601,
     "metadata": {},
     "output_type": "execute_result"
    }
   ],
   "source": [
    "game_results.reset_index(level=0,inplace=True)\n",
    "game_results.drop('index',inplace=True,axis=1)\n",
    "game_results['final_score'].value_counts()"
   ]
  },
  {
   "cell_type": "markdown",
   "metadata": {
    "collapsed": false
   },
   "source": [
    "We have heavy data imbalance where there are more home wins are alot higher than losses or ties. We'll probably need to either undersample the wins or oversample the ties/losses."
   ]
  },
  {
   "cell_type": "code",
   "execution_count": 602,
   "metadata": {
    "ExecuteTime": {
     "end_time": "2023-11-30T16:36:21.885619Z",
     "start_time": "2023-11-30T16:36:21.881737Z"
    },
    "collapsed": false
   },
   "outputs": [
    {
     "data": {
      "text/plain": [
       "tournament\n",
       "Friendly                                8117\n",
       "FIFA World Cup qualification            5310\n",
       "UEFA Euro qualification                 1982\n",
       "African Cup of Nations qualification    1234\n",
       "UEFA Nations League                      472\n",
       "                                        ... \n",
       "The Other Final                            1\n",
       "Cup of Ancient Civilizations               1\n",
       "TIFOCO Tournament                          1\n",
       "Island Games                               1\n",
       "Copa Confraternidad                        1\n",
       "Name: count, Length: 88, dtype: int64"
      ]
     },
     "execution_count": 602,
     "metadata": {},
     "output_type": "execute_result"
    }
   ],
   "source": [
    "game_results.tournament.value_counts()"
   ]
  },
  {
   "cell_type": "markdown",
   "metadata": {
    "collapsed": false
   },
   "source": [
    "We need to limit the tournament categories to just three: \n",
    "- Cup\n",
    "- Tournament\n",
    "- Friendly"
   ]
  },
  {
   "cell_type": "code",
   "execution_count": 603,
   "metadata": {
    "ExecuteTime": {
     "end_time": "2023-11-30T16:36:21.891471Z",
     "start_time": "2023-11-30T16:36:21.887888Z"
    }
   },
   "outputs": [],
   "source": [
    "def decide_competition(match_type):\n",
    "   # Superclasico is a south american friendly\n",
    "   if match_type.lower() == 'friendly' or match_type.lower().find('superclásico') != -1:\n",
    "      return 2\n",
    "   tournament_names = ['tournoi','uefa','tournament','qualifications','qualification','games','festival','league']\n",
    "   cup_names = ['cup', 'final','championship','copa']\n",
    "   # Tournament - 0\n",
    "   for x in tournament_names:\n",
    "      if match_type.lower().find(x) != -1:\n",
    "         return 0\n",
    "   # Cup - 1\n",
    "   for x in cup_names:\n",
    "      if match_type.lower().find(x) != -1:\n",
    "         return 1"
   ]
  },
  {
   "cell_type": "markdown",
   "metadata": {},
   "source": [
    "### Reorganize the tournaments to either be a cup, tournament, or friendly\n",
    "Encodes the three values: \n",
    "- Tournament $\\rightarrow0$\n",
    "- Cup $\\rightarrow1$\n",
    "- Friendly $\\rightarrow2$"
   ]
  },
  {
   "cell_type": "code",
   "execution_count": 604,
   "metadata": {
    "ExecuteTime": {
     "end_time": "2023-11-30T16:36:21.928128Z",
     "start_time": "2023-11-30T16:36:21.890171Z"
    }
   },
   "outputs": [],
   "source": [
    "game_results['tournament_code'] = game_results['tournament'].apply(decide_competition)"
   ]
  },
  {
   "cell_type": "markdown",
   "metadata": {},
   "source": []
  },
  {
   "cell_type": "code",
   "execution_count": 605,
   "metadata": {
    "ExecuteTime": {
     "end_time": "2023-11-30T16:36:21.928376Z",
     "start_time": "2023-11-30T16:36:21.923398Z"
    }
   },
   "outputs": [
    {
     "data": {
      "text/plain": [
       "tournament_code\n",
       "0    10732\n",
       "2     8125\n",
       "1     4186\n",
       "Name: count, dtype: int64"
      ]
     },
     "execution_count": 605,
     "metadata": {},
     "output_type": "execute_result"
    }
   ],
   "source": [
    "game_results['tournament_code'] = game_results.tournament_code.astype(int)\n",
    "game_results['tournament_code'].value_counts()"
   ]
  },
  {
   "cell_type": "markdown",
   "metadata": {},
   "source": [
    "Seems like we have much more tournament matches. We might need to oversample cup games later if the results aren't good"
   ]
  },
  {
   "cell_type": "markdown",
   "metadata": {
    "collapsed": false
   },
   "source": [
    "### Get the most recent FIFA rank at the time of match"
   ]
  },
  {
   "cell_type": "code",
   "execution_count": 606,
   "metadata": {
    "ExecuteTime": {
     "end_time": "2023-11-30T16:36:22.725082Z",
     "start_time": "2023-11-30T16:36:21.928735Z"
    }
   },
   "outputs": [
    {
     "data": {
      "text/plain": [
       "home_advantage\n",
       "1    17253\n",
       "0     5790\n",
       "Name: count, dtype: int64"
      ]
     },
     "execution_count": 606,
     "metadata": {},
     "output_type": "execute_result"
    }
   ],
   "source": [
    "game_results['most_recent_rank_home'] = game_results.apply(lambda x: rank_at_year.loc[x['home_team'],x['date'].year] ,axis=1)\n",
    "game_results['most_recent_rank_away'] = game_results.apply(lambda x: rank_at_year.loc[x['away_team'],x['date'].year] ,axis=1)\n",
    "game_results['home_advantage'] = 0\n",
    "game_results.loc[game_results['home_code'] == game_results['hosting_country_code'], 'home_advantage'] = 1\n",
    "game_results['home_advantage'].value_counts()"
   ]
  },
  {
   "cell_type": "markdown",
   "metadata": {
    "collapsed": false
   },
   "source": [
    "### Now to check historical head-to-head matches between the two teams\n"
   ]
  },
  {
   "cell_type": "code",
   "execution_count": 607,
   "metadata": {
    "ExecuteTime": {
     "end_time": "2023-11-30T16:37:43.659992Z",
     "start_time": "2023-11-30T16:36:22.727468Z"
    },
    "collapsed": false
   },
   "outputs": [
    {
     "data": {
      "text/plain": [
       "head_to_head_last_5\n",
       "0    13539\n",
       "1     5792\n",
       "2     2637\n",
       "3      860\n",
       "4      180\n",
       "5       35\n",
       "Name: count, dtype: int64"
      ]
     },
     "execution_count": 607,
     "metadata": {},
     "output_type": "execute_result"
    }
   ],
   "source": [
    "# Create a new column 'head_to_head_last_5' with default value 0\n",
    "game_results['head_to_head_last_5'] = 0\n",
    "\n",
    "# Define a function to calculate the number of wins for the home team against the away team in the last 5 matches\n",
    "def calculate_head_to_head(row):\n",
    "    home_team = row['home_team']\n",
    "    away_team = row['away_team']\n",
    "    \n",
    "    # Extract the relevant subset of matches\n",
    "    relevant_matches = game_results[\n",
    "        ((game_results['home_team'] == home_team) & (game_results['away_team'] == away_team)) |\n",
    "        ((game_results['home_team'] == away_team) & (game_results['away_team'] == home_team))\n",
    "    ]\n",
    "    \n",
    "    # Sort the subset by date\n",
    "    relevant_matches = relevant_matches.sort_values(by='date')\n",
    "    \n",
    "    # Consider only the last 5 matches\n",
    "    last_5_matches = relevant_matches[relevant_matches['date'] < row['date']].tail(5)\n",
    "    \n",
    "    # Count the number of wins for the home team\n",
    "    wins_home_team = last_5_matches[\n",
    "        (last_5_matches['home_team'] == home_team) &\n",
    "        (last_5_matches['final_score'] == 2)\n",
    "    ].shape[0] \n",
    "    \n",
    "    return wins_home_team\n",
    "\n",
    "# Apply the function to calculate the head-to-head performance for each row\n",
    "game_results['head_to_head_last_5'] = game_results.apply(calculate_head_to_head, axis=1)\n",
    "game_results['head_to_head_last_5'].value_counts()"
   ]
  },
  {
   "cell_type": "markdown",
   "metadata": {},
   "source": [
    "### Get the difference in rank between the two teams\n",
    "Negative value indicates that home team's rank is better than away team. Value itself shows how far apart they are."
   ]
  },
  {
   "cell_type": "code",
   "execution_count": 608,
   "metadata": {
    "ExecuteTime": {
     "end_time": "2023-11-30T16:37:43.960366Z",
     "start_time": "2023-11-30T16:37:43.664323Z"
    }
   },
   "outputs": [],
   "source": [
    "game_results['most_recent_rank_difference'] = game_results.apply(lambda x: x.most_recent_rank_home - x.most_recent_rank_away,axis=1)"
   ]
  },
  {
   "cell_type": "markdown",
   "metadata": {},
   "source": [
    "0 -> Home loss,<br>\n",
    "1 -> Tie,<br>\n",
    "2 -> Home win"
   ]
  },
  {
   "cell_type": "markdown",
   "metadata": {
    "collapsed": false
   },
   "source": [
    "### Now another goal difference column that looks at the previous 5 matches for both teams\n",
    "Checks the goals scored by the team and goals conceded, subtracts them to get the delta. Negative value indicates that a team concedes more than they score."
   ]
  },
  {
   "cell_type": "code",
   "execution_count": 609,
   "metadata": {
    "ExecuteTime": {
     "end_time": "2023-11-30T16:38:47.524337Z",
     "start_time": "2023-11-30T16:37:43.964246Z"
    },
    "collapsed": false
   },
   "outputs": [],
   "source": [
    "# Create new columns 'goal_difference_last_5_home' and 'goal_difference_last_5_away'\n",
    "game_results['goal_difference_last_5_home'] = 0\n",
    "game_results['goal_difference_last_5_away'] = 0\n",
    "\n",
    "# Define a function to calculate the goal difference for the home team in the last five matches\n",
    "def calculate_goal_difference_last_5(row, team_type):\n",
    "    team = row[team_type]\n",
    "    \n",
    "    # Extract the relevant subset of matches\n",
    "    relevant_matches = game_results[game_results[team_type] == team]\n",
    "    \n",
    "    # Sort the subset by date\n",
    "    relevant_matches = relevant_matches.sort_values(by='date')\n",
    "    \n",
    "    # Consider only the last five matches\n",
    "    last_5_matches = relevant_matches[relevant_matches['date'] < row['date']].tail(5)\n",
    "    \n",
    "    # Calculate the total goals scored by the team in the last five matches\n",
    "    goals_scored = last_5_matches['{}_score'.format('home' if team_type == 'home_team' else 'away')].sum()\n",
    "    # Calculate the total goals scored against the team in the last five matches\n",
    "    goals_conceded = last_5_matches['{}_score'.format('home' if team_type == 'away_team' else 'away')].sum()\n",
    "    # if (team == 'Australia') & (row['date'] < pd.to_datetime('2021-06-01')):\n",
    "    #     print('Australia: {} - {} \\ Difference: {}'.format(goals_scored,goals_conceded, goals_scored-goals_conceded))\n",
    "    # Calculate the goal difference\n",
    "    goal_difference = goals_scored - goals_conceded\n",
    "    \n",
    "    return goal_difference\n",
    "\n",
    "# Apply the function to calculate the goal difference for the home team in the last five matches for each row\n",
    "# TODO - USE MAPPED HOME TEAM\n",
    "game_results['goal_difference_last_5_home'] = game_results.apply(calculate_goal_difference_last_5, team_type='home_team', axis=1)\n",
    "\n",
    "# Apply the function to calculate the goal difference for the away team in the last five matches for each row\n",
    "game_results['goal_difference_last_5_away'] = game_results.apply(calculate_goal_difference_last_5, team_type='away_team', axis=1)"
   ]
  },
  {
   "cell_type": "code",
   "execution_count": 610,
   "metadata": {
    "ExecuteTime": {
     "end_time": "2023-11-30T16:38:47.531607Z",
     "start_time": "2023-11-30T16:38:47.526563Z"
    },
    "collapsed": false
   },
   "outputs": [
    {
     "data": {
      "text/plain": [
       "goal_difference_last_5_home\n",
       " 2     1796\n",
       " 1     1793\n",
       " 3     1784\n",
       " 0     1753\n",
       " 4     1717\n",
       "       ... \n",
       "-40       1\n",
       "-37       1\n",
       "-45       1\n",
       "-44       1\n",
       "-32       1\n",
       "Name: count, Length: 77, dtype: int64"
      ]
     },
     "execution_count": 610,
     "metadata": {},
     "output_type": "execute_result"
    }
   ],
   "source": [
    "game_results['goal_difference_last_5_home'].value_counts() # This seems fishy"
   ]
  },
  {
   "cell_type": "markdown",
   "metadata": {
    "collapsed": false
   },
   "source": [
    "### Weird value?\n",
    "There seems to be a team that has a goal difference of 67... Meaning they scored at least 67 goals in the last 5 games? Let's investigate that team"
   ]
  },
  {
   "cell_type": "code",
   "execution_count": 611,
   "metadata": {
    "ExecuteTime": {
     "end_time": "2023-11-30T16:38:47.538992Z",
     "start_time": "2023-11-30T16:38:47.529416Z"
    },
    "collapsed": false
   },
   "outputs": [
    {
     "data": {
      "text/html": [
       "<div>\n",
       "<style scoped>\n",
       "    .dataframe tbody tr th:only-of-type {\n",
       "        vertical-align: middle;\n",
       "    }\n",
       "\n",
       "    .dataframe tbody tr th {\n",
       "        vertical-align: top;\n",
       "    }\n",
       "\n",
       "    .dataframe thead th {\n",
       "        text-align: right;\n",
       "    }\n",
       "</style>\n",
       "<table border=\"1\" class=\"dataframe\">\n",
       "  <thead>\n",
       "    <tr style=\"text-align: right;\">\n",
       "      <th></th>\n",
       "      <th>date</th>\n",
       "      <th>home_team</th>\n",
       "      <th>away_team</th>\n",
       "      <th>home_score</th>\n",
       "      <th>away_score</th>\n",
       "      <th>tournament</th>\n",
       "      <th>country</th>\n",
       "      <th>home_code</th>\n",
       "      <th>away_code</th>\n",
       "      <th>hosting_country_code</th>\n",
       "      <th>final_score</th>\n",
       "      <th>tournament_code</th>\n",
       "      <th>most_recent_rank_home</th>\n",
       "      <th>most_recent_rank_away</th>\n",
       "      <th>home_advantage</th>\n",
       "      <th>head_to_head_last_5</th>\n",
       "      <th>most_recent_rank_difference</th>\n",
       "      <th>goal_difference_last_5_home</th>\n",
       "      <th>goal_difference_last_5_away</th>\n",
       "    </tr>\n",
       "  </thead>\n",
       "  <tbody>\n",
       "    <tr>\n",
       "      <th>5591</th>\n",
       "      <td>2001-06-01</td>\n",
       "      <td>Australia</td>\n",
       "      <td>France</td>\n",
       "      <td>1</td>\n",
       "      <td>0</td>\n",
       "      <td>Confederations Cup</td>\n",
       "      <td>South Korea</td>\n",
       "      <td>11</td>\n",
       "      <td>67</td>\n",
       "      <td>238</td>\n",
       "      <td>2</td>\n",
       "      <td>1</td>\n",
       "      <td>75.0</td>\n",
       "      <td>2.0</td>\n",
       "      <td>0</td>\n",
       "      <td>0</td>\n",
       "      <td>73.0</td>\n",
       "      <td>67</td>\n",
       "      <td>3</td>\n",
       "    </tr>\n",
       "    <tr>\n",
       "      <th>5666</th>\n",
       "      <td>2001-06-09</td>\n",
       "      <td>Australia</td>\n",
       "      <td>Brazil</td>\n",
       "      <td>1</td>\n",
       "      <td>0</td>\n",
       "      <td>Confederations Cup</td>\n",
       "      <td>South Korea</td>\n",
       "      <td>11</td>\n",
       "      <td>27</td>\n",
       "      <td>238</td>\n",
       "      <td>2</td>\n",
       "      <td>1</td>\n",
       "      <td>75.0</td>\n",
       "      <td>1.0</td>\n",
       "      <td>0</td>\n",
       "      <td>0</td>\n",
       "      <td>74.0</td>\n",
       "      <td>67</td>\n",
       "      <td>-2</td>\n",
       "    </tr>\n",
       "  </tbody>\n",
       "</table>\n",
       "</div>"
      ],
      "text/plain": [
       "           date  home_team away_team  home_score  away_score  \\\n",
       "5591 2001-06-01  Australia    France           1           0   \n",
       "5666 2001-06-09  Australia    Brazil           1           0   \n",
       "\n",
       "              tournament      country  home_code  away_code  \\\n",
       "5591  Confederations Cup  South Korea         11         67   \n",
       "5666  Confederations Cup  South Korea         11         27   \n",
       "\n",
       "      hosting_country_code  final_score  tournament_code  \\\n",
       "5591                   238            2                1   \n",
       "5666                   238            2                1   \n",
       "\n",
       "      most_recent_rank_home  most_recent_rank_away  home_advantage  \\\n",
       "5591                   75.0                    2.0               0   \n",
       "5666                   75.0                    1.0               0   \n",
       "\n",
       "      head_to_head_last_5  most_recent_rank_difference  \\\n",
       "5591                    0                         73.0   \n",
       "5666                    0                         74.0   \n",
       "\n",
       "      goal_difference_last_5_home  goal_difference_last_5_away  \n",
       "5591                           67                            3  \n",
       "5666                           67                           -2  "
      ]
     },
     "execution_count": 611,
     "metadata": {},
     "output_type": "execute_result"
    }
   ],
   "source": [
    "# Let's find that team\n",
    "game_results[game_results['goal_difference_last_5_home'] == 67]"
   ]
  },
  {
   "cell_type": "markdown",
   "metadata": {
    "collapsed": false
   },
   "source": [
    "### Australia had a goal diff. of 67 on June 2001. Let's look at their matches that happened before that game.\n",
    "67 goals across 5 games means an average of 13 goals per game. Let's find any matches with > 10 goals scored by the home team and look at the last 5."
   ]
  },
  {
   "cell_type": "code",
   "execution_count": 612,
   "metadata": {
    "ExecuteTime": {
     "end_time": "2023-11-30T16:38:47.562110Z",
     "start_time": "2023-11-30T16:38:47.541160Z"
    },
    "collapsed": false
   },
   "outputs": [
    {
     "data": {
      "text/html": [
       "<div>\n",
       "<style scoped>\n",
       "    .dataframe tbody tr th:only-of-type {\n",
       "        vertical-align: middle;\n",
       "    }\n",
       "\n",
       "    .dataframe tbody tr th {\n",
       "        vertical-align: top;\n",
       "    }\n",
       "\n",
       "    .dataframe thead th {\n",
       "        text-align: right;\n",
       "    }\n",
       "</style>\n",
       "<table border=\"1\" class=\"dataframe\">\n",
       "  <thead>\n",
       "    <tr style=\"text-align: right;\">\n",
       "      <th></th>\n",
       "      <th>date</th>\n",
       "      <th>home_team</th>\n",
       "      <th>away_team</th>\n",
       "      <th>home_score</th>\n",
       "      <th>away_score</th>\n",
       "      <th>tournament</th>\n",
       "      <th>country</th>\n",
       "      <th>home_code</th>\n",
       "      <th>away_code</th>\n",
       "      <th>hosting_country_code</th>\n",
       "      <th>final_score</th>\n",
       "      <th>tournament_code</th>\n",
       "      <th>most_recent_rank_home</th>\n",
       "      <th>most_recent_rank_away</th>\n",
       "      <th>home_advantage</th>\n",
       "      <th>head_to_head_last_5</th>\n",
       "      <th>most_recent_rank_difference</th>\n",
       "      <th>goal_difference_last_5_home</th>\n",
       "      <th>goal_difference_last_5_away</th>\n",
       "    </tr>\n",
       "  </thead>\n",
       "  <tbody>\n",
       "    <tr>\n",
       "      <th>3525</th>\n",
       "      <td>1998-09-28</td>\n",
       "      <td>Australia</td>\n",
       "      <td>Cook Islands</td>\n",
       "      <td>16</td>\n",
       "      <td>0</td>\n",
       "      <td>Oceania Nations Cup</td>\n",
       "      <td>Australia</td>\n",
       "      <td>11</td>\n",
       "      <td>43</td>\n",
       "      <td>11</td>\n",
       "      <td>2</td>\n",
       "      <td>1</td>\n",
       "      <td>35.0</td>\n",
       "      <td>172.0</td>\n",
       "      <td>1</td>\n",
       "      <td>0</td>\n",
       "      <td>-137.0</td>\n",
       "      <td>0</td>\n",
       "      <td>-14</td>\n",
       "    </tr>\n",
       "    <tr>\n",
       "      <th>4779</th>\n",
       "      <td>2000-06-19</td>\n",
       "      <td>Australia</td>\n",
       "      <td>Cook Islands</td>\n",
       "      <td>17</td>\n",
       "      <td>0</td>\n",
       "      <td>Oceania Nations Cup</td>\n",
       "      <td>French Polynesia</td>\n",
       "      <td>11</td>\n",
       "      <td>43</td>\n",
       "      <td>218</td>\n",
       "      <td>2</td>\n",
       "      <td>1</td>\n",
       "      <td>90.0</td>\n",
       "      <td>182.0</td>\n",
       "      <td>0</td>\n",
       "      <td>1</td>\n",
       "      <td>-92.0</td>\n",
       "      <td>1</td>\n",
       "      <td>-21</td>\n",
       "    </tr>\n",
       "    <tr>\n",
       "      <th>5444</th>\n",
       "      <td>2001-04-09</td>\n",
       "      <td>Australia</td>\n",
       "      <td>Tonga</td>\n",
       "      <td>22</td>\n",
       "      <td>0</td>\n",
       "      <td>FIFA World Cup qualification</td>\n",
       "      <td>Australia</td>\n",
       "      <td>11</td>\n",
       "      <td>180</td>\n",
       "      <td>11</td>\n",
       "      <td>2</td>\n",
       "      <td>0</td>\n",
       "      <td>75.0</td>\n",
       "      <td>185.0</td>\n",
       "      <td>1</td>\n",
       "      <td>0</td>\n",
       "      <td>-110.0</td>\n",
       "      <td>22</td>\n",
       "      <td>-5</td>\n",
       "    </tr>\n",
       "    <tr>\n",
       "      <th>5445</th>\n",
       "      <td>2001-04-11</td>\n",
       "      <td>Australia</td>\n",
       "      <td>American Samoa</td>\n",
       "      <td>31</td>\n",
       "      <td>0</td>\n",
       "      <td>FIFA World Cup qualification</td>\n",
       "      <td>Australia</td>\n",
       "      <td>11</td>\n",
       "      <td>3</td>\n",
       "      <td>11</td>\n",
       "      <td>2</td>\n",
       "      <td>0</td>\n",
       "      <td>75.0</td>\n",
       "      <td>203.0</td>\n",
       "      <td>1</td>\n",
       "      <td>0</td>\n",
       "      <td>-128.0</td>\n",
       "      <td>43</td>\n",
       "      <td>-33</td>\n",
       "    </tr>\n",
       "    <tr>\n",
       "      <th>5456</th>\n",
       "      <td>2001-04-16</td>\n",
       "      <td>Australia</td>\n",
       "      <td>Samoa</td>\n",
       "      <td>11</td>\n",
       "      <td>0</td>\n",
       "      <td>FIFA World Cup qualification</td>\n",
       "      <td>Australia</td>\n",
       "      <td>11</td>\n",
       "      <td>151</td>\n",
       "      <td>11</td>\n",
       "      <td>2</td>\n",
       "      <td>0</td>\n",
       "      <td>75.0</td>\n",
       "      <td>173.0</td>\n",
       "      <td>1</td>\n",
       "      <td>0</td>\n",
       "      <td>-98.0</td>\n",
       "      <td>58</td>\n",
       "      <td>2</td>\n",
       "    </tr>\n",
       "  </tbody>\n",
       "</table>\n",
       "</div>"
      ],
      "text/plain": [
       "           date  home_team       away_team  home_score  away_score  \\\n",
       "3525 1998-09-28  Australia    Cook Islands          16           0   \n",
       "4779 2000-06-19  Australia    Cook Islands          17           0   \n",
       "5444 2001-04-09  Australia           Tonga          22           0   \n",
       "5445 2001-04-11  Australia  American Samoa          31           0   \n",
       "5456 2001-04-16  Australia           Samoa          11           0   \n",
       "\n",
       "                        tournament           country  home_code  away_code  \\\n",
       "3525           Oceania Nations Cup         Australia         11         43   \n",
       "4779           Oceania Nations Cup  French Polynesia         11         43   \n",
       "5444  FIFA World Cup qualification         Australia         11        180   \n",
       "5445  FIFA World Cup qualification         Australia         11          3   \n",
       "5456  FIFA World Cup qualification         Australia         11        151   \n",
       "\n",
       "      hosting_country_code  final_score  tournament_code  \\\n",
       "3525                    11            2                1   \n",
       "4779                   218            2                1   \n",
       "5444                    11            2                0   \n",
       "5445                    11            2                0   \n",
       "5456                    11            2                0   \n",
       "\n",
       "      most_recent_rank_home  most_recent_rank_away  home_advantage  \\\n",
       "3525                   35.0                  172.0               1   \n",
       "4779                   90.0                  182.0               0   \n",
       "5444                   75.0                  185.0               1   \n",
       "5445                   75.0                  203.0               1   \n",
       "5456                   75.0                  173.0               1   \n",
       "\n",
       "      head_to_head_last_5  most_recent_rank_difference  \\\n",
       "3525                    0                       -137.0   \n",
       "4779                    1                        -92.0   \n",
       "5444                    0                       -110.0   \n",
       "5445                    0                       -128.0   \n",
       "5456                    0                        -98.0   \n",
       "\n",
       "      goal_difference_last_5_home  goal_difference_last_5_away  \n",
       "3525                            0                          -14  \n",
       "4779                            1                          -21  \n",
       "5444                           22                           -5  \n",
       "5445                           43                          -33  \n",
       "5456                           58                            2  "
      ]
     },
     "execution_count": 612,
     "metadata": {},
     "output_type": "execute_result"
    }
   ],
   "source": [
    "game_results.loc[((game_results['home_team'] == 'Australia') | (game_results['away_team'] == 'Australia')) & (game_results['date'] < '2001-06-02') & (game_results['home_score'] > 10)].tail(5)"
   ]
  },
  {
   "cell_type": "markdown",
   "metadata": {
    "collapsed": false
   },
   "source": [
    "### Oh! Seems like that was not an error and it actually happened. Let's sum up the goals scored."
   ]
  },
  {
   "cell_type": "code",
   "execution_count": 613,
   "metadata": {
    "ExecuteTime": {
     "end_time": "2023-11-30T16:38:47.580490Z",
     "start_time": "2023-11-30T16:38:47.553107Z"
    },
    "collapsed": false
   },
   "outputs": [
    {
     "data": {
      "text/plain": [
       "97"
      ]
     },
     "execution_count": 613,
     "metadata": {},
     "output_type": "execute_result"
    }
   ],
   "source": [
    "game_results.loc[((game_results['home_team'] == 'Australia') | (game_results['away_team'] == 'Australia')) & (game_results['date'] < '2001-06-02') & (game_results['home_score'] > 10)].tail(5)['home_score'].sum()"
   ]
  },
  {
   "cell_type": "markdown",
   "metadata": {
    "collapsed": false
   },
   "source": [
    "### Days since the last match played"
   ]
  },
  {
   "cell_type": "code",
   "execution_count": 614,
   "metadata": {
    "ExecuteTime": {
     "end_time": "2023-11-30T16:38:47.607695Z",
     "start_time": "2023-11-30T16:38:47.558038Z"
    },
    "collapsed": false
   },
   "outputs": [
    {
     "data": {
      "text/plain": [
       "days_since_last_match_home\n",
       "4.0       1425\n",
       "3.0       1226\n",
       "2.0        873\n",
       "35.0       814\n",
       "5.0        532\n",
       "          ... \n",
       "1154.0       1\n",
       "1193.0       1\n",
       "1175.0       1\n",
       "1199.0       1\n",
       "898.0        1\n",
       "Name: count, Length: 828, dtype: int64"
      ]
     },
     "execution_count": 614,
     "metadata": {},
     "output_type": "execute_result"
    }
   ],
   "source": [
    "# Create a new column 'days_since_last_match' to represent the days since the last match for each team\n",
    "game_results['days_since_last_match_home'] = game_results.groupby('home_team')['date'].diff().dt.days\n",
    "game_results['days_since_last_match_away'] = game_results.groupby('away_team')['date'].diff().dt.days\n",
    "\n",
    "# Fill NaN values with a default value (e.g., 0)\n",
    "game_results['days_since_last_match_home'] = game_results['days_since_last_match_home'].fillna(0)\n",
    "game_results['days_since_last_match_away'] = game_results['days_since_last_match_away'].fillna(0)\n",
    "\n",
    "game_results['days_since_last_match_home'].value_counts()"
   ]
  },
  {
   "cell_type": "code",
   "execution_count": 615,
   "metadata": {
    "ExecuteTime": {
     "end_time": "2023-11-30T16:38:47.623457Z",
     "start_time": "2023-11-30T16:38:47.566860Z"
    },
    "collapsed": false
   },
   "outputs": [
    {
     "data": {
      "text/plain": [
       "Index(['date', 'home_team', 'away_team', 'home_score', 'away_score',\n",
       "       'tournament', 'country', 'home_code', 'away_code',\n",
       "       'hosting_country_code', 'final_score', 'tournament_code',\n",
       "       'most_recent_rank_home', 'most_recent_rank_away', 'home_advantage',\n",
       "       'head_to_head_last_5', 'most_recent_rank_difference',\n",
       "       'goal_difference_last_5_home', 'goal_difference_last_5_away',\n",
       "       'days_since_last_match_home', 'days_since_last_match_away'],\n",
       "      dtype='object')"
      ]
     },
     "execution_count": 615,
     "metadata": {},
     "output_type": "execute_result"
    }
   ],
   "source": [
    "game_results.columns"
   ]
  },
  {
   "cell_type": "code",
   "execution_count": 616,
   "metadata": {
    "ExecuteTime": {
     "end_time": "2023-11-30T16:38:47.626850Z",
     "start_time": "2023-11-30T16:38:47.570883Z"
    }
   },
   "outputs": [
    {
     "data": {
      "text/plain": [
       "date                           datetime64[ns]\n",
       "home_team                              object\n",
       "away_team                              object\n",
       "home_score                              int64\n",
       "away_score                              int64\n",
       "tournament                             object\n",
       "country                                object\n",
       "home_code                               int16\n",
       "away_code                               int16\n",
       "hosting_country_code                    int64\n",
       "final_score                             int64\n",
       "tournament_code                         int64\n",
       "most_recent_rank_home                 float64\n",
       "most_recent_rank_away                 float64\n",
       "home_advantage                          int64\n",
       "head_to_head_last_5                     int64\n",
       "most_recent_rank_difference           float64\n",
       "goal_difference_last_5_home             int64\n",
       "goal_difference_last_5_away             int64\n",
       "days_since_last_match_home            float64\n",
       "days_since_last_match_away            float64\n",
       "dtype: object"
      ]
     },
     "execution_count": 616,
     "metadata": {},
     "output_type": "execute_result"
    }
   ],
   "source": [
    "game_results.dtypes"
   ]
  },
  {
   "cell_type": "code",
   "execution_count": 617,
   "metadata": {
    "ExecuteTime": {
     "end_time": "2023-11-30T16:38:47.647479Z",
     "start_time": "2023-11-30T16:38:47.574921Z"
    }
   },
   "outputs": [
    {
     "data": {
      "text/html": [
       "<div>\n",
       "<style scoped>\n",
       "    .dataframe tbody tr th:only-of-type {\n",
       "        vertical-align: middle;\n",
       "    }\n",
       "\n",
       "    .dataframe tbody tr th {\n",
       "        vertical-align: top;\n",
       "    }\n",
       "\n",
       "    .dataframe thead th {\n",
       "        text-align: right;\n",
       "    }\n",
       "</style>\n",
       "<table border=\"1\" class=\"dataframe\">\n",
       "  <thead>\n",
       "    <tr style=\"text-align: right;\">\n",
       "      <th></th>\n",
       "      <th>date</th>\n",
       "      <th>home_team</th>\n",
       "      <th>away_team</th>\n",
       "      <th>home_score</th>\n",
       "      <th>away_score</th>\n",
       "      <th>tournament</th>\n",
       "      <th>country</th>\n",
       "      <th>home_code</th>\n",
       "      <th>away_code</th>\n",
       "      <th>hosting_country_code</th>\n",
       "      <th>...</th>\n",
       "      <th>tournament_code</th>\n",
       "      <th>most_recent_rank_home</th>\n",
       "      <th>most_recent_rank_away</th>\n",
       "      <th>home_advantage</th>\n",
       "      <th>head_to_head_last_5</th>\n",
       "      <th>most_recent_rank_difference</th>\n",
       "      <th>goal_difference_last_5_home</th>\n",
       "      <th>goal_difference_last_5_away</th>\n",
       "      <th>days_since_last_match_home</th>\n",
       "      <th>days_since_last_match_away</th>\n",
       "    </tr>\n",
       "  </thead>\n",
       "  <tbody>\n",
       "    <tr>\n",
       "      <th>193</th>\n",
       "      <td>1993-04-18</td>\n",
       "      <td>Saudi Arabia</td>\n",
       "      <td>New Zealand</td>\n",
       "      <td>3</td>\n",
       "      <td>1</td>\n",
       "      <td>Friendly</td>\n",
       "      <td>Singapore</td>\n",
       "      <td>153</td>\n",
       "      <td>128</td>\n",
       "      <td>159</td>\n",
       "      <td>...</td>\n",
       "      <td>2</td>\n",
       "      <td>44.0</td>\n",
       "      <td>80.0</td>\n",
       "      <td>0</td>\n",
       "      <td>0</td>\n",
       "      <td>-36.0</td>\n",
       "      <td>0</td>\n",
       "      <td>0</td>\n",
       "      <td>0.0</td>\n",
       "      <td>0.0</td>\n",
       "    </tr>\n",
       "    <tr>\n",
       "      <th>202</th>\n",
       "      <td>1993-04-24</td>\n",
       "      <td>Saudi Arabia</td>\n",
       "      <td>New Zealand</td>\n",
       "      <td>1</td>\n",
       "      <td>0</td>\n",
       "      <td>Friendly</td>\n",
       "      <td>Singapore</td>\n",
       "      <td>153</td>\n",
       "      <td>128</td>\n",
       "      <td>159</td>\n",
       "      <td>...</td>\n",
       "      <td>2</td>\n",
       "      <td>44.0</td>\n",
       "      <td>80.0</td>\n",
       "      <td>0</td>\n",
       "      <td>1</td>\n",
       "      <td>-36.0</td>\n",
       "      <td>2</td>\n",
       "      <td>-2</td>\n",
       "      <td>6.0</td>\n",
       "      <td>6.0</td>\n",
       "    </tr>\n",
       "    <tr>\n",
       "      <th>263</th>\n",
       "      <td>1993-05-14</td>\n",
       "      <td>Saudi Arabia</td>\n",
       "      <td>Macau</td>\n",
       "      <td>8</td>\n",
       "      <td>0</td>\n",
       "      <td>FIFA World Cup qualification</td>\n",
       "      <td>Saudi Arabia</td>\n",
       "      <td>153</td>\n",
       "      <td>107</td>\n",
       "      <td>153</td>\n",
       "      <td>...</td>\n",
       "      <td>0</td>\n",
       "      <td>44.0</td>\n",
       "      <td>184.0</td>\n",
       "      <td>1</td>\n",
       "      <td>0</td>\n",
       "      <td>-140.0</td>\n",
       "      <td>3</td>\n",
       "      <td>-9</td>\n",
       "      <td>20.0</td>\n",
       "      <td>9.0</td>\n",
       "    </tr>\n",
       "    <tr>\n",
       "      <th>267</th>\n",
       "      <td>1993-05-16</td>\n",
       "      <td>Saudi Arabia</td>\n",
       "      <td>Malaysia</td>\n",
       "      <td>3</td>\n",
       "      <td>0</td>\n",
       "      <td>FIFA World Cup qualification</td>\n",
       "      <td>Saudi Arabia</td>\n",
       "      <td>153</td>\n",
       "      <td>110</td>\n",
       "      <td>153</td>\n",
       "      <td>...</td>\n",
       "      <td>0</td>\n",
       "      <td>44.0</td>\n",
       "      <td>75.0</td>\n",
       "      <td>1</td>\n",
       "      <td>0</td>\n",
       "      <td>-31.0</td>\n",
       "      <td>11</td>\n",
       "      <td>-3</td>\n",
       "      <td>2.0</td>\n",
       "      <td>2.0</td>\n",
       "    </tr>\n",
       "    <tr>\n",
       "      <th>270</th>\n",
       "      <td>1993-05-18</td>\n",
       "      <td>Saudi Arabia</td>\n",
       "      <td>Kuwait</td>\n",
       "      <td>2</td>\n",
       "      <td>0</td>\n",
       "      <td>FIFA World Cup qualification</td>\n",
       "      <td>Saudi Arabia</td>\n",
       "      <td>153</td>\n",
       "      <td>97</td>\n",
       "      <td>153</td>\n",
       "      <td>...</td>\n",
       "      <td>0</td>\n",
       "      <td>44.0</td>\n",
       "      <td>60.0</td>\n",
       "      <td>1</td>\n",
       "      <td>0</td>\n",
       "      <td>-16.0</td>\n",
       "      <td>14</td>\n",
       "      <td>12</td>\n",
       "      <td>2.0</td>\n",
       "      <td>15.0</td>\n",
       "    </tr>\n",
       "    <tr>\n",
       "      <th>...</th>\n",
       "      <td>...</td>\n",
       "      <td>...</td>\n",
       "      <td>...</td>\n",
       "      <td>...</td>\n",
       "      <td>...</td>\n",
       "      <td>...</td>\n",
       "      <td>...</td>\n",
       "      <td>...</td>\n",
       "      <td>...</td>\n",
       "      <td>...</td>\n",
       "      <td>...</td>\n",
       "      <td>...</td>\n",
       "      <td>...</td>\n",
       "      <td>...</td>\n",
       "      <td>...</td>\n",
       "      <td>...</td>\n",
       "      <td>...</td>\n",
       "      <td>...</td>\n",
       "      <td>...</td>\n",
       "      <td>...</td>\n",
       "      <td>...</td>\n",
       "    </tr>\n",
       "    <tr>\n",
       "      <th>22246</th>\n",
       "      <td>2022-11-30</td>\n",
       "      <td>Saudi Arabia</td>\n",
       "      <td>Mexico</td>\n",
       "      <td>1</td>\n",
       "      <td>2</td>\n",
       "      <td>FIFA World Cup</td>\n",
       "      <td>Qatar</td>\n",
       "      <td>153</td>\n",
       "      <td>116</td>\n",
       "      <td>146</td>\n",
       "      <td>...</td>\n",
       "      <td>1</td>\n",
       "      <td>53.0</td>\n",
       "      <td>12.0</td>\n",
       "      <td>0</td>\n",
       "      <td>0</td>\n",
       "      <td>41.0</td>\n",
       "      <td>0</td>\n",
       "      <td>-1</td>\n",
       "      <td>14.0</td>\n",
       "      <td>4.0</td>\n",
       "    </tr>\n",
       "    <tr>\n",
       "      <th>22292</th>\n",
       "      <td>2023-01-12</td>\n",
       "      <td>Saudi Arabia</td>\n",
       "      <td>Oman</td>\n",
       "      <td>1</td>\n",
       "      <td>2</td>\n",
       "      <td>Gulf Cup</td>\n",
       "      <td>Iraq</td>\n",
       "      <td>153</td>\n",
       "      <td>135</td>\n",
       "      <td>88</td>\n",
       "      <td>...</td>\n",
       "      <td>1</td>\n",
       "      <td>54.0</td>\n",
       "      <td>73.0</td>\n",
       "      <td>0</td>\n",
       "      <td>1</td>\n",
       "      <td>-19.0</td>\n",
       "      <td>-1</td>\n",
       "      <td>1</td>\n",
       "      <td>43.0</td>\n",
       "      <td>6.0</td>\n",
       "    </tr>\n",
       "    <tr>\n",
       "      <th>22340</th>\n",
       "      <td>2023-03-24</td>\n",
       "      <td>Saudi Arabia</td>\n",
       "      <td>Venezuela</td>\n",
       "      <td>1</td>\n",
       "      <td>2</td>\n",
       "      <td>Friendly</td>\n",
       "      <td>Saudi Arabia</td>\n",
       "      <td>153</td>\n",
       "      <td>192</td>\n",
       "      <td>153</td>\n",
       "      <td>...</td>\n",
       "      <td>2</td>\n",
       "      <td>54.0</td>\n",
       "      <td>55.0</td>\n",
       "      <td>1</td>\n",
       "      <td>0</td>\n",
       "      <td>-1.0</td>\n",
       "      <td>-2</td>\n",
       "      <td>6</td>\n",
       "      <td>71.0</td>\n",
       "      <td>124.0</td>\n",
       "    </tr>\n",
       "    <tr>\n",
       "      <th>22434</th>\n",
       "      <td>2023-03-28</td>\n",
       "      <td>Saudi Arabia</td>\n",
       "      <td>Bolivia</td>\n",
       "      <td>1</td>\n",
       "      <td>2</td>\n",
       "      <td>Friendly</td>\n",
       "      <td>Saudi Arabia</td>\n",
       "      <td>153</td>\n",
       "      <td>24</td>\n",
       "      <td>153</td>\n",
       "      <td>...</td>\n",
       "      <td>2</td>\n",
       "      <td>54.0</td>\n",
       "      <td>83.0</td>\n",
       "      <td>1</td>\n",
       "      <td>0</td>\n",
       "      <td>-29.0</td>\n",
       "      <td>-4</td>\n",
       "      <td>-11</td>\n",
       "      <td>4.0</td>\n",
       "      <td>4.0</td>\n",
       "    </tr>\n",
       "    <tr>\n",
       "      <th>22908</th>\n",
       "      <td>2023-11-16</td>\n",
       "      <td>Saudi Arabia</td>\n",
       "      <td>Pakistan</td>\n",
       "      <td>4</td>\n",
       "      <td>0</td>\n",
       "      <td>FIFA World Cup qualification</td>\n",
       "      <td>Saudi Arabia</td>\n",
       "      <td>153</td>\n",
       "      <td>136</td>\n",
       "      <td>153</td>\n",
       "      <td>...</td>\n",
       "      <td>0</td>\n",
       "      <td>54.0</td>\n",
       "      <td>195.0</td>\n",
       "      <td>1</td>\n",
       "      <td>0</td>\n",
       "      <td>-141.0</td>\n",
       "      <td>-5</td>\n",
       "      <td>-10</td>\n",
       "      <td>233.0</td>\n",
       "      <td>35.0</td>\n",
       "    </tr>\n",
       "  </tbody>\n",
       "</table>\n",
       "<p>274 rows × 21 columns</p>\n",
       "</div>"
      ],
      "text/plain": [
       "            date     home_team    away_team  home_score  away_score  \\\n",
       "193   1993-04-18  Saudi Arabia  New Zealand           3           1   \n",
       "202   1993-04-24  Saudi Arabia  New Zealand           1           0   \n",
       "263   1993-05-14  Saudi Arabia        Macau           8           0   \n",
       "267   1993-05-16  Saudi Arabia     Malaysia           3           0   \n",
       "270   1993-05-18  Saudi Arabia       Kuwait           2           0   \n",
       "...          ...           ...          ...         ...         ...   \n",
       "22246 2022-11-30  Saudi Arabia       Mexico           1           2   \n",
       "22292 2023-01-12  Saudi Arabia         Oman           1           2   \n",
       "22340 2023-03-24  Saudi Arabia    Venezuela           1           2   \n",
       "22434 2023-03-28  Saudi Arabia      Bolivia           1           2   \n",
       "22908 2023-11-16  Saudi Arabia     Pakistan           4           0   \n",
       "\n",
       "                         tournament       country  home_code  away_code  \\\n",
       "193                        Friendly     Singapore        153        128   \n",
       "202                        Friendly     Singapore        153        128   \n",
       "263    FIFA World Cup qualification  Saudi Arabia        153        107   \n",
       "267    FIFA World Cup qualification  Saudi Arabia        153        110   \n",
       "270    FIFA World Cup qualification  Saudi Arabia        153         97   \n",
       "...                             ...           ...        ...        ...   \n",
       "22246                FIFA World Cup         Qatar        153        116   \n",
       "22292                      Gulf Cup          Iraq        153        135   \n",
       "22340                      Friendly  Saudi Arabia        153        192   \n",
       "22434                      Friendly  Saudi Arabia        153         24   \n",
       "22908  FIFA World Cup qualification  Saudi Arabia        153        136   \n",
       "\n",
       "       hosting_country_code  ...  tournament_code  most_recent_rank_home  \\\n",
       "193                     159  ...                2                   44.0   \n",
       "202                     159  ...                2                   44.0   \n",
       "263                     153  ...                0                   44.0   \n",
       "267                     153  ...                0                   44.0   \n",
       "270                     153  ...                0                   44.0   \n",
       "...                     ...  ...              ...                    ...   \n",
       "22246                   146  ...                1                   53.0   \n",
       "22292                    88  ...                1                   54.0   \n",
       "22340                   153  ...                2                   54.0   \n",
       "22434                   153  ...                2                   54.0   \n",
       "22908                   153  ...                0                   54.0   \n",
       "\n",
       "       most_recent_rank_away  home_advantage  head_to_head_last_5  \\\n",
       "193                     80.0               0                    0   \n",
       "202                     80.0               0                    1   \n",
       "263                    184.0               1                    0   \n",
       "267                     75.0               1                    0   \n",
       "270                     60.0               1                    0   \n",
       "...                      ...             ...                  ...   \n",
       "22246                   12.0               0                    0   \n",
       "22292                   73.0               0                    1   \n",
       "22340                   55.0               1                    0   \n",
       "22434                   83.0               1                    0   \n",
       "22908                  195.0               1                    0   \n",
       "\n",
       "       most_recent_rank_difference  goal_difference_last_5_home  \\\n",
       "193                          -36.0                            0   \n",
       "202                          -36.0                            2   \n",
       "263                         -140.0                            3   \n",
       "267                          -31.0                           11   \n",
       "270                          -16.0                           14   \n",
       "...                            ...                          ...   \n",
       "22246                         41.0                            0   \n",
       "22292                        -19.0                           -1   \n",
       "22340                         -1.0                           -2   \n",
       "22434                        -29.0                           -4   \n",
       "22908                       -141.0                           -5   \n",
       "\n",
       "       goal_difference_last_5_away  days_since_last_match_home  \\\n",
       "193                              0                         0.0   \n",
       "202                             -2                         6.0   \n",
       "263                             -9                        20.0   \n",
       "267                             -3                         2.0   \n",
       "270                             12                         2.0   \n",
       "...                            ...                         ...   \n",
       "22246                           -1                        14.0   \n",
       "22292                            1                        43.0   \n",
       "22340                            6                        71.0   \n",
       "22434                          -11                         4.0   \n",
       "22908                          -10                       233.0   \n",
       "\n",
       "       days_since_last_match_away  \n",
       "193                           0.0  \n",
       "202                           6.0  \n",
       "263                           9.0  \n",
       "267                           2.0  \n",
       "270                          15.0  \n",
       "...                           ...  \n",
       "22246                         4.0  \n",
       "22292                         6.0  \n",
       "22340                       124.0  \n",
       "22434                         4.0  \n",
       "22908                        35.0  \n",
       "\n",
       "[274 rows x 21 columns]"
      ]
     },
     "metadata": {},
     "output_type": "display_data"
    }
   ],
   "source": [
    "# Let's look at Saudi Arabia's games\n",
    "results = game_results.loc[('Saudi Arabia' == game_results['home_team'])]\n",
    "display(results)"
   ]
  },
  {
   "cell_type": "markdown",
   "metadata": {
    "collapsed": false
   },
   "source": [
    "## Now we can work on the model"
   ]
  },
  {
   "cell_type": "markdown",
   "metadata": {
    "collapsed": false
   },
   "source": [
    "### Refine the features to only include important ones\n",
    "We get rid of `object` columns and `x_score` columns because giving the score makes no sense."
   ]
  },
  {
   "cell_type": "markdown",
   "metadata": {
    "collapsed": false
   },
   "source": []
  },
  {
   "cell_type": "markdown",
   "metadata": {
    "collapsed": false
   },
   "source": [
    "### We'll need to add more features to improve the results"
   ]
  },
  {
   "cell_type": "code",
   "execution_count": 618,
   "metadata": {
    "ExecuteTime": {
     "end_time": "2023-11-30T16:39:31.784829Z",
     "start_time": "2023-11-30T16:38:47.592422Z"
    },
    "collapsed": false
   },
   "outputs": [
    {
     "data": {
      "text/plain": [
       "wins_last_10_games\n",
       "5     5383\n",
       "4     4948\n",
       "6     4216\n",
       "3     3140\n",
       "7     2246\n",
       "2     1468\n",
       "8      777\n",
       "1      453\n",
       "0      220\n",
       "9      180\n",
       "10      12\n",
       "Name: count, dtype: int64"
      ]
     },
     "execution_count": 618,
     "metadata": {},
     "output_type": "execute_result"
    }
   ],
   "source": [
    "# We'll create a new column 'wins_last_10_games' with NaN values\n",
    "game_results['wins_last_10_games'] = pd.Series(dtype=float)\n",
    "\n",
    "# Define a function to calculate the number of wins in the last 10 games\n",
    "def calculate_wins_last_10(row):\n",
    "    team = row['home_team']\n",
    "    date = row['date']\n",
    "    last_10_games = game_results[(game_results['home_team'] == team) | (game_results['away_team'] == team)]\n",
    "    last_10_games = last_10_games[last_10_games['date'] < date].tail(10)\n",
    "    wins = last_10_games['final_score'].eq(2).sum()  # 2 represents a home win\n",
    "    return wins\n",
    "\n",
    "# Apply the function to calculate the number of wins in the last 10 games for each row\n",
    "game_results['wins_last_10_games'] = game_results.apply(calculate_wins_last_10, axis=1)\n",
    "game_results['wins_last_10_games'].value_counts()"
   ]
  },
  {
   "cell_type": "code",
   "execution_count": 619,
   "metadata": {
    "ExecuteTime": {
     "end_time": "2023-11-30T16:39:31.793190Z",
     "start_time": "2023-11-30T16:39:31.787169Z"
    },
    "collapsed": false
   },
   "outputs": [],
   "source": [
    "game_results = game_results.drop(['home_team','away_team','home_score','away_score','tournament','country','date'],axis=1)"
   ]
  },
  {
   "cell_type": "code",
   "execution_count": 620,
   "metadata": {
    "ExecuteTime": {
     "end_time": "2023-11-30T16:39:31.798275Z",
     "start_time": "2023-11-30T16:39:31.789358Z"
    },
    "collapsed": false
   },
   "outputs": [
    {
     "name": "stdout",
     "output_type": "stream",
     "text": [
      "<class 'pandas.core.frame.DataFrame'>\n",
      "RangeIndex: 23043 entries, 0 to 23042\n",
      "Data columns (total 15 columns):\n",
      " #   Column                       Non-Null Count  Dtype  \n",
      "---  ------                       --------------  -----  \n",
      " 0   home_code                    23043 non-null  int16  \n",
      " 1   away_code                    23043 non-null  int16  \n",
      " 2   hosting_country_code         23043 non-null  int64  \n",
      " 3   final_score                  23043 non-null  int64  \n",
      " 4   tournament_code              23043 non-null  int64  \n",
      " 5   most_recent_rank_home        23043 non-null  float64\n",
      " 6   most_recent_rank_away        23043 non-null  float64\n",
      " 7   home_advantage               23043 non-null  int64  \n",
      " 8   head_to_head_last_5          23043 non-null  int64  \n",
      " 9   most_recent_rank_difference  23043 non-null  float64\n",
      " 10  goal_difference_last_5_home  23043 non-null  int64  \n",
      " 11  goal_difference_last_5_away  23043 non-null  int64  \n",
      " 12  days_since_last_match_home   23043 non-null  float64\n",
      " 13  days_since_last_match_away   23043 non-null  float64\n",
      " 14  wins_last_10_games           23043 non-null  int64  \n",
      "dtypes: float64(5), int16(2), int64(8)\n",
      "memory usage: 2.4 MB\n"
     ]
    }
   ],
   "source": [
    "game_results.info()"
   ]
  },
  {
   "cell_type": "code",
   "execution_count": 621,
   "metadata": {
    "ExecuteTime": {
     "end_time": "2023-11-30T16:39:31.827762Z",
     "start_time": "2023-11-30T16:39:31.797978Z"
    },
    "collapsed": false
   },
   "outputs": [
    {
     "data": {
      "text/plain": [
       "final_score                    1.000000\n",
       "most_recent_rank_away          0.255125\n",
       "goal_difference_last_5_home    0.192778\n",
       "head_to_head_last_5            0.173129\n",
       "home_advantage                 0.085322\n",
       "days_since_last_match_away     0.048673\n",
       "home_code                      0.027999\n",
       "tournament_code                0.012036\n",
       "hosting_country_code          -0.001623\n",
       "wins_last_10_games            -0.011009\n",
       "away_code                     -0.030029\n",
       "days_since_last_match_home    -0.056233\n",
       "goal_difference_last_5_away   -0.214788\n",
       "most_recent_rank_home         -0.215130\n",
       "most_recent_rank_difference   -0.462457\n",
       "Name: final_score, dtype: float64"
      ]
     },
     "execution_count": 621,
     "metadata": {},
     "output_type": "execute_result"
    }
   ],
   "source": [
    "corr_mtx = game_results.corr(numeric_only=True)\n",
    "corr_mtx['final_score'].sort_values(ascending=False)"
   ]
  },
  {
   "cell_type": "code",
   "execution_count": 622,
   "metadata": {
    "ExecuteTime": {
     "end_time": "2023-11-30T16:39:31.828329Z",
     "start_time": "2023-11-30T16:39:31.819628Z"
    },
    "collapsed": false
   },
   "outputs": [
    {
     "data": {
      "text/html": [
       "<div>\n",
       "<style scoped>\n",
       "    .dataframe tbody tr th:only-of-type {\n",
       "        vertical-align: middle;\n",
       "    }\n",
       "\n",
       "    .dataframe tbody tr th {\n",
       "        vertical-align: top;\n",
       "    }\n",
       "\n",
       "    .dataframe thead th {\n",
       "        text-align: right;\n",
       "    }\n",
       "</style>\n",
       "<table border=\"1\" class=\"dataframe\">\n",
       "  <thead>\n",
       "    <tr style=\"text-align: right;\">\n",
       "      <th></th>\n",
       "      <th>home_code</th>\n",
       "      <th>away_code</th>\n",
       "      <th>hosting_country_code</th>\n",
       "      <th>final_score</th>\n",
       "      <th>tournament_code</th>\n",
       "      <th>most_recent_rank_home</th>\n",
       "      <th>most_recent_rank_away</th>\n",
       "      <th>home_advantage</th>\n",
       "      <th>head_to_head_last_5</th>\n",
       "      <th>most_recent_rank_difference</th>\n",
       "      <th>goal_difference_last_5_home</th>\n",
       "      <th>goal_difference_last_5_away</th>\n",
       "      <th>days_since_last_match_home</th>\n",
       "      <th>days_since_last_match_away</th>\n",
       "      <th>wins_last_10_games</th>\n",
       "    </tr>\n",
       "  </thead>\n",
       "  <tbody>\n",
       "    <tr>\n",
       "      <th>0</th>\n",
       "      <td>72</td>\n",
       "      <td>112</td>\n",
       "      <td>68</td>\n",
       "      <td>1</td>\n",
       "      <td>2</td>\n",
       "      <td>48.0</td>\n",
       "      <td>74.0</td>\n",
       "      <td>0</td>\n",
       "      <td>0</td>\n",
       "      <td>-26.0</td>\n",
       "      <td>0</td>\n",
       "      <td>0</td>\n",
       "      <td>0.0</td>\n",
       "      <td>0.0</td>\n",
       "      <td>0</td>\n",
       "    </tr>\n",
       "    <tr>\n",
       "      <th>1</th>\n",
       "      <td>68</td>\n",
       "      <td>30</td>\n",
       "      <td>68</td>\n",
       "      <td>1</td>\n",
       "      <td>2</td>\n",
       "      <td>64.0</td>\n",
       "      <td>113.0</td>\n",
       "      <td>1</td>\n",
       "      <td>0</td>\n",
       "      <td>-49.0</td>\n",
       "      <td>0</td>\n",
       "      <td>0</td>\n",
       "      <td>0.0</td>\n",
       "      <td>0.0</td>\n",
       "      <td>0</td>\n",
       "    </tr>\n",
       "    <tr>\n",
       "      <th>2</th>\n",
       "      <td>97</td>\n",
       "      <td>100</td>\n",
       "      <td>97</td>\n",
       "      <td>2</td>\n",
       "      <td>2</td>\n",
       "      <td>60.0</td>\n",
       "      <td>108.0</td>\n",
       "      <td>1</td>\n",
       "      <td>0</td>\n",
       "      <td>-48.0</td>\n",
       "      <td>0</td>\n",
       "      <td>0</td>\n",
       "      <td>0.0</td>\n",
       "      <td>0.0</td>\n",
       "      <td>0</td>\n",
       "    </tr>\n",
       "    <tr>\n",
       "      <th>3</th>\n",
       "      <td>30</td>\n",
       "      <td>112</td>\n",
       "      <td>68</td>\n",
       "      <td>2</td>\n",
       "      <td>2</td>\n",
       "      <td>113.0</td>\n",
       "      <td>74.0</td>\n",
       "      <td>0</td>\n",
       "      <td>0</td>\n",
       "      <td>39.0</td>\n",
       "      <td>0</td>\n",
       "      <td>0</td>\n",
       "      <td>0.0</td>\n",
       "      <td>2.0</td>\n",
       "      <td>0</td>\n",
       "    </tr>\n",
       "    <tr>\n",
       "      <th>4</th>\n",
       "      <td>68</td>\n",
       "      <td>72</td>\n",
       "      <td>68</td>\n",
       "      <td>0</td>\n",
       "      <td>2</td>\n",
       "      <td>64.0</td>\n",
       "      <td>48.0</td>\n",
       "      <td>1</td>\n",
       "      <td>0</td>\n",
       "      <td>16.0</td>\n",
       "      <td>0</td>\n",
       "      <td>0</td>\n",
       "      <td>1.0</td>\n",
       "      <td>0.0</td>\n",
       "      <td>0</td>\n",
       "    </tr>\n",
       "  </tbody>\n",
       "</table>\n",
       "</div>"
      ],
      "text/plain": [
       "   home_code  away_code  hosting_country_code  final_score  tournament_code  \\\n",
       "0         72        112                    68            1                2   \n",
       "1         68         30                    68            1                2   \n",
       "2         97        100                    97            2                2   \n",
       "3         30        112                    68            2                2   \n",
       "4         68         72                    68            0                2   \n",
       "\n",
       "   most_recent_rank_home  most_recent_rank_away  home_advantage  \\\n",
       "0                   48.0                   74.0               0   \n",
       "1                   64.0                  113.0               1   \n",
       "2                   60.0                  108.0               1   \n",
       "3                  113.0                   74.0               0   \n",
       "4                   64.0                   48.0               1   \n",
       "\n",
       "   head_to_head_last_5  most_recent_rank_difference  \\\n",
       "0                    0                        -26.0   \n",
       "1                    0                        -49.0   \n",
       "2                    0                        -48.0   \n",
       "3                    0                         39.0   \n",
       "4                    0                         16.0   \n",
       "\n",
       "   goal_difference_last_5_home  goal_difference_last_5_away  \\\n",
       "0                            0                            0   \n",
       "1                            0                            0   \n",
       "2                            0                            0   \n",
       "3                            0                            0   \n",
       "4                            0                            0   \n",
       "\n",
       "   days_since_last_match_home  days_since_last_match_away  wins_last_10_games  \n",
       "0                         0.0                         0.0                   0  \n",
       "1                         0.0                         0.0                   0  \n",
       "2                         0.0                         0.0                   0  \n",
       "3                         0.0                         2.0                   0  \n",
       "4                         1.0                         0.0                   0  "
      ]
     },
     "execution_count": 622,
     "metadata": {},
     "output_type": "execute_result"
    }
   ],
   "source": [
    "game_results.head()"
   ]
  },
  {
   "cell_type": "code",
   "execution_count": 623,
   "metadata": {
    "ExecuteTime": {
     "end_time": "2023-11-30T16:39:31.829406Z",
     "start_time": "2023-11-30T16:39:31.825646Z"
    },
    "collapsed": false
   },
   "outputs": [
    {
     "data": {
      "text/plain": [
       "home_code                       72.0\n",
       "away_code                      112.0\n",
       "hosting_country_code            68.0\n",
       "tournament_code                  2.0\n",
       "most_recent_rank_home           48.0\n",
       "most_recent_rank_away           74.0\n",
       "home_advantage                   0.0\n",
       "head_to_head_last_5              0.0\n",
       "most_recent_rank_difference    -26.0\n",
       "goal_difference_last_5_home      0.0\n",
       "goal_difference_last_5_away      0.0\n",
       "days_since_last_match_home       0.0\n",
       "days_since_last_match_away       0.0\n",
       "wins_last_10_games               0.0\n",
       "Name: 0, dtype: float64"
      ]
     },
     "execution_count": 623,
     "metadata": {},
     "output_type": "execute_result"
    }
   ],
   "source": [
    "# Define the classes based on final_score\n",
    "X = game_results.drop(['final_score'], axis=1)\n",
    "y = game_results['final_score']\n",
    "X.iloc[0]"
   ]
  },
  {
   "cell_type": "markdown",
   "metadata": {
    "collapsed": false
   },
   "source": [
    "### We have our X and y\n",
    "We will not shuffle because we want our training to happen to the earlier games and our testing to happen to the later games."
   ]
  },
  {
   "cell_type": "code",
   "execution_count": 624,
   "metadata": {
    "ExecuteTime": {
     "end_time": "2023-11-30T16:39:31.859391Z",
     "start_time": "2023-11-30T16:39:31.829234Z"
    },
    "collapsed": false
   },
   "outputs": [],
   "source": [
    "from sklearn.model_selection import train_test_split\n",
    "\n",
    "X_train, X_test, y_train, y_test = train_test_split(X, y, shuffle=False,test_size=0.2, random_state=42)"
   ]
  },
  {
   "cell_type": "markdown",
   "metadata": {
    "collapsed": false
   },
   "source": [
    "### Let's train\n",
    "\n",
    "We have 3 classes: Home win, Home loss, and Tie\n"
   ]
  },
  {
   "cell_type": "code",
   "execution_count": 631,
   "metadata": {
    "ExecuteTime": {
     "end_time": "2023-11-30T16:41:39.140725Z",
     "start_time": "2023-11-30T16:41:35.110800Z"
    },
    "collapsed": false
   },
   "outputs": [
    {
     "data": {
      "text/html": [
       "<style>#sk-container-id-23 {color: black;}#sk-container-id-23 pre{padding: 0;}#sk-container-id-23 div.sk-toggleable {background-color: white;}#sk-container-id-23 label.sk-toggleable__label {cursor: pointer;display: block;width: 100%;margin-bottom: 0;padding: 0.3em;box-sizing: border-box;text-align: center;}#sk-container-id-23 label.sk-toggleable__label-arrow:before {content: \"▸\";float: left;margin-right: 0.25em;color: #696969;}#sk-container-id-23 label.sk-toggleable__label-arrow:hover:before {color: black;}#sk-container-id-23 div.sk-estimator:hover label.sk-toggleable__label-arrow:before {color: black;}#sk-container-id-23 div.sk-toggleable__content {max-height: 0;max-width: 0;overflow: hidden;text-align: left;background-color: #f0f8ff;}#sk-container-id-23 div.sk-toggleable__content pre {margin: 0.2em;color: black;border-radius: 0.25em;background-color: #f0f8ff;}#sk-container-id-23 input.sk-toggleable__control:checked~div.sk-toggleable__content {max-height: 200px;max-width: 100%;overflow: auto;}#sk-container-id-23 input.sk-toggleable__control:checked~label.sk-toggleable__label-arrow:before {content: \"▾\";}#sk-container-id-23 div.sk-estimator input.sk-toggleable__control:checked~label.sk-toggleable__label {background-color: #d4ebff;}#sk-container-id-23 div.sk-label input.sk-toggleable__control:checked~label.sk-toggleable__label {background-color: #d4ebff;}#sk-container-id-23 input.sk-hidden--visually {border: 0;clip: rect(1px 1px 1px 1px);clip: rect(1px, 1px, 1px, 1px);height: 1px;margin: -1px;overflow: hidden;padding: 0;position: absolute;width: 1px;}#sk-container-id-23 div.sk-estimator {font-family: monospace;background-color: #f0f8ff;border: 1px dotted black;border-radius: 0.25em;box-sizing: border-box;margin-bottom: 0.5em;}#sk-container-id-23 div.sk-estimator:hover {background-color: #d4ebff;}#sk-container-id-23 div.sk-parallel-item::after {content: \"\";width: 100%;border-bottom: 1px solid gray;flex-grow: 1;}#sk-container-id-23 div.sk-label:hover label.sk-toggleable__label {background-color: #d4ebff;}#sk-container-id-23 div.sk-serial::before {content: \"\";position: absolute;border-left: 1px solid gray;box-sizing: border-box;top: 0;bottom: 0;left: 50%;z-index: 0;}#sk-container-id-23 div.sk-serial {display: flex;flex-direction: column;align-items: center;background-color: white;padding-right: 0.2em;padding-left: 0.2em;position: relative;}#sk-container-id-23 div.sk-item {position: relative;z-index: 1;}#sk-container-id-23 div.sk-parallel {display: flex;align-items: stretch;justify-content: center;background-color: white;position: relative;}#sk-container-id-23 div.sk-item::before, #sk-container-id-23 div.sk-parallel-item::before {content: \"\";position: absolute;border-left: 1px solid gray;box-sizing: border-box;top: 0;bottom: 0;left: 50%;z-index: -1;}#sk-container-id-23 div.sk-parallel-item {display: flex;flex-direction: column;z-index: 1;position: relative;background-color: white;}#sk-container-id-23 div.sk-parallel-item:first-child::after {align-self: flex-end;width: 50%;}#sk-container-id-23 div.sk-parallel-item:last-child::after {align-self: flex-start;width: 50%;}#sk-container-id-23 div.sk-parallel-item:only-child::after {width: 0;}#sk-container-id-23 div.sk-dashed-wrapped {border: 1px dashed gray;margin: 0 0.4em 0.5em 0.4em;box-sizing: border-box;padding-bottom: 0.4em;background-color: white;}#sk-container-id-23 div.sk-label label {font-family: monospace;font-weight: bold;display: inline-block;line-height: 1.2em;}#sk-container-id-23 div.sk-label-container {text-align: center;}#sk-container-id-23 div.sk-container {/* jupyter's `normalize.less` sets `[hidden] { display: none; }` but bootstrap.min.css set `[hidden] { display: none !important; }` so we also need the `!important` here to be able to override the default hidden behavior on the sphinx rendered scikit-learn.org. See: https://github.com/scikit-learn/scikit-learn/issues/21755 */display: inline-block !important;position: relative;}#sk-container-id-23 div.sk-text-repr-fallback {display: none;}</style><div id=\"sk-container-id-23\" class=\"sk-top-container\"><div class=\"sk-text-repr-fallback\"><pre>DecisionTreeClassifier(random_state=42)</pre><b>In a Jupyter environment, please rerun this cell to show the HTML representation or trust the notebook. <br />On GitHub, the HTML representation is unable to render, please try loading this page with nbviewer.org.</b></div><div class=\"sk-container\" hidden><div class=\"sk-item\"><div class=\"sk-estimator sk-toggleable\"><input class=\"sk-toggleable__control sk-hidden--visually\" id=\"sk-estimator-id-23\" type=\"checkbox\" checked><label for=\"sk-estimator-id-23\" class=\"sk-toggleable__label sk-toggleable__label-arrow\">DecisionTreeClassifier</label><div class=\"sk-toggleable__content\"><pre>DecisionTreeClassifier(random_state=42)</pre></div></div></div></div></div>"
      ],
      "text/plain": [
       "DecisionTreeClassifier(random_state=42)"
      ]
     },
     "execution_count": 631,
     "metadata": {},
     "output_type": "execute_result"
    }
   ],
   "source": [
    "from sklearn.tree import DecisionTreeClassifier\n",
    "from sklearn.linear_model import LogisticRegression\n",
    "# multiclass classification\n",
    "logistic_multiclass = LogisticRegression(multi_class='multinomial',solver='lbfgs', max_iter=10000)\n",
    "logistic_multiclass.fit(X_train, y_train)\n",
    "dtc = DecisionTreeClassifier(random_state=42)\n",
    "dtc.fit(X_train,y_train)"
   ]
  },
  {
   "cell_type": "code",
   "execution_count": 632,
   "metadata": {
    "ExecuteTime": {
     "end_time": "2023-11-30T16:41:40.345633Z",
     "start_time": "2023-11-30T16:41:40.331765Z"
    },
    "collapsed": false
   },
   "outputs": [],
   "source": [
    "# Make predictions on the testing set\n",
    "predictions = logistic_multiclass.predict(X_test)\n",
    "dtc_preds = dtc.predict(X_test)"
   ]
  },
  {
   "cell_type": "markdown",
   "metadata": {
    "collapsed": false
   },
   "source": [
    "### Let's evaluate"
   ]
  },
  {
   "cell_type": "code",
   "execution_count": 633,
   "metadata": {
    "ExecuteTime": {
     "end_time": "2023-11-30T16:41:41.898248Z",
     "start_time": "2023-11-30T16:41:41.887782Z"
    },
    "collapsed": false
   },
   "outputs": [
    {
     "name": "stdout",
     "output_type": "stream",
     "text": [
      "Accuracy: 0.577131698850076\n",
      "              precision    recall  f1-score   support\n",
      "\n",
      "           0       0.57      0.56      0.56      1351\n",
      "           1       0.38      0.00      0.01      1113\n",
      "           2       0.58      0.89      0.70      2145\n",
      "\n",
      "    accuracy                           0.58      4609\n",
      "   macro avg       0.51      0.48      0.42      4609\n",
      "weighted avg       0.53      0.58      0.49      4609\n"
     ]
    }
   ],
   "source": [
    "from sklearn.metrics import accuracy_score, classification_report,confusion_matrix\n",
    "\n",
    "co_m = confusion_matrix(y_test,predictions)\n",
    "accuracy = accuracy_score(y_test, predictions)\n",
    "print(f'Accuracy: {accuracy}')\n",
    "print(classification_report(y_test, predictions))"
   ]
  },
  {
   "cell_type": "code",
   "execution_count": 634,
   "metadata": {
    "ExecuteTime": {
     "end_time": "2023-11-30T16:41:42.431084Z",
     "start_time": "2023-11-30T16:41:42.411181Z"
    },
    "collapsed": false
   },
   "outputs": [
    {
     "name": "stdout",
     "output_type": "stream",
     "text": [
      "Accuracy: 0.4677804295942721\n",
      "              precision    recall  f1-score   support\n",
      "\n",
      "           0       0.45      0.43      0.44      1351\n",
      "           1       0.27      0.27      0.27      1113\n",
      "           2       0.58      0.60      0.59      2145\n",
      "\n",
      "    accuracy                           0.47      4609\n",
      "   macro avg       0.43      0.43      0.43      4609\n",
      "weighted avg       0.47      0.47      0.47      4609\n"
     ]
    }
   ],
   "source": [
    "from sklearn.metrics import accuracy_score, classification_report,confusion_matrix\n",
    "\n",
    "co_m_dtc = confusion_matrix(y_test,dtc_preds)\n",
    "accuracy = accuracy_score(y_test, dtc_preds)\n",
    "print(f'Accuracy: {accuracy}')\n",
    "print(classification_report(y_test, dtc_preds))"
   ]
  },
  {
   "cell_type": "code",
   "execution_count": 635,
   "metadata": {
    "ExecuteTime": {
     "end_time": "2023-11-30T16:41:43.638553Z",
     "start_time": "2023-11-30T16:41:43.532114Z"
    },
    "collapsed": false
   },
   "outputs": [
    {
     "data": {
      "image/png": "[encoded data removed]",
      "text/plain": [
       "<Figure size 640x480 with 2 Axes>"
      ]
     },
     "metadata": {},
     "output_type": "display_data"
    }
   ],
   "source": [
    "import seaborn as sns\n",
    "import matplotlib.pyplot as plt\n",
    "\n",
    "sns.heatmap(co_m, annot=True, fmt='d', cmap='Blues')\n",
    "plt.xlabel('Predicted Labels')\n",
    "plt.ylabel('True Labels')\n",
    "plt.title('Confusion Matrix')\n",
    "plt.show()"
   ]
  },
  {
   "cell_type": "markdown",
   "metadata": {
    "collapsed": false
   },
   "source": [
    "### Ok that was bad"
   ]
  },
  {
   "cell_type": "code",
   "execution_count": 636,
   "metadata": {
    "ExecuteTime": {
     "end_time": "2023-11-30T16:41:46.927939Z",
     "start_time": "2023-11-30T16:41:46.841271Z"
    },
    "collapsed": false
   },
   "outputs": [
    {
     "data": {
      "image/png": "[encoded data removed]",
      "text/plain": [
       "<Figure size 640x480 with 2 Axes>"
      ]
     },
     "metadata": {},
     "output_type": "display_data"
    }
   ],
   "source": [
    "import seaborn as sns\n",
    "import matplotlib.pyplot as plt\n",
    "\n",
    "sns.heatmap(co_m_dtc, annot=True, fmt='d', cmap='Blues')\n",
    "plt.xlabel('Predicted Labels')\n",
    "plt.ylabel('True Labels')\n",
    "plt.title('Confusion Matrix')\n",
    "plt.show()"
   ]
  },
  {
   "cell_type": "code",
   "execution_count": 630,
   "metadata": {
    "ExecuteTime": {
     "end_time": "2023-11-30T16:39:37.631358Z",
     "start_time": "2023-11-30T16:39:37.628386Z"
    },
    "collapsed": false
   },
   "outputs": [],
   "source": []
  },
  {
   "cell_type": "code",
   "execution_count": 630,
   "metadata": {
    "ExecuteTime": {
     "end_time": "2023-11-30T16:39:37.635619Z",
     "start_time": "2023-11-30T16:39:37.631897Z"
    },
    "collapsed": false
   },
   "outputs": [],
   "source": []
  },
  {
   "cell_type": "code",
   "execution_count": 630,
   "metadata": {
    "ExecuteTime": {
     "end_time": "2023-11-30T16:39:37.639927Z",
     "start_time": "2023-11-30T16:39:37.635581Z"
    },
    "collapsed": false
   },
   "outputs": [],
   "source": [
    "\n"
   ]
  },
  {
   "cell_type": "code",
   "execution_count": 630,
   "metadata": {
    "ExecuteTime": {
     "end_time": "2023-11-30T16:39:37.641154Z",
     "start_time": "2023-11-30T16:39:37.639239Z"
    },
    "collapsed": false
   },
   "outputs": [],
   "source": []
  },
  {
   "cell_type": "code",
   "execution_count": 630,
   "metadata": {
    "ExecuteTime": {
     "end_time": "2023-11-30T16:39:37.649143Z",
     "start_time": "2023-11-30T16:39:37.647717Z"
    },
    "collapsed": false
   },
   "outputs": [],
   "source": []
  },
  {
   "cell_type": "code",
   "execution_count": 630,
   "metadata": {
    "ExecuteTime": {
     "end_time": "2023-11-30T16:39:37.680439Z",
     "start_time": "2023-11-30T16:39:37.651085Z"
    },
    "collapsed": false
   },
   "outputs": [],
   "source": []
  },
  {
   "cell_type": "code",
   "execution_count": 630,
   "metadata": {
    "ExecuteTime": {
     "end_time": "2023-11-30T16:39:37.680562Z",
     "start_time": "2023-11-30T16:39:37.653183Z"
    },
    "collapsed": false
   },
   "outputs": [],
   "source": []
  },
  {
   "cell_type": "code",
   "execution_count": 630,
   "metadata": {
    "ExecuteTime": {
     "end_time": "2023-11-30T16:39:37.680619Z",
     "start_time": "2023-11-30T16:39:37.655857Z"
    },
    "collapsed": false
   },
   "outputs": [],
   "source": []
  }
 ],
 "metadata": {
  "kernelspec": {
   "display_name": "Python 3 (ipykernel)",
   "language": "python",
   "name": "python3"
  },
  "language_info": {
   "codemirror_mode": {
    "name": "ipython",
    "version": 3
   },
   "file_extension": ".py",
   "mimetype": "text/x-python",
   "name": "python",
   "nbconvert_exporter": "python",
   "pygments_lexer": "ipython3",
   "version": "3.11.5"
  }
 },
 "nbformat": 4,
 "nbformat_minor": 4
}
